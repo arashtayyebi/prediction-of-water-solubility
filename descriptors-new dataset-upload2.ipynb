{
 "cells": [
  {
   "cell_type": "code",
   "execution_count": 1,
   "id": "34116c05",
   "metadata": {},
   "outputs": [],
   "source": [
    "import pandas as pd\n",
    "import numpy as np\n",
    "import os\n",
    "import seaborn as sns\n",
    "import matplotlib.pyplot as plt\n",
    "import emoji\n",
    "%matplotlib inline \n",
    "\n",
    "#importing rdkit\n",
    "from rdkit import Chem\n",
    "from rdkit.Chem import AllChem\n",
    "from rdkit.Chem import Descriptors\n",
    "from rdkit import RDConfig\n",
    "from rdkit.Chem.Draw import IPythonConsole\n",
    "from rdkit.Chem import Draw\n",
    "#from utility import FeatureGenerator\n",
    "from rdkit.Chem import PandasTools as PandasTools\n",
    "from rdkit import DataStructs\n",
    "from rdkit.Chem.Subshape import SubshapeBuilder,SubshapeAligner,SubshapeObjects\n",
    "\n",
    "#importing sklearn \n",
    "from sklearn.model_selection import train_test_split, StratifiedKFold, GridSearchCV\n",
    "from sklearn.metrics import r2_score, mean_squared_error, mean_absolute_error\n",
    "from sklearn.ensemble import RandomForestRegressor\n",
    "from sklearn.neural_network import MLPRegressor\n",
    "from sklearn.svm import SVR\n",
    "import pandas as pd\n",
    "from mordred import Calculator, descriptors\n",
    "import wget\n",
    "import unzip\n",
    "import padelpy"
   ]
  },
  {
   "cell_type": "code",
   "execution_count": 2,
   "id": "2d783097",
   "metadata": {},
   "outputs": [
    {
     "name": "stdout",
     "output_type": "stream",
     "text": [
      "<bound method NDFrame.head of                                                  SMILES  \\\n",
      "0               OCC1OC(CO)(OC2OC(CO)C(O)C(O)C2O)C(O)C1O   \n",
      "1     O[C@H]1[C@H](O[C@H](CO)[C@@H](O)[C@@H]1O)O[C@]...   \n",
      "2     OC[C@@H]1O[C@](CO)(O[C@@H]2O[C@@H](CO)[C@H](O)...   \n",
      "3                CN1C[C@@H]2C[C@@H](C1)C3=CC=CC(=O)N3C2   \n",
      "4                          CN1CC2CC(C1)C1=CC=CC(=O)N1C2   \n",
      "...                                                 ...   \n",
      "8433                                      O=[N+]([O-])C   \n",
      "8434                                                 OC   \n",
      "8435                                            S=C(N)N   \n",
      "8436                                           O=C(NO)N   \n",
      "8437                                            O=C(N)N   \n",
      "\n",
      "      measured log(solubility:mol/L)  \n",
      "0                               0.79  \n",
      "1                               0.79  \n",
      "2                               0.79  \n",
      "3                               0.65  \n",
      "4                               0.65  \n",
      "...                              ...  \n",
      "8433                            0.26  \n",
      "8434                            1.57  \n",
      "8435                            0.32  \n",
      "8436                            1.12  \n",
      "8437                            0.96  \n",
      "\n",
      "[8438 rows x 2 columns]>\n"
     ]
    }
   ],
   "source": [
    "from rdkit.Chem import AllChem\n",
    "from rdkit import Chem\n",
    "import pandas as pd\n",
    "\n",
    "sol = pd.read_csv('D:/python/rdkit/new222new.csv')\n",
    "print(sol.head)\n",
    "XY = sol.set_index('SMILES').T.to_dict('list')"
   ]
  },
  {
   "cell_type": "code",
   "execution_count": 3,
   "id": "f5edadbb",
   "metadata": {},
   "outputs": [
    {
     "data": {
      "text/plain": [
       "0       0.79\n",
       "1       0.79\n",
       "2       0.79\n",
       "3       0.65\n",
       "4       0.65\n",
       "        ... \n",
       "8433    0.26\n",
       "8434    1.57\n",
       "8435    0.32\n",
       "8436    1.12\n",
       "8437    0.96\n",
       "Name: measured log(solubility:mol/L), Length: 8438, dtype: float64"
      ]
     },
     "execution_count": 3,
     "metadata": {},
     "output_type": "execute_result"
    }
   ],
   "source": [
    "Y = sol.iloc[:,1]\n",
    "Y"
   ]
  },
  {
   "cell_type": "code",
   "execution_count": 4,
   "id": "30800f53",
   "metadata": {},
   "outputs": [],
   "source": [
    "#descriptor\n",
    "molecules = sol.SMILES.apply(Chem.MolFromSmiles)"
   ]
  },
  {
   "cell_type": "code",
   "execution_count": 5,
   "id": "3ae18f06",
   "metadata": {},
   "outputs": [],
   "source": [
    "def All_Mordred_descriptors(data):\n",
    "    calc = Calculator(descriptors, ignore_3D=True)\n",
    "    mols = [Chem.MolFromSmiles(smi) for smi in data]\n",
    "    \n",
    "    # pandas df\n",
    "    df = calc.pandas(mols)\n",
    "    return df"
   ]
  },
  {
   "cell_type": "code",
   "execution_count": null,
   "id": "c50e8966",
   "metadata": {},
   "outputs": [
    {
     "name": "stderr",
     "output_type": "stream",
     "text": [
      "  0%|                                                                                         | 0/8438 [00:00<?, ?it/s]"
     ]
    }
   ],
   "source": [
    "mordred_descriptors = All_Mordred_descriptors(sol['SMILES'])"
   ]
  },
  {
   "cell_type": "code",
   "execution_count": 61,
   "id": "9b4f7a76",
   "metadata": {},
   "outputs": [
    {
     "data": {
      "text/plain": [
       "(8438, 1613)"
      ]
     },
     "execution_count": 61,
     "metadata": {},
     "output_type": "execute_result"
    }
   ],
   "source": [
    "mordred_descriptors.shape"
   ]
  },
  {
   "cell_type": "code",
   "execution_count": 62,
   "id": "d13815c3",
   "metadata": {},
   "outputs": [],
   "source": [
    "X=mordred_descriptors "
   ]
  },
  {
   "cell_type": "code",
   "execution_count": 535,
   "id": "feadd59a",
   "metadata": {},
   "outputs": [],
   "source": [
    "X.to_excel(r'D:/python/rdkit/experiments.xlsx', index = False)"
   ]
  },
  {
   "cell_type": "code",
   "execution_count": 63,
   "id": "7920de04",
   "metadata": {},
   "outputs": [],
   "source": [
    "from sklearn.feature_selection import VarianceThreshold\n",
    "\n",
    "vt = VarianceThreshold()"
   ]
  },
  {
   "cell_type": "code",
   "execution_count": 64,
   "id": "f56d4333",
   "metadata": {},
   "outputs": [
    {
     "data": {
      "text/plain": [
       "(8438, 811)"
      ]
     },
     "execution_count": 64,
     "metadata": {},
     "output_type": "execute_result"
    }
   ],
   "source": [
    "des_num = X.select_dtypes(include='number')\n",
    "des_num.shape"
   ]
  },
  {
   "cell_type": "code",
   "execution_count": 65,
   "id": "6e59ee1f",
   "metadata": {},
   "outputs": [],
   "source": [
    "transformed = vt.fit_transform(des_num)\n"
   ]
  },
  {
   "cell_type": "code",
   "execution_count": 66,
   "id": "6816dcaa",
   "metadata": {},
   "outputs": [],
   "source": [
    "_ = vt.fit(des_num)\n",
    "\n",
    "mask = vt.get_support()\n"
   ]
  },
  {
   "cell_type": "code",
   "execution_count": 67,
   "id": "a2415ad0",
   "metadata": {},
   "outputs": [],
   "source": [
    "des_num = des_num.loc[:, mask]\n"
   ]
  },
  {
   "cell_type": "code",
   "execution_count": 68,
   "id": "76465e53",
   "metadata": {},
   "outputs": [
    {
     "data": {
      "text/plain": [
       "(8438, 506)"
      ]
     },
     "execution_count": 68,
     "metadata": {},
     "output_type": "execute_result"
    }
   ],
   "source": [
    "vt = VarianceThreshold(threshold=0.1)\n",
    "\n",
    "# Fit\n",
    "_ = vt.fit(des_num)\n",
    "\n",
    "# Get the boolean mask\n",
    "mask = vt.get_support()\n",
    "\n",
    "des_reduced = des_num.loc[:, mask]\n",
    "H=des_reduced\n",
    "#X=H.drop(['FilterItLogS', 'SLogP'], axis=1)\n",
    "X=H\n",
    "X.shape"
   ]
  },
  {
   "cell_type": "code",
   "execution_count": 69,
   "id": "b6b9d36c",
   "metadata": {},
   "outputs": [],
   "source": [
    "correlated_features = set()\n",
    "correlation_matrix=X.corr()"
   ]
  },
  {
   "cell_type": "code",
   "execution_count": 70,
   "id": "3776d8fd",
   "metadata": {},
   "outputs": [],
   "source": [
    "for i in range(len(correlation_matrix .columns)):\n",
    "    for j in range(i):\n",
    "        if abs(correlation_matrix.iloc[i, j]) > 0.8:\n",
    "            colname = correlation_matrix.columns[i]\n",
    "            correlated_features.add(colname)"
   ]
  },
  {
   "cell_type": "code",
   "execution_count": 71,
   "id": "d8dbd347",
   "metadata": {},
   "outputs": [
    {
     "data": {
      "text/plain": [
       "328"
      ]
     },
     "execution_count": 71,
     "metadata": {},
     "output_type": "execute_result"
    }
   ],
   "source": [
    "len(correlated_features)"
   ]
  },
  {
   "cell_type": "code",
   "execution_count": 30,
   "id": "91dfccda",
   "metadata": {},
   "outputs": [
    {
     "name": "stdout",
     "output_type": "stream",
     "text": [
      "{'ATS2se', 'MPC6', 'TopoPSA(NO)', 'ATS3d', 'nBondsKS', 'AATS1i', 'ATS5i', 'ATSC2are', 'IC3', 'AMW', 'SRW10', 'bpol', 'MWC02', 'ATSC2pe', 'SssNH', 'ATSC0pe', 'Xp-2d', 'fragCpx', 'AATS0m', 'C2SP2', 'ATSC2p', 'SlogP_VSA6', 'SLogP', 'ATS8d', 'ATS1m', 'ATSC4pe', 'ATS2Z', 'ATS0are', 'nBondsA', 'VSA_EState6', 'nRing', 'Sse', 'SsOH', 'SlogP_VSA5', 'ATSC0m', 'ZMIC2', 'MWC05', 'AATS0p', 'ATS0pe', 'EState_VSA9', 'ATS6se', 'AATS1dv', 'SMR', 'MPC10', 'Xp-7d', 'ATS8i', 'piPC3', 'ATS1Z', 'MWC10', 'ATS5Z', 'TIC1', 'IC4', 'ATSC0se', 'ATS0se', 'Xpc-6d', 'AATS1d', 'ATSC8m', 'MPC9', 'MIC5', 'n6aRing', 'ATS2are', 'ATS8p', 'ATS1dv', 'ATS7Z', 'ATS6p', 'ATSC1are', 'Radius', 'ATSC4m', 'ATS6m', 'NdO', 'ATS3p', 'MIC0', 'ATS5se', 'ATS1are', 'ATS2i', 'ATSC6p', 'Xp-3dv', 'ZMIC5', 'MWC07', 'AATS1v', 'ATS3m', 'SMR_VSA2', 'ATS3pe', 'ATS4are', 'ATSC8are', 'Xp-2dv', 'Zagreb1', 'TSRW10', 'ATS0m', 'SZ', 'SRW06', 'GGI3', 'Si', 'GGI2', 'Zagreb2', 'LabuteASA', 'CIC2', 'nBondsKD', 'ATS4d', 'Xpc-5d', 'ATS6i', 'Xp-4d', 'ATS5d', 'piPC2', 'Xp-5d', 'ATS4Z', 'ATS1v', 'ATS2pe', 'ATS7are', 'SssCH2', 'ATS2d', 'SsF', 'Sv', 'ATSC8p', 'ATS4i', 'MIC3', 'VMcGowan', 'ATS6Z', 'ATS7m', 'ATS4v', 'ATSC7are', 'ATS3i', 'Xpc-4d', 'NsF', 'piPC8', 'AATS0are', 'ATSC4are', 'AATSC0m', 'Sare', 'TpiPC10', 'nBondsO', 'ATS5m', 'ATSC0are', 'SsCl', 'AATS1Z', 'ATS8se', 'SaaCH', 'ATSC7se', 'ZMIC1', 'AATS0pe', 'ATSC3m', 'ATS7i', 'TIC5', 'ATS1d', 'TMWC10', 'CIC0', 'ATS5are', 'ATSC5pe', 'Xpc-5dv', 'Xpc-6dv', 'ATS8dv', 'ATS3v', 'Xp-6dv', 'ATS1pe', 'ATS7p', 'piPC4', 'SsCH3', 'SssssC', 'piPC9', 'ATSC1m', 'SaaN', 'SdsCH', 'AATS1m', 'CIC4', 'MWC06', 'CIC3', 'ATS0i', 'ATS2v', 'ATS1i', 'SMR_VSA7', 'AATS0se', 'ZMIC4', 'IC2', 'TIC2', 'TIC4', 'Xp-3d', 'MPC4', 'AATSC1dv', 'NaaCH', 'ATS5v', 'BertzCT', 'ATS8Z', 'ATS5dv', 'Spe', 'AATSC1v', 'ATS6v', 'nBondsS', 'Xpc-4dv', 'SdO', 'piPC10', 'MW', 'SRW08', 'TIC0', 'ATS6d', 'ATS4m', 'IC5', 'SMR_VSA1', 'n6Ring', 'MWC03', 'ATS3se', 'EState_VSA10', 'AATSC1m', 'ATSC6pe', 'MPC3', 'ATS6dv', 'ATS7dv', 'ATSC7pe', 'naRing', 'ATSC5are', 'AATSC0Z', 'ATSC0p', 'ATSC2m', 'SRW07', 'MIC4', 'ATS1p', 'ATS6pe', 'VSA_EState3', 'piPC6', 'ATSC0Z', 'MIC1', 'Xp-5dv', 'ATS1se', 'ATS7d', 'ATS2dv', 'ATS4dv', 'ATSC3pe', 'MWC09', 'mZagreb2', 'CIC5', 'ATS8pe', 'ATS3are', 'ATS3Z', 'ATSC8pe', 'Xp-6d', 'ATS2m', 'ATS8m', 'MWC01', 'ATS0d', 'ATS2p', 'ATSC5m', 'ATS4se', 'MPC8', 'apol', 'WPol', 'SRW04', 'AATS0Z', 'ATS5pe', 'ATS6are', 'piPC7', 'nH', 'MPC2', 'ZMIC3', 'nBondsM', 'TopoPSA', 'GGI1', 'ATS4pe', 'ATSC8se', 'MWC08', 'SRW05', 'ATSC0dv', 'ATS3dv', 'Xp-4dv', 'ATS0dv', 'Sp', 'SMR_VSA5', 'ATS0p', 'ATSC0d', 'ATS7pe', 'ATS0v', 'ATSC7m', 'Xc-3d', 'Xp-1d', 'SMR_VSA3', 'ABCGG', 'TMPC10', 'MWC04', 'SRW09', 'ATSC6m', 'piPC5', 'ATS7v', 'GGI4', 'ATS4p', 'Xp-1dv', 'VSA_EState5', 'Sm', 'SssO', 'ZMIC0', 'MPC5', 'MPC7', 'ATS5p', 'ATSC3are', 'SlogP_VSA8', 'AATS0v', 'ATS7se', 'nBonds', 'nAromBond', 'ATS8are', 'MIC2', 'NsCl', 'TIC3', 'ATSC6are', 'ATSC0v', 'nHeavyAtom', 'ATS8v'}\n"
     ]
    }
   ],
   "source": [
    "print(correlated_features)"
   ]
  },
  {
   "cell_type": "code",
   "execution_count": 72,
   "id": "3ab1d501",
   "metadata": {},
   "outputs": [
    {
     "name": "stderr",
     "output_type": "stream",
     "text": [
      "C:\\Users\\DEDP Grader\\AppData\\Local\\Temp\\ipykernel_10204\\1003493426.py:1: SettingWithCopyWarning: \n",
      "A value is trying to be set on a copy of a slice from a DataFrame\n",
      "\n",
      "See the caveats in the documentation: https://pandas.pydata.org/pandas-docs/stable/user_guide/indexing.html#returning-a-view-versus-a-copy\n",
      "  X.drop(labels=correlated_features, axis=1, inplace=True)\n"
     ]
    }
   ],
   "source": [
    "X.drop(labels=correlated_features, axis=1, inplace=True)"
   ]
  },
  {
   "cell_type": "code",
   "execution_count": 89,
   "id": "3e0c28f0",
   "metadata": {},
   "outputs": [
    {
     "data": {
      "text/plain": [
       "(8438, 178)"
      ]
     },
     "execution_count": 89,
     "metadata": {},
     "output_type": "execute_result"
    }
   ],
   "source": [
    "X.shape"
   ]
  },
  {
   "cell_type": "code",
   "execution_count": 51,
   "id": "889cdd1f",
   "metadata": {},
   "outputs": [
    {
     "data": {
      "text/html": [
       "<div>\n",
       "<style scoped>\n",
       "    .dataframe tbody tr th:only-of-type {\n",
       "        vertical-align: middle;\n",
       "    }\n",
       "\n",
       "    .dataframe tbody tr th {\n",
       "        vertical-align: top;\n",
       "    }\n",
       "\n",
       "    .dataframe thead th {\n",
       "        text-align: right;\n",
       "    }\n",
       "</style>\n",
       "<table border=\"1\" class=\"dataframe\">\n",
       "  <thead>\n",
       "    <tr style=\"text-align: right;\">\n",
       "      <th></th>\n",
       "      <th>ABC</th>\n",
       "      <th>ABCGG</th>\n",
       "      <th>nAcid</th>\n",
       "      <th>nBase</th>\n",
       "      <th>nAromAtom</th>\n",
       "      <th>nAromBond</th>\n",
       "      <th>nAtom</th>\n",
       "      <th>nHeavyAtom</th>\n",
       "      <th>nBridgehead</th>\n",
       "      <th>nHetero</th>\n",
       "      <th>...</th>\n",
       "      <th>SRW09</th>\n",
       "      <th>SRW10</th>\n",
       "      <th>TSRW10</th>\n",
       "      <th>MW</th>\n",
       "      <th>AMW</th>\n",
       "      <th>WPath</th>\n",
       "      <th>WPol</th>\n",
       "      <th>Zagreb1</th>\n",
       "      <th>Zagreb2</th>\n",
       "      <th>mZagreb2</th>\n",
       "    </tr>\n",
       "  </thead>\n",
       "  <tbody>\n",
       "    <tr>\n",
       "      <th>0</th>\n",
       "      <td>17.213262</td>\n",
       "      <td>16.059815</td>\n",
       "      <td>0</td>\n",
       "      <td>0</td>\n",
       "      <td>0</td>\n",
       "      <td>0</td>\n",
       "      <td>45</td>\n",
       "      <td>23</td>\n",
       "      <td>0</td>\n",
       "      <td>11</td>\n",
       "      <td>...</td>\n",
       "      <td>7.195187</td>\n",
       "      <td>10.247042</td>\n",
       "      <td>72.317821</td>\n",
       "      <td>342.116212</td>\n",
       "      <td>7.602582</td>\n",
       "      <td>1110</td>\n",
       "      <td>43</td>\n",
       "      <td>120.0</td>\n",
       "      <td>147.0</td>\n",
       "      <td>5.291667</td>\n",
       "    </tr>\n",
       "    <tr>\n",
       "      <th>1</th>\n",
       "      <td>17.213262</td>\n",
       "      <td>16.059815</td>\n",
       "      <td>0</td>\n",
       "      <td>0</td>\n",
       "      <td>0</td>\n",
       "      <td>0</td>\n",
       "      <td>45</td>\n",
       "      <td>23</td>\n",
       "      <td>0</td>\n",
       "      <td>11</td>\n",
       "      <td>...</td>\n",
       "      <td>7.195187</td>\n",
       "      <td>10.247042</td>\n",
       "      <td>72.317821</td>\n",
       "      <td>342.116212</td>\n",
       "      <td>7.602582</td>\n",
       "      <td>1110</td>\n",
       "      <td>43</td>\n",
       "      <td>120.0</td>\n",
       "      <td>147.0</td>\n",
       "      <td>5.291667</td>\n",
       "    </tr>\n",
       "    <tr>\n",
       "      <th>2</th>\n",
       "      <td>17.213262</td>\n",
       "      <td>16.059815</td>\n",
       "      <td>0</td>\n",
       "      <td>0</td>\n",
       "      <td>0</td>\n",
       "      <td>0</td>\n",
       "      <td>45</td>\n",
       "      <td>23</td>\n",
       "      <td>0</td>\n",
       "      <td>11</td>\n",
       "      <td>...</td>\n",
       "      <td>7.195187</td>\n",
       "      <td>10.247042</td>\n",
       "      <td>72.317821</td>\n",
       "      <td>342.116212</td>\n",
       "      <td>7.602582</td>\n",
       "      <td>1110</td>\n",
       "      <td>43</td>\n",
       "      <td>120.0</td>\n",
       "      <td>147.0</td>\n",
       "      <td>5.291667</td>\n",
       "    </tr>\n",
       "    <tr>\n",
       "      <th>3</th>\n",
       "      <td>12.118275</td>\n",
       "      <td>9.747154</td>\n",
       "      <td>0</td>\n",
       "      <td>1</td>\n",
       "      <td>6</td>\n",
       "      <td>6</td>\n",
       "      <td>31</td>\n",
       "      <td>15</td>\n",
       "      <td>2</td>\n",
       "      <td>3</td>\n",
       "      <td>...</td>\n",
       "      <td>0.000000</td>\n",
       "      <td>9.877913</td>\n",
       "      <td>47.958460</td>\n",
       "      <td>204.126263</td>\n",
       "      <td>6.584718</td>\n",
       "      <td>322</td>\n",
       "      <td>25</td>\n",
       "      <td>84.0</td>\n",
       "      <td>101.0</td>\n",
       "      <td>3.166667</td>\n",
       "    </tr>\n",
       "    <tr>\n",
       "      <th>4</th>\n",
       "      <td>12.118275</td>\n",
       "      <td>9.747154</td>\n",
       "      <td>0</td>\n",
       "      <td>1</td>\n",
       "      <td>6</td>\n",
       "      <td>6</td>\n",
       "      <td>31</td>\n",
       "      <td>15</td>\n",
       "      <td>2</td>\n",
       "      <td>3</td>\n",
       "      <td>...</td>\n",
       "      <td>0.000000</td>\n",
       "      <td>9.877913</td>\n",
       "      <td>47.958460</td>\n",
       "      <td>204.126263</td>\n",
       "      <td>6.584718</td>\n",
       "      <td>322</td>\n",
       "      <td>25</td>\n",
       "      <td>84.0</td>\n",
       "      <td>101.0</td>\n",
       "      <td>3.166667</td>\n",
       "    </tr>\n",
       "  </tbody>\n",
       "</table>\n",
       "<p>5 rows × 506 columns</p>\n",
       "</div>"
      ],
      "text/plain": [
       "         ABC      ABCGG  nAcid  nBase  nAromAtom  nAromBond  nAtom  \\\n",
       "0  17.213262  16.059815      0      0          0          0     45   \n",
       "1  17.213262  16.059815      0      0          0          0     45   \n",
       "2  17.213262  16.059815      0      0          0          0     45   \n",
       "3  12.118275   9.747154      0      1          6          6     31   \n",
       "4  12.118275   9.747154      0      1          6          6     31   \n",
       "\n",
       "   nHeavyAtom  nBridgehead  nHetero  ...     SRW09      SRW10     TSRW10  \\\n",
       "0          23            0       11  ...  7.195187  10.247042  72.317821   \n",
       "1          23            0       11  ...  7.195187  10.247042  72.317821   \n",
       "2          23            0       11  ...  7.195187  10.247042  72.317821   \n",
       "3          15            2        3  ...  0.000000   9.877913  47.958460   \n",
       "4          15            2        3  ...  0.000000   9.877913  47.958460   \n",
       "\n",
       "           MW       AMW  WPath  WPol  Zagreb1  Zagreb2  mZagreb2  \n",
       "0  342.116212  7.602582   1110    43    120.0    147.0  5.291667  \n",
       "1  342.116212  7.602582   1110    43    120.0    147.0  5.291667  \n",
       "2  342.116212  7.602582   1110    43    120.0    147.0  5.291667  \n",
       "3  204.126263  6.584718    322    25     84.0    101.0  3.166667  \n",
       "4  204.126263  6.584718    322    25     84.0    101.0  3.166667  \n",
       "\n",
       "[5 rows x 506 columns]"
      ]
     },
     "execution_count": 51,
     "metadata": {},
     "output_type": "execute_result"
    }
   ],
   "source": [
    "X.head()"
   ]
  },
  {
   "cell_type": "code",
   "execution_count": 83,
   "id": "6f75d12f",
   "metadata": {},
   "outputs": [],
   "source": [
    "gf=set()"
   ]
  },
  {
   "cell_type": "code",
   "execution_count": 84,
   "id": "8e8e9d33",
   "metadata": {},
   "outputs": [],
   "source": [
    "i=0\n",
    "for i in range(len(X.columns)):\n",
    "   \n",
    "    colname = X.columns[i]\n",
    "    gf.add(colname)"
   ]
  },
  {
   "cell_type": "code",
   "execution_count": 85,
   "id": "14cb95b3",
   "metadata": {},
   "outputs": [
    {
     "data": {
      "text/plain": [
       "{'AATS0d',\n",
       " 'AATS0dv',\n",
       " 'AATS0i',\n",
       " 'AATSC0dv',\n",
       " 'AATSC0i',\n",
       " 'AATSC0v',\n",
       " 'AATSC1Z',\n",
       " 'ABC',\n",
       " 'ATS0Z',\n",
       " 'ATSC0i',\n",
       " 'ATSC1Z',\n",
       " 'ATSC1d',\n",
       " 'ATSC1dv',\n",
       " 'ATSC1i',\n",
       " 'ATSC1p',\n",
       " 'ATSC1se',\n",
       " 'ATSC1v',\n",
       " 'ATSC2Z',\n",
       " 'ATSC2d',\n",
       " 'ATSC2dv',\n",
       " 'ATSC2i',\n",
       " 'ATSC2se',\n",
       " 'ATSC2v',\n",
       " 'ATSC3Z',\n",
       " 'ATSC3d',\n",
       " 'ATSC3dv',\n",
       " 'ATSC3i',\n",
       " 'ATSC3p',\n",
       " 'ATSC3se',\n",
       " 'ATSC3v',\n",
       " 'ATSC4Z',\n",
       " 'ATSC4d',\n",
       " 'ATSC4dv',\n",
       " 'ATSC4i',\n",
       " 'ATSC4p',\n",
       " 'ATSC4se',\n",
       " 'ATSC4v',\n",
       " 'ATSC5Z',\n",
       " 'ATSC5d',\n",
       " 'ATSC5dv',\n",
       " 'ATSC5i',\n",
       " 'ATSC5p',\n",
       " 'ATSC5se',\n",
       " 'ATSC5v',\n",
       " 'ATSC6Z',\n",
       " 'ATSC6d',\n",
       " 'ATSC6dv',\n",
       " 'ATSC6i',\n",
       " 'ATSC6se',\n",
       " 'ATSC6v',\n",
       " 'ATSC7Z',\n",
       " 'ATSC7d',\n",
       " 'ATSC7dv',\n",
       " 'ATSC7i',\n",
       " 'ATSC7p',\n",
       " 'ATSC7v',\n",
       " 'ATSC8Z',\n",
       " 'ATSC8d',\n",
       " 'ATSC8dv',\n",
       " 'ATSC8i',\n",
       " 'ATSC8v',\n",
       " 'BalabanJ',\n",
       " 'C1SP2',\n",
       " 'C1SP3',\n",
       " 'C2SP3',\n",
       " 'C3SP2',\n",
       " 'C3SP3',\n",
       " 'CIC1',\n",
       " 'Diameter',\n",
       " 'ECIndex',\n",
       " 'EState_VSA1',\n",
       " 'EState_VSA2',\n",
       " 'EState_VSA3',\n",
       " 'EState_VSA4',\n",
       " 'EState_VSA5',\n",
       " 'EState_VSA6',\n",
       " 'EState_VSA7',\n",
       " 'EState_VSA8',\n",
       " 'FilterItLogS',\n",
       " 'GATS1i',\n",
       " 'GATS1p',\n",
       " 'IC1',\n",
       " 'NaaN',\n",
       " 'NaaNH',\n",
       " 'NaaaC',\n",
       " 'NaasC',\n",
       " 'NaasN',\n",
       " 'NddsN',\n",
       " 'NddssS',\n",
       " 'NdsCH',\n",
       " 'NdssC',\n",
       " 'NsCH3',\n",
       " 'NsNH2',\n",
       " 'NsOH',\n",
       " 'NssCH2',\n",
       " 'NssNH',\n",
       " 'NssO',\n",
       " 'NsssCH',\n",
       " 'NsssN',\n",
       " 'NssssC',\n",
       " 'PEOE_VSA1',\n",
       " 'PEOE_VSA10',\n",
       " 'PEOE_VSA11',\n",
       " 'PEOE_VSA12',\n",
       " 'PEOE_VSA13',\n",
       " 'PEOE_VSA2',\n",
       " 'PEOE_VSA3',\n",
       " 'PEOE_VSA4',\n",
       " 'PEOE_VSA5',\n",
       " 'PEOE_VSA6',\n",
       " 'PEOE_VSA7',\n",
       " 'PEOE_VSA8',\n",
       " 'PEOE_VSA9',\n",
       " 'SMR_VSA4',\n",
       " 'SMR_VSA6',\n",
       " 'SMR_VSA9',\n",
       " 'SaaO',\n",
       " 'SaasC',\n",
       " 'SdCH2',\n",
       " 'SdNH',\n",
       " 'SdS',\n",
       " 'SdsN',\n",
       " 'SdssC',\n",
       " 'SdsssP',\n",
       " 'SlogP_VSA1',\n",
       " 'SlogP_VSA10',\n",
       " 'SlogP_VSA11',\n",
       " 'SlogP_VSA2',\n",
       " 'SlogP_VSA3',\n",
       " 'SlogP_VSA4',\n",
       " 'SlogP_VSA7',\n",
       " 'SsI',\n",
       " 'SsSH',\n",
       " 'SssS',\n",
       " 'SsssCH',\n",
       " 'StCH',\n",
       " 'StN',\n",
       " 'StsC',\n",
       " 'VSA_EState1',\n",
       " 'VSA_EState2',\n",
       " 'VSA_EState4',\n",
       " 'VSA_EState7',\n",
       " 'VSA_EState8',\n",
       " 'VSA_EState9',\n",
       " 'WPath',\n",
       " 'Xc-3dv',\n",
       " 'Xc-5d',\n",
       " 'Xc-5dv',\n",
       " 'Xch-7d',\n",
       " 'n5ARing',\n",
       " 'n5HRing',\n",
       " 'n5Ring',\n",
       " 'n5aRing',\n",
       " 'n6ARing',\n",
       " 'n6HRing',\n",
       " 'nAHRing',\n",
       " 'nARing',\n",
       " 'nAcid',\n",
       " 'nAromAtom',\n",
       " 'nAtom',\n",
       " 'nBase',\n",
       " 'nBondsD',\n",
       " 'nBr',\n",
       " 'nBridgehead',\n",
       " 'nC',\n",
       " 'nCl',\n",
       " 'nF',\n",
       " 'nFRing',\n",
       " 'nHBAcc',\n",
       " 'nHBDon',\n",
       " 'nHRing',\n",
       " 'nHetero',\n",
       " 'nN',\n",
       " 'nO',\n",
       " 'nRot',\n",
       " 'nS',\n",
       " 'nX',\n",
       " 'naHRing'}"
      ]
     },
     "execution_count": 85,
     "metadata": {},
     "output_type": "execute_result"
    }
   ],
   "source": [
    "gf\n"
   ]
  },
  {
   "cell_type": "code",
   "execution_count": 41,
   "id": "3919c32a",
   "metadata": {},
   "outputs": [],
   "source": [
    "X.to_excel(r'D:/python/rdkit/file name descriptor 8000data.xlsx', index = False)"
   ]
  },
  {
   "cell_type": "code",
   "execution_count": null,
   "id": "b8c506dd",
   "metadata": {},
   "outputs": [],
   "source": []
  },
  {
   "cell_type": "code",
   "execution_count": 8,
   "id": "9ec0874f",
   "metadata": {
    "scrolled": true
   },
   "outputs": [
    {
     "data": {
      "text/plain": [
       "0      1380d\n",
       "1        807\n",
       "2       561d\n",
       "3      222-1\n",
       "4        650\n",
       "5       1143\n",
       "6     1750d2\n",
       "7       1171\n",
       "8      1873d\n",
       "9        294\n",
       "10       114\n",
       "11       591\n",
       "12       294\n",
       "Name: Unnamed: 1, dtype: object"
      ]
     },
     "execution_count": 8,
     "metadata": {},
     "output_type": "execute_result"
    }
   ],
   "source": [
    "Y = sol.iloc[:,1]\n",
    "Y"
   ]
  },
  {
   "cell_type": "code",
   "execution_count": 75,
   "id": "306fe7d2",
   "metadata": {},
   "outputs": [],
   "source": [
    "#data split\n",
    "from sklearn.model_selection import train_test_split\n",
    "X_train, X_test, Y_train, Y_test = train_test_split(X, Y, test_size=0.2,random_state=991)\n",
    "#test size is 20% and traing size is 80%\n",
    "#linear regression\n",
    "from sklearn import linear_model\n",
    "from sklearn.metrics import mean_squared_error, r2_score"
   ]
  },
  {
   "cell_type": "code",
   "execution_count": 76,
   "id": "ef384139",
   "metadata": {},
   "outputs": [
    {
     "data": {
      "text/plain": [
       "RandomForestRegressor(random_state=42)"
      ]
     },
     "execution_count": 76,
     "metadata": {},
     "output_type": "execute_result"
    }
   ],
   "source": [
    "model = RandomForestRegressor(n_estimators=100, random_state=42)\n",
    "model.fit(X_train, Y_train)"
   ]
  },
  {
   "cell_type": "code",
   "execution_count": 94,
   "id": "aad8eb94",
   "metadata": {},
   "outputs": [
    {
     "data": {
      "text/plain": [
       "LinearRegression()"
      ]
     },
     "execution_count": 94,
     "metadata": {},
     "output_type": "execute_result"
    }
   ],
   "source": [
    "linearmodel=linear_model.LinearRegression()\n",
    "linearmodel.fit(X_train, Y_train)"
   ]
  },
  {
   "cell_type": "code",
   "execution_count": 97,
   "id": "11967834",
   "metadata": {},
   "outputs": [
    {
     "name": "stdout",
     "output_type": "stream",
     "text": [
      "Mean squared error (MSE): 0.82\n",
      "Coefficient of determination (R^2): 0.80\n"
     ]
    }
   ],
   "source": [
    "#predicts the X_train\n",
    "Y_pred_train = linearmodel.predict(X_train)\n",
    "#print('Coefficients:', model.coef_)\n",
    "#print('Intercept:', model.intercept_)\n",
    "print('Mean squared error (MSE): %.2f'\n",
    "      % mean_squared_error(Y_train, Y_pred_train,squared=False))\n",
    "print('Coefficient of determination (R^2): %.2f'\n",
    "      % r2_score(Y_train, Y_pred_train))"
   ]
  },
  {
   "cell_type": "code",
   "execution_count": 98,
   "id": "28407cc0",
   "metadata": {},
   "outputs": [
    {
     "name": "stdout",
     "output_type": "stream",
     "text": [
      "Mean squared error (MSE): 0.83\n",
      "Coefficient of determination (R^2): 0.81\n"
     ]
    }
   ],
   "source": [
    "#predicts the X_test\n",
    "Y_pred_test = linearmodel.predict(X_test)\n",
    "#print('Coefficients:', model.coef_)44444444444\n",
    "#print('Intercept:', model.intercept_)\n",
    "print('Mean squared error (MSE): %.2f'\n",
    "      % mean_squared_error(Y_test, Y_pred_test,squared=False))\n",
    "print('Coefficient of determination (R^2): %.2f'\n",
    "      % r2_score(Y_test, Y_pred_test))"
   ]
  },
  {
   "cell_type": "code",
   "execution_count": 95,
   "id": "97cdee2e",
   "metadata": {},
   "outputs": [
    {
     "name": "stdout",
     "output_type": "stream",
     "text": [
      "Mean squared error (RMSE): 0.26\n",
      "Coefficient of determination (R^2): 0.98\n"
     ]
    }
   ],
   "source": [
    "#predicts the X_train\n",
    "Y_pred_train = model.predict(X_train)\n",
    "#print('Coefficients:', model.coef_)\n",
    "#print('Intercept:', model.intercept_)\n",
    "print('Mean squared error (RMSE): %.2f'\n",
    "      % mean_squared_error(Y_train, Y_pred_train,squared=False))\n",
    "print('Coefficient of determination (R^2): %.2f'\n",
    "      % r2_score(Y_train, Y_pred_train))\n",
    "\n"
   ]
  },
  {
   "cell_type": "code",
   "execution_count": 96,
   "id": "52c4a029",
   "metadata": {},
   "outputs": [
    {
     "name": "stdout",
     "output_type": "stream",
     "text": [
      "Mean squared error (RMSE): 0.66\n",
      "Coefficient of determination (R^2): 0.88\n"
     ]
    }
   ],
   "source": [
    "#predicts the X_test\n",
    "Y_pred_test = model.predict(X_test)\n",
    "#print('Coefficients:', model.coef_)44444444444\n",
    "#print('Intercept:', model.intercept_)\n",
    "print('Mean squared error (RMSE): %.2f'\n",
    "      % mean_squared_error(Y_test, Y_pred_test,squared=False))\n",
    "print('Coefficient of determination (R^2): %.2f'\n",
    "      % r2_score(Y_test, Y_pred_test))"
   ]
  },
  {
   "cell_type": "code",
   "execution_count": 90,
   "id": "a322dc97",
   "metadata": {},
   "outputs": [
    {
     "name": "stderr",
     "output_type": "stream",
     "text": [
      "C:\\Users\\DEDP Grader\\anaconda3\\envs\\rdkit\\lib\\site-packages\\tqdm\\auto.py:22: TqdmWarning: IProgress not found. Please update jupyter and ipywidgets. See https://ipywidgets.readthedocs.io/en/stable/user_install.html\n",
      "  from .autonotebook import tqdm as notebook_tqdm\n"
     ]
    }
   ],
   "source": [
    "import shap\n",
    "from sklearn.preprocessing import StandardScaler\n",
    "import os\n",
    "import sys\n",
    "#import Explanation"
   ]
  },
  {
   "cell_type": "code",
   "execution_count": 91,
   "id": "1c913ccc",
   "metadata": {},
   "outputs": [],
   "source": [
    "\n",
    "explainer = shap.Explainer(model)\n",
    "shap_values = explainer(X_test)"
   ]
  },
  {
   "cell_type": "code",
   "execution_count": 101,
   "id": "fdec1669",
   "metadata": {},
   "outputs": [
    {
     "data": {
      "image/png": "[encoded data removed]",
      "text/plain": [
       "<Figure size 576x468 with 1 Axes>"
      ]
     },
     "metadata": {
      "needs_background": "light"
     },
     "output_type": "display_data"
    }
   ],
   "source": [
    "shap.summary_plot(shap_values, X_test, plot_type=\"bar\",show=False,max_display=10,plot_size=0.5)\n",
    "\n",
    "#plot_size=(18.0, 10.0)\n",
    "plt.savefig('most effective descriptor for des approch with SLOGP.pdf',bbox_inches='tight',dpi = 1000)"
   ]
  },
  {
   "cell_type": "code",
   "execution_count": 102,
   "id": "99dc4526",
   "metadata": {},
   "outputs": [
    {
     "data": {
      "image/png": "[encoded data removed]",
      "text/plain": [
       "<Figure size 576x468 with 1 Axes>"
      ]
     },
     "metadata": {},
     "output_type": "display_data"
    }
   ],
   "source": [
    "shap.plots.bar(shap_values, max_display=10,show=False)\n",
    "plt.savefig('scratcch.pdf',bbox_inches='tight',dpi = 1000)"
   ]
  },
  {
   "cell_type": "code",
   "execution_count": 103,
   "id": "dc75a911",
   "metadata": {},
   "outputs": [
    {
     "data": {
      "image/png": "[encoded data removed]",
      "text/plain": [
       "<Figure size 576x540 with 2 Axes>"
      ]
     },
     "metadata": {
      "needs_background": "light"
     },
     "output_type": "display_data"
    }
   ],
   "source": [
    "shap.summary_plot(shap_values, plot_type=\"dot\", plot_size=0.6, show=False,max_display=10)\n",
    "plt.savefig('scratcch.pdf',bbox_inches='tight',dpi = 1000)"
   ]
  },
  {
   "cell_type": "code",
   "execution_count": 99,
   "id": "a41ab9fd",
   "metadata": {
    "scrolled": true
   },
   "outputs": [
    {
     "data": {
      "image/png": "[encoded data removed]",
      "text/plain": [
       "<Figure size 360x792 with 2 Axes>"
      ]
     },
     "metadata": {
      "needs_background": "light"
     },
     "output_type": "display_data"
    }
   ],
   "source": [
    "#Vertical plot\n",
    "plt.figure(figsize=(5,11))\n",
    "\n",
    "# 2 row, 1 column, plot 1\n",
    "plt.subplot(2, 1, 1)\n",
    "plt.scatter(x=Y_train, y=Y_pred_train, c=\"#7CAE00\", alpha=1)\n",
    "\n",
    "# Add trendline\n",
    "# https://stackoverflow.com/questions/26447191/how-to-add-trendline-in-python-matplotlib-dot-scatter-graphs\n",
    "z = np.polyfit(Y_train, Y_pred_train, 1)\n",
    "p = np.poly1d(z)\n",
    "plt.plot(Y_test,p(Y_test),\"#F8766D\")\n",
    "\n",
    "\n",
    "plt.xlabel('Experimental LogS', fontsize=13)\n",
    "plt.ylabel('Predicted LogS', fontsize=13)\n",
    "\n",
    "\n",
    "# 2 row, 1 column, plot 2\n",
    "plt.subplot(2, 1, 2)\n",
    "plt.scatter(x=Y_test, y=Y_pred_test, c=\"#619CFF\", alpha=1)\n",
    "\n",
    "z = np.polyfit(Y_test, Y_pred_test, 1)\n",
    "p = np.poly1d(z)\n",
    "plt.plot(Y_test,p(Y_test),\"#F8766D\")\n",
    "\n",
    "plt.ylabel('Predicted LogS', fontsize=13)\n",
    "plt.xlabel('Experimental LogS', fontsize=13)\n",
    "\n",
    "plt.savefig('plot_vertical_logS.png')\n",
    "plt.savefig('paper logS descriptor.pdf',dpi=1200)\n",
    "plt.show()"
   ]
  },
  {
   "cell_type": "code",
   "execution_count": 79,
   "id": "91a7b86f",
   "metadata": {},
   "outputs": [
    {
     "data": {
      "text/html": [
       "<div>\n",
       "<style scoped>\n",
       "    .dataframe tbody tr th:only-of-type {\n",
       "        vertical-align: middle;\n",
       "    }\n",
       "\n",
       "    .dataframe tbody tr th {\n",
       "        vertical-align: top;\n",
       "    }\n",
       "\n",
       "    .dataframe thead th {\n",
       "        text-align: right;\n",
       "    }\n",
       "</style>\n",
       "<table border=\"1\" class=\"dataframe\">\n",
       "  <thead>\n",
       "    <tr style=\"text-align: right;\">\n",
       "      <th></th>\n",
       "      <th>Substance</th>\n",
       "      <th>SMILES</th>\n",
       "    </tr>\n",
       "  </thead>\n",
       "  <tbody>\n",
       "    <tr>\n",
       "      <th>0</th>\n",
       "      <td>hexobarbital</td>\n",
       "      <td>CN1C(=O)NC(=O)C(C)(C1=O)C1=CCCCC1</td>\n",
       "    </tr>\n",
       "    <tr>\n",
       "      <th>1</th>\n",
       "      <td>nalidixic_acid</td>\n",
       "      <td>CCn1cc(c(=O)c2ccc(nc12)C)C(=O)O</td>\n",
       "    </tr>\n",
       "    <tr>\n",
       "      <th>2</th>\n",
       "      <td>phenantroline</td>\n",
       "      <td>c12c(ccc3cccnc13)cccn2</td>\n",
       "    </tr>\n",
       "    <tr>\n",
       "      <th>3</th>\n",
       "      <td>phenobarbital</td>\n",
       "      <td>C1(NC(C(c2ccccc2)(C(=O)N1)CC)=O)=O</td>\n",
       "    </tr>\n",
       "    <tr>\n",
       "      <th>4</th>\n",
       "      <td>sulfamethazine</td>\n",
       "      <td>S(=O)(=O)(Nc1nc(C)cc(n1)C)c1ccc(N)cc1</td>\n",
       "    </tr>\n",
       "    <tr>\n",
       "      <th>5</th>\n",
       "      <td>bromogramine</td>\n",
       "      <td>Brc1cc2c(CN(C)C)c[nH]c2cc1</td>\n",
       "    </tr>\n",
       "    <tr>\n",
       "      <th>6</th>\n",
       "      <td>phenazopyridine</td>\n",
       "      <td>c1ccc(cc1)\\N=N\\c1c(nc(cc1)N)N</td>\n",
       "    </tr>\n",
       "    <tr>\n",
       "      <th>7</th>\n",
       "      <td>amantadine</td>\n",
       "      <td>C1C2CC3CC(CC1C3)(N)C2</td>\n",
       "    </tr>\n",
       "    <tr>\n",
       "      <th>8</th>\n",
       "      <td>benzylimidazole</td>\n",
       "      <td>n1(Cc2ccccc2)cncc1</td>\n",
       "    </tr>\n",
       "    <tr>\n",
       "      <th>9</th>\n",
       "      <td>chlorpropamide</td>\n",
       "      <td>Clc1ccc(S(=O)(NC(=O)NCCC)=O)cc1</td>\n",
       "    </tr>\n",
       "    <tr>\n",
       "      <th>10</th>\n",
       "      <td>cimetidine</td>\n",
       "      <td>Cc1c(nc[nH]1)CSCCN\\C(=N\\C)NC#N</td>\n",
       "    </tr>\n",
       "    <tr>\n",
       "      <th>11</th>\n",
       "      <td>thymol</td>\n",
       "      <td>c1(cc(ccc1C(C)C)C)O</td>\n",
       "    </tr>\n",
       "    <tr>\n",
       "      <th>12</th>\n",
       "      <td>tryptamine</td>\n",
       "      <td>NCCc1c[nH]c2ccccc12</td>\n",
       "    </tr>\n",
       "    <tr>\n",
       "      <th>13</th>\n",
       "      <td>aspirin</td>\n",
       "      <td>O=C(O)c1ccccc1OC(C)=O</td>\n",
       "    </tr>\n",
       "    <tr>\n",
       "      <th>14</th>\n",
       "      <td>azathioprine</td>\n",
       "      <td>S(c1n(cnc1N(=O)=O)C)c1ncnc2nc[nH]c12</td>\n",
       "    </tr>\n",
       "    <tr>\n",
       "      <th>15</th>\n",
       "      <td>sulfathiazole</td>\n",
       "      <td>Nc1ccc(cc1)S(=O)(Nc1nccs1)=O</td>\n",
       "    </tr>\n",
       "    <tr>\n",
       "      <th>16</th>\n",
       "      <td>acetaminophen</td>\n",
       "      <td>O=C(Nc1ccc(cc1)O)C</td>\n",
       "    </tr>\n",
       "    <tr>\n",
       "      <th>17</th>\n",
       "      <td>diazoxide</td>\n",
       "      <td>Clc1cc2S(=O)(=O)N=C(Nc2cc1)C</td>\n",
       "    </tr>\n",
       "    <tr>\n",
       "      <th>18</th>\n",
       "      <td>famotidine</td>\n",
       "      <td>N\\C(CCSCc1csc(\\N=C(\\N)N)n1)=N\\S(=O)(N)=O</td>\n",
       "    </tr>\n",
       "    <tr>\n",
       "      <th>19</th>\n",
       "      <td>hydroflumethiazide</td>\n",
       "      <td>S1(=O)(=O)NCNc2c1cc(S(=O)(N)=O)c(c2)C(F)(F)F</td>\n",
       "    </tr>\n",
       "    <tr>\n",
       "      <th>20</th>\n",
       "      <td>nitrofurantoin</td>\n",
       "      <td>O=C1NC(CN1\\N=C\\c1ccc(N(=O)=O)o1)=O</td>\n",
       "    </tr>\n",
       "    <tr>\n",
       "      <th>21</th>\n",
       "      <td>phthalic_acid_form_I</td>\n",
       "      <td>C(c1c(C(=O)O)cccc1)(=O)O</td>\n",
       "    </tr>\n",
       "    <tr>\n",
       "      <th>22</th>\n",
       "      <td>sulfacetamide</td>\n",
       "      <td>C(=O)(NS(=O)(c1ccc(cc1)N)=O)C</td>\n",
       "    </tr>\n",
       "    <tr>\n",
       "      <th>23</th>\n",
       "      <td>trichloromethiazide_form_I</td>\n",
       "      <td>NS(=O)(=O)c1cc2c(NC(NS2(=O)=O)C(Cl)Cl)cc1Cl</td>\n",
       "    </tr>\n",
       "    <tr>\n",
       "      <th>24</th>\n",
       "      <td>2_amino_5_bromobenzoic_acid</td>\n",
       "      <td>Brc1cc(C(O)=O)c(N)cc1</td>\n",
       "    </tr>\n",
       "    <tr>\n",
       "      <th>25</th>\n",
       "      <td>5_bromo_2_4_dihydroxybenzoic_acid</td>\n",
       "      <td>Oc1c(Br)cc(C(O)=O)c(O)c1</td>\n",
       "    </tr>\n",
       "    <tr>\n",
       "      <th>26</th>\n",
       "      <td>chlorzoxazone</td>\n",
       "      <td>c1cc2c(cc1Cl)[nH]c(=O)o2</td>\n",
       "    </tr>\n",
       "    <tr>\n",
       "      <th>27</th>\n",
       "      <td>5_hydroxybenzoic_acid</td>\n",
       "      <td>C(c1ccc(cc1)O)(=O)O</td>\n",
       "    </tr>\n",
       "    <tr>\n",
       "      <th>28</th>\n",
       "      <td>4_iodophenol</td>\n",
       "      <td>c1cc(ccc1O)I</td>\n",
       "    </tr>\n",
       "    <tr>\n",
       "      <th>29</th>\n",
       "      <td>metronidazole</td>\n",
       "      <td>OCCn1c(ncc1N(=O)=O)C</td>\n",
       "    </tr>\n",
       "    <tr>\n",
       "      <th>30</th>\n",
       "      <td>guanine</td>\n",
       "      <td>[nH]1cnc2nc(N)[nH]c(=O)c12</td>\n",
       "    </tr>\n",
       "    <tr>\n",
       "      <th>31</th>\n",
       "      <td>l-proline</td>\n",
       "      <td>C([C@H]1NCCC1)(=O)O</td>\n",
       "    </tr>\n",
       "    <tr>\n",
       "      <th>32</th>\n",
       "      <td>5_fluorouracil</td>\n",
       "      <td>Fc1c(=O)[nH]c(=O)[nH]c1</td>\n",
       "    </tr>\n",
       "    <tr>\n",
       "      <th>33</th>\n",
       "      <td>acetazolamide</td>\n",
       "      <td>S(=O)(=O)(N)c1sc(NC(=O)C)nn1</td>\n",
       "    </tr>\n",
       "    <tr>\n",
       "      <th>34</th>\n",
       "      <td>1_naphthol</td>\n",
       "      <td>c1ccc2c(cccc2O)c1</td>\n",
       "    </tr>\n",
       "  </tbody>\n",
       "</table>\n",
       "</div>"
      ],
      "text/plain": [
       "                             Substance  \\\n",
       "0                         hexobarbital   \n",
       "1                       nalidixic_acid   \n",
       "2                        phenantroline   \n",
       "3                        phenobarbital   \n",
       "4                       sulfamethazine   \n",
       "5                         bromogramine   \n",
       "6                      phenazopyridine   \n",
       "7                           amantadine   \n",
       "8                      benzylimidazole   \n",
       "9                       chlorpropamide   \n",
       "10                          cimetidine   \n",
       "11                              thymol   \n",
       "12                          tryptamine   \n",
       "13                             aspirin   \n",
       "14                        azathioprine   \n",
       "15                       sulfathiazole   \n",
       "16                       acetaminophen   \n",
       "17                           diazoxide   \n",
       "18                          famotidine   \n",
       "19                  hydroflumethiazide   \n",
       "20                      nitrofurantoin   \n",
       "21                phthalic_acid_form_I   \n",
       "22                       sulfacetamide   \n",
       "23          trichloromethiazide_form_I   \n",
       "24         2_amino_5_bromobenzoic_acid   \n",
       "25   5_bromo_2_4_dihydroxybenzoic_acid   \n",
       "26                       chlorzoxazone   \n",
       "27               5_hydroxybenzoic_acid   \n",
       "28                        4_iodophenol   \n",
       "29                       metronidazole   \n",
       "30                             guanine   \n",
       "31                           l-proline   \n",
       "32                      5_fluorouracil   \n",
       "33                       acetazolamide   \n",
       "34                          1_naphthol   \n",
       "\n",
       "                                          SMILES  \n",
       "0              CN1C(=O)NC(=O)C(C)(C1=O)C1=CCCCC1  \n",
       "1                CCn1cc(c(=O)c2ccc(nc12)C)C(=O)O  \n",
       "2                         c12c(ccc3cccnc13)cccn2  \n",
       "3             C1(NC(C(c2ccccc2)(C(=O)N1)CC)=O)=O  \n",
       "4          S(=O)(=O)(Nc1nc(C)cc(n1)C)c1ccc(N)cc1  \n",
       "5                     Brc1cc2c(CN(C)C)c[nH]c2cc1  \n",
       "6                  c1ccc(cc1)\\N=N\\c1c(nc(cc1)N)N  \n",
       "7                          C1C2CC3CC(CC1C3)(N)C2  \n",
       "8                             n1(Cc2ccccc2)cncc1  \n",
       "9                Clc1ccc(S(=O)(NC(=O)NCCC)=O)cc1  \n",
       "10                Cc1c(nc[nH]1)CSCCN\\C(=N\\C)NC#N  \n",
       "11                           c1(cc(ccc1C(C)C)C)O  \n",
       "12                           NCCc1c[nH]c2ccccc12  \n",
       "13                         O=C(O)c1ccccc1OC(C)=O  \n",
       "14          S(c1n(cnc1N(=O)=O)C)c1ncnc2nc[nH]c12  \n",
       "15                  Nc1ccc(cc1)S(=O)(Nc1nccs1)=O  \n",
       "16                            O=C(Nc1ccc(cc1)O)C  \n",
       "17                  Clc1cc2S(=O)(=O)N=C(Nc2cc1)C  \n",
       "18      N\\C(CCSCc1csc(\\N=C(\\N)N)n1)=N\\S(=O)(N)=O  \n",
       "19  S1(=O)(=O)NCNc2c1cc(S(=O)(N)=O)c(c2)C(F)(F)F  \n",
       "20            O=C1NC(CN1\\N=C\\c1ccc(N(=O)=O)o1)=O  \n",
       "21                      C(c1c(C(=O)O)cccc1)(=O)O  \n",
       "22                 C(=O)(NS(=O)(c1ccc(cc1)N)=O)C  \n",
       "23   NS(=O)(=O)c1cc2c(NC(NS2(=O)=O)C(Cl)Cl)cc1Cl  \n",
       "24                         Brc1cc(C(O)=O)c(N)cc1  \n",
       "25                      Oc1c(Br)cc(C(O)=O)c(O)c1  \n",
       "26                      c1cc2c(cc1Cl)[nH]c(=O)o2  \n",
       "27                           C(c1ccc(cc1)O)(=O)O  \n",
       "28                                  c1cc(ccc1O)I  \n",
       "29                          OCCn1c(ncc1N(=O)=O)C  \n",
       "30                    [nH]1cnc2nc(N)[nH]c(=O)c12  \n",
       "31                           C([C@H]1NCCC1)(=O)O  \n",
       "32                       Fc1c(=O)[nH]c(=O)[nH]c1  \n",
       "33                  S(=O)(=O)(N)c1sc(NC(=O)C)nn1  \n",
       "34                             c1ccc2c(cccc2O)c1  "
      ]
     },
     "execution_count": 79,
     "metadata": {},
     "output_type": "execute_result"
    }
   ],
   "source": [
    "testdata = pd.read_csv('D:/python/rdkit/testexperiment2upload2raw.csv')\n",
    "testdata"
   ]
  },
  {
   "cell_type": "code",
   "execution_count": 80,
   "id": "5efcc1e9",
   "metadata": {},
   "outputs": [],
   "source": [
    "def All_Mordred_descriptors(data):\n",
    "    calc = Calculator(descriptors, ignore_3D=True)\n",
    "    mols = [Chem.MolFromSmiles(smi) for smi in data]\n",
    "    \n",
    "    # pandas df\n",
    "    df = calc.pandas(mols)\n",
    "    return df"
   ]
  },
  {
   "cell_type": "code",
   "execution_count": 81,
   "id": "c170b006",
   "metadata": {},
   "outputs": [
    {
     "name": "stderr",
     "output_type": "stream",
     "text": [
      "100%|██████████████████████████████████████████████████████████████████████████████████| 35/35 [00:03<00:00, 10.98it/s]\n"
     ]
    }
   ],
   "source": [
    "mordred_descriptors2 = All_Mordred_descriptors(testdata['SMILES'])"
   ]
  },
  {
   "cell_type": "code",
   "execution_count": 86,
   "id": "a1b540a2",
   "metadata": {},
   "outputs": [
    {
     "data": {
      "text/plain": [
       "(35, 178)"
      ]
     },
     "execution_count": 86,
     "metadata": {},
     "output_type": "execute_result"
    }
   ],
   "source": [
    "Xnew=mordred_descriptors2[['AATS0d',\n",
    " 'AATS0dv',\n",
    " 'AATS0i',\n",
    " 'AATSC0dv',\n",
    " 'AATSC0i',\n",
    " 'AATSC0v',\n",
    " 'AATSC1Z',\n",
    " 'ABC',\n",
    " 'ATS0Z',\n",
    " 'ATSC0i',\n",
    " 'ATSC1Z',\n",
    " 'ATSC1d',\n",
    " 'ATSC1dv',\n",
    " 'ATSC1i',\n",
    " 'ATSC1p',\n",
    " 'ATSC1se',\n",
    " 'ATSC1v',\n",
    " 'ATSC2Z',\n",
    " 'ATSC2d',\n",
    " 'ATSC2dv',\n",
    " 'ATSC2i',\n",
    " 'ATSC2se',\n",
    " 'ATSC2v',\n",
    " 'ATSC3Z',\n",
    " 'ATSC3d',\n",
    " 'ATSC3dv',\n",
    " 'ATSC3i',\n",
    " 'ATSC3p',\n",
    " 'ATSC3se',\n",
    " 'ATSC3v',\n",
    " 'ATSC4Z',\n",
    " 'ATSC4d',\n",
    " 'ATSC4dv',\n",
    " 'ATSC4i',\n",
    " 'ATSC4p',\n",
    " 'ATSC4se',\n",
    " 'ATSC4v',\n",
    " 'ATSC5Z',\n",
    " 'ATSC5d',\n",
    " 'ATSC5dv',\n",
    " 'ATSC5i',\n",
    " 'ATSC5p',\n",
    " 'ATSC5se',\n",
    " 'ATSC5v',\n",
    " 'ATSC6Z',\n",
    " 'ATSC6d',\n",
    " 'ATSC6dv',\n",
    " 'ATSC6i',\n",
    " 'ATSC6se',\n",
    " 'ATSC6v',\n",
    " 'ATSC7Z',\n",
    " 'ATSC7d',\n",
    " 'ATSC7dv',\n",
    " 'ATSC7i',\n",
    " 'ATSC7p',\n",
    " 'ATSC7v',\n",
    " 'ATSC8Z',\n",
    " 'ATSC8d',\n",
    " 'ATSC8dv',\n",
    " 'ATSC8i',\n",
    " 'ATSC8v',\n",
    " 'BalabanJ',\n",
    " 'C1SP2',\n",
    " 'C1SP3',\n",
    " 'C2SP3',\n",
    " 'C3SP2',\n",
    " 'C3SP3',\n",
    " 'CIC1',\n",
    " 'Diameter',\n",
    " 'ECIndex',\n",
    " 'EState_VSA1',\n",
    " 'EState_VSA2',\n",
    " 'EState_VSA3',\n",
    " 'EState_VSA4',\n",
    " 'EState_VSA5',\n",
    " 'EState_VSA6',\n",
    " 'EState_VSA7',\n",
    " 'EState_VSA8',\n",
    " 'FilterItLogS',\n",
    " 'GATS1i',\n",
    " 'GATS1p',\n",
    " 'IC1',\n",
    " 'NaaN',\n",
    " 'NaaNH',\n",
    " 'NaaaC',\n",
    " 'NaasC',\n",
    " 'NaasN',\n",
    " 'NddsN',\n",
    " 'NddssS',\n",
    " 'NdsCH',\n",
    " 'NdssC',\n",
    " 'NsCH3',\n",
    " 'NsNH2',\n",
    " 'NsOH',\n",
    " 'NssCH2',\n",
    " 'NssNH',\n",
    " 'NssO',\n",
    " 'NsssCH',\n",
    " 'NsssN',\n",
    " 'NssssC',\n",
    " 'PEOE_VSA1',\n",
    " 'PEOE_VSA10',\n",
    " 'PEOE_VSA11',\n",
    " 'PEOE_VSA12',\n",
    " 'PEOE_VSA13',\n",
    " 'PEOE_VSA2',\n",
    " 'PEOE_VSA3',\n",
    " 'PEOE_VSA4',\n",
    " 'PEOE_VSA5',\n",
    " 'PEOE_VSA6',\n",
    " 'PEOE_VSA7',\n",
    " 'PEOE_VSA8',\n",
    " 'PEOE_VSA9',\n",
    " 'SMR_VSA4',\n",
    " 'SMR_VSA6',\n",
    " 'SMR_VSA9',\n",
    " 'SaaO',\n",
    " 'SaasC',\n",
    " 'SdCH2',\n",
    " 'SdNH',\n",
    " 'SdS',\n",
    " 'SdsN',\n",
    " 'SdssC',\n",
    " 'SdsssP',\n",
    " 'SlogP_VSA1',\n",
    " 'SlogP_VSA10',\n",
    " 'SlogP_VSA11',\n",
    " 'SlogP_VSA2',\n",
    " 'SlogP_VSA3',\n",
    " 'SlogP_VSA4',\n",
    " 'SlogP_VSA7',\n",
    " 'SsI',\n",
    " 'SsSH',\n",
    " 'SssS',\n",
    " 'SsssCH',\n",
    " 'StCH',\n",
    " 'StN',\n",
    " 'StsC',\n",
    " 'VSA_EState1',\n",
    " 'VSA_EState2',\n",
    " 'VSA_EState4',\n",
    " 'VSA_EState7',\n",
    " 'VSA_EState8',\n",
    " 'VSA_EState9',\n",
    " 'WPath',\n",
    " 'Xc-3dv',\n",
    " 'Xc-5d',\n",
    " 'Xc-5dv',\n",
    " 'Xch-7d',\n",
    " 'n5ARing',\n",
    " 'n5HRing',\n",
    " 'n5Ring',\n",
    " 'n5aRing',\n",
    " 'n6ARing',\n",
    " 'n6HRing',\n",
    " 'nAHRing',\n",
    " 'nARing',\n",
    " 'nAcid',\n",
    " 'nAromAtom',\n",
    " 'nAtom',\n",
    " 'nBase',\n",
    " 'nBondsD',\n",
    " 'nBr',\n",
    " 'nBridgehead',\n",
    " 'nC',\n",
    " 'nCl',\n",
    " 'nF',\n",
    " 'nFRing',\n",
    " 'nHBAcc',\n",
    " 'nHBDon',\n",
    " 'nHRing',\n",
    " 'nHetero',\n",
    " 'nN',\n",
    " 'nO',\n",
    " 'nRot',\n",
    " 'nS',\n",
    " 'nX',\n",
    " 'naHRing']]\n",
    "Xnew.shape\n"
   ]
  },
  {
   "cell_type": "code",
   "execution_count": 87,
   "id": "2b6337b7",
   "metadata": {},
   "outputs": [
    {
     "name": "stderr",
     "output_type": "stream",
     "text": [
      "C:\\Users\\DEDP Grader\\anaconda3\\envs\\rdkit\\lib\\site-packages\\sklearn\\base.py:488: FutureWarning: The feature names should match those that were passed during fit. Starting version 1.2, an error will be raised.\n",
      "Feature names must be in the same order as they were in fit.\n",
      "\n",
      "  warnings.warn(message, FutureWarning)\n"
     ]
    },
    {
     "data": {
      "text/plain": [
       "array([-1.8095    , -1.61493889, -1.96435972, -1.93680833, -2.0154    ,\n",
       "       -1.84255   , -1.81003333, -1.67927083, -1.92460847, -1.90865   ,\n",
       "       -0.67946958, -2.13519722, -1.95239722, -1.43358889, -2.1993    ,\n",
       "       -1.6482    , -2.0466964 , -2.06585   , -2.0925    , -1.8042375 ,\n",
       "       -2.18155   , -1.5483    , -1.7451475 , -1.8514375 , -1.94165   ,\n",
       "       -1.5168125 , -2.06953889, -1.3155125 , -2.09739306, -2.28665   ,\n",
       "       -2.0466    , -1.48947097, -1.7551675 , -2.1285    , -1.90877917])"
      ]
     },
     "execution_count": 87,
     "metadata": {},
     "output_type": "execute_result"
    }
   ],
   "source": [
    "\n",
    "# make a prediction\n",
    "#Xnew=mordred_descriptors\n",
    "ynew = model.predict(Xnew)\n",
    "#print(\"X=%s, Predicted=%s\" % (Xnew[0], ynew[0]))\n",
    "ynew"
   ]
  },
  {
   "cell_type": "code",
   "execution_count": 88,
   "id": "76fb2a44",
   "metadata": {},
   "outputs": [],
   "source": [
    "from numpy import asarray\n",
    "from numpy import savetxt\n",
    "# define data\n",
    "data = asarray(ynew)\n",
    "# save to csv file\n",
    "savetxt('datagg.csv', data, delimiter=',')"
   ]
  },
  {
   "cell_type": "code",
   "execution_count": null,
   "id": "0c74b745",
   "metadata": {},
   "outputs": [],
   "source": []
  },
  {
   "cell_type": "code",
   "execution_count": null,
   "id": "84c2a2c8",
   "metadata": {},
   "outputs": [],
   "source": []
  }
 ],
 "metadata": {
  "kernelspec": {
   "display_name": "Python 3 (ipykernel)",
   "language": "python",
   "name": "python3"
  },
  "language_info": {
   "codemirror_mode": {
    "name": "ipython",
    "version": 3
   },
   "file_extension": ".py",
   "mimetype": "text/x-python",
   "name": "python",
   "nbconvert_exporter": "python",
   "pygments_lexer": "ipython3",
   "version": "3.9.12"
  }
 },
 "nbformat": 4,
 "nbformat_minor": 5
}
