{
 "cells": [
  {
   "cell_type": "code",
   "execution_count": 2,
   "id": "87cfca2a",
   "metadata": {},
   "outputs": [],
   "source": [
    "import pandas as pd\n",
    "import numpy as np\n",
    "import os\n",
    "import seaborn as sns\n",
    "import matplotlib.pyplot as plt\n",
    "import emoji\n",
    "%matplotlib inline \n",
    "\n",
    "#importing rdkit\n",
    "from rdkit import Chem\n",
    "from rdkit.Chem import AllChem\n",
    "from rdkit.Chem import Descriptors\n",
    "from rdkit import RDConfig\n",
    "from rdkit.Chem.Draw import IPythonConsole\n",
    "from rdkit.Chem import Draw\n",
    "#from utility import FeatureGenerator\n",
    "from rdkit.Chem import PandasTools as PandasTools\n",
    "from rdkit import DataStructs\n",
    "from rdkit.Chem.Subshape import SubshapeBuilder,SubshapeAligner,SubshapeObjects\n",
    "\n",
    "#importing sklearn \n",
    "from sklearn.model_selection import train_test_split, StratifiedKFold, GridSearchCV\n",
    "from sklearn.metrics import r2_score, mean_squared_error, mean_absolute_error\n",
    "from sklearn.ensemble import RandomForestRegressor\n",
    "from sklearn.neural_network import MLPRegressor\n",
    "from sklearn.svm import SVR"
   ]
  },
  {
   "cell_type": "code",
   "execution_count": 3,
   "id": "9b985828",
   "metadata": {},
   "outputs": [
    {
     "name": "stdout",
     "output_type": "stream",
     "text": [
      "<bound method NDFrame.head of                                                  SMILES  \\\n",
      "0               OCC1OC(CO)(OC2OC(CO)C(O)C(O)C2O)C(O)C1O   \n",
      "1     O[C@H]1[C@H](O[C@H](CO)[C@@H](O)[C@@H]1O)O[C@]...   \n",
      "2     OC[C@@H]1O[C@](CO)(O[C@@H]2O[C@@H](CO)[C@H](O)...   \n",
      "3                CN1C[C@@H]2C[C@@H](C1)C3=CC=CC(=O)N3C2   \n",
      "4                          CN1CC2CC(C1)C1=CC=CC(=O)N1C2   \n",
      "...                                                 ...   \n",
      "8433                                      O=[N+]([O-])C   \n",
      "8434                                                 OC   \n",
      "8435                                            S=C(N)N   \n",
      "8436                                           O=C(NO)N   \n",
      "8437                                            O=C(N)N   \n",
      "\n",
      "      measured log(solubility:mol/L)  \n",
      "0                               0.79  \n",
      "1                               0.79  \n",
      "2                               0.79  \n",
      "3                               0.65  \n",
      "4                               0.65  \n",
      "...                              ...  \n",
      "8433                            0.26  \n",
      "8434                            1.57  \n",
      "8435                            0.32  \n",
      "8436                            1.12  \n",
      "8437                            0.96  \n",
      "\n",
      "[8438 rows x 2 columns]>\n"
     ]
    }
   ],
   "source": [
    "from rdkit.Chem import AllChem\n",
    "from rdkit import Chem\n",
    "import pandas as pd\n",
    "\n",
    "sol = pd.read_csv('D:/python/rdkit/new222new.csv')\n",
    "print(sol.head)\n",
    "XY = sol.set_index('SMILES').T.to_dict('list')"
   ]
  },
  {
   "cell_type": "code",
   "execution_count": 4,
   "id": "33c6e7a3",
   "metadata": {},
   "outputs": [
    {
     "data": {
      "text/plain": [
       "0       0.79\n",
       "1       0.79\n",
       "2       0.79\n",
       "3       0.65\n",
       "4       0.65\n",
       "        ... \n",
       "8433    0.26\n",
       "8434    1.57\n",
       "8435    0.32\n",
       "8436    1.12\n",
       "8437    0.96\n",
       "Name: measured log(solubility:mol/L), Length: 8438, dtype: float64"
      ]
     },
     "execution_count": 4,
     "metadata": {},
     "output_type": "execute_result"
    }
   ],
   "source": [
    "y = sol.iloc[:,1]\n",
    "y"
   ]
  },
  {
   "cell_type": "code",
   "execution_count": 97,
   "id": "afd3acf6",
   "metadata": {},
   "outputs": [
    {
     "name": "stdout",
     "output_type": "stream",
     "text": [
      "8438\n"
     ]
    }
   ],
   "source": [
    "\n",
    "X = []\n",
    "\n",
    "for smile, Hlist in XY.items():\n",
    "    try:\n",
    "        X.append(AllChem.GetMorganFingerprintAsBitVect(Chem.MolFromSmiles(smile), radius=2,nBits = 2048))\n",
    "\n",
    "    except:\n",
    "        pass\n",
    "X = [list(a) for a in X]\n",
    "print(len(X))\n"
   ]
  },
  {
   "cell_type": "code",
   "execution_count": 98,
   "id": "9f406353",
   "metadata": {},
   "outputs": [],
   "source": [
    "from sklearn.model_selection import train_test_split"
   ]
  },
  {
   "cell_type": "code",
   "execution_count": 99,
   "id": "286d64b5",
   "metadata": {},
   "outputs": [],
   "source": [
    "X_train, X_test, Y_train, Y_test = train_test_split(X, y, test_size=0.2,random_state=991)"
   ]
  },
  {
   "cell_type": "code",
   "execution_count": 100,
   "id": "22d8042b",
   "metadata": {},
   "outputs": [],
   "source": [
    "from sklearn import linear_model\n",
    "from sklearn.metrics import mean_squared_error, r2_score"
   ]
  },
  {
   "cell_type": "code",
   "execution_count": 101,
   "id": "fa0a881f",
   "metadata": {},
   "outputs": [
    {
     "data": {
      "text/plain": [
       "RandomForestRegressor(random_state=42)"
      ]
     },
     "execution_count": 101,
     "metadata": {},
     "output_type": "execute_result"
    }
   ],
   "source": [
    "model = RandomForestRegressor(n_estimators=100, random_state=42)\n",
    "model.fit(X_train, Y_train)"
   ]
  },
  {
   "cell_type": "code",
   "execution_count": 102,
   "id": "0271f9b0",
   "metadata": {},
   "outputs": [],
   "source": [
    "Y_pred_train = model.predict(X_train)"
   ]
  },
  {
   "cell_type": "code",
   "execution_count": 103,
   "id": "5614da42",
   "metadata": {},
   "outputs": [
    {
     "name": "stdout",
     "output_type": "stream",
     "text": [
      "Mean squared error (RMSE): 0.35\n",
      "Coefficient of determination (R^2): 0.96\n"
     ]
    }
   ],
   "source": [
    "\n",
    "print('Mean squared error (RMSE): %.2f'\n",
    "      % mean_squared_error(Y_train, Y_pred_train,squared=False))\n",
    "print('Coefficient of determination (R^2): %.2f'\n",
    "      % r2_score(Y_train, Y_pred_train))"
   ]
  },
  {
   "cell_type": "code",
   "execution_count": 104,
   "id": "3ef347be",
   "metadata": {},
   "outputs": [],
   "source": [
    "#predicts the X_test\n",
    "Y_pred_test = model.predict(X_test)"
   ]
  },
  {
   "cell_type": "code",
   "execution_count": 105,
   "id": "fce1413a",
   "metadata": {},
   "outputs": [
    {
     "name": "stdout",
     "output_type": "stream",
     "text": [
      "Mean squared error (RMSE): 0.81\n",
      "Coefficient of determination (R^2): 0.82\n"
     ]
    }
   ],
   "source": [
    "\n",
    "print('Mean squared error (RMSE): %.2f'\n",
    "      % mean_squared_error(Y_test, Y_pred_test,squared=False))\n",
    "print('Coefficient of determination (R^2): %.2f'\n",
    "      % r2_score(Y_test, Y_pred_test))"
   ]
  },
  {
   "cell_type": "code",
   "execution_count": 14,
   "id": "aca2f0d6",
   "metadata": {},
   "outputs": [
    {
     "data": {
      "image/png": "[encoded data removed]",
      "text/plain": [
       "<Figure size 360x792 with 2 Axes>"
      ]
     },
     "metadata": {
      "needs_background": "light"
     },
     "output_type": "display_data"
    }
   ],
   "source": [
    "#Vertical plot\n",
    "plt.figure(figsize=(5,11))\n",
    "\n",
    "# 2 row, 1 column, plot 1\n",
    "plt.subplot(2, 1, 1)\n",
    "plt.scatter(x=Y_train, y=Y_pred_train, c=\"#7CAE00\", alpha=1)\n",
    "\n",
    "# Add trendline\n",
    "# https://stackoverflow.com/questions/26447191/how-to-add-trendline-in-python-matplotlib-dot-scatter-graphs\n",
    "z = np.polyfit(Y_train, Y_pred_train, 1)\n",
    "p = np.poly1d(z)\n",
    "plt.plot(Y_test,p(Y_test),\"#F8766D\")\n",
    "\n",
    "\n",
    "plt.xlabel('Experimental LogS',fontsize=13)\n",
    "plt.ylabel('Predicted LogS',fontsize=13)\n",
    "\n",
    "\n",
    "# 2 row, 1 column, plot 2\n",
    "plt.subplot(2, 1, 2)\n",
    "plt.scatter(x=Y_test, y=Y_pred_test, c=\"#619CFF\", alpha=1)\n",
    "\n",
    "z = np.polyfit(Y_test, Y_pred_test, 1)\n",
    "p = np.poly1d(z)\n",
    "plt.plot(Y_test,p(Y_test),\"#F8766D\")\n",
    "\n",
    "plt.ylabel('Predicted LogS',fontsize=13)\n",
    "plt.xlabel('Experimental LogS',fontsize=13)\n",
    "\n",
    "#plt.savefig('plot_vertical_logS.png')\n",
    "plt.savefig('paper logS morgan.pdf',dpi=1200)\n",
    "plt.show()"
   ]
  },
  {
   "cell_type": "code",
   "execution_count": 106,
   "id": "018328d1",
   "metadata": {},
   "outputs": [],
   "source": [
    "import shap\n",
    "from sklearn.preprocessing import StandardScaler\n",
    "import os\n",
    "import sys\n",
    "#import Explanation"
   ]
  },
  {
   "cell_type": "code",
   "execution_count": 107,
   "id": "84404914",
   "metadata": {},
   "outputs": [
    {
     "name": "stderr",
     "output_type": "stream",
     "text": [
      "100%|===================| 1684/1688 [07:23<00:01]        "
     ]
    }
   ],
   "source": [
    "X = X_test\n",
    "Xscaler = StandardScaler()\n",
    "X2= Xscaler.fit_transform(X)\n",
    "explainer = shap.TreeExplainer(model,data=X2,feature_perturbation='interventional')\n",
    "shap_values = explainer.shap_values(X2)\n"
   ]
  },
  {
   "cell_type": "code",
   "execution_count": 320,
   "id": "c3715e8c",
   "metadata": {},
   "outputs": [
    {
     "data": {
      "image/png": "[encoded data removed]",
      "text/plain": [
       "<Figure size 576x626.4 with 2 Axes>"
      ]
     },
     "metadata": {
      "needs_background": "light"
     },
     "output_type": "display_data"
    }
   ],
   "source": [
    "#shap.summary_plot(shap_values, X2,max_display=12)\n",
    "#shap.summary_plot(shap_values, max_display=12,color='r')\n",
    "shap.summary_plot(shap_values, X2, plot_type=\"dot\", plot_size=0.6, show=False,max_display=12)\n",
    "plt.savefig('scratcch.pdf',bbox_inches='tight',dpi = 1000)"
   ]
  },
  {
   "cell_type": "code",
   "execution_count": 321,
   "id": "15368856",
   "metadata": {},
   "outputs": [
    {
     "data": {
      "image/png": "[encoded data removed]",
      "text/plain": [
       "<Figure size 576x453.6 with 1 Axes>"
      ]
     },
     "metadata": {
      "needs_background": "light"
     },
     "output_type": "display_data"
    }
   ],
   "source": [
    "shap.summary_plot(shap_values, max_display=12, plot_type=\"bar\",show=False)\n",
    "plt.savefig('scratcch.pdf',bbox_inches='tight',dpi = 1000)"
   ]
  },
  {
   "cell_type": "code",
   "execution_count": 322,
   "id": "e94ad22b",
   "metadata": {},
   "outputs": [
    {
     "data": {
      "text/html": [
       "<div>\n",
       "<style scoped>\n",
       "    .dataframe tbody tr th:only-of-type {\n",
       "        vertical-align: middle;\n",
       "    }\n",
       "\n",
       "    .dataframe tbody tr th {\n",
       "        vertical-align: top;\n",
       "    }\n",
       "\n",
       "    .dataframe thead th {\n",
       "        text-align: right;\n",
       "    }\n",
       "</style>\n",
       "<table border=\"1\" class=\"dataframe\">\n",
       "  <thead>\n",
       "    <tr style=\"text-align: right;\">\n",
       "      <th></th>\n",
       "      <th>col_name</th>\n",
       "      <th>feature_importance_vals</th>\n",
       "    </tr>\n",
       "  </thead>\n",
       "  <tbody>\n",
       "    <tr>\n",
       "      <th>1380</th>\n",
       "      <td>0.798277</td>\n",
       "      <td>0.387226</td>\n",
       "    </tr>\n",
       "    <tr>\n",
       "      <th>807</th>\n",
       "      <td>-1.160907</td>\n",
       "      <td>0.347999</td>\n",
       "    </tr>\n",
       "    <tr>\n",
       "      <th>561</th>\n",
       "      <td>-0.383065</td>\n",
       "      <td>0.323412</td>\n",
       "    </tr>\n",
       "    <tr>\n",
       "      <th>222</th>\n",
       "      <td>-0.322474</td>\n",
       "      <td>0.108805</td>\n",
       "    </tr>\n",
       "    <tr>\n",
       "      <th>650</th>\n",
       "      <td>0.836600</td>\n",
       "      <td>0.076407</td>\n",
       "    </tr>\n",
       "    <tr>\n",
       "      <th>1143</th>\n",
       "      <td>-0.188634</td>\n",
       "      <td>0.069769</td>\n",
       "    </tr>\n",
       "    <tr>\n",
       "      <th>1750</th>\n",
       "      <td>1.263694</td>\n",
       "      <td>0.069694</td>\n",
       "    </tr>\n",
       "    <tr>\n",
       "      <th>1171</th>\n",
       "      <td>-0.471490</td>\n",
       "      <td>0.069169</td>\n",
       "    </tr>\n",
       "    <tr>\n",
       "      <th>1873</th>\n",
       "      <td>0.945780</td>\n",
       "      <td>0.062422</td>\n",
       "    </tr>\n",
       "    <tr>\n",
       "      <th>294</th>\n",
       "      <td>-0.545402</td>\n",
       "      <td>0.052834</td>\n",
       "    </tr>\n",
       "    <tr>\n",
       "      <th>114</th>\n",
       "      <td>-0.292456</td>\n",
       "      <td>0.051482</td>\n",
       "    </tr>\n",
       "    <tr>\n",
       "      <th>591</th>\n",
       "      <td>-0.281574</td>\n",
       "      <td>0.050923</td>\n",
       "    </tr>\n",
       "  </tbody>\n",
       "</table>\n",
       "</div>"
      ],
      "text/plain": [
       "      col_name  feature_importance_vals\n",
       "1380  0.798277                 0.387226\n",
       "807  -1.160907                 0.347999\n",
       "561  -0.383065                 0.323412\n",
       "222  -0.322474                 0.108805\n",
       "650   0.836600                 0.076407\n",
       "1143 -0.188634                 0.069769\n",
       "1750  1.263694                 0.069694\n",
       "1171 -0.471490                 0.069169\n",
       "1873  0.945780                 0.062422\n",
       "294  -0.545402                 0.052834\n",
       "114  -0.292456                 0.051482\n",
       "591  -0.281574                 0.050923"
      ]
     },
     "execution_count": 322,
     "metadata": {},
     "output_type": "execute_result"
    }
   ],
   "source": [
    "#vals= np.abs(shap_values).mean(0)\n",
    "#feature_importance = pd.DataFrame(list(zip(X2,vals)),columns=['col_name','feature_importance_vals'])\n",
    "#feature_importance[\"feature_importance_vals\"] = np.abs(feature_importance[\"feature_importance_vals\"])\n",
    "#feature_importance.sort_values(by=['feature_importance_vals'],ascending=False,inplace=True)\n",
    "#feature_importance.head()\n",
    "\n",
    "import numpy as np\n",
    "vals= np.abs(shap_values).mean(0)\n",
    "i=12\n",
    "feature_importance = pd.DataFrame(list(zip(X2[i], vals)), columns=['col_name','feature_importance_vals'])\n",
    "feature_importance.sort_values(by=['feature_importance_vals'], ascending=False,inplace=True)\n",
    "feature_importance[:12]\n"
   ]
  },
  {
   "cell_type": "code",
   "execution_count": 95,
   "id": "4d2a5b37",
   "metadata": {},
   "outputs": [],
   "source": [
    "feature_importance.to_excel(r'D:/python/rdkit/File Name44.xlsx', index = False)"
   ]
  },
  {
   "cell_type": "code",
   "execution_count": 27,
   "id": "9912b5aa",
   "metadata": {},
   "outputs": [
    {
     "data": {
      "text/plain": [
       "0                 OCC1OC(CO)(OC2OC(CO)C(O)C(O)C2O)C(O)C1O\n",
       "1       O[C@H]1[C@H](O[C@H](CO)[C@@H](O)[C@@H]1O)O[C@]...\n",
       "2       OC[C@@H]1O[C@](CO)(O[C@@H]2O[C@@H](CO)[C@H](O)...\n",
       "3                  CN1C[C@@H]2C[C@@H](C1)C3=CC=CC(=O)N3C2\n",
       "4                            CN1CC2CC(C1)C1=CC=CC(=O)N1C2\n",
       "                              ...                        \n",
       "8433                                        O=[N+]([O-])C\n",
       "8434                                                   OC\n",
       "8435                                              S=C(N)N\n",
       "8436                                             O=C(NO)N\n",
       "8437                                              O=C(N)N\n",
       "Name: SMILES, Length: 8438, dtype: object"
      ]
     },
     "execution_count": 27,
     "metadata": {},
     "output_type": "execute_result"
    }
   ],
   "source": [
    "z=sol.iloc[:,0]\n",
    "z"
   ]
  },
  {
   "cell_type": "code",
   "execution_count": 28,
   "id": "d428ce3b",
   "metadata": {},
   "outputs": [
    {
     "data": {
      "text/plain": [
       "'[#6]CC1=C(C[#6])[NH0]=C2[NH0]=C(O)[NH0]=CC2=[NH0]1'"
      ]
     },
     "execution_count": 28,
     "metadata": {},
     "output_type": "execute_result"
    }
   ],
   "source": [
    "mol=z[1996]\n",
    "mol"
   ]
  },
  {
   "cell_type": "code",
   "execution_count": 23,
   "id": "7dd64e32",
   "metadata": {},
   "outputs": [
    {
     "data": {
      "image/png": "[encoded data removed]",
      "text/plain": [
       "<rdkit.Chem.rdchem.Mol at 0x1c59ce42280>"
      ]
     },
     "execution_count": 23,
     "metadata": {},
     "output_type": "execute_result"
    }
   ],
   "source": [
    "mol = Chem.MolFromSmiles(z[1995])\n",
    "mol"
   ]
  },
  {
   "cell_type": "code",
   "execution_count": 29,
   "id": "cc63cfc3",
   "metadata": {},
   "outputs": [],
   "source": [
    "from rdkit.Chem import rdMolDescriptors"
   ]
  },
  {
   "cell_type": "code",
   "execution_count": 422,
   "id": "b81600fd",
   "metadata": {},
   "outputs": [
    {
     "data": {
      "text/plain": [
       "[44, 389, 446, 650, 807, 1917]"
      ]
     },
     "execution_count": 422,
     "metadata": {},
     "output_type": "execute_result"
    }
   ],
   "source": [
    "w = Chem.MolFromSmiles(z[8402])\n",
    "w\n",
    "\n",
    "bi = {}\n",
    "fp = rdMolDescriptors.GetMorganFingerprintAsBitVect(w, radius=2, bitInfo=bi, nBits = 2048)\n",
    "# show 10 of the set bits:\n",
    "list(fp.GetOnBits())[:]\n",
    "\n"
   ]
  },
  {
   "cell_type": "code",
   "execution_count": 317,
   "id": "8cf59b46",
   "metadata": {},
   "outputs": [
    {
     "name": "stdout",
     "output_type": "stream",
     "text": [
      "<bound method NDFrame.head of                              Substance                                        SMILES\n",
      "0                         hexobarbital             CN1C(=O)NC(=O)C(C)(C1=O)C1=CCCCC1\n",
      "1                       nalidixic_acid               CCn1cc(c(=O)c2ccc(nc12)C)C(=O)O\n",
      "2                        phenantroline                        c12c(ccc3cccnc13)cccn2\n",
      "3                        phenobarbital            C1(NC(C(c2ccccc2)(C(=O)N1)CC)=O)=O\n",
      "4                       sulfamethazine         S(=O)(=O)(Nc1nc(C)cc(n1)C)c1ccc(N)cc1\n",
      "5                         bromogramine                    Brc1cc2c(CN(C)C)c[nH]c2cc1\n",
      "6                      phenazopyridine                 c1ccc(cc1)\\N=N\\c1c(nc(cc1)N)N\n",
      "7                           amantadine                         C1C2CC3CC(CC1C3)(N)C2\n",
      "8                      benzylimidazole                            n1(Cc2ccccc2)cncc1\n",
      "9                       chlorpropamide               Clc1ccc(S(=O)(NC(=O)NCCC)=O)cc1\n",
      "10                          cimetidine                Cc1c(nc[nH]1)CSCCN\\C(=N\\C)NC#N\n",
      "11                              thymol                           c1(cc(ccc1C(C)C)C)O\n",
      "12                          tryptamine                           NCCc1c[nH]c2ccccc12\n",
      "13                             aspirin                         O=C(O)c1ccccc1OC(C)=O\n",
      "14                        azathioprine          S(c1n(cnc1N(=O)=O)C)c1ncnc2nc[nH]c12\n",
      "15                       sulfathiazole                  Nc1ccc(cc1)S(=O)(Nc1nccs1)=O\n",
      "16                       acetaminophen                            O=C(Nc1ccc(cc1)O)C\n",
      "17                           diazoxide                  Clc1cc2S(=O)(=O)N=C(Nc2cc1)C\n",
      "18                          famotidine      N\\C(CCSCc1csc(\\N=C(\\N)N)n1)=N\\S(=O)(N)=O\n",
      "19                  hydroflumethiazide  S1(=O)(=O)NCNc2c1cc(S(=O)(N)=O)c(c2)C(F)(F)F\n",
      "20                      nitrofurantoin            O=C1NC(CN1\\N=C\\c1ccc(N(=O)=O)o1)=O\n",
      "21                phthalic_acid_form_I                      C(c1c(C(=O)O)cccc1)(=O)O\n",
      "22                       sulfacetamide                 C(=O)(NS(=O)(c1ccc(cc1)N)=O)C\n",
      "23          trichloromethiazide_form_I   NS(=O)(=O)c1cc2c(NC(NS2(=O)=O)C(Cl)Cl)cc1Cl\n",
      "24         2_amino_5_bromobenzoic_acid                         Brc1cc(C(O)=O)c(N)cc1\n",
      "25   5_bromo_2_4_dihydroxybenzoic_acid                      Oc1c(Br)cc(C(O)=O)c(O)c1\n",
      "26                       chlorzoxazone                      c1cc2c(cc1Cl)[nH]c(=O)o2\n",
      "27               5_hydroxybenzoic_acid                           C(c1ccc(cc1)O)(=O)O\n",
      "28                        4_iodophenol                                  c1cc(ccc1O)I\n",
      "29                       metronidazole                          OCCn1c(ncc1N(=O)=O)C\n",
      "30                             guanine                    [nH]1cnc2nc(N)[nH]c(=O)c12\n",
      "31                           l-proline                           C([C@H]1NCCC1)(=O)O\n",
      "32                      5_fluorouracil                       Fc1c(=O)[nH]c(=O)[nH]c1\n",
      "33                       acetazolamide                  S(=O)(=O)(N)c1sc(NC(=O)C)nn1\n",
      "34                          1_naphthol                             c1ccc2c(cccc2O)c1>\n"
     ]
    }
   ],
   "source": [
    "sol2 = pd.read_csv('D:/python/rdkit/testexperiment2upload2raw.csv')\n",
    "print(sol2.head)\n",
    "XY2 = sol2.set_index('SMILES').T.to_dict('list')"
   ]
  },
  {
   "cell_type": "code",
   "execution_count": 318,
   "id": "57686f8e",
   "metadata": {},
   "outputs": [
    {
     "name": "stdout",
     "output_type": "stream",
     "text": [
      "35\n"
     ]
    }
   ],
   "source": [
    "#y = []\n",
    "X3 = []\n",
    "#bi = {}\n",
    "for smile, Hlist in XY2.items():\n",
    "    try:\n",
    "        X3.append(AllChem.GetMorganFingerprintAsBitVect(Chem.MolFromSmiles(smile), radius=2,nBits = 2048))\n",
    "  #      y.append(Hlist[0])\n",
    "    except:\n",
    "        pass\n",
    "X3 = [list(c) for c in X3]\n",
    "print(len(X3))\n"
   ]
  },
  {
   "cell_type": "code",
   "execution_count": 319,
   "id": "e634bef0",
   "metadata": {},
   "outputs": [
    {
     "data": {
      "text/plain": [
       "array([-2.39598452, -3.4272222 , -1.80071   , -2.33071771, -2.38303596,\n",
       "       -3.92335522, -4.02061667, -2.121475  , -1.50517667, -2.8887597 ,\n",
       "       -1.49360145, -2.26295   , -2.90505   , -1.95792833, -2.84261375,\n",
       "       -2.5520033 , -1.1924825 , -3.27504908, -2.58238314, -2.33418333,\n",
       "       -3.41979427, -0.92818266, -1.41999808, -2.78031587, -2.80345   ,\n",
       "       -2.20203067, -2.88642457, -1.6865601 , -2.003575  , -1.35115913,\n",
       "       -4.08115   ,  0.26140833, -1.21775933, -2.34481357, -2.26959875])"
      ]
     },
     "execution_count": 319,
     "metadata": {},
     "output_type": "execute_result"
    }
   ],
   "source": [
    "Xnew=X3\n",
    "ynew = model.predict(Xnew)\n",
    "#print(\"X=%s, Predicted=%s\" % (Xnew[0], ynew[0]))\n",
    "ynew"
   ]
  },
  {
   "cell_type": "code",
   "execution_count": 314,
   "id": "7f57b9b5",
   "metadata": {},
   "outputs": [],
   "source": [
    "from numpy import asarray\n",
    "from numpy import savetxt\n",
    "# define data\n",
    "data = asarray(ynew)\n",
    "# save to csv file\n",
    "savetxt('data.csv', data, delimiter=',')"
   ]
  },
  {
   "cell_type": "code",
   "execution_count": null,
   "id": "d6bbcb11",
   "metadata": {},
   "outputs": [],
   "source": []
  },
  {
   "cell_type": "code",
   "execution_count": null,
   "id": "a4e34817",
   "metadata": {},
   "outputs": [],
   "source": []
  },
  {
   "cell_type": "code",
   "execution_count": 395,
   "id": "09f9ae1c",
   "metadata": {},
   "outputs": [
    {
     "data": {
      "text/plain": [
       "115"
      ]
     },
     "execution_count": 395,
     "metadata": {},
     "output_type": "execute_result"
    }
   ],
   "source": [
    "i=115\n",
    "u=591\n",
    "while i<8000:\n",
    "    w = Chem.MolFromSmiles(z[i])\n",
    "\n",
    "    bi = {}\n",
    "    fp = rdMolDescriptors.GetMorganFingerprintAsBitVect(w, radius=2, bitInfo=bi, nBits = 2048)\n",
    "# show 10 of the set bits:\n",
    "    j=list(fp.GetOnBits())[:]\n",
    "\n",
    "    if u in j:\n",
    "    #if a==0.97 and b==0.81:\n",
    "        break\n",
    "    #u=r2_score(Y_test, Y_pred_test)\n",
    "    #b=round(u,2)\n",
    "    \n",
    "    \n",
    "    i+=1\n",
    "i\n"
   ]
  },
  {
   "cell_type": "code",
   "execution_count": 424,
   "id": "b18553b5",
   "metadata": {},
   "outputs": [
    {
     "data": {
      "image/png": "[encoded data removed]",
      "text/plain": [
       "<PIL.PngImagePlugin.PngImageFile image mode=RGB size=450x300>"
      ]
     },
     "execution_count": 424,
     "metadata": {},
     "output_type": "execute_result"
    }
   ],
   "source": [
    "w = Chem.MolFromSmiles(z[8402])\n",
    "w\n",
    "\n",
    "bi = {}\n",
    "fp = rdMolDescriptors.GetMorganFingerprintAsBitVect(w, radius=2, bitInfo=bi, nBits = 2048)\n",
    "\n",
    "tpls = [(w,x,bi) for x in fp.GetOnBits()]\n",
    "p=Draw.DrawMorganBits(tpls[:],molsPerRow=3,legends=[str(x) for x in fp.GetOnBits()][:])\n",
    "dpi=1200\n",
    "p"
   ]
  },
  {
   "cell_type": "code",
   "execution_count": 423,
   "id": "a93df8d0",
   "metadata": {},
   "outputs": [
    {
     "data": {
      "image/png": "[encoded data removed]",
      "text/plain": [
       "<rdkit.Chem.rdchem.Mol at 0x1de30be4820>"
      ]
     },
     "execution_count": 423,
     "metadata": {},
     "output_type": "execute_result"
    }
   ],
   "source": [
    "mol=z[2506]\n",
    "mol\n",
    "w = Chem.MolFromSmiles(z[8402])\n",
    "w"
   ]
  },
  {
   "cell_type": "code",
   "execution_count": 400,
   "id": "6f1bfa02",
   "metadata": {},
   "outputs": [],
   "source": [
    "def getSubstructSmi(mol,atomID,radius):\n",
    "    if radius>0:\n",
    "        env = Chem.FindAtomEnvironmentOfRadiusN(mol,radius,atomID)\n",
    "        atomsToUse=[]\n",
    "        for b in env:\n",
    "            atomsToUse.append(mol.GetBondWithIdx(b).GetBeginAtomIdx())\n",
    "            atomsToUse.append(mol.GetBondWithIdx(b).GetEndAtomIdx())\n",
    "        atomsToUse = list(set(atomsToUse))\n",
    "    else:\n",
    "        atomsToUse = [atomID]\n",
    "        env=None\n",
    "    symbols = []\n",
    "\n",
    "    smi = Chem.MolFragmentToSmiles(mol,atomsToUse,bondsToUse=env,allHsExplicit=True, allBondsExplicit=True, rootedAtAtom=atomID)\n",
    "    smi2 = Chem.MolFragmentToSmiles(mol,atomsToUse,bondsToUse=env,atomSymbols=symbols, allBondsExplicit=True, rootedAtAtom=atomID)\n",
    "    return smi,smi2"
   ]
  },
  {
   "cell_type": "code",
   "execution_count": 401,
   "id": "0094e595",
   "metadata": {},
   "outputs": [
    {
     "data": {
      "text/plain": [
       "<rdkit.DataStructs.cDataStructs.ExplicitBitVect at 0x1de30bccee0>"
      ]
     },
     "execution_count": 401,
     "metadata": {},
     "output_type": "execute_result"
    }
   ],
   "source": [
    "bi_bz = {}\n",
    "fp_bz = AllChem.GetMorganFingerprintAsBitVect(w,radius=2,nBits=2048,bitInfo=bi_bz)\n",
    "fp_bz"
   ]
  },
  {
   "cell_type": "code",
   "execution_count": 402,
   "id": "bc339e2e",
   "metadata": {},
   "outputs": [],
   "source": [
    "info_bz = []\n",
    "for bitId,atoms in bi_bz.items():\n",
    "    exampleAtom,exampleRadius = atoms[0]\n",
    "    description = getSubstructSmi(w,exampleAtom,exampleRadius)\n",
    "    info_bz.append((bitId,exampleRadius,description[0],description[1]))\n",
    "#print(info_bz)"
   ]
  },
  {
   "cell_type": "code",
   "execution_count": 403,
   "id": "9ed04a99",
   "metadata": {},
   "outputs": [],
   "source": [
    "collection = {}\n",
    "for bid,rad,smi,sma in info_bz:\n",
    "    collection[bid] = [bid,rad,smi,sma,'','']"
   ]
  },
  {
   "cell_type": "code",
   "execution_count": 404,
   "id": "82f21ec0",
   "metadata": {},
   "outputs": [],
   "source": [
    "import pandas as pd\n",
    "pd.options.display.width=100000 # options to make sure our wide columns display properly\n",
    "pd.options.display.max_colwidth=1000"
   ]
  },
  {
   "cell_type": "code",
   "execution_count": 405,
   "id": "17f69a98",
   "metadata": {},
   "outputs": [
    {
     "name": "stdout",
     "output_type": "stream",
     "text": [
      "     Bit  radius                                      smi_bz                 sma_bz smi_pyr sma_pyr\n",
      "0     80       0                                       [CH2]                      C                \n",
      "1    106       2  [c](:[cH]:[cH])(:[cH]:[cH])-[C](=[O])-[OH]  c(:c:c)(:c:c)-C(=O)-O                \n",
      "2    202       2              [cH](:[cH]:[c]):[c](:[cH])-[N]        c(:c:c):c(:c)-N                \n",
      "3    294       1                                 [CH3]-[CH2]                    C-C                \n",
      "4    348       2               [CH2](-[CH2]-[CH3])-[CH2]-[N]            C(-C-C)-C-N                \n",
      "5    389       1                                    [OH]-[C]                    O-C                \n",
      "6    408       2           [N](-[CH3])(-[CH2]-[CH2])-[N]=[N]        N(-C)(-C-C)-N=N                \n",
      "7    456       1                        [C](-[c])(=[O])-[OH]            C(-c)(=O)-O                \n",
      "8    591       2                   [CH2](-[CH3])-[CH2]-[CH2]              C(-C)-C-C                \n",
      "9    650       0                                         [O]                      O                \n",
      "10   663       1                     [N](-[CH2])(-[CH3])-[N]            N(-C)(-C)-N                \n",
      "11   725       0                                         [N]                      N                \n",
      "12   794       1                         [CH2](-[CH3])-[CH2]                C(-C)-C                \n",
      "13   807       0                                         [C]                      C                \n",
      "14   881       0                                         [N]                      N                \n",
      "15   931       1                               [N](-[c])=[N]                N(-c)=N                \n",
      "16   953       2         [CH2](-[CH2]-[CH2])-[N](-[CH3])-[N]        C(-C-C)-N(-C)-N                \n",
      "17  1057       0                                       [CH3]                      C                \n",
      "18  1138       2            [C](=[O])(-[OH])-[c](:[cH]):[cH]      C(=O)(-O)-c(:c):c                \n",
      "19  1163       1                                   [CH3]-[N]                    C-N                \n",
      "20  1260       1                               [N](=[N])-[N]                N(=N)-N                \n",
      "21  1380       0                                         [c]                      c                \n",
      "22  1385       1                       [c](-[C])(:[cH]):[cH]            c(-C)(:c):c                \n",
      "23  1583       2         [c](:[cH]:[cH])(:[cH]:[cH])-[N]=[N]      c(:c:c)(:c:c)-N=N                \n",
      "24  1697       2              [cH](:[cH]:[c]):[c](-[C]):[cH]        c(:c:c):c(-C):c                \n",
      "25  1750       1                             [cH](:[c]):[cH]                c(:c):c                \n",
      "26  1788       2             [N](=[N]-[c])-[N](-[CH2])-[CH3]        N(=N-c)-N(-C)-C                \n",
      "27  1854       1                       [c](:[cH])(:[cH])-[N]            c(:c)(:c)-N                \n",
      "28  1873       0                                        [cH]                      c                \n",
      "29  1911       1                         [CH2](-[CH2])-[CH2]                C(-C)-C                \n",
      "30  1917       1                                     [O]=[C]                    O=C                \n",
      "31  1951       1                           [CH2](-[CH2])-[N]                C(-C)-N                \n",
      "32  1995       2               [N](=[N]-[N])-[c](:[cH]):[cH]        N(=N-N)-c(:c):c                \n"
     ]
    }
   ],
   "source": [
    "df = pd.DataFrame(list(collection.values()),columns=('Bit','radius','smi_bz','sma_bz','smi_pyr','sma_pyr'))\n",
    "print(df.to_string())"
   ]
  },
  {
   "cell_type": "code",
   "execution_count": null,
   "id": "5038ac20",
   "metadata": {},
   "outputs": [],
   "source": []
  },
  {
   "cell_type": "code",
   "execution_count": null,
   "id": "b5ce5092",
   "metadata": {},
   "outputs": [],
   "source": []
  },
  {
   "cell_type": "code",
   "execution_count": null,
   "id": "0b3b4428",
   "metadata": {},
   "outputs": [],
   "source": []
  },
  {
   "cell_type": "code",
   "execution_count": null,
   "id": "12bdb43d",
   "metadata": {},
   "outputs": [],
   "source": []
  }
 ],
 "metadata": {
  "kernelspec": {
   "display_name": "Python 3 (ipykernel)",
   "language": "python",
   "name": "python3"
  },
  "language_info": {
   "codemirror_mode": {
    "name": "ipython",
    "version": 3
   },
   "file_extension": ".py",
   "mimetype": "text/x-python",
   "name": "python",
   "nbconvert_exporter": "python",
   "pygments_lexer": "ipython3",
   "version": "3.9.12"
  }
 },
 "nbformat": 4,
 "nbformat_minor": 5
}
