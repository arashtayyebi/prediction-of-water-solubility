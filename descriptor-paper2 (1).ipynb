{
 "cells": [
  {
   "cell_type": "code",
   "execution_count": 1,
   "id": "34116c05",
   "metadata": {},
   "outputs": [],
   "source": [
    "import pandas as pd\n",
    "import numpy as np\n",
    "import os\n",
    "import seaborn as sns\n",
    "import matplotlib.pyplot as plt\n",
    "import emoji\n",
    "%matplotlib inline \n",
    "\n",
    "#importing rdkit\n",
    "from rdkit import Chem\n",
    "from rdkit.Chem import AllChem\n",
    "from rdkit.Chem import Descriptors\n",
    "from rdkit import RDConfig\n",
    "from rdkit.Chem.Draw import IPythonConsole\n",
    "from rdkit.Chem import Draw\n",
    "#from utility import FeatureGenerator\n",
    "from rdkit.Chem import PandasTools as PandasTools\n",
    "from rdkit import DataStructs\n",
    "from rdkit.Chem.Subshape import SubshapeBuilder,SubshapeAligner,SubshapeObjects\n",
    "\n",
    "#importing sklearn \n",
    "from sklearn.model_selection import train_test_split, StratifiedKFold, GridSearchCV\n",
    "from sklearn.metrics import r2_score, mean_squared_error, mean_absolute_error\n",
    "from sklearn.ensemble import RandomForestRegressor\n",
    "from sklearn.neural_network import MLPRegressor\n",
    "from sklearn.svm import SVR\n",
    "import pandas as pd\n",
    "from mordred import Calculator, descriptors\n",
    "import wget\n",
    "import unzip\n",
    "import padelpy"
   ]
  },
  {
   "cell_type": "code",
   "execution_count": 2,
   "id": "2d783097",
   "metadata": {},
   "outputs": [
    {
     "name": "stdout",
     "output_type": "stream",
     "text": [
      "<bound method NDFrame.head of                                                  SMILES  \\\n",
      "0               OCC1OC(CO)(OC2OC(CO)C(O)C(O)C2O)C(O)C1O   \n",
      "1     O[C@H]1[C@H](O[C@H](CO)[C@@H](O)[C@@H]1O)O[C@]...   \n",
      "2     OC[C@@H]1O[C@](CO)(O[C@@H]2O[C@@H](CO)[C@H](O)...   \n",
      "3                CN1C[C@@H]2C[C@@H](C1)C3=CC=CC(=O)N3C2   \n",
      "4                          CN1CC2CC(C1)C1=CC=CC(=O)N1C2   \n",
      "...                                                 ...   \n",
      "8433                                      O=[N+]([O-])C   \n",
      "8434                                                 OC   \n",
      "8435                                            S=C(N)N   \n",
      "8436                                           O=C(NO)N   \n",
      "8437                                            O=C(N)N   \n",
      "\n",
      "      measured log(solubility:mol/L)  \n",
      "0                               0.79  \n",
      "1                               0.79  \n",
      "2                               0.79  \n",
      "3                               0.65  \n",
      "4                               0.65  \n",
      "...                              ...  \n",
      "8433                            0.26  \n",
      "8434                            1.57  \n",
      "8435                            0.32  \n",
      "8436                            1.12  \n",
      "8437                            0.96  \n",
      "\n",
      "[8438 rows x 2 columns]>\n"
     ]
    }
   ],
   "source": [
    "from rdkit.Chem import AllChem\n",
    "from rdkit import Chem\n",
    "import pandas as pd\n",
    "\n",
    "sol = pd.read_csv('D:/python/rdkit/new222new.csv')\n",
    "print(sol.head)\n",
    "XY = sol.set_index('SMILES').T.to_dict('list')"
   ]
  },
  {
   "cell_type": "code",
   "execution_count": 3,
   "id": "f5edadbb",
   "metadata": {},
   "outputs": [
    {
     "data": {
      "text/plain": [
       "0       0.79\n",
       "1       0.79\n",
       "2       0.79\n",
       "3       0.65\n",
       "4       0.65\n",
       "        ... \n",
       "8433    0.26\n",
       "8434    1.57\n",
       "8435    0.32\n",
       "8436    1.12\n",
       "8437    0.96\n",
       "Name: measured log(solubility:mol/L), Length: 8438, dtype: float64"
      ]
     },
     "execution_count": 3,
     "metadata": {},
     "output_type": "execute_result"
    }
   ],
   "source": [
    "Y = sol.iloc[:,1]\n",
    "Y"
   ]
  },
  {
   "cell_type": "code",
   "execution_count": 4,
   "id": "30800f53",
   "metadata": {},
   "outputs": [],
   "source": [
    "#descriptor\n",
    "molecules = sol.SMILES.apply(Chem.MolFromSmiles)"
   ]
  },
  {
   "cell_type": "code",
   "execution_count": 5,
   "id": "3ae18f06",
   "metadata": {},
   "outputs": [],
   "source": [
    "def All_Mordred_descriptors(data):\n",
    "    calc = Calculator(descriptors, ignore_3D=True)\n",
    "    mols = [Chem.MolFromSmiles(smi) for smi in data]\n",
    "    \n",
    "    # pandas df\n",
    "    df = calc.pandas(mols)\n",
    "    return df"
   ]
  },
  {
   "cell_type": "code",
   "execution_count": 6,
   "id": "c50e8966",
   "metadata": {},
   "outputs": [
    {
     "name": "stderr",
     "output_type": "stream",
     "text": [
      "100%|██████████████████████████████████████████████████████████████████████████████| 8438/8438 [06:05<00:00, 23.07it/s]\n"
     ]
    }
   ],
   "source": [
    "mordred_descriptors = All_Mordred_descriptors(sol['SMILES'])"
   ]
  },
  {
   "cell_type": "code",
   "execution_count": 7,
   "id": "9b4f7a76",
   "metadata": {},
   "outputs": [
    {
     "data": {
      "text/plain": [
       "(8438, 1613)"
      ]
     },
     "execution_count": 7,
     "metadata": {},
     "output_type": "execute_result"
    }
   ],
   "source": [
    "mordred_descriptors.shape"
   ]
  },
  {
   "cell_type": "code",
   "execution_count": 8,
   "id": "d13815c3",
   "metadata": {},
   "outputs": [],
   "source": [
    "X=mordred_descriptors "
   ]
  },
  {
   "cell_type": "code",
   "execution_count": 9,
   "id": "feadd59a",
   "metadata": {},
   "outputs": [],
   "source": [
    "X.to_excel(r'D:/python/rdkit/experiments.xlsx', index = False)"
   ]
  },
  {
   "cell_type": "code",
   "execution_count": 9,
   "id": "7920de04",
   "metadata": {},
   "outputs": [],
   "source": [
    "from sklearn.feature_selection import VarianceThreshold\n",
    "\n",
    "vt = VarianceThreshold()"
   ]
  },
  {
   "cell_type": "code",
   "execution_count": 10,
   "id": "f56d4333",
   "metadata": {},
   "outputs": [
    {
     "data": {
      "text/plain": [
       "(8438, 811)"
      ]
     },
     "execution_count": 10,
     "metadata": {},
     "output_type": "execute_result"
    }
   ],
   "source": [
    "des_num = X.select_dtypes(include='number')\n",
    "des_num.shape"
   ]
  },
  {
   "cell_type": "code",
   "execution_count": 11,
   "id": "6e59ee1f",
   "metadata": {},
   "outputs": [],
   "source": [
    "transformed = vt.fit_transform(des_num)\n"
   ]
  },
  {
   "cell_type": "code",
   "execution_count": 12,
   "id": "6816dcaa",
   "metadata": {},
   "outputs": [],
   "source": [
    "_ = vt.fit(des_num)\n",
    "\n",
    "mask = vt.get_support()\n"
   ]
  },
  {
   "cell_type": "code",
   "execution_count": 13,
   "id": "a2415ad0",
   "metadata": {},
   "outputs": [],
   "source": [
    "des_num = des_num.loc[:, mask]\n"
   ]
  },
  {
   "cell_type": "code",
   "execution_count": 14,
   "id": "76465e53",
   "metadata": {},
   "outputs": [
    {
     "data": {
      "text/plain": [
       "(8438, 506)"
      ]
     },
     "execution_count": 14,
     "metadata": {},
     "output_type": "execute_result"
    }
   ],
   "source": [
    "vt = VarianceThreshold(threshold=0.1)\n",
    "\n",
    "# Fit\n",
    "_ = vt.fit(des_num)\n",
    "\n",
    "# Get the boolean mask\n",
    "mask = vt.get_support()\n",
    "\n",
    "des_reduced = des_num.loc[:, mask]\n",
    "H=des_reduced\n",
    "#X=H.drop(['FilterItLogS', 'SLogP'], axis=1)\n",
    "X=H\n",
    "X.shape"
   ]
  },
  {
   "cell_type": "code",
   "execution_count": 15,
   "id": "b6b9d36c",
   "metadata": {},
   "outputs": [],
   "source": [
    "correlated_features = set()\n",
    "correlation_matrix=X.corr()"
   ]
  },
  {
   "cell_type": "code",
   "execution_count": 16,
   "id": "3776d8fd",
   "metadata": {},
   "outputs": [],
   "source": [
    "for i in range(len(correlation_matrix .columns)):\n",
    "    for j in range(i):\n",
    "        if abs(correlation_matrix.iloc[i, j]) > 0.8:\n",
    "            colname = correlation_matrix.columns[i]\n",
    "            correlated_features.add(colname)"
   ]
  },
  {
   "cell_type": "code",
   "execution_count": 17,
   "id": "d8dbd347",
   "metadata": {},
   "outputs": [
    {
     "data": {
      "text/plain": [
       "328"
      ]
     },
     "execution_count": 17,
     "metadata": {},
     "output_type": "execute_result"
    }
   ],
   "source": [
    "len(correlated_features)"
   ]
  },
  {
   "cell_type": "code",
   "execution_count": 18,
   "id": "91dfccda",
   "metadata": {},
   "outputs": [
    {
     "name": "stdout",
     "output_type": "stream",
     "text": [
      "{'ATSC0m', 'Xp-2dv', 'ATS7i', 'ATS4are', 'TopoPSA(NO)', 'SRW04', 'SssNH', 'AMW', 'AATSC1m', 'ATSC0dv', 'ATS8se', 'AATSC1dv', 'piPC3', 'ATSC3are', 'AATS1v', 'Xp-3dv', 'fragCpx', 'ZMIC4', 'naRing', 'Xpc-6d', 'ATS2are', 'NsF', 'MPC2', 'AATS1are', 'TopoPSA', 'ATS1v', 'Spe', 'Sv', 'ATS5dv', 'SaasN', 'piPC7', 'n6Ring', 'SRW07', 'MWC05', 'MWC04', 'ATS8pe', 'Zagreb1', 'NsBr', 'Sare', 'TIC2', 'ABCGG', 'TpiPC10', 'TMWC10', 'Xp-4dv', 'Xpc-4d', 'AATS0m', 'ATS8i', 'ZMIC5', 'ATS0se', 'GGI2', 'Xpc-5dv', 'SddsN', 'MIC0', 'CIC2', 'EState_VSA9', 'SsCl', 'IC5', 'ZMIC0', 'Si', 'nRing', 'ZMIC3', 'ATS5pe', 'ATSC8are', 'ATSC0Z', 'C2SP2', 'ATS4m', 'ATSC0pe', 'ATS1Z', 'SZ', 'piPC9', 'ATS5p', 'ATSC7are', 'TIC1', 'ATS6p', 'ATS6Z', 'ATS2pe', 'nHeavyAtom', 'bpol', 'ATS7v', 'MWC02', 'AATS1pe', 'SsF', 'SMR', 'ATS6are', 'NaaCH', 'SsNH2', 'ATSC5m', 'ATSC8m', 'AATS0Z', 'ATSC6are', 'nBondsKS', 'SRW10', 'ATS0pe', 'MIC5', 'ATSC4pe', 'MPC10', 'ATS0d', 'ATSC7se', 'MPC7', 'MWC08', 'NdO', 'ATSC2p', 'AATS0are', 'Xp-3d', 'ATS3i', 'MPC3', 'Xp-1d', 'Zagreb2', 'MPC8', 'SsssN', 'AATS1dv', 'ATS7m', 'SdO', 'BertzCT', 'SaaNH', 'ATS4Z', 'ATSC4m', 'n5aHRing', 'SMR_VSA5', 'Sp', 'ATSC0d', 'MIC4', 'AATS0pe', 'CIC3', 'ATSC0p', 'SRW05', 'nBondsKD', 'NsCl', 'SsCH3', 'TIC0', 'mZagreb2', 'ATS4v', 'SRW09', 'VMcGowan', 'Xpc-4dv', 'ATSC8p', 'GGI3', 'AATSC1i', 'ATSC6m', 'ATS2dv', 'MWC06', 'ATS2p', 'TIC4', 'Xp-7d', 'MWC09', 'SMR_VSA3', 'n6aHRing', 'ATS1m', 'SLogP', 'ATS2i', 'ATSC7m', 'TMPC10', 'nBonds', 'ATSC0are', 'AATS1m', 'nBondsO', 'Xp-6dv', 'ATS1pe', 'ZMIC1', 'ATS3v', 'ATS5v', 'GGI1', 'ATS7d', 'nBondsM', 'SssssC', 'piPC1', 'TIC3', 'ATS4d', 'AATS1Z', 'EState_VSA10', 'MPC4', 'SddssS', 'ATS4dv', 'SssO', 'ATS5m', 'Xp-6d', 'SaaN', 'ATS7dv', 'Mm', 'ATSC2pe', 'nBondsA', 'AATS0se', 'ATS2se', 'ATS1are', 'ATS8are', 'apol', 'VSA_EState6', 'Xpc-5d', 'ATS3p', 'AATS0v', 'ATSC6p', 'ZMIC2', 'WPol', 'ATS1d', 'ATS4i', 'Sse', 'MWC03', 'ATS8d', 'ATS7pe', 'AATS1se', 'ATSC3m', 'ATSC1are', 'MIC1', 'ATS5d', 'AATSC0Z', 'MWC01', 'ATSC8se', 'ATS7p', 'ATSC6pe', 'ATSC8pe', 'ATS1se', 'AATSC1v', 'ATS2d', 'nBondsS', 'Radius', 'CIC5', 'Xpc-6dv', 'ATS7Z', 'ATS5are', 'ATSC0v', 'MPC6', 'Xp-5d', 'SMR_VSA2', 'AATS1i', 'SRW02', 'ATSC2m', 'SlogP_VSA5', 'ATSC7pe', 'Xp-5dv', 'ATSC5are', 'ATS7are', 'ATSC1m', 'SRW06', 'TSRW10', 'IC2', 'ATS5se', 'Xp-4d', 'SlogP_VSA8', 'MW', 'ATS3d', 'ATS6se', 'ATS6m', 'nFHRing', 'TIC5', 'Sm', 'ATSC2are', 'ATS4pe', 'ATS4se', 'ATS2Z', 'SsOH', 'SRW08', 'ATS3Z', 'ATS4p', 'ATS3m', 'ATS8m', 'Xp-2d', 'Xp-1dv', 'VSA_EState3', 'AATS1d', 'ATSC5pe', 'FCSP3', 'n6aRing', 'ATS3pe', 'ATS0m', 'nH', 'CIC0', 'ATS0v', 'ATS6pe', 'MIC3', 'SdsCH', 'ATS6d', 'AATS0p', 'SaaCH', 'piPC6', 'Xp-7dv', 'ATS3se', 'ATSC4are', 'CIC4', 'ATS8Z', 'piPC4', 'ATS6v', 'ATSC0se', 'ATS8v', 'SMR_VSA1', 'SMR_VSA7', 'AATSC0m', 'ATS2v', 'SaaaC', 'IC3', 'ATS5i', 'GGI4', 'piPC5', 'ATS5Z', 'ATS0p', 'ATS1p', 'ATS6i', 'MPC9', 'piPC10', 'ATS6dv', 'ATS3dv', 'LabuteASA', 'AATS1p', 'piPC8', 'ATS0i', 'SssCH2', 'Xc-3d', 'ATS0are', 'MWC10', 'IC4', 'MWC07', 'piPC2', 'ATS8dv', 'Xch-7dv', 'ATSC3pe', 'VSA_EState5', 'nAromBond', 'ATSC1pe', 'ATS3are', 'ATS2m', 'MIC2', 'MPC5', 'ATS0dv', 'SlogP_VSA6', 'ATS7se', 'ATS1i', 'ATS1dv', 'ATS8p', 'SsBr'}\n"
     ]
    }
   ],
   "source": [
    "print(correlated_features)"
   ]
  },
  {
   "cell_type": "code",
   "execution_count": 19,
   "id": "3ab1d501",
   "metadata": {},
   "outputs": [
    {
     "name": "stderr",
     "output_type": "stream",
     "text": [
      "C:\\Users\\DEDP Grader\\AppData\\Local\\Temp\\ipykernel_8144\\1003493426.py:1: SettingWithCopyWarning: \n",
      "A value is trying to be set on a copy of a slice from a DataFrame\n",
      "\n",
      "See the caveats in the documentation: https://pandas.pydata.org/pandas-docs/stable/user_guide/indexing.html#returning-a-view-versus-a-copy\n",
      "  X.drop(labels=correlated_features, axis=1, inplace=True)\n"
     ]
    }
   ],
   "source": [
    "X.drop(labels=correlated_features, axis=1, inplace=True)"
   ]
  },
  {
   "cell_type": "code",
   "execution_count": 20,
   "id": "e773c59e",
   "metadata": {},
   "outputs": [
    {
     "name": "stderr",
     "output_type": "stream",
     "text": [
      "C:\\Users\\DEDP Grader\\AppData\\Local\\Temp\\ipykernel_8144\\4124452189.py:1: SettingWithCopyWarning: \n",
      "A value is trying to be set on a copy of a slice from a DataFrame\n",
      "\n",
      "See the caveats in the documentation: https://pandas.pydata.org/pandas-docs/stable/user_guide/indexing.html#returning-a-view-versus-a-copy\n",
      "  X.drop('FilterItLogS', axis=1, inplace=True)\n"
     ]
    }
   ],
   "source": [
    "X.drop('FilterItLogS', axis=1, inplace=True)"
   ]
  },
  {
   "cell_type": "code",
   "execution_count": 21,
   "id": "3e0c28f0",
   "metadata": {},
   "outputs": [
    {
     "data": {
      "text/plain": [
       "(8438, 177)"
      ]
     },
     "execution_count": 21,
     "metadata": {},
     "output_type": "execute_result"
    }
   ],
   "source": [
    "X.shape"
   ]
  },
  {
   "cell_type": "code",
   "execution_count": 22,
   "id": "889cdd1f",
   "metadata": {},
   "outputs": [
    {
     "data": {
      "text/html": [
       "<div>\n",
       "<style scoped>\n",
       "    .dataframe tbody tr th:only-of-type {\n",
       "        vertical-align: middle;\n",
       "    }\n",
       "\n",
       "    .dataframe tbody tr th {\n",
       "        vertical-align: top;\n",
       "    }\n",
       "\n",
       "    .dataframe thead th {\n",
       "        text-align: right;\n",
       "    }\n",
       "</style>\n",
       "<table border=\"1\" class=\"dataframe\">\n",
       "  <thead>\n",
       "    <tr style=\"text-align: right;\">\n",
       "      <th></th>\n",
       "      <th>ABC</th>\n",
       "      <th>nAcid</th>\n",
       "      <th>nBase</th>\n",
       "      <th>nAromAtom</th>\n",
       "      <th>nAtom</th>\n",
       "      <th>nBridgehead</th>\n",
       "      <th>nHetero</th>\n",
       "      <th>nC</th>\n",
       "      <th>nN</th>\n",
       "      <th>nO</th>\n",
       "      <th>...</th>\n",
       "      <th>n5aRing</th>\n",
       "      <th>naHRing</th>\n",
       "      <th>nARing</th>\n",
       "      <th>n5ARing</th>\n",
       "      <th>n6ARing</th>\n",
       "      <th>nAHRing</th>\n",
       "      <th>nFRing</th>\n",
       "      <th>nRot</th>\n",
       "      <th>Diameter</th>\n",
       "      <th>WPath</th>\n",
       "    </tr>\n",
       "  </thead>\n",
       "  <tbody>\n",
       "    <tr>\n",
       "      <th>0</th>\n",
       "      <td>17.213262</td>\n",
       "      <td>0</td>\n",
       "      <td>0</td>\n",
       "      <td>0</td>\n",
       "      <td>45</td>\n",
       "      <td>0</td>\n",
       "      <td>11</td>\n",
       "      <td>12</td>\n",
       "      <td>0</td>\n",
       "      <td>11</td>\n",
       "      <td>...</td>\n",
       "      <td>0</td>\n",
       "      <td>0</td>\n",
       "      <td>2</td>\n",
       "      <td>1</td>\n",
       "      <td>1</td>\n",
       "      <td>2</td>\n",
       "      <td>0</td>\n",
       "      <td>5</td>\n",
       "      <td>10</td>\n",
       "      <td>1110</td>\n",
       "    </tr>\n",
       "    <tr>\n",
       "      <th>1</th>\n",
       "      <td>17.213262</td>\n",
       "      <td>0</td>\n",
       "      <td>0</td>\n",
       "      <td>0</td>\n",
       "      <td>45</td>\n",
       "      <td>0</td>\n",
       "      <td>11</td>\n",
       "      <td>12</td>\n",
       "      <td>0</td>\n",
       "      <td>11</td>\n",
       "      <td>...</td>\n",
       "      <td>0</td>\n",
       "      <td>0</td>\n",
       "      <td>2</td>\n",
       "      <td>1</td>\n",
       "      <td>1</td>\n",
       "      <td>2</td>\n",
       "      <td>0</td>\n",
       "      <td>5</td>\n",
       "      <td>10</td>\n",
       "      <td>1110</td>\n",
       "    </tr>\n",
       "    <tr>\n",
       "      <th>2</th>\n",
       "      <td>17.213262</td>\n",
       "      <td>0</td>\n",
       "      <td>0</td>\n",
       "      <td>0</td>\n",
       "      <td>45</td>\n",
       "      <td>0</td>\n",
       "      <td>11</td>\n",
       "      <td>12</td>\n",
       "      <td>0</td>\n",
       "      <td>11</td>\n",
       "      <td>...</td>\n",
       "      <td>0</td>\n",
       "      <td>0</td>\n",
       "      <td>2</td>\n",
       "      <td>1</td>\n",
       "      <td>1</td>\n",
       "      <td>2</td>\n",
       "      <td>0</td>\n",
       "      <td>5</td>\n",
       "      <td>10</td>\n",
       "      <td>1110</td>\n",
       "    </tr>\n",
       "    <tr>\n",
       "      <th>3</th>\n",
       "      <td>12.118275</td>\n",
       "      <td>0</td>\n",
       "      <td>1</td>\n",
       "      <td>6</td>\n",
       "      <td>31</td>\n",
       "      <td>2</td>\n",
       "      <td>3</td>\n",
       "      <td>12</td>\n",
       "      <td>2</td>\n",
       "      <td>1</td>\n",
       "      <td>...</td>\n",
       "      <td>0</td>\n",
       "      <td>1</td>\n",
       "      <td>2</td>\n",
       "      <td>0</td>\n",
       "      <td>2</td>\n",
       "      <td>2</td>\n",
       "      <td>1</td>\n",
       "      <td>0</td>\n",
       "      <td>7</td>\n",
       "      <td>322</td>\n",
       "    </tr>\n",
       "    <tr>\n",
       "      <th>4</th>\n",
       "      <td>12.118275</td>\n",
       "      <td>0</td>\n",
       "      <td>1</td>\n",
       "      <td>6</td>\n",
       "      <td>31</td>\n",
       "      <td>2</td>\n",
       "      <td>3</td>\n",
       "      <td>12</td>\n",
       "      <td>2</td>\n",
       "      <td>1</td>\n",
       "      <td>...</td>\n",
       "      <td>0</td>\n",
       "      <td>1</td>\n",
       "      <td>2</td>\n",
       "      <td>0</td>\n",
       "      <td>2</td>\n",
       "      <td>2</td>\n",
       "      <td>1</td>\n",
       "      <td>0</td>\n",
       "      <td>7</td>\n",
       "      <td>322</td>\n",
       "    </tr>\n",
       "  </tbody>\n",
       "</table>\n",
       "<p>5 rows × 177 columns</p>\n",
       "</div>"
      ],
      "text/plain": [
       "         ABC  nAcid  nBase  nAromAtom  nAtom  nBridgehead  nHetero  nC  nN  \\\n",
       "0  17.213262      0      0          0     45            0       11  12   0   \n",
       "1  17.213262      0      0          0     45            0       11  12   0   \n",
       "2  17.213262      0      0          0     45            0       11  12   0   \n",
       "3  12.118275      0      1          6     31            2        3  12   2   \n",
       "4  12.118275      0      1          6     31            2        3  12   2   \n",
       "\n",
       "   nO  ...  n5aRing  naHRing  nARing  n5ARing  n6ARing  nAHRing  nFRing  nRot  \\\n",
       "0  11  ...        0        0       2        1        1        2       0     5   \n",
       "1  11  ...        0        0       2        1        1        2       0     5   \n",
       "2  11  ...        0        0       2        1        1        2       0     5   \n",
       "3   1  ...        0        1       2        0        2        2       1     0   \n",
       "4   1  ...        0        1       2        0        2        2       1     0   \n",
       "\n",
       "   Diameter  WPath  \n",
       "0        10   1110  \n",
       "1        10   1110  \n",
       "2        10   1110  \n",
       "3         7    322  \n",
       "4         7    322  \n",
       "\n",
       "[5 rows x 177 columns]"
      ]
     },
     "execution_count": 22,
     "metadata": {},
     "output_type": "execute_result"
    }
   ],
   "source": [
    "X.head()"
   ]
  },
  {
   "cell_type": "code",
   "execution_count": 23,
   "id": "6f75d12f",
   "metadata": {},
   "outputs": [],
   "source": [
    "gf=set()"
   ]
  },
  {
   "cell_type": "code",
   "execution_count": 24,
   "id": "8e8e9d33",
   "metadata": {},
   "outputs": [],
   "source": [
    "i=0\n",
    "for i in range(len(X.columns)):\n",
    "   \n",
    "    colname = X.columns[i]\n",
    "    gf.add(colname)"
   ]
  },
  {
   "cell_type": "code",
   "execution_count": 25,
   "id": "14cb95b3",
   "metadata": {},
   "outputs": [
    {
     "data": {
      "text/plain": [
       "{'AATS0d',\n",
       " 'AATS0dv',\n",
       " 'AATS0i',\n",
       " 'AATSC0dv',\n",
       " 'AATSC0i',\n",
       " 'AATSC0v',\n",
       " 'AATSC1Z',\n",
       " 'ABC',\n",
       " 'ATS0Z',\n",
       " 'ATSC0i',\n",
       " 'ATSC1Z',\n",
       " 'ATSC1d',\n",
       " 'ATSC1dv',\n",
       " 'ATSC1i',\n",
       " 'ATSC1p',\n",
       " 'ATSC1se',\n",
       " 'ATSC1v',\n",
       " 'ATSC2Z',\n",
       " 'ATSC2d',\n",
       " 'ATSC2dv',\n",
       " 'ATSC2i',\n",
       " 'ATSC2se',\n",
       " 'ATSC2v',\n",
       " 'ATSC3Z',\n",
       " 'ATSC3d',\n",
       " 'ATSC3dv',\n",
       " 'ATSC3i',\n",
       " 'ATSC3p',\n",
       " 'ATSC3se',\n",
       " 'ATSC3v',\n",
       " 'ATSC4Z',\n",
       " 'ATSC4d',\n",
       " 'ATSC4dv',\n",
       " 'ATSC4i',\n",
       " 'ATSC4p',\n",
       " 'ATSC4se',\n",
       " 'ATSC4v',\n",
       " 'ATSC5Z',\n",
       " 'ATSC5d',\n",
       " 'ATSC5dv',\n",
       " 'ATSC5i',\n",
       " 'ATSC5p',\n",
       " 'ATSC5se',\n",
       " 'ATSC5v',\n",
       " 'ATSC6Z',\n",
       " 'ATSC6d',\n",
       " 'ATSC6dv',\n",
       " 'ATSC6i',\n",
       " 'ATSC6se',\n",
       " 'ATSC6v',\n",
       " 'ATSC7Z',\n",
       " 'ATSC7d',\n",
       " 'ATSC7dv',\n",
       " 'ATSC7i',\n",
       " 'ATSC7p',\n",
       " 'ATSC7v',\n",
       " 'ATSC8Z',\n",
       " 'ATSC8d',\n",
       " 'ATSC8dv',\n",
       " 'ATSC8i',\n",
       " 'ATSC8v',\n",
       " 'BalabanJ',\n",
       " 'C1SP2',\n",
       " 'C1SP3',\n",
       " 'C2SP3',\n",
       " 'C3SP2',\n",
       " 'C3SP3',\n",
       " 'CIC1',\n",
       " 'Diameter',\n",
       " 'ECIndex',\n",
       " 'EState_VSA1',\n",
       " 'EState_VSA2',\n",
       " 'EState_VSA3',\n",
       " 'EState_VSA4',\n",
       " 'EState_VSA5',\n",
       " 'EState_VSA6',\n",
       " 'EState_VSA7',\n",
       " 'EState_VSA8',\n",
       " 'GATS1i',\n",
       " 'GATS1p',\n",
       " 'IC1',\n",
       " 'NaaN',\n",
       " 'NaaNH',\n",
       " 'NaaaC',\n",
       " 'NaasC',\n",
       " 'NaasN',\n",
       " 'NddsN',\n",
       " 'NddssS',\n",
       " 'NdsCH',\n",
       " 'NdssC',\n",
       " 'NsCH3',\n",
       " 'NsNH2',\n",
       " 'NsOH',\n",
       " 'NssCH2',\n",
       " 'NssNH',\n",
       " 'NssO',\n",
       " 'NsssCH',\n",
       " 'NsssN',\n",
       " 'NssssC',\n",
       " 'PEOE_VSA1',\n",
       " 'PEOE_VSA10',\n",
       " 'PEOE_VSA11',\n",
       " 'PEOE_VSA12',\n",
       " 'PEOE_VSA13',\n",
       " 'PEOE_VSA2',\n",
       " 'PEOE_VSA3',\n",
       " 'PEOE_VSA4',\n",
       " 'PEOE_VSA5',\n",
       " 'PEOE_VSA6',\n",
       " 'PEOE_VSA7',\n",
       " 'PEOE_VSA8',\n",
       " 'PEOE_VSA9',\n",
       " 'SMR_VSA4',\n",
       " 'SMR_VSA6',\n",
       " 'SMR_VSA9',\n",
       " 'SaaO',\n",
       " 'SaasC',\n",
       " 'SdCH2',\n",
       " 'SdNH',\n",
       " 'SdS',\n",
       " 'SdsN',\n",
       " 'SdssC',\n",
       " 'SdsssP',\n",
       " 'SlogP_VSA1',\n",
       " 'SlogP_VSA10',\n",
       " 'SlogP_VSA11',\n",
       " 'SlogP_VSA2',\n",
       " 'SlogP_VSA3',\n",
       " 'SlogP_VSA4',\n",
       " 'SlogP_VSA7',\n",
       " 'SsI',\n",
       " 'SsSH',\n",
       " 'SssS',\n",
       " 'SsssCH',\n",
       " 'StCH',\n",
       " 'StN',\n",
       " 'StsC',\n",
       " 'VSA_EState1',\n",
       " 'VSA_EState2',\n",
       " 'VSA_EState4',\n",
       " 'VSA_EState7',\n",
       " 'VSA_EState8',\n",
       " 'VSA_EState9',\n",
       " 'WPath',\n",
       " 'Xc-3dv',\n",
       " 'Xc-5d',\n",
       " 'Xc-5dv',\n",
       " 'Xch-7d',\n",
       " 'n5ARing',\n",
       " 'n5HRing',\n",
       " 'n5Ring',\n",
       " 'n5aRing',\n",
       " 'n6ARing',\n",
       " 'n6HRing',\n",
       " 'nAHRing',\n",
       " 'nARing',\n",
       " 'nAcid',\n",
       " 'nAromAtom',\n",
       " 'nAtom',\n",
       " 'nBase',\n",
       " 'nBondsD',\n",
       " 'nBr',\n",
       " 'nBridgehead',\n",
       " 'nC',\n",
       " 'nCl',\n",
       " 'nF',\n",
       " 'nFRing',\n",
       " 'nHBAcc',\n",
       " 'nHBDon',\n",
       " 'nHRing',\n",
       " 'nHetero',\n",
       " 'nN',\n",
       " 'nO',\n",
       " 'nRot',\n",
       " 'nS',\n",
       " 'nX',\n",
       " 'naHRing'}"
      ]
     },
     "execution_count": 25,
     "metadata": {},
     "output_type": "execute_result"
    }
   ],
   "source": [
    "gf\n"
   ]
  },
  {
   "cell_type": "code",
   "execution_count": 27,
   "id": "3919c32a",
   "metadata": {},
   "outputs": [],
   "source": [
    "X.to_excel(r'D:/python/rdkit/file name descriptor 8000data.xlsx', index = False)"
   ]
  },
  {
   "cell_type": "code",
   "execution_count": 26,
   "id": "b8c506dd",
   "metadata": {},
   "outputs": [
    {
     "data": {
      "text/plain": [
       "0       0.79\n",
       "1       0.79\n",
       "2       0.79\n",
       "3       0.65\n",
       "4       0.65\n",
       "        ... \n",
       "8433    0.26\n",
       "8434    1.57\n",
       "8435    0.32\n",
       "8436    1.12\n",
       "8437    0.96\n",
       "Name: measured log(solubility:mol/L), Length: 8438, dtype: float64"
      ]
     },
     "execution_count": 26,
     "metadata": {},
     "output_type": "execute_result"
    }
   ],
   "source": [
    "y = sol.iloc[:,1]\n",
    "y"
   ]
  },
  {
   "cell_type": "markdown",
   "id": "bd127eb4",
   "metadata": {
    "scrolled": true
   },
   "source": [
    "Y = sol.iloc[:,1]\n",
    "Y"
   ]
  },
  {
   "cell_type": "code",
   "execution_count": 27,
   "id": "306fe7d2",
   "metadata": {},
   "outputs": [],
   "source": [
    "#data split\n",
    "from sklearn.model_selection import train_test_split\n",
    "X_train, X_test, Y_train, Y_test = train_test_split(X, Y, test_size=0.2,random_state=991)\n",
    "#test size is 20% and traing size is 80%\n",
    "#linear regression\n",
    "from sklearn import linear_model\n",
    "from sklearn.linear_model import LinearRegression\n",
    "from sklearn.metrics import mean_squared_error, r2_score"
   ]
  },
  {
   "cell_type": "code",
   "execution_count": 87,
   "id": "48c82c30",
   "metadata": {},
   "outputs": [
    {
     "data": {
      "text/plain": [
       "LinearRegression()"
      ]
     },
     "execution_count": 87,
     "metadata": {},
     "output_type": "execute_result"
    }
   ],
   "source": [
    "reg = LinearRegression()\n",
    "reg.fit(X, y)"
   ]
  },
  {
   "cell_type": "code",
   "execution_count": 88,
   "id": "11967834",
   "metadata": {},
   "outputs": [
    {
     "name": "stdout",
     "output_type": "stream",
     "text": [
      "Mean squared error (MSE): 0.82\n",
      "Coefficient of determination (R^2): 0.80\n"
     ]
    }
   ],
   "source": [
    "#predicts the X_train\n",
    "Y_pred_train = reg.predict(X_train)\n",
    "#print('Coefficients:', model.coef_)\n",
    "#print('Intercept:', model.intercept_)\n",
    "print('Mean squared error (MSE): %.2f'\n",
    "      % mean_squared_error(Y_train, Y_pred_train,squared=False))\n",
    "print('Coefficient of determination (R^2): %.2f'\n",
    "      % r2_score(Y_train, Y_pred_train))"
   ]
  },
  {
   "cell_type": "code",
   "execution_count": 89,
   "id": "28407cc0",
   "metadata": {},
   "outputs": [
    {
     "name": "stdout",
     "output_type": "stream",
     "text": [
      "Mean squared error (MSE): 0.80\n",
      "Coefficient of determination (R^2): 0.82\n"
     ]
    }
   ],
   "source": [
    "#predicts the X_test\n",
    "Y_pred_test = reg.predict(X_test)\n",
    "#print('Coefficients:', model.coef_)44444444444\n",
    "#print('Intercept:', model.intercept_)\n",
    "print('Mean squared error (MSE): %.2f'\n",
    "      % mean_squared_error(Y_test, Y_pred_test,squared=False))\n",
    "print('Coefficient of determination (R^2): %.2f'\n",
    "      % r2_score(Y_test, Y_pred_test))"
   ]
  },
  {
   "cell_type": "code",
   "execution_count": 90,
   "id": "fcd0d4be",
   "metadata": {},
   "outputs": [],
   "source": [
    "from sklearn.metrics import mean_absolute_error"
   ]
  },
  {
   "cell_type": "code",
   "execution_count": 91,
   "id": "52e066bc",
   "metadata": {},
   "outputs": [
    {
     "data": {
      "text/plain": [
       "0.6086685449993773"
      ]
     },
     "execution_count": 91,
     "metadata": {},
     "output_type": "execute_result"
    }
   ],
   "source": [
    "mae = mean_absolute_error(Y_test, Y_pred_test)\n",
    "mae"
   ]
  },
  {
   "cell_type": "code",
   "execution_count": 92,
   "id": "f4ab36cf",
   "metadata": {},
   "outputs": [
    {
     "data": {
      "text/plain": [
       "0.6193274524562674"
      ]
     },
     "execution_count": 92,
     "metadata": {},
     "output_type": "execute_result"
    }
   ],
   "source": [
    "mae = mean_absolute_error(Y_train, Y_pred_train)\n",
    "mae"
   ]
  },
  {
   "cell_type": "code",
   "execution_count": 93,
   "id": "a072d86a",
   "metadata": {},
   "outputs": [],
   "source": [
    "residuals= Y_train - Y_pred_train"
   ]
  },
  {
   "cell_type": "code",
   "execution_count": 94,
   "id": "b1e6e991",
   "metadata": {},
   "outputs": [
    {
     "data": {
      "text/plain": [
       "0.8242828601844124"
      ]
     },
     "execution_count": 94,
     "metadata": {},
     "output_type": "execute_result"
    }
   ],
   "source": [
    "mse=np.mean(residuals**2)\n",
    "RMSE = np.sqrt(mse)\n",
    "RMSE"
   ]
  },
  {
   "cell_type": "code",
   "execution_count": 95,
   "id": "5b87f16c",
   "metadata": {},
   "outputs": [
    {
     "data": {
      "text/plain": [
       "0.8133419270200298"
      ]
     },
     "execution_count": 95,
     "metadata": {},
     "output_type": "execute_result"
    }
   ],
   "source": [
    "n=len(Y_train)\n",
    "p=X.shape[1]\n",
    "SEE=np.sqrt(mse*(n-p-1)/n)\n",
    "SEE"
   ]
  },
  {
   "cell_type": "code",
   "execution_count": 52,
   "id": "1c57cd41",
   "metadata": {},
   "outputs": [
    {
     "data": {
      "text/plain": [
       "0.8134021723389541"
      ]
     },
     "execution_count": 52,
     "metadata": {},
     "output_type": "execute_result"
    }
   ],
   "source": [
    "SEP = SEE * np.sqrt(1 + 1/n)\n",
    "SEP"
   ]
  },
  {
   "cell_type": "code",
   "execution_count": 53,
   "id": "ca87d971",
   "metadata": {},
   "outputs": [
    {
     "name": "stdout",
     "output_type": "stream",
     "text": [
      "Standard error of prediction on test set: 0.80\n",
      "Standard error of estimate on training set: 0.80\n"
     ]
    }
   ],
   "source": [
    "# Calculate the residuals\n",
    "residuals_test = Y_test - Y_pred_test\n",
    "\n",
    "# Calculate the mean of the residuals for the test set\n",
    "mean_residuals_test = np.mean(residuals_test)\n",
    "\n",
    "# Calculate the standard deviation of the residuals for the test set\n",
    "std_residuals_test = np.std(residuals_test, ddof=1)\n",
    "\n",
    "# Calculate the standard error of prediction (SEP) for the test set\n",
    "SEP = std_residuals_test * np.sqrt(1 + 1/len(X_test))\n",
    "\n",
    "SEE=SEP*(1/(np.sqrt(1 + 1/(len(X_test)))))\n",
    "SEE\n",
    "# Calculate the standard error of estimate (SEE) for the training set\n",
    "print(\"Standard error of prediction on test set: {:.2f}\".format(SEP))\n",
    "print(\"Standard error of estimate on training set: {:.2f}\".format(SEE))"
   ]
  },
  {
   "cell_type": "code",
   "execution_count": 28,
   "id": "ef384139",
   "metadata": {},
   "outputs": [
    {
     "data": {
      "text/plain": [
       "RandomForestRegressor(random_state=42)"
      ]
     },
     "execution_count": 28,
     "metadata": {},
     "output_type": "execute_result"
    }
   ],
   "source": [
    "model = RandomForestRegressor(n_estimators=100, random_state=42)\n",
    "model.fit(X_train, Y_train)"
   ]
  },
  {
   "cell_type": "code",
   "execution_count": 29,
   "id": "97cdee2e",
   "metadata": {},
   "outputs": [
    {
     "name": "stdout",
     "output_type": "stream",
     "text": [
      "Mean squared error (RMSE): 0.25\n",
      "Coefficient of determination (R^2): 0.98\n"
     ]
    }
   ],
   "source": [
    "#predicts the X_train\n",
    "Y_pred_train = model.predict(X_train)\n",
    "#print('Coefficients:', model.coef_)\n",
    "#print('Intercept:', model.intercept_)\n",
    "print('Mean squared error (RMSE): %.2f'\n",
    "      % mean_squared_error(Y_train, Y_pred_train,squared=False))\n",
    "print('Coefficient of determination (R^2): %.2f'\n",
    "      % r2_score(Y_train, Y_pred_train))\n",
    "\n"
   ]
  },
  {
   "cell_type": "code",
   "execution_count": 30,
   "id": "9e0afd4c",
   "metadata": {},
   "outputs": [
    {
     "name": "stdout",
     "output_type": "stream",
     "text": [
      "Mean squared error (MSE): 0.64\n",
      "Coefficient of determination (R^2): 0.88\n"
     ]
    }
   ],
   "source": [
    "Y_pred_test = model.predict(X_test)\n",
    "print('Mean squared error (MSE): %.2f'\n",
    "      % mean_squared_error(Y_test, Y_pred_test,squared=False))\n",
    "print('Coefficient of determination (R^2): %.2f'\n",
    "      % r2_score(Y_test, Y_pred_test))"
   ]
  },
  {
   "cell_type": "code",
   "execution_count": 48,
   "id": "91daa342",
   "metadata": {},
   "outputs": [
    {
     "data": {
      "text/plain": [
       "0.41696942750871235"
      ]
     },
     "execution_count": 48,
     "metadata": {},
     "output_type": "execute_result"
    }
   ],
   "source": [
    "mae = mean_absolute_error(Y_test, Y_pred_test)\n",
    "mae"
   ]
  },
  {
   "cell_type": "code",
   "execution_count": 49,
   "id": "4225c07d",
   "metadata": {},
   "outputs": [
    {
     "data": {
      "text/plain": [
       "0.165107871835008"
      ]
     },
     "execution_count": 49,
     "metadata": {},
     "output_type": "execute_result"
    }
   ],
   "source": [
    "mae = mean_absolute_error(Y_train, Y_pred_train)\n",
    "mae"
   ]
  },
  {
   "cell_type": "code",
   "execution_count": 51,
   "id": "74219939",
   "metadata": {},
   "outputs": [],
   "source": [
    "residuals= Y_train - Y_pred_train"
   ]
  },
  {
   "cell_type": "code",
   "execution_count": 52,
   "id": "8ab7cd68",
   "metadata": {},
   "outputs": [
    {
     "data": {
      "text/plain": [
       "0.2520332065236204"
      ]
     },
     "execution_count": 52,
     "metadata": {},
     "output_type": "execute_result"
    }
   ],
   "source": [
    "mse=np.mean(residuals**2)\n",
    "RMSE = np.sqrt(mse)\n",
    "RMSE"
   ]
  },
  {
   "cell_type": "code",
   "execution_count": 53,
   "id": "b46558c5",
   "metadata": {},
   "outputs": [
    {
     "data": {
      "text/plain": [
       "0.24868790043880984"
      ]
     },
     "execution_count": 53,
     "metadata": {},
     "output_type": "execute_result"
    }
   ],
   "source": [
    "n=len(Y_train)\n",
    "p=X.shape[1]\n",
    "SEE=np.sqrt(mse*(n-p-1)/n)\n",
    "SEE"
   ]
  },
  {
   "cell_type": "code",
   "execution_count": 54,
   "id": "835ceec9",
   "metadata": {},
   "outputs": [
    {
     "data": {
      "text/plain": [
       "0.2487063210825475"
      ]
     },
     "execution_count": 54,
     "metadata": {},
     "output_type": "execute_result"
    }
   ],
   "source": [
    "SEP = SEE * np.sqrt(1 + 1/n)\n",
    "SEP"
   ]
  },
  {
   "cell_type": "code",
   "execution_count": 55,
   "id": "3c7f0a59",
   "metadata": {},
   "outputs": [
    {
     "name": "stdout",
     "output_type": "stream",
     "text": [
      "Standard error of prediction on test set: 0.64\n",
      "Standard error of estimate on training set: 0.64\n"
     ]
    }
   ],
   "source": [
    "# Calculate the residuals\n",
    "residuals_test = Y_test - Y_pred_test\n",
    "\n",
    "# Calculate the mean of the residuals for the test set\n",
    "mean_residuals_test = np.mean(residuals_test)\n",
    "\n",
    "# Calculate the standard deviation of the residuals for the test set\n",
    "std_residuals_test = np.std(residuals_test, ddof=1)\n",
    "\n",
    "# Calculate the standard error of prediction (SEP) for the test set\n",
    "SEP = std_residuals_test * np.sqrt(1 + 1/len(X_test))\n",
    "\n",
    "SEE=SEP*(1/(np.sqrt(1 + 1/(len(X_test)))))\n",
    "SEE\n",
    "# Calculate the standard error of estimate (SEE) for the training set\n",
    "print(\"Standard error of prediction on test set: {:.2f}\".format(SEP))\n",
    "print(\"Standard error of estimate on training set: {:.2f}\".format(SEE))"
   ]
  },
  {
   "cell_type": "code",
   "execution_count": 56,
   "id": "a322dc97",
   "metadata": {},
   "outputs": [
    {
     "name": "stderr",
     "output_type": "stream",
     "text": [
      "C:\\Users\\DEDP Grader\\anaconda3\\envs\\rdkit\\lib\\site-packages\\tqdm\\auto.py:22: TqdmWarning: IProgress not found. Please update jupyter and ipywidgets. See https://ipywidgets.readthedocs.io/en/stable/user_install.html\n",
      "  from .autonotebook import tqdm as notebook_tqdm\n"
     ]
    }
   ],
   "source": [
    "import shap\n",
    "from sklearn.preprocessing import StandardScaler\n",
    "import os\n",
    "import sys\n",
    "#import Explanation"
   ]
  },
  {
   "cell_type": "code",
   "execution_count": 57,
   "id": "1c913ccc",
   "metadata": {},
   "outputs": [],
   "source": [
    "\n",
    "explainer = shap.Explainer(model)\n",
    "shap_values = explainer(X_test)"
   ]
  },
  {
   "cell_type": "code",
   "execution_count": 58,
   "id": "fdec1669",
   "metadata": {},
   "outputs": [
    {
     "data": {
      "image/png": "[encoded data removed]",
      "text/plain": [
       "<Figure size 576x468 with 1 Axes>"
      ]
     },
     "metadata": {
      "needs_background": "light"
     },
     "output_type": "display_data"
    }
   ],
   "source": [
    "shap.summary_plot(shap_values, X_test, plot_type=\"bar\",show=False,max_display=10,plot_size=0.5)\n",
    "\n",
    "#plot_size=(18.0, 10.0)\n",
    "plt.savefig('most effective descriptor for des approch with SLOGP.pdf',bbox_inches='tight',dpi = 1000)"
   ]
  },
  {
   "cell_type": "code",
   "execution_count": 59,
   "id": "99dc4526",
   "metadata": {},
   "outputs": [
    {
     "data": {
      "image/png": "[encoded data removed]",
      "text/plain": [
       "<Figure size 576x468 with 1 Axes>"
      ]
     },
     "metadata": {},
     "output_type": "display_data"
    }
   ],
   "source": [
    "shap.plots.bar(shap_values, max_display=10,show=False)\n",
    "plt.savefig('scratcch.pdf',bbox_inches='tight',dpi = 1000)"
   ]
  },
  {
   "cell_type": "code",
   "execution_count": 60,
   "id": "dc75a911",
   "metadata": {},
   "outputs": [
    {
     "data": {
      "image/png": "[encoded data removed]",
      "text/plain": [
       "<Figure size 576x540 with 2 Axes>"
      ]
     },
     "metadata": {
      "needs_background": "light"
     },
     "output_type": "display_data"
    }
   ],
   "source": [
    "shap.summary_plot(shap_values, plot_type=\"dot\", plot_size=0.6, show=False,max_display=10)\n",
    "plt.savefig('scratcch.pdf',bbox_inches='tight',dpi = 1000)"
   ]
  },
  {
   "cell_type": "code",
   "execution_count": 61,
   "id": "a41ab9fd",
   "metadata": {
    "scrolled": true
   },
   "outputs": [
    {
     "data": {
      "image/png": "[encoded data removed]",
      "text/plain": [
       "<Figure size 360x792 with 2 Axes>"
      ]
     },
     "metadata": {
      "needs_background": "light"
     },
     "output_type": "display_data"
    }
   ],
   "source": [
    "#Vertical plot\n",
    "plt.figure(figsize=(5,11))\n",
    "\n",
    "# 2 row, 1 column, plot 1\n",
    "plt.subplot(2, 1, 1)\n",
    "plt.scatter(x=Y_train, y=Y_pred_train, c=\"#7CAE00\", alpha=1)\n",
    "\n",
    "# Add trendline\n",
    "# https://stackoverflow.com/questions/26447191/how-to-add-trendline-in-python-matplotlib-dot-scatter-graphs\n",
    "z = np.polyfit(Y_train, Y_pred_train, 1)\n",
    "p = np.poly1d(z)\n",
    "plt.plot(Y_test,p(Y_test),\"#F8766D\")\n",
    "\n",
    "\n",
    "plt.xlabel('Experimental LogS', fontsize=13)\n",
    "plt.ylabel('Predicted LogS', fontsize=13)\n",
    "\n",
    "\n",
    "# 2 row, 1 column, plot 2\n",
    "plt.subplot(2, 1, 2)\n",
    "plt.scatter(x=Y_test, y=Y_pred_test, c=\"#619CFF\", alpha=1)\n",
    "\n",
    "z = np.polyfit(Y_test, Y_pred_test, 1)\n",
    "p = np.poly1d(z)\n",
    "plt.plot(Y_test,p(Y_test),\"#F8766D\")\n",
    "\n",
    "plt.ylabel('Predicted LogS', fontsize=13)\n",
    "plt.xlabel('Experimental LogS', fontsize=13)\n",
    "\n",
    "plt.savefig('plot_vertical_logS.png')\n",
    "plt.savefig('paper logS descriptor.pdf',dpi=1200)\n",
    "plt.show()"
   ]
  },
  {
   "cell_type": "code",
   "execution_count": 45,
   "id": "91a7b86f",
   "metadata": {},
   "outputs": [
    {
     "data": {
      "text/html": [
       "<div>\n",
       "<style scoped>\n",
       "    .dataframe tbody tr th:only-of-type {\n",
       "        vertical-align: middle;\n",
       "    }\n",
       "\n",
       "    .dataframe tbody tr th {\n",
       "        vertical-align: top;\n",
       "    }\n",
       "\n",
       "    .dataframe thead th {\n",
       "        text-align: right;\n",
       "    }\n",
       "</style>\n",
       "<table border=\"1\" class=\"dataframe\">\n",
       "  <thead>\n",
       "    <tr style=\"text-align: right;\">\n",
       "      <th></th>\n",
       "      <th>Substance</th>\n",
       "      <th>SMILES</th>\n",
       "    </tr>\n",
       "  </thead>\n",
       "  <tbody>\n",
       "    <tr>\n",
       "      <th>0</th>\n",
       "      <td>hexobarbital</td>\n",
       "      <td>CN1C(=O)NC(=O)C(C)(C1=O)C1=CCCCC1</td>\n",
       "    </tr>\n",
       "    <tr>\n",
       "      <th>1</th>\n",
       "      <td>nalidixic_acid</td>\n",
       "      <td>CCn1cc(c(=O)c2ccc(nc12)C)C(=O)O</td>\n",
       "    </tr>\n",
       "    <tr>\n",
       "      <th>2</th>\n",
       "      <td>phenantroline</td>\n",
       "      <td>c12c(ccc3cccnc13)cccn2</td>\n",
       "    </tr>\n",
       "    <tr>\n",
       "      <th>3</th>\n",
       "      <td>phenobarbital</td>\n",
       "      <td>C1(NC(C(c2ccccc2)(C(=O)N1)CC)=O)=O</td>\n",
       "    </tr>\n",
       "    <tr>\n",
       "      <th>4</th>\n",
       "      <td>sulfamethazine</td>\n",
       "      <td>S(=O)(=O)(Nc1nc(C)cc(n1)C)c1ccc(N)cc1</td>\n",
       "    </tr>\n",
       "    <tr>\n",
       "      <th>5</th>\n",
       "      <td>bromogramine</td>\n",
       "      <td>Brc1cc2c(CN(C)C)c[nH]c2cc1</td>\n",
       "    </tr>\n",
       "    <tr>\n",
       "      <th>6</th>\n",
       "      <td>phenazopyridine</td>\n",
       "      <td>c1ccc(cc1)\\N=N\\c1c(nc(cc1)N)N</td>\n",
       "    </tr>\n",
       "    <tr>\n",
       "      <th>7</th>\n",
       "      <td>amantadine</td>\n",
       "      <td>C1C2CC3CC(CC1C3)(N)C2</td>\n",
       "    </tr>\n",
       "    <tr>\n",
       "      <th>8</th>\n",
       "      <td>benzylimidazole</td>\n",
       "      <td>n1(Cc2ccccc2)cncc1</td>\n",
       "    </tr>\n",
       "    <tr>\n",
       "      <th>9</th>\n",
       "      <td>chlorpropamide</td>\n",
       "      <td>Clc1ccc(S(=O)(NC(=O)NCCC)=O)cc1</td>\n",
       "    </tr>\n",
       "    <tr>\n",
       "      <th>10</th>\n",
       "      <td>cimetidine</td>\n",
       "      <td>Cc1c(nc[nH]1)CSCCN\\C(=N\\C)NC#N</td>\n",
       "    </tr>\n",
       "    <tr>\n",
       "      <th>11</th>\n",
       "      <td>thymol</td>\n",
       "      <td>c1(cc(ccc1C(C)C)C)O</td>\n",
       "    </tr>\n",
       "    <tr>\n",
       "      <th>12</th>\n",
       "      <td>tryptamine</td>\n",
       "      <td>NCCc1c[nH]c2ccccc12</td>\n",
       "    </tr>\n",
       "    <tr>\n",
       "      <th>13</th>\n",
       "      <td>azathioprine</td>\n",
       "      <td>S(c1n(cnc1N(=O)=O)C)c1ncnc2nc[nH]c12</td>\n",
       "    </tr>\n",
       "    <tr>\n",
       "      <th>14</th>\n",
       "      <td>sulfathiazole</td>\n",
       "      <td>Nc1ccc(cc1)S(=O)(Nc1nccs1)=O</td>\n",
       "    </tr>\n",
       "    <tr>\n",
       "      <th>15</th>\n",
       "      <td>acetaminophen</td>\n",
       "      <td>O=C(Nc1ccc(cc1)O)C</td>\n",
       "    </tr>\n",
       "    <tr>\n",
       "      <th>16</th>\n",
       "      <td>diazoxide</td>\n",
       "      <td>Clc1cc2S(=O)(=O)N=C(Nc2cc1)C</td>\n",
       "    </tr>\n",
       "    <tr>\n",
       "      <th>17</th>\n",
       "      <td>famotidine</td>\n",
       "      <td>N\\C(CCSCc1csc(\\N=C(\\N)N)n1)=N\\S(=O)(N)=O</td>\n",
       "    </tr>\n",
       "    <tr>\n",
       "      <th>18</th>\n",
       "      <td>hydroflumethiazide</td>\n",
       "      <td>S1(=O)(=O)NCNc2c1cc(S(=O)(N)=O)c(c2)C(F)(F)F</td>\n",
       "    </tr>\n",
       "    <tr>\n",
       "      <th>19</th>\n",
       "      <td>nitrofurantoin</td>\n",
       "      <td>O=C1NC(CN1\\N=C\\c1ccc(N(=O)=O)o1)=O</td>\n",
       "    </tr>\n",
       "    <tr>\n",
       "      <th>20</th>\n",
       "      <td>phthalic_acid_form_I</td>\n",
       "      <td>C(c1c(C(=O)O)cccc1)(=O)O</td>\n",
       "    </tr>\n",
       "    <tr>\n",
       "      <th>21</th>\n",
       "      <td>sulfacetamide</td>\n",
       "      <td>C(=O)(NS(=O)(c1ccc(cc1)N)=O)C</td>\n",
       "    </tr>\n",
       "    <tr>\n",
       "      <th>22</th>\n",
       "      <td>trichloromethiazide_form_I</td>\n",
       "      <td>NS(=O)(=O)c1cc2c(NC(NS2(=O)=O)C(Cl)Cl)cc1Cl</td>\n",
       "    </tr>\n",
       "    <tr>\n",
       "      <th>23</th>\n",
       "      <td>2_amino_5_bromobenzoic_acid</td>\n",
       "      <td>Brc1cc(C(O)=O)c(N)cc1</td>\n",
       "    </tr>\n",
       "    <tr>\n",
       "      <th>24</th>\n",
       "      <td>5_bromo_2_4_dihydroxybenzoic_acid</td>\n",
       "      <td>Oc1c(Br)cc(C(O)=O)c(O)c1</td>\n",
       "    </tr>\n",
       "    <tr>\n",
       "      <th>25</th>\n",
       "      <td>chlorzoxazone</td>\n",
       "      <td>c1cc2c(cc1Cl)[nH]c(=O)o2</td>\n",
       "    </tr>\n",
       "    <tr>\n",
       "      <th>26</th>\n",
       "      <td>5_hydroxybenzoic_acid</td>\n",
       "      <td>C(c1ccc(cc1)O)(=O)O</td>\n",
       "    </tr>\n",
       "    <tr>\n",
       "      <th>27</th>\n",
       "      <td>4_iodophenol</td>\n",
       "      <td>c1cc(ccc1O)I</td>\n",
       "    </tr>\n",
       "    <tr>\n",
       "      <th>28</th>\n",
       "      <td>metronidazole</td>\n",
       "      <td>OCCn1c(ncc1N(=O)=O)C</td>\n",
       "    </tr>\n",
       "    <tr>\n",
       "      <th>29</th>\n",
       "      <td>guanine</td>\n",
       "      <td>[nH]1cnc2nc(N)[nH]c(=O)c12</td>\n",
       "    </tr>\n",
       "    <tr>\n",
       "      <th>30</th>\n",
       "      <td>acetazolamide</td>\n",
       "      <td>S(=O)(=O)(N)c1sc(NC(=O)C)nn1</td>\n",
       "    </tr>\n",
       "    <tr>\n",
       "      <th>31</th>\n",
       "      <td>1_naphthol</td>\n",
       "      <td>c1ccc2c(cccc2O)c1</td>\n",
       "    </tr>\n",
       "  </tbody>\n",
       "</table>\n",
       "</div>"
      ],
      "text/plain": [
       "                             Substance  \\\n",
       "0                         hexobarbital   \n",
       "1                       nalidixic_acid   \n",
       "2                        phenantroline   \n",
       "3                        phenobarbital   \n",
       "4                       sulfamethazine   \n",
       "5                         bromogramine   \n",
       "6                      phenazopyridine   \n",
       "7                           amantadine   \n",
       "8                      benzylimidazole   \n",
       "9                       chlorpropamide   \n",
       "10                          cimetidine   \n",
       "11                              thymol   \n",
       "12                          tryptamine   \n",
       "13                        azathioprine   \n",
       "14                       sulfathiazole   \n",
       "15                       acetaminophen   \n",
       "16                           diazoxide   \n",
       "17                          famotidine   \n",
       "18                  hydroflumethiazide   \n",
       "19                      nitrofurantoin   \n",
       "20                phthalic_acid_form_I   \n",
       "21                       sulfacetamide   \n",
       "22          trichloromethiazide_form_I   \n",
       "23         2_amino_5_bromobenzoic_acid   \n",
       "24   5_bromo_2_4_dihydroxybenzoic_acid   \n",
       "25                       chlorzoxazone   \n",
       "26               5_hydroxybenzoic_acid   \n",
       "27                        4_iodophenol   \n",
       "28                       metronidazole   \n",
       "29                             guanine   \n",
       "30                       acetazolamide   \n",
       "31                          1_naphthol   \n",
       "\n",
       "                                          SMILES  \n",
       "0              CN1C(=O)NC(=O)C(C)(C1=O)C1=CCCCC1  \n",
       "1                CCn1cc(c(=O)c2ccc(nc12)C)C(=O)O  \n",
       "2                         c12c(ccc3cccnc13)cccn2  \n",
       "3             C1(NC(C(c2ccccc2)(C(=O)N1)CC)=O)=O  \n",
       "4          S(=O)(=O)(Nc1nc(C)cc(n1)C)c1ccc(N)cc1  \n",
       "5                     Brc1cc2c(CN(C)C)c[nH]c2cc1  \n",
       "6                  c1ccc(cc1)\\N=N\\c1c(nc(cc1)N)N  \n",
       "7                          C1C2CC3CC(CC1C3)(N)C2  \n",
       "8                             n1(Cc2ccccc2)cncc1  \n",
       "9                Clc1ccc(S(=O)(NC(=O)NCCC)=O)cc1  \n",
       "10                Cc1c(nc[nH]1)CSCCN\\C(=N\\C)NC#N  \n",
       "11                           c1(cc(ccc1C(C)C)C)O  \n",
       "12                           NCCc1c[nH]c2ccccc12  \n",
       "13          S(c1n(cnc1N(=O)=O)C)c1ncnc2nc[nH]c12  \n",
       "14                  Nc1ccc(cc1)S(=O)(Nc1nccs1)=O  \n",
       "15                            O=C(Nc1ccc(cc1)O)C  \n",
       "16                  Clc1cc2S(=O)(=O)N=C(Nc2cc1)C  \n",
       "17      N\\C(CCSCc1csc(\\N=C(\\N)N)n1)=N\\S(=O)(N)=O  \n",
       "18  S1(=O)(=O)NCNc2c1cc(S(=O)(N)=O)c(c2)C(F)(F)F  \n",
       "19            O=C1NC(CN1\\N=C\\c1ccc(N(=O)=O)o1)=O  \n",
       "20                      C(c1c(C(=O)O)cccc1)(=O)O  \n",
       "21                 C(=O)(NS(=O)(c1ccc(cc1)N)=O)C  \n",
       "22   NS(=O)(=O)c1cc2c(NC(NS2(=O)=O)C(Cl)Cl)cc1Cl  \n",
       "23                         Brc1cc(C(O)=O)c(N)cc1  \n",
       "24                      Oc1c(Br)cc(C(O)=O)c(O)c1  \n",
       "25                      c1cc2c(cc1Cl)[nH]c(=O)o2  \n",
       "26                           C(c1ccc(cc1)O)(=O)O  \n",
       "27                                  c1cc(ccc1O)I  \n",
       "28                          OCCn1c(ncc1N(=O)=O)C  \n",
       "29                    [nH]1cnc2nc(N)[nH]c(=O)c12  \n",
       "30                  S(=O)(=O)(N)c1sc(NC(=O)C)nn1  \n",
       "31                             c1ccc2c(cccc2O)c1  "
      ]
     },
     "execution_count": 45,
     "metadata": {},
     "output_type": "execute_result"
    }
   ],
   "source": [
    "#Blind test\n",
    "testdata = pd.read_csv('D:/python/rdkit/testexperiment2upload3raw.csv')\n",
    "testdata"
   ]
  },
  {
   "cell_type": "code",
   "execution_count": 46,
   "id": "5efcc1e9",
   "metadata": {},
   "outputs": [],
   "source": [
    "def All_Mordred_descriptors(data):\n",
    "    calc = Calculator(descriptors, ignore_3D=True)\n",
    "    mols = [Chem.MolFromSmiles(smi) for smi in data]\n",
    "    \n",
    "    # pandas df\n",
    "    df = calc.pandas(mols)\n",
    "    return df"
   ]
  },
  {
   "cell_type": "code",
   "execution_count": 47,
   "id": "c170b006",
   "metadata": {},
   "outputs": [
    {
     "name": "stderr",
     "output_type": "stream",
     "text": [
      "100%|██████████████████████████████████████████████████████████████████████████████████| 32/32 [00:02<00:00, 11.25it/s]\n"
     ]
    }
   ],
   "source": [
    "mordred_descriptors2 = All_Mordred_descriptors(testdata['SMILES'])"
   ]
  },
  {
   "cell_type": "code",
   "execution_count": 48,
   "id": "a1b540a2",
   "metadata": {},
   "outputs": [
    {
     "data": {
      "text/plain": [
       "(32, 177)"
      ]
     },
     "execution_count": 48,
     "metadata": {},
     "output_type": "execute_result"
    }
   ],
   "source": [
    "Xnew=mordred_descriptors2[['AATS0d',\n",
    " 'AATS0dv',\n",
    " 'AATS0i',\n",
    " 'AATSC0dv',\n",
    " 'AATSC0i',\n",
    " 'AATSC0v',\n",
    " 'AATSC1Z',\n",
    " 'ABC',\n",
    " 'ATS0Z',\n",
    " 'ATSC0i',\n",
    " 'ATSC1Z',\n",
    " 'ATSC1d',\n",
    " 'ATSC1dv',\n",
    " 'ATSC1i',\n",
    " 'ATSC1p',\n",
    " 'ATSC1se',\n",
    " 'ATSC1v',\n",
    " 'ATSC2Z',\n",
    " 'ATSC2d',\n",
    " 'ATSC2dv',\n",
    " 'ATSC2i',\n",
    " 'ATSC2se',\n",
    " 'ATSC2v',\n",
    " 'ATSC3Z',\n",
    " 'ATSC3d',\n",
    " 'ATSC3dv',\n",
    " 'ATSC3i',\n",
    " 'ATSC3p',\n",
    " 'ATSC3se',\n",
    " 'ATSC3v',\n",
    " 'ATSC4Z',\n",
    " 'ATSC4d',\n",
    " 'ATSC4dv',\n",
    " 'ATSC4i',\n",
    " 'ATSC4p',\n",
    " 'ATSC4se',\n",
    " 'ATSC4v',\n",
    " 'ATSC5Z',\n",
    " 'ATSC5d',\n",
    " 'ATSC5dv',\n",
    " 'ATSC5i',\n",
    " 'ATSC5p',\n",
    " 'ATSC5se',\n",
    " 'ATSC5v',\n",
    " 'ATSC6Z',\n",
    " 'ATSC6d',\n",
    " 'ATSC6dv',\n",
    " 'ATSC6i',\n",
    " 'ATSC6se',\n",
    " 'ATSC6v',\n",
    " 'ATSC7Z',\n",
    " 'ATSC7d',\n",
    " 'ATSC7dv',\n",
    " 'ATSC7i',\n",
    " 'ATSC7p',\n",
    " 'ATSC7v',\n",
    " 'ATSC8Z',\n",
    " 'ATSC8d',\n",
    " 'ATSC8dv',\n",
    " 'ATSC8i',\n",
    " 'ATSC8v',\n",
    " 'BalabanJ',\n",
    " 'C1SP2',\n",
    " 'C1SP3',\n",
    " 'C2SP3',\n",
    " 'C3SP2',\n",
    " 'C3SP3',\n",
    " 'CIC1',\n",
    " 'Diameter',\n",
    " 'ECIndex',\n",
    " 'EState_VSA1',\n",
    " 'EState_VSA2',\n",
    " 'EState_VSA3',\n",
    " 'EState_VSA4',\n",
    " 'EState_VSA5',\n",
    " 'EState_VSA6',\n",
    " 'EState_VSA7',\n",
    " 'EState_VSA8',\n",
    " 'GATS1i',\n",
    " 'GATS1p',\n",
    " 'IC1',\n",
    " 'NaaN',\n",
    " 'NaaNH',\n",
    " 'NaaaC',\n",
    " 'NaasC',\n",
    " 'NaasN',\n",
    " 'NddsN',\n",
    " 'NddssS',\n",
    " 'NdsCH',\n",
    " 'NdssC',\n",
    " 'NsCH3',\n",
    " 'NsNH2',\n",
    " 'NsOH',\n",
    " 'NssCH2',\n",
    " 'NssNH',\n",
    " 'NssO',\n",
    " 'NsssCH',\n",
    " 'NsssN',\n",
    " 'NssssC',\n",
    " 'PEOE_VSA1',\n",
    " 'PEOE_VSA10',\n",
    " 'PEOE_VSA11',\n",
    " 'PEOE_VSA12',\n",
    " 'PEOE_VSA13',\n",
    " 'PEOE_VSA2',\n",
    " 'PEOE_VSA3',\n",
    " 'PEOE_VSA4',\n",
    " 'PEOE_VSA5',\n",
    " 'PEOE_VSA6',\n",
    " 'PEOE_VSA7',\n",
    " 'PEOE_VSA8',\n",
    " 'PEOE_VSA9',\n",
    " 'SMR_VSA4',\n",
    " 'SMR_VSA6',\n",
    " 'SMR_VSA9',\n",
    " 'SaaO',\n",
    " 'SaasC',\n",
    " 'SdCH2',\n",
    " 'SdNH',\n",
    " 'SdS',\n",
    " 'SdsN',\n",
    " 'SdssC',\n",
    " 'SdsssP',\n",
    " 'SlogP_VSA1',\n",
    " 'SlogP_VSA10',\n",
    " 'SlogP_VSA11',\n",
    " 'SlogP_VSA2',\n",
    " 'SlogP_VSA3',\n",
    " 'SlogP_VSA4',\n",
    " 'SlogP_VSA7',\n",
    " 'SsI',\n",
    " 'SsSH',\n",
    " 'SssS',\n",
    " 'SsssCH',\n",
    " 'StCH',\n",
    " 'StN',\n",
    " 'StsC',\n",
    " 'VSA_EState1',\n",
    " 'VSA_EState2',\n",
    " 'VSA_EState4',\n",
    " 'VSA_EState7',\n",
    " 'VSA_EState8',\n",
    " 'VSA_EState9',\n",
    " 'WPath',\n",
    " 'Xc-3dv',\n",
    " 'Xc-5d',\n",
    " 'Xc-5dv',\n",
    " 'Xch-7d',\n",
    " 'n5ARing',\n",
    " 'n5HRing',\n",
    " 'n5Ring',\n",
    " 'n5aRing',\n",
    " 'n6ARing',\n",
    " 'n6HRing',\n",
    " 'nAHRing',\n",
    " 'nARing',\n",
    " 'nAcid',\n",
    " 'nAromAtom',\n",
    " 'nAtom',\n",
    " 'nBase',\n",
    " 'nBondsD',\n",
    " 'nBr',\n",
    " 'nBridgehead',\n",
    " 'nC',\n",
    " 'nCl',\n",
    " 'nF',\n",
    " 'nFRing',\n",
    " 'nHBAcc',\n",
    " 'nHBDon',\n",
    " 'nHRing',\n",
    " 'nHetero',\n",
    " 'nN',\n",
    " 'nO',\n",
    " 'nRot',\n",
    " 'nS',\n",
    " 'nX',\n",
    " 'naHRing']]\n",
    "Xnew.shape\n"
   ]
  },
  {
   "cell_type": "code",
   "execution_count": 66,
   "id": "db159c0e",
   "metadata": {},
   "outputs": [],
   "source": [
    "Xnew.to_excel(r'D:/python/rdkit/file name descriptor 32data.xlsx', index = False)"
   ]
  },
  {
   "cell_type": "code",
   "execution_count": 49,
   "id": "e37edfc3",
   "metadata": {},
   "outputs": [
    {
     "name": "stderr",
     "output_type": "stream",
     "text": [
      "C:\\Users\\DEDP Grader\\anaconda3\\envs\\rdkit\\lib\\site-packages\\sklearn\\base.py:488: FutureWarning: The feature names should match those that were passed during fit. Starting version 1.2, an error will be raised.\n",
      "Feature names must be in the same order as they were in fit.\n",
      "\n",
      "  warnings.warn(message, FutureWarning)\n"
     ]
    },
    {
     "data": {
      "text/plain": [
       "array([-1.68826583, -1.53878849, -1.92763991, -2.1367225 , -1.5552    ,\n",
       "       -1.68333481, -2.07580241, -1.88745417, -1.66066417, -1.67397806,\n",
       "       -1.8592603 , -1.89606991, -1.89626583, -1.76006324, -1.40658646,\n",
       "       -1.49781417, -1.8756775 , -1.77150833, -1.93405022, -1.96255233,\n",
       "       -1.86271417, -1.6353497 , -2.11163916, -1.56935876, -2.74222273,\n",
       "       -2.07408491, -1.31016197, -1.70211   , -1.54830324, -1.92240083,\n",
       "       -1.6873275 , -1.8876375 ])"
      ]
     },
     "execution_count": 49,
     "metadata": {},
     "output_type": "execute_result"
    }
   ],
   "source": [
    "\n",
    "ynew = model.predict(Xnew)\n",
    "#print(\"X=%s, Predicted=%s\" % (Xnew[0], ynew[0]))\n",
    "ynew"
   ]
  },
  {
   "cell_type": "code",
   "execution_count": 50,
   "id": "2b6337b7",
   "metadata": {},
   "outputs": [
    {
     "data": {
      "text/html": [
       "<div>\n",
       "<style scoped>\n",
       "    .dataframe tbody tr th:only-of-type {\n",
       "        vertical-align: middle;\n",
       "    }\n",
       "\n",
       "    .dataframe tbody tr th {\n",
       "        vertical-align: top;\n",
       "    }\n",
       "\n",
       "    .dataframe thead th {\n",
       "        text-align: right;\n",
       "    }\n",
       "</style>\n",
       "<table border=\"1\" class=\"dataframe\">\n",
       "  <thead>\n",
       "    <tr style=\"text-align: right;\">\n",
       "      <th></th>\n",
       "      <th>name</th>\n",
       "      <th>SMILES</th>\n",
       "    </tr>\n",
       "  </thead>\n",
       "  <tbody>\n",
       "    <tr>\n",
       "      <th>0</th>\n",
       "      <td>Acebutolol</td>\n",
       "      <td>CC(C)NCC(O)COC1=C(C(C)=O)C=C(NC(CCC)=O)C=C1</td>\n",
       "    </tr>\n",
       "    <tr>\n",
       "      <th>1</th>\n",
       "      <td>Amoxicillin</td>\n",
       "      <td>O=C(O)[C@H]1C(C)(C)S[C@@H](N21)[C@H](NC([C@@H]...</td>\n",
       "    </tr>\n",
       "    <tr>\n",
       "      <th>2</th>\n",
       "      <td>Bendroflumethiazide</td>\n",
       "      <td>O=S1(C2=CC(S(N)(=O)=O)=C(C(F)(F)F)C=C2NC(CC3=C...</td>\n",
       "    </tr>\n",
       "    <tr>\n",
       "      <th>3</th>\n",
       "      <td>Benzocaine</td>\n",
       "      <td>NC1=CC=C(C(OCC)=O)C=C1</td>\n",
       "    </tr>\n",
       "    <tr>\n",
       "      <th>4</th>\n",
       "      <td>Benzthiazide</td>\n",
       "      <td>O=S1(C2=CC(S(N)(=O)=O)=C(Cl)C=C2N=C(CSCC3=CC=C...</td>\n",
       "    </tr>\n",
       "    <tr>\n",
       "      <th>5</th>\n",
       "      <td>2-chloromandelic_acid</td>\n",
       "      <td>OC(C(O)C1=CC=CC=C1Cl)=O</td>\n",
       "    </tr>\n",
       "    <tr>\n",
       "      <th>6</th>\n",
       "      <td>Clozapine</td>\n",
       "      <td>ClC(C=C1)=CC2=C1NC(C=CC=C3)=C3C(N4CCN(C)CC4)=N2</td>\n",
       "    </tr>\n",
       "    <tr>\n",
       "      <th>7</th>\n",
       "      <td>Dibucaine</td>\n",
       "      <td>CCN(CC)CCNC(C1=C(C=CC=C2)C2=NC(OCCCC)=C1)=O</td>\n",
       "    </tr>\n",
       "    <tr>\n",
       "      <th>8</th>\n",
       "      <td>Diethylstilbestrol</td>\n",
       "      <td>CC/C(C1=CC=C(O)C=C1)=C(C2=CC=C(O)C=C2)/CC</td>\n",
       "    </tr>\n",
       "    <tr>\n",
       "      <th>9</th>\n",
       "      <td>Diflunisal</td>\n",
       "      <td>FC(C=C1F)=CC=C1C2=CC=C(O)C(C(O)=O)=C2</td>\n",
       "    </tr>\n",
       "    <tr>\n",
       "      <th>10</th>\n",
       "      <td>Dipyridamole</td>\n",
       "      <td>OCCN(CCO)C1=NC2=C(N3CCCCC3)N=C(N(CCO)CCO)N=C2C...</td>\n",
       "    </tr>\n",
       "    <tr>\n",
       "      <th>11</th>\n",
       "      <td>Ephedrine</td>\n",
       "      <td>CN[C@H](C)[C@@H](O)C1=CC=CC=C1</td>\n",
       "    </tr>\n",
       "    <tr>\n",
       "      <th>12</th>\n",
       "      <td>Folic_Acid</td>\n",
       "      <td>OC([C@H](CCC(O)=O)NC(C(C=C1)=CC=C1NCC2=NC3=C(O...</td>\n",
       "    </tr>\n",
       "    <tr>\n",
       "      <th>13</th>\n",
       "      <td>Furosemide</td>\n",
       "      <td>OC(C1=CC(S(N)(=O)=O)=C(Cl)C=C1NCC2=CC=CO2)=O</td>\n",
       "    </tr>\n",
       "    <tr>\n",
       "      <th>14</th>\n",
       "      <td>Hydrochlorothiazide</td>\n",
       "      <td>O=S1(C2=CC(S(N)(=O)=O)=C(Cl)C=C2NCN1)=O</td>\n",
       "    </tr>\n",
       "    <tr>\n",
       "      <th>15</th>\n",
       "      <td>Imipramine</td>\n",
       "      <td>CN(C)CCCN1C2=C(C=CC=C2)CCC3=C1C=CC=C3</td>\n",
       "    </tr>\n",
       "    <tr>\n",
       "      <th>16</th>\n",
       "      <td>Indomethacin</td>\n",
       "      <td>COC1=CC=C2C(C(CC(O)=O)=C(C)N2C(C3=CC=C(Cl)C=C3...</td>\n",
       "    </tr>\n",
       "    <tr>\n",
       "      <th>17</th>\n",
       "      <td>Ketoprofen</td>\n",
       "      <td>O=C(C1=CC=CC=C1)C2=CC=CC(C(C(O)=O)C)=C2</td>\n",
       "    </tr>\n",
       "    <tr>\n",
       "      <th>18</th>\n",
       "      <td>Lidocaine</td>\n",
       "      <td>CCN(CC)CC(NC1=C(C)C=CC=C1C)=O</td>\n",
       "    </tr>\n",
       "    <tr>\n",
       "      <th>19</th>\n",
       "      <td>Marbofloxacin</td>\n",
       "      <td>OC(C1=CN(N(C)CO2)C3=C2C(N4CCN(C)CC4)=C(F)C=C3C...</td>\n",
       "    </tr>\n",
       "    <tr>\n",
       "      <th>20</th>\n",
       "      <td>Meclofenamic_acid</td>\n",
       "      <td>ClC(C=CC(C)=C1Cl)=C1NC2=CC=CC=C2C(O)=O</td>\n",
       "    </tr>\n",
       "    <tr>\n",
       "      <th>21</th>\n",
       "      <td>Naphthoic_acid</td>\n",
       "      <td>OC(C1=CC2=CC=CC=C2C=C1)=O</td>\n",
       "    </tr>\n",
       "    <tr>\n",
       "      <th>22</th>\n",
       "      <td>Probenecid</td>\n",
       "      <td>CN[C@@H](C)[C@H](O)C1=CC=CC=C1</td>\n",
       "    </tr>\n",
       "    <tr>\n",
       "      <th>23</th>\n",
       "      <td>Pseudoephedrine</td>\n",
       "      <td>OC(C1=CC=C(S(N(CCC)CCC)(=O)=O)C=C1)=O</td>\n",
       "    </tr>\n",
       "    <tr>\n",
       "      <th>24</th>\n",
       "      <td>Pyrimethamine</td>\n",
       "      <td>ClC(C=C1)=CC=C1C2=C(CC)N=C(N)N=C2N</td>\n",
       "    </tr>\n",
       "    <tr>\n",
       "      <th>25</th>\n",
       "      <td>Salicylic_acid</td>\n",
       "      <td>OC(C1=CC=CC=C1O)=O</td>\n",
       "    </tr>\n",
       "    <tr>\n",
       "      <th>26</th>\n",
       "      <td>Sulfamerazine</td>\n",
       "      <td>NC1=CC=C(S(NC2=NC(C)=CC=N2)(=O)=O)C=C1</td>\n",
       "    </tr>\n",
       "    <tr>\n",
       "      <th>27</th>\n",
       "      <td>Sulfamethizole</td>\n",
       "      <td>NC1=CC=C(S(NC2=NN=C(C)S2)(=O)=O)C=C1</td>\n",
       "    </tr>\n",
       "    <tr>\n",
       "      <th>28</th>\n",
       "      <td>Terfenadine</td>\n",
       "      <td>OC(C1=CC=CC=C1)(C2=CC=CC=C2)C3CCN(CCCC(O)C4=CC...</td>\n",
       "    </tr>\n",
       "    <tr>\n",
       "      <th>29</th>\n",
       "      <td>Thiabendazole</td>\n",
       "      <td>C12=CC=CC=C1NC(C3=CSC=N3)=N2</td>\n",
       "    </tr>\n",
       "    <tr>\n",
       "      <th>30</th>\n",
       "      <td>Tolbutamide</td>\n",
       "      <td>CC1=CC=C(S(NC(NCCCC)=O)(=O)=O)C=C1</td>\n",
       "    </tr>\n",
       "    <tr>\n",
       "      <th>31</th>\n",
       "      <td>Trazodone</td>\n",
       "      <td>ClC1=CC=CC(N2CCN(CCCN3C(N(C=CC=C4)C4=N3)=O)CC2...</td>\n",
       "    </tr>\n",
       "  </tbody>\n",
       "</table>\n",
       "</div>"
      ],
      "text/plain": [
       "                     name                                             SMILES\n",
       "0              Acebutolol        CC(C)NCC(O)COC1=C(C(C)=O)C=C(NC(CCC)=O)C=C1\n",
       "1             Amoxicillin  O=C(O)[C@H]1C(C)(C)S[C@@H](N21)[C@H](NC([C@@H]...\n",
       "2     Bendroflumethiazide  O=S1(C2=CC(S(N)(=O)=O)=C(C(F)(F)F)C=C2NC(CC3=C...\n",
       "3              Benzocaine                             NC1=CC=C(C(OCC)=O)C=C1\n",
       "4            Benzthiazide  O=S1(C2=CC(S(N)(=O)=O)=C(Cl)C=C2N=C(CSCC3=CC=C...\n",
       "5   2-chloromandelic_acid                            OC(C(O)C1=CC=CC=C1Cl)=O\n",
       "6               Clozapine    ClC(C=C1)=CC2=C1NC(C=CC=C3)=C3C(N4CCN(C)CC4)=N2\n",
       "7               Dibucaine        CCN(CC)CCNC(C1=C(C=CC=C2)C2=NC(OCCCC)=C1)=O\n",
       "8      Diethylstilbestrol          CC/C(C1=CC=C(O)C=C1)=C(C2=CC=C(O)C=C2)/CC\n",
       "9              Diflunisal              FC(C=C1F)=CC=C1C2=CC=C(O)C(C(O)=O)=C2\n",
       "10           Dipyridamole  OCCN(CCO)C1=NC2=C(N3CCCCC3)N=C(N(CCO)CCO)N=C2C...\n",
       "11              Ephedrine                     CN[C@H](C)[C@@H](O)C1=CC=CC=C1\n",
       "12             Folic_Acid  OC([C@H](CCC(O)=O)NC(C(C=C1)=CC=C1NCC2=NC3=C(O...\n",
       "13             Furosemide       OC(C1=CC(S(N)(=O)=O)=C(Cl)C=C1NCC2=CC=CO2)=O\n",
       "14    Hydrochlorothiazide            O=S1(C2=CC(S(N)(=O)=O)=C(Cl)C=C2NCN1)=O\n",
       "15             Imipramine              CN(C)CCCN1C2=C(C=CC=C2)CCC3=C1C=CC=C3\n",
       "16           Indomethacin  COC1=CC=C2C(C(CC(O)=O)=C(C)N2C(C3=CC=C(Cl)C=C3...\n",
       "17             Ketoprofen            O=C(C1=CC=CC=C1)C2=CC=CC(C(C(O)=O)C)=C2\n",
       "18              Lidocaine                      CCN(CC)CC(NC1=C(C)C=CC=C1C)=O\n",
       "19          Marbofloxacin  OC(C1=CN(N(C)CO2)C3=C2C(N4CCN(C)CC4)=C(F)C=C3C...\n",
       "20      Meclofenamic_acid             ClC(C=CC(C)=C1Cl)=C1NC2=CC=CC=C2C(O)=O\n",
       "21         Naphthoic_acid                          OC(C1=CC2=CC=CC=C2C=C1)=O\n",
       "22             Probenecid                     CN[C@@H](C)[C@H](O)C1=CC=CC=C1\n",
       "23        Pseudoephedrine              OC(C1=CC=C(S(N(CCC)CCC)(=O)=O)C=C1)=O\n",
       "24          Pyrimethamine                 ClC(C=C1)=CC=C1C2=C(CC)N=C(N)N=C2N\n",
       "25         Salicylic_acid                                 OC(C1=CC=CC=C1O)=O\n",
       "26          Sulfamerazine             NC1=CC=C(S(NC2=NC(C)=CC=N2)(=O)=O)C=C1\n",
       "27         Sulfamethizole               NC1=CC=C(S(NC2=NN=C(C)S2)(=O)=O)C=C1\n",
       "28            Terfenadine  OC(C1=CC=CC=C1)(C2=CC=CC=C2)C3CCN(CCCC(O)C4=CC...\n",
       "29          Thiabendazole                       C12=CC=CC=C1NC(C3=CSC=N3)=N2\n",
       "30            Tolbutamide                 CC1=CC=C(S(NC(NCCCC)=O)(=O)=O)C=C1\n",
       "31              Trazodone  ClC1=CC=CC(N2CCN(CCCN3C(N(C=CC=C4)C4=N3)=O)CC2..."
      ]
     },
     "execution_count": 50,
     "metadata": {},
     "output_type": "execute_result"
    }
   ],
   "source": [
    "#Solubility Challenge\n",
    "testdata = pd.read_csv('D:/python/rdkit/testexperiment2upload2raw.csv')\n",
    "testdata"
   ]
  },
  {
   "cell_type": "code",
   "execution_count": 51,
   "id": "c943ea07",
   "metadata": {},
   "outputs": [
    {
     "name": "stderr",
     "output_type": "stream",
     "text": [
      "100%|██████████████████████████████████████████████████████████████████████████████████| 32/32 [00:03<00:00, 10.36it/s]\n"
     ]
    }
   ],
   "source": [
    "mordred_descriptors3 = All_Mordred_descriptors(testdata['SMILES'])"
   ]
  },
  {
   "cell_type": "code",
   "execution_count": 52,
   "id": "0d53074a",
   "metadata": {},
   "outputs": [
    {
     "data": {
      "text/plain": [
       "(32, 177)"
      ]
     },
     "execution_count": 52,
     "metadata": {},
     "output_type": "execute_result"
    }
   ],
   "source": [
    "X2new=mordred_descriptors3[['AATS0d',\n",
    " 'AATS0dv',\n",
    " 'AATS0i',\n",
    " 'AATSC0dv',\n",
    " 'AATSC0i',\n",
    " 'AATSC0v',\n",
    " 'AATSC1Z',\n",
    " 'ABC',\n",
    " 'ATS0Z',\n",
    " 'ATSC0i',\n",
    " 'ATSC1Z',\n",
    " 'ATSC1d',\n",
    " 'ATSC1dv',\n",
    " 'ATSC1i',\n",
    " 'ATSC1p',\n",
    " 'ATSC1se',\n",
    " 'ATSC1v',\n",
    " 'ATSC2Z',\n",
    " 'ATSC2d',\n",
    " 'ATSC2dv',\n",
    " 'ATSC2i',\n",
    " 'ATSC2se',\n",
    " 'ATSC2v',\n",
    " 'ATSC3Z',\n",
    " 'ATSC3d',\n",
    " 'ATSC3dv',\n",
    " 'ATSC3i',\n",
    " 'ATSC3p',\n",
    " 'ATSC3se',\n",
    " 'ATSC3v',\n",
    " 'ATSC4Z',\n",
    " 'ATSC4d',\n",
    " 'ATSC4dv',\n",
    " 'ATSC4i',\n",
    " 'ATSC4p',\n",
    " 'ATSC4se',\n",
    " 'ATSC4v',\n",
    " 'ATSC5Z',\n",
    " 'ATSC5d',\n",
    " 'ATSC5dv',\n",
    " 'ATSC5i',\n",
    " 'ATSC5p',\n",
    " 'ATSC5se',\n",
    " 'ATSC5v',\n",
    " 'ATSC6Z',\n",
    " 'ATSC6d',\n",
    " 'ATSC6dv',\n",
    " 'ATSC6i',\n",
    " 'ATSC6se',\n",
    " 'ATSC6v',\n",
    " 'ATSC7Z',\n",
    " 'ATSC7d',\n",
    " 'ATSC7dv',\n",
    " 'ATSC7i',\n",
    " 'ATSC7p',\n",
    " 'ATSC7v',\n",
    " 'ATSC8Z',\n",
    " 'ATSC8d',\n",
    " 'ATSC8dv',\n",
    " 'ATSC8i',\n",
    " 'ATSC8v',\n",
    " 'BalabanJ',\n",
    " 'C1SP2',\n",
    " 'C1SP3',\n",
    " 'C2SP3',\n",
    " 'C3SP2',\n",
    " 'C3SP3',\n",
    " 'CIC1',\n",
    " 'Diameter',\n",
    " 'ECIndex',\n",
    " 'EState_VSA1',\n",
    " 'EState_VSA2',\n",
    " 'EState_VSA3',\n",
    " 'EState_VSA4',\n",
    " 'EState_VSA5',\n",
    " 'EState_VSA6',\n",
    " 'EState_VSA7',\n",
    " 'EState_VSA8',\n",
    " 'GATS1i',\n",
    " 'GATS1p',\n",
    " 'IC1',\n",
    " 'NaaN',\n",
    " 'NaaNH',\n",
    " 'NaaaC',\n",
    " 'NaasC',\n",
    " 'NaasN',\n",
    " 'NddsN',\n",
    " 'NddssS',\n",
    " 'NdsCH',\n",
    " 'NdssC',\n",
    " 'NsCH3',\n",
    " 'NsNH2',\n",
    " 'NsOH',\n",
    " 'NssCH2',\n",
    " 'NssNH',\n",
    " 'NssO',\n",
    " 'NsssCH',\n",
    " 'NsssN',\n",
    " 'NssssC',\n",
    " 'PEOE_VSA1',\n",
    " 'PEOE_VSA10',\n",
    " 'PEOE_VSA11',\n",
    " 'PEOE_VSA12',\n",
    " 'PEOE_VSA13',\n",
    " 'PEOE_VSA2',\n",
    " 'PEOE_VSA3',\n",
    " 'PEOE_VSA4',\n",
    " 'PEOE_VSA5',\n",
    " 'PEOE_VSA6',\n",
    " 'PEOE_VSA7',\n",
    " 'PEOE_VSA8',\n",
    " 'PEOE_VSA9',\n",
    " 'SMR_VSA4',\n",
    " 'SMR_VSA6',\n",
    " 'SMR_VSA9',\n",
    " 'SaaO',\n",
    " 'SaasC',\n",
    " 'SdCH2',\n",
    " 'SdNH',\n",
    " 'SdS',\n",
    " 'SdsN',\n",
    " 'SdssC',\n",
    " 'SdsssP',\n",
    " 'SlogP_VSA1',\n",
    " 'SlogP_VSA10',\n",
    " 'SlogP_VSA11',\n",
    " 'SlogP_VSA2',\n",
    " 'SlogP_VSA3',\n",
    " 'SlogP_VSA4',\n",
    " 'SlogP_VSA7',\n",
    " 'SsI',\n",
    " 'SsSH',\n",
    " 'SssS',\n",
    " 'SsssCH',\n",
    " 'StCH',\n",
    " 'StN',\n",
    " 'StsC',\n",
    " 'VSA_EState1',\n",
    " 'VSA_EState2',\n",
    " 'VSA_EState4',\n",
    " 'VSA_EState7',\n",
    " 'VSA_EState8',\n",
    " 'VSA_EState9',\n",
    " 'WPath',\n",
    " 'Xc-3dv',\n",
    " 'Xc-5d',\n",
    " 'Xc-5dv',\n",
    " 'Xch-7d',\n",
    " 'n5ARing',\n",
    " 'n5HRing',\n",
    " 'n5Ring',\n",
    " 'n5aRing',\n",
    " 'n6ARing',\n",
    " 'n6HRing',\n",
    " 'nAHRing',\n",
    " 'nARing',\n",
    " 'nAcid',\n",
    " 'nAromAtom',\n",
    " 'nAtom',\n",
    " 'nBase',\n",
    " 'nBondsD',\n",
    " 'nBr',\n",
    " 'nBridgehead',\n",
    " 'nC',\n",
    " 'nCl',\n",
    " 'nF',\n",
    " 'nFRing',\n",
    " 'nHBAcc',\n",
    " 'nHBDon',\n",
    " 'nHRing',\n",
    " 'nHetero',\n",
    " 'nN',\n",
    " 'nO',\n",
    " 'nRot',\n",
    " 'nS',\n",
    " 'nX',\n",
    " 'naHRing']]\n",
    "X2new.shape\n"
   ]
  },
  {
   "cell_type": "code",
   "execution_count": 53,
   "id": "33741a8a",
   "metadata": {},
   "outputs": [
    {
     "name": "stderr",
     "output_type": "stream",
     "text": [
      "C:\\Users\\DEDP Grader\\anaconda3\\envs\\rdkit\\lib\\site-packages\\sklearn\\base.py:488: FutureWarning: The feature names should match those that were passed during fit. Starting version 1.2, an error will be raised.\n",
      "Feature names must be in the same order as they were in fit.\n",
      "\n",
      "  warnings.warn(message, FutureWarning)\n"
     ]
    },
    {
     "data": {
      "text/plain": [
       "array([-1.69769   , -2.81597003, -1.88425013, -1.61753062, -1.82607083,\n",
       "       -1.52950417, -1.75595741, -1.81853284, -1.80027251, -2.03836574,\n",
       "       -1.37489333, -1.61105771, -2.08241959, -1.73048286, -1.85138681,\n",
       "       -1.71541583, -1.84892293, -2.07292242, -1.58969847, -1.74522491,\n",
       "       -1.9409    , -1.98299771, -1.61105771, -1.64267667, -2.101685  ,\n",
       "       -1.37353417, -1.49513126, -1.61470367, -1.82638501, -1.87663503,\n",
       "       -1.49410833, -1.47430376])"
      ]
     },
     "execution_count": 53,
     "metadata": {},
     "output_type": "execute_result"
    }
   ],
   "source": [
    "\n",
    "y2new = model.predict(X2new)\n",
    "#print(\"X=%s, Predicted=%s\" % (Xnew[0], ynew[0]))\n",
    "y2new"
   ]
  },
  {
   "cell_type": "code",
   "execution_count": 42,
   "id": "76fb2a44",
   "metadata": {},
   "outputs": [],
   "source": [
    "from numpy import asarray\n",
    "from numpy import savetxt\n",
    "# define data\n",
    "data = asarray(y2new)\n",
    "# save to csv file\n",
    "savetxt('dataggg.csv', data, delimiter=',')"
   ]
  },
  {
   "cell_type": "code",
   "execution_count": null,
   "id": "0c74b745",
   "metadata": {},
   "outputs": [],
   "source": []
  },
  {
   "cell_type": "code",
   "execution_count": null,
   "id": "84c2a2c8",
   "metadata": {},
   "outputs": [],
   "source": []
  }
 ],
 "metadata": {
  "kernelspec": {
   "display_name": "Python 3 (ipykernel)",
   "language": "python",
   "name": "python3"
  },
  "language_info": {
   "codemirror_mode": {
    "name": "ipython",
    "version": 3
   },
   "file_extension": ".py",
   "mimetype": "text/x-python",
   "name": "python",
   "nbconvert_exporter": "python",
   "pygments_lexer": "ipython3",
   "version": "3.9.12"
  }
 },
 "nbformat": 4,
 "nbformat_minor": 5
}
