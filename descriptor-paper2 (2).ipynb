{
 "cells": [
  {
   "cell_type": "code",
   "execution_count": 1,
   "id": "34116c05",
   "metadata": {},
   "outputs": [],
   "source": [
    "import pandas as pd\n",
    "import numpy as np\n",
    "import os\n",
    "import seaborn as sns\n",
    "import matplotlib.pyplot as plt\n",
    "import emoji\n",
    "%matplotlib inline \n",
    "\n",
    "#importing rdkit\n",
    "from rdkit import Chem\n",
    "from rdkit.Chem import AllChem\n",
    "from rdkit.Chem import Descriptors\n",
    "from rdkit import RDConfig\n",
    "from rdkit.Chem.Draw import IPythonConsole\n",
    "from rdkit.Chem import Draw\n",
    "#from utility import FeatureGenerator\n",
    "from rdkit.Chem import PandasTools as PandasTools\n",
    "from rdkit import DataStructs\n",
    "from rdkit.Chem.Subshape import SubshapeBuilder,SubshapeAligner,SubshapeObjects\n",
    "\n",
    "#importing sklearn \n",
    "from sklearn.model_selection import train_test_split, StratifiedKFold, GridSearchCV\n",
    "from sklearn.metrics import r2_score, mean_squared_error, mean_absolute_error\n",
    "from sklearn.ensemble import RandomForestRegressor\n",
    "from sklearn.neural_network import MLPRegressor\n",
    "from sklearn.svm import SVR\n",
    "import pandas as pd\n",
    "from mordred import Calculator, descriptors\n",
    "import wget\n",
    "import unzip\n",
    "import padelpy"
   ]
  },
  {
   "cell_type": "code",
   "execution_count": 2,
   "id": "2d783097",
   "metadata": {},
   "outputs": [
    {
     "name": "stdout",
     "output_type": "stream",
     "text": [
      "<bound method NDFrame.head of                                                  SMILES  \\\n",
      "0               OCC1OC(CO)(OC2OC(CO)C(O)C(O)C2O)C(O)C1O   \n",
      "1     O[C@H]1[C@H](O[C@H](CO)[C@@H](O)[C@@H]1O)O[C@]...   \n",
      "2     OC[C@@H]1O[C@](CO)(O[C@@H]2O[C@@H](CO)[C@H](O)...   \n",
      "3                CN1C[C@@H]2C[C@@H](C1)C3=CC=CC(=O)N3C2   \n",
      "4                          CN1CC2CC(C1)C1=CC=CC(=O)N1C2   \n",
      "...                                                 ...   \n",
      "8433                                      O=[N+]([O-])C   \n",
      "8434                                                 OC   \n",
      "8435                                            S=C(N)N   \n",
      "8436                                           O=C(NO)N   \n",
      "8437                                            O=C(N)N   \n",
      "\n",
      "      measured log(solubility:mol/L)  \n",
      "0                               0.79  \n",
      "1                               0.79  \n",
      "2                               0.79  \n",
      "3                               0.65  \n",
      "4                               0.65  \n",
      "...                              ...  \n",
      "8433                            0.26  \n",
      "8434                            1.57  \n",
      "8435                            0.32  \n",
      "8436                            1.12  \n",
      "8437                            0.96  \n",
      "\n",
      "[8438 rows x 2 columns]>\n"
     ]
    }
   ],
   "source": [
    "from rdkit.Chem import AllChem\n",
    "from rdkit import Chem\n",
    "import pandas as pd\n",
    "\n",
    "sol = pd.read_csv('D:/python/rdkit/new222new.csv')\n",
    "print(sol.head)\n",
    "XY = sol.set_index('SMILES').T.to_dict('list')"
   ]
  },
  {
   "cell_type": "code",
   "execution_count": 3,
   "id": "f5edadbb",
   "metadata": {},
   "outputs": [
    {
     "data": {
      "text/plain": [
       "0       0.79\n",
       "1       0.79\n",
       "2       0.79\n",
       "3       0.65\n",
       "4       0.65\n",
       "        ... \n",
       "8433    0.26\n",
       "8434    1.57\n",
       "8435    0.32\n",
       "8436    1.12\n",
       "8437    0.96\n",
       "Name: measured log(solubility:mol/L), Length: 8438, dtype: float64"
      ]
     },
     "execution_count": 3,
     "metadata": {},
     "output_type": "execute_result"
    }
   ],
   "source": [
    "Y = sol.iloc[:,1]\n",
    "Y"
   ]
  },
  {
   "cell_type": "code",
   "execution_count": 4,
   "id": "30800f53",
   "metadata": {},
   "outputs": [],
   "source": [
    "#descriptor\n",
    "molecules = sol.SMILES.apply(Chem.MolFromSmiles)"
   ]
  },
  {
   "cell_type": "code",
   "execution_count": 5,
   "id": "3ae18f06",
   "metadata": {},
   "outputs": [],
   "source": [
    "def All_Mordred_descriptors(data):\n",
    "    calc = Calculator(descriptors, ignore_3D=True)\n",
    "    mols = [Chem.MolFromSmiles(smi) for smi in data]\n",
    "    \n",
    "    # pandas df\n",
    "    df = calc.pandas(mols)\n",
    "    return df"
   ]
  },
  {
   "cell_type": "code",
   "execution_count": 6,
   "id": "c50e8966",
   "metadata": {},
   "outputs": [
    {
     "name": "stderr",
     "output_type": "stream",
     "text": [
      "100%|██████████████████████████████████████████████████████████████████████████████| 8438/8438 [06:50<00:00, 20.54it/s]\n"
     ]
    }
   ],
   "source": [
    "mordred_descriptors = All_Mordred_descriptors(sol['SMILES'])"
   ]
  },
  {
   "cell_type": "code",
   "execution_count": 7,
   "id": "9b4f7a76",
   "metadata": {},
   "outputs": [
    {
     "data": {
      "text/plain": [
       "(8438, 1613)"
      ]
     },
     "execution_count": 7,
     "metadata": {},
     "output_type": "execute_result"
    }
   ],
   "source": [
    "mordred_descriptors.shape"
   ]
  },
  {
   "cell_type": "code",
   "execution_count": 48,
   "id": "d13815c3",
   "metadata": {},
   "outputs": [],
   "source": [
    "X=mordred_descriptors "
   ]
  },
  {
   "cell_type": "code",
   "execution_count": 42,
   "id": "feadd59a",
   "metadata": {},
   "outputs": [],
   "source": [
    "#X.to_excel(r'D:/python/rdkit/experiments.xlsx', index = False)"
   ]
  },
  {
   "cell_type": "code",
   "execution_count": 49,
   "id": "7920de04",
   "metadata": {},
   "outputs": [],
   "source": [
    "from sklearn.feature_selection import VarianceThreshold\n",
    "\n",
    "vt = VarianceThreshold()"
   ]
  },
  {
   "cell_type": "code",
   "execution_count": 50,
   "id": "f56d4333",
   "metadata": {},
   "outputs": [
    {
     "data": {
      "text/plain": [
       "(8438, 811)"
      ]
     },
     "execution_count": 50,
     "metadata": {},
     "output_type": "execute_result"
    }
   ],
   "source": [
    "des_num = X.select_dtypes(include='number')\n",
    "des_num.shape"
   ]
  },
  {
   "cell_type": "code",
   "execution_count": 51,
   "id": "6e59ee1f",
   "metadata": {},
   "outputs": [],
   "source": [
    "transformed = vt.fit_transform(des_num)\n"
   ]
  },
  {
   "cell_type": "code",
   "execution_count": 52,
   "id": "6816dcaa",
   "metadata": {},
   "outputs": [],
   "source": [
    "_ = vt.fit(des_num)\n",
    "\n",
    "mask = vt.get_support()\n"
   ]
  },
  {
   "cell_type": "code",
   "execution_count": 53,
   "id": "a2415ad0",
   "metadata": {},
   "outputs": [],
   "source": [
    "des_num = des_num.loc[:, mask]\n"
   ]
  },
  {
   "cell_type": "code",
   "execution_count": 54,
   "id": "76465e53",
   "metadata": {},
   "outputs": [
    {
     "data": {
      "text/plain": [
       "(8438, 506)"
      ]
     },
     "execution_count": 54,
     "metadata": {},
     "output_type": "execute_result"
    }
   ],
   "source": [
    "vt = VarianceThreshold(threshold=0.1)\n",
    "\n",
    "# Fit\n",
    "_ = vt.fit(des_num)\n",
    "\n",
    "# Get the boolean mask\n",
    "mask = vt.get_support()\n",
    "\n",
    "des_reduced = des_num.loc[:, mask]\n",
    "H=des_reduced\n",
    "#X=H.drop(['FilterItLogS', 'SLogP'], axis=1)\n",
    "X=H\n",
    "X.shape"
   ]
  },
  {
   "cell_type": "code",
   "execution_count": 55,
   "id": "b6b9d36c",
   "metadata": {},
   "outputs": [],
   "source": [
    "correlated_features = set()\n",
    "correlation_matrix=X.corr()"
   ]
  },
  {
   "cell_type": "code",
   "execution_count": 56,
   "id": "3776d8fd",
   "metadata": {},
   "outputs": [],
   "source": [
    "for i in range(len(correlation_matrix .columns)):\n",
    "    for j in range(i):\n",
    "        if abs(correlation_matrix.iloc[i, j]) > 0.8:\n",
    "            colname = correlation_matrix.columns[i]\n",
    "            correlated_features.add(colname)"
   ]
  },
  {
   "cell_type": "code",
   "execution_count": 57,
   "id": "d8dbd347",
   "metadata": {},
   "outputs": [
    {
     "data": {
      "text/plain": [
       "328"
      ]
     },
     "execution_count": 57,
     "metadata": {},
     "output_type": "execute_result"
    }
   ],
   "source": [
    "len(correlated_features)"
   ]
  },
  {
   "cell_type": "code",
   "execution_count": 18,
   "id": "91dfccda",
   "metadata": {},
   "outputs": [
    {
     "name": "stdout",
     "output_type": "stream",
     "text": [
      "{'ATS1are', 'ATSC8se', 'ATSC1pe', 'ATS0i', 'Sse', 'TopoPSA(NO)', 'EState_VSA10', 'ATS6i', 'nFHRing', 'ATS8pe', 'SRW07', 'piPC5', 'ATSC8m', 'ATSC7m', 'ATS0v', 'ATSC7se', 'ATS4dv', 'Xp-7d', 'AATS1d', 'IC5', 'ATSC0v', 'ATSC0se', 'MIC1', 'ATS4m', 'IC3', 'ATS0pe', 'Xp-2d', 'ATS1d', 'n6aRing', 'ATS7are', 'ZMIC5', 'ATS1Z', 'nBondsKD', 'ATS2m', 'AATS1are', 'SssO', 'MWC09', 'ZMIC3', 'VSA_EState5', 'ATS8d', 'ATS3se', 'ATS1dv', 'ATS8i', 'NsBr', 'ATSC0p', 'AATS0pe', 'BertzCT', 'NsCl', 'ATSC2pe', 'AMW', 'Zagreb1', 'ATS2pe', 'CIC4', 'ZMIC4', 'ATS5dv', 'ATSC6are', 'AATS0m', 'AATS1pe', 'AATS0are', 'SsBr', 'TIC4', 'ATS0dv', 'SdO', 'SaaNH', 'ATS1i', 'ATSC2are', 'ATS2v', 'Xp-1d', 'SddsN', 'Xpc-5d', 'ATS8dv', 'SRW05', 'nBonds', 'Xpc-4dv', 'Radius', 'AATS1i', 'ATSC5m', 'MPC4', 'piPC8', 'ATSC0Z', 'AATS0se', 'WPol', 'CIC0', 'AATS0v', 'SssssC', 'MIC5', 'ATSC3m', 'ATS6dv', 'GGI1', 'ATS4v', 'SRW04', 'ATS7pe', 'NaaCH', 'ATS7dv', 'ATS0p', 'SsOH', 'MPC3', 'TMPC10', 'VSA_EState3', 'ATS4se', 'Xp-5dv', 'ATS5i', 'nBondsA', 'SMR_VSA1', 'MWC07', 'ATS8p', 'NdO', 'ATSC0d', 'Xpc-4d', 'Xpc-5dv', 'TMWC10', 'ATS0are', 'MWC01', 'ATS2se', 'SssCH2', 'MIC0', 'SaaaC', 'ZMIC0', 'n6Ring', 'GGI4', 'Xp-4dv', 'TIC0', 'Xp-2dv', 'VMcGowan', 'SRW02', 'ATS1v', 'AATS1v', 'SMR_VSA2', 'ATS3i', 'ATSC1are', 'MIC4', 'Xp-6dv', 'TIC2', 'TIC5', 'n5aHRing', 'ATS3pe', 'Xp-4d', 'GGI2', 'Xp-3dv', 'Spe', 'ATS8m', 'SRW10', 'ATS8are', 'ATS2dv', 'ATS7d', 'piPC9', 'TIC3', 'AATSC1dv', 'ATS2p', 'ATSC5pe', 'ATS2i', 'ATS3dv', 'SZ', 'ATSC8pe', 'apol', 'AATSC1v', 'piPC1', 'ATS5v', 'ATS8Z', 'TopoPSA', 'SRW08', 'SddssS', 'SlogP_VSA6', 'piPC2', 'TSRW10', 'Xp-5d', 'ATS4are', 'ATS0se', 'ATSC8are', 'AATS1p', 'ATS4d', 'Xp-6d', 'SsCH3', 'nH', 'ATS8v', 'n6aHRing', 'FCSP3', 'ATS2are', 'Xpc-6d', 'Xp-7dv', 'mZagreb2', 'MPC2', 'AATS1se', 'SaaCH', 'CIC2', 'piPC4', 'piPC3', 'ATSC6pe', 'MPC10', 'ATS4pe', 'C2SP2', 'SMR_VSA7', 'bpol', 'ATSC4are', 'SdsCH', 'piPC7', 'Zagreb2', 'SRW06', 'Xpc-6dv', 'AATS1dv', 'nAromBond', 'AATSC1m', 'ATS7m', 'ATS7i', 'MPC5', 'AATSC0m', 'MWC04', 'SMR', 'ATSC8p', 'SMR_VSA3', 'ATSC5are', 'nBondsKS', 'ATS3p', 'nBondsO', 'MWC06', 'CIC3', 'Xp-1dv', 'ATS4p', 'ATS5are', 'ATSC4m', 'MPC6', 'MWC10', 'MWC03', 'MWC02', 'Xp-3d', 'ATS1se', 'ATSC0m', 'NsF', 'ATS7v', 'AATS1m', 'AATSC1i', 'piPC6', 'TIC1', 'ATS5se', 'MPC7', 'SMR_VSA5', 'ATS6Z', 'SLogP', 'ATS1pe', 'nHeavyAtom', 'ATS4Z', 'ATSC1m', 'ATSC3are', 'IC2', 'ATS5Z', 'ATS6v', 'AATS1Z', 'ZMIC1', 'ATS5pe', 'MWC05', 'MPC9', 'Si', 'nBondsM', 'ATSC0are', 'piPC10', 'ATSC2p', 'SssNH', 'SsNH2', 'GGI3', 'Mm', 'ATSC2m', 'ATS5p', 'ATSC7are', 'Sm', 'Xch-7dv', 'ATS3are', 'ATSC6p', 'Sv', 'ATS3m', 'ATS6are', 'SsF', 'ATS4i', 'Sp', 'AATSC0Z', 'ATS6m', 'EState_VSA9', 'ATS1m', 'fragCpx', 'ATS2Z', 'ATS8se', 'ATS6pe', 'ATS3v', 'ATS6p', 'SlogP_VSA5', 'ATS7se', 'ATSC7pe', 'SlogP_VSA8', 'TpiPC10', 'nBondsS', 'MIC2', 'nRing', 'VSA_EState6', 'SaasN', 'naRing', 'ZMIC2', 'ATSC3pe', 'ATS3Z', 'ATS1p', 'ATS0m', 'ATS3d', 'ATSC4pe', 'ABCGG', 'ATS7Z', 'MPC8', 'MWC08', 'ATS7p', 'SsssN', 'ATS0d', 'ATSC0dv', 'ATS5d', 'AATS0p', 'ATSC0pe', 'SsCl', 'ATS6se', 'LabuteASA', 'SRW09', 'Sare', 'ATS5m', 'AATS0Z', 'SaaN', 'MIC3', 'Xc-3d', 'MW', 'ATSC6m', 'ATS6d', 'ATS2d', 'IC4', 'CIC5'}\n"
     ]
    }
   ],
   "source": [
    "print(correlated_features)"
   ]
  },
  {
   "cell_type": "code",
   "execution_count": 58,
   "id": "3ab1d501",
   "metadata": {},
   "outputs": [
    {
     "name": "stderr",
     "output_type": "stream",
     "text": [
      "C:\\Users\\DEDP Grader\\AppData\\Local\\Temp\\ipykernel_4824\\1003493426.py:1: SettingWithCopyWarning: \n",
      "A value is trying to be set on a copy of a slice from a DataFrame\n",
      "\n",
      "See the caveats in the documentation: https://pandas.pydata.org/pandas-docs/stable/user_guide/indexing.html#returning-a-view-versus-a-copy\n",
      "  X.drop(labels=correlated_features, axis=1, inplace=True)\n"
     ]
    }
   ],
   "source": [
    "X.drop(labels=correlated_features, axis=1, inplace=True)"
   ]
  },
  {
   "cell_type": "code",
   "execution_count": 59,
   "id": "e773c59e",
   "metadata": {},
   "outputs": [
    {
     "name": "stderr",
     "output_type": "stream",
     "text": [
      "C:\\Users\\DEDP Grader\\AppData\\Local\\Temp\\ipykernel_4824\\4124452189.py:1: SettingWithCopyWarning: \n",
      "A value is trying to be set on a copy of a slice from a DataFrame\n",
      "\n",
      "See the caveats in the documentation: https://pandas.pydata.org/pandas-docs/stable/user_guide/indexing.html#returning-a-view-versus-a-copy\n",
      "  X.drop('FilterItLogS', axis=1, inplace=True)\n"
     ]
    }
   ],
   "source": [
    "X.drop('FilterItLogS', axis=1, inplace=True)"
   ]
  },
  {
   "cell_type": "code",
   "execution_count": 60,
   "id": "3e0c28f0",
   "metadata": {},
   "outputs": [
    {
     "data": {
      "text/plain": [
       "(8438, 177)"
      ]
     },
     "execution_count": 60,
     "metadata": {},
     "output_type": "execute_result"
    }
   ],
   "source": [
    "X.shape"
   ]
  },
  {
   "cell_type": "code",
   "execution_count": 22,
   "id": "889cdd1f",
   "metadata": {},
   "outputs": [
    {
     "data": {
      "text/html": [
       "<div>\n",
       "<style scoped>\n",
       "    .dataframe tbody tr th:only-of-type {\n",
       "        vertical-align: middle;\n",
       "    }\n",
       "\n",
       "    .dataframe tbody tr th {\n",
       "        vertical-align: top;\n",
       "    }\n",
       "\n",
       "    .dataframe thead th {\n",
       "        text-align: right;\n",
       "    }\n",
       "</style>\n",
       "<table border=\"1\" class=\"dataframe\">\n",
       "  <thead>\n",
       "    <tr style=\"text-align: right;\">\n",
       "      <th></th>\n",
       "      <th>ABC</th>\n",
       "      <th>nAcid</th>\n",
       "      <th>nBase</th>\n",
       "      <th>nAromAtom</th>\n",
       "      <th>nAtom</th>\n",
       "      <th>nBridgehead</th>\n",
       "      <th>nHetero</th>\n",
       "      <th>nC</th>\n",
       "      <th>nN</th>\n",
       "      <th>nO</th>\n",
       "      <th>...</th>\n",
       "      <th>n5aRing</th>\n",
       "      <th>naHRing</th>\n",
       "      <th>nARing</th>\n",
       "      <th>n5ARing</th>\n",
       "      <th>n6ARing</th>\n",
       "      <th>nAHRing</th>\n",
       "      <th>nFRing</th>\n",
       "      <th>nRot</th>\n",
       "      <th>Diameter</th>\n",
       "      <th>WPath</th>\n",
       "    </tr>\n",
       "  </thead>\n",
       "  <tbody>\n",
       "    <tr>\n",
       "      <th>0</th>\n",
       "      <td>17.213262</td>\n",
       "      <td>0</td>\n",
       "      <td>0</td>\n",
       "      <td>0</td>\n",
       "      <td>45</td>\n",
       "      <td>0</td>\n",
       "      <td>11</td>\n",
       "      <td>12</td>\n",
       "      <td>0</td>\n",
       "      <td>11</td>\n",
       "      <td>...</td>\n",
       "      <td>0</td>\n",
       "      <td>0</td>\n",
       "      <td>2</td>\n",
       "      <td>1</td>\n",
       "      <td>1</td>\n",
       "      <td>2</td>\n",
       "      <td>0</td>\n",
       "      <td>5</td>\n",
       "      <td>10</td>\n",
       "      <td>1110</td>\n",
       "    </tr>\n",
       "    <tr>\n",
       "      <th>1</th>\n",
       "      <td>17.213262</td>\n",
       "      <td>0</td>\n",
       "      <td>0</td>\n",
       "      <td>0</td>\n",
       "      <td>45</td>\n",
       "      <td>0</td>\n",
       "      <td>11</td>\n",
       "      <td>12</td>\n",
       "      <td>0</td>\n",
       "      <td>11</td>\n",
       "      <td>...</td>\n",
       "      <td>0</td>\n",
       "      <td>0</td>\n",
       "      <td>2</td>\n",
       "      <td>1</td>\n",
       "      <td>1</td>\n",
       "      <td>2</td>\n",
       "      <td>0</td>\n",
       "      <td>5</td>\n",
       "      <td>10</td>\n",
       "      <td>1110</td>\n",
       "    </tr>\n",
       "    <tr>\n",
       "      <th>2</th>\n",
       "      <td>17.213262</td>\n",
       "      <td>0</td>\n",
       "      <td>0</td>\n",
       "      <td>0</td>\n",
       "      <td>45</td>\n",
       "      <td>0</td>\n",
       "      <td>11</td>\n",
       "      <td>12</td>\n",
       "      <td>0</td>\n",
       "      <td>11</td>\n",
       "      <td>...</td>\n",
       "      <td>0</td>\n",
       "      <td>0</td>\n",
       "      <td>2</td>\n",
       "      <td>1</td>\n",
       "      <td>1</td>\n",
       "      <td>2</td>\n",
       "      <td>0</td>\n",
       "      <td>5</td>\n",
       "      <td>10</td>\n",
       "      <td>1110</td>\n",
       "    </tr>\n",
       "    <tr>\n",
       "      <th>3</th>\n",
       "      <td>12.118275</td>\n",
       "      <td>0</td>\n",
       "      <td>1</td>\n",
       "      <td>6</td>\n",
       "      <td>31</td>\n",
       "      <td>2</td>\n",
       "      <td>3</td>\n",
       "      <td>12</td>\n",
       "      <td>2</td>\n",
       "      <td>1</td>\n",
       "      <td>...</td>\n",
       "      <td>0</td>\n",
       "      <td>1</td>\n",
       "      <td>2</td>\n",
       "      <td>0</td>\n",
       "      <td>2</td>\n",
       "      <td>2</td>\n",
       "      <td>1</td>\n",
       "      <td>0</td>\n",
       "      <td>7</td>\n",
       "      <td>322</td>\n",
       "    </tr>\n",
       "    <tr>\n",
       "      <th>4</th>\n",
       "      <td>12.118275</td>\n",
       "      <td>0</td>\n",
       "      <td>1</td>\n",
       "      <td>6</td>\n",
       "      <td>31</td>\n",
       "      <td>2</td>\n",
       "      <td>3</td>\n",
       "      <td>12</td>\n",
       "      <td>2</td>\n",
       "      <td>1</td>\n",
       "      <td>...</td>\n",
       "      <td>0</td>\n",
       "      <td>1</td>\n",
       "      <td>2</td>\n",
       "      <td>0</td>\n",
       "      <td>2</td>\n",
       "      <td>2</td>\n",
       "      <td>1</td>\n",
       "      <td>0</td>\n",
       "      <td>7</td>\n",
       "      <td>322</td>\n",
       "    </tr>\n",
       "  </tbody>\n",
       "</table>\n",
       "<p>5 rows × 177 columns</p>\n",
       "</div>"
      ],
      "text/plain": [
       "         ABC  nAcid  nBase  nAromAtom  nAtom  nBridgehead  nHetero  nC  nN  \\\n",
       "0  17.213262      0      0          0     45            0       11  12   0   \n",
       "1  17.213262      0      0          0     45            0       11  12   0   \n",
       "2  17.213262      0      0          0     45            0       11  12   0   \n",
       "3  12.118275      0      1          6     31            2        3  12   2   \n",
       "4  12.118275      0      1          6     31            2        3  12   2   \n",
       "\n",
       "   nO  ...  n5aRing  naHRing  nARing  n5ARing  n6ARing  nAHRing  nFRing  nRot  \\\n",
       "0  11  ...        0        0       2        1        1        2       0     5   \n",
       "1  11  ...        0        0       2        1        1        2       0     5   \n",
       "2  11  ...        0        0       2        1        1        2       0     5   \n",
       "3   1  ...        0        1       2        0        2        2       1     0   \n",
       "4   1  ...        0        1       2        0        2        2       1     0   \n",
       "\n",
       "   Diameter  WPath  \n",
       "0        10   1110  \n",
       "1        10   1110  \n",
       "2        10   1110  \n",
       "3         7    322  \n",
       "4         7    322  \n",
       "\n",
       "[5 rows x 177 columns]"
      ]
     },
     "execution_count": 22,
     "metadata": {},
     "output_type": "execute_result"
    }
   ],
   "source": [
    "X.head()"
   ]
  },
  {
   "cell_type": "code",
   "execution_count": 23,
   "id": "6f75d12f",
   "metadata": {},
   "outputs": [],
   "source": [
    "gf=set()"
   ]
  },
  {
   "cell_type": "code",
   "execution_count": 24,
   "id": "8e8e9d33",
   "metadata": {},
   "outputs": [],
   "source": [
    "i=0\n",
    "for i in range(len(X.columns)):\n",
    "   \n",
    "    colname = X.columns[i]\n",
    "    gf.add(colname)"
   ]
  },
  {
   "cell_type": "code",
   "execution_count": 25,
   "id": "14cb95b3",
   "metadata": {},
   "outputs": [
    {
     "data": {
      "text/plain": [
       "{'AATS0d',\n",
       " 'AATS0dv',\n",
       " 'AATS0i',\n",
       " 'AATSC0dv',\n",
       " 'AATSC0i',\n",
       " 'AATSC0v',\n",
       " 'AATSC1Z',\n",
       " 'ABC',\n",
       " 'ATS0Z',\n",
       " 'ATSC0i',\n",
       " 'ATSC1Z',\n",
       " 'ATSC1d',\n",
       " 'ATSC1dv',\n",
       " 'ATSC1i',\n",
       " 'ATSC1p',\n",
       " 'ATSC1se',\n",
       " 'ATSC1v',\n",
       " 'ATSC2Z',\n",
       " 'ATSC2d',\n",
       " 'ATSC2dv',\n",
       " 'ATSC2i',\n",
       " 'ATSC2se',\n",
       " 'ATSC2v',\n",
       " 'ATSC3Z',\n",
       " 'ATSC3d',\n",
       " 'ATSC3dv',\n",
       " 'ATSC3i',\n",
       " 'ATSC3p',\n",
       " 'ATSC3se',\n",
       " 'ATSC3v',\n",
       " 'ATSC4Z',\n",
       " 'ATSC4d',\n",
       " 'ATSC4dv',\n",
       " 'ATSC4i',\n",
       " 'ATSC4p',\n",
       " 'ATSC4se',\n",
       " 'ATSC4v',\n",
       " 'ATSC5Z',\n",
       " 'ATSC5d',\n",
       " 'ATSC5dv',\n",
       " 'ATSC5i',\n",
       " 'ATSC5p',\n",
       " 'ATSC5se',\n",
       " 'ATSC5v',\n",
       " 'ATSC6Z',\n",
       " 'ATSC6d',\n",
       " 'ATSC6dv',\n",
       " 'ATSC6i',\n",
       " 'ATSC6se',\n",
       " 'ATSC6v',\n",
       " 'ATSC7Z',\n",
       " 'ATSC7d',\n",
       " 'ATSC7dv',\n",
       " 'ATSC7i',\n",
       " 'ATSC7p',\n",
       " 'ATSC7v',\n",
       " 'ATSC8Z',\n",
       " 'ATSC8d',\n",
       " 'ATSC8dv',\n",
       " 'ATSC8i',\n",
       " 'ATSC8v',\n",
       " 'BalabanJ',\n",
       " 'C1SP2',\n",
       " 'C1SP3',\n",
       " 'C2SP3',\n",
       " 'C3SP2',\n",
       " 'C3SP3',\n",
       " 'CIC1',\n",
       " 'Diameter',\n",
       " 'ECIndex',\n",
       " 'EState_VSA1',\n",
       " 'EState_VSA2',\n",
       " 'EState_VSA3',\n",
       " 'EState_VSA4',\n",
       " 'EState_VSA5',\n",
       " 'EState_VSA6',\n",
       " 'EState_VSA7',\n",
       " 'EState_VSA8',\n",
       " 'GATS1i',\n",
       " 'GATS1p',\n",
       " 'IC1',\n",
       " 'NaaN',\n",
       " 'NaaNH',\n",
       " 'NaaaC',\n",
       " 'NaasC',\n",
       " 'NaasN',\n",
       " 'NddsN',\n",
       " 'NddssS',\n",
       " 'NdsCH',\n",
       " 'NdssC',\n",
       " 'NsCH3',\n",
       " 'NsNH2',\n",
       " 'NsOH',\n",
       " 'NssCH2',\n",
       " 'NssNH',\n",
       " 'NssO',\n",
       " 'NsssCH',\n",
       " 'NsssN',\n",
       " 'NssssC',\n",
       " 'PEOE_VSA1',\n",
       " 'PEOE_VSA10',\n",
       " 'PEOE_VSA11',\n",
       " 'PEOE_VSA12',\n",
       " 'PEOE_VSA13',\n",
       " 'PEOE_VSA2',\n",
       " 'PEOE_VSA3',\n",
       " 'PEOE_VSA4',\n",
       " 'PEOE_VSA5',\n",
       " 'PEOE_VSA6',\n",
       " 'PEOE_VSA7',\n",
       " 'PEOE_VSA8',\n",
       " 'PEOE_VSA9',\n",
       " 'SMR_VSA4',\n",
       " 'SMR_VSA6',\n",
       " 'SMR_VSA9',\n",
       " 'SaaO',\n",
       " 'SaasC',\n",
       " 'SdCH2',\n",
       " 'SdNH',\n",
       " 'SdS',\n",
       " 'SdsN',\n",
       " 'SdssC',\n",
       " 'SdsssP',\n",
       " 'SlogP_VSA1',\n",
       " 'SlogP_VSA10',\n",
       " 'SlogP_VSA11',\n",
       " 'SlogP_VSA2',\n",
       " 'SlogP_VSA3',\n",
       " 'SlogP_VSA4',\n",
       " 'SlogP_VSA7',\n",
       " 'SsI',\n",
       " 'SsSH',\n",
       " 'SssS',\n",
       " 'SsssCH',\n",
       " 'StCH',\n",
       " 'StN',\n",
       " 'StsC',\n",
       " 'VSA_EState1',\n",
       " 'VSA_EState2',\n",
       " 'VSA_EState4',\n",
       " 'VSA_EState7',\n",
       " 'VSA_EState8',\n",
       " 'VSA_EState9',\n",
       " 'WPath',\n",
       " 'Xc-3dv',\n",
       " 'Xc-5d',\n",
       " 'Xc-5dv',\n",
       " 'Xch-7d',\n",
       " 'n5ARing',\n",
       " 'n5HRing',\n",
       " 'n5Ring',\n",
       " 'n5aRing',\n",
       " 'n6ARing',\n",
       " 'n6HRing',\n",
       " 'nAHRing',\n",
       " 'nARing',\n",
       " 'nAcid',\n",
       " 'nAromAtom',\n",
       " 'nAtom',\n",
       " 'nBase',\n",
       " 'nBondsD',\n",
       " 'nBr',\n",
       " 'nBridgehead',\n",
       " 'nC',\n",
       " 'nCl',\n",
       " 'nF',\n",
       " 'nFRing',\n",
       " 'nHBAcc',\n",
       " 'nHBDon',\n",
       " 'nHRing',\n",
       " 'nHetero',\n",
       " 'nN',\n",
       " 'nO',\n",
       " 'nRot',\n",
       " 'nS',\n",
       " 'nX',\n",
       " 'naHRing'}"
      ]
     },
     "execution_count": 25,
     "metadata": {},
     "output_type": "execute_result"
    }
   ],
   "source": [
    "gf\n"
   ]
  },
  {
   "cell_type": "code",
   "execution_count": 29,
   "id": "3919c32a",
   "metadata": {},
   "outputs": [],
   "source": [
    "X.to_excel(r'D:/python/rdkit/file name descriptor 8000data.xlsx', index = False)"
   ]
  },
  {
   "cell_type": "code",
   "execution_count": 61,
   "id": "b8c506dd",
   "metadata": {},
   "outputs": [
    {
     "data": {
      "text/plain": [
       "0       0.79\n",
       "1       0.79\n",
       "2       0.79\n",
       "3       0.65\n",
       "4       0.65\n",
       "        ... \n",
       "8433    0.26\n",
       "8434    1.57\n",
       "8435    0.32\n",
       "8436    1.12\n",
       "8437    0.96\n",
       "Name: measured log(solubility:mol/L), Length: 8438, dtype: float64"
      ]
     },
     "execution_count": 61,
     "metadata": {},
     "output_type": "execute_result"
    }
   ],
   "source": [
    "y = sol.iloc[:,1]\n",
    "y"
   ]
  },
  {
   "cell_type": "markdown",
   "id": "bd127eb4",
   "metadata": {
    "scrolled": true
   },
   "source": [
    "Y = sol.iloc[:,1]\n",
    "Y"
   ]
  },
  {
   "cell_type": "code",
   "execution_count": 62,
   "id": "306fe7d2",
   "metadata": {},
   "outputs": [],
   "source": [
    "#data split\n",
    "from sklearn.model_selection import train_test_split\n",
    "X_train, X_test, Y_train, Y_test = train_test_split(X, Y, test_size=0.2,random_state=991)\n",
    "#test size is 20% and traing size is 80%\n",
    "#linear regression\n",
    "from sklearn import linear_model\n",
    "from sklearn.linear_model import LinearRegression\n",
    "from sklearn.metrics import mean_squared_error, r2_score"
   ]
  },
  {
   "cell_type": "code",
   "execution_count": 28,
   "id": "48c82c30",
   "metadata": {},
   "outputs": [
    {
     "data": {
      "text/plain": [
       "LinearRegression()"
      ]
     },
     "execution_count": 28,
     "metadata": {},
     "output_type": "execute_result"
    }
   ],
   "source": [
    "reg = LinearRegression()\n",
    "reg.fit(X_train,Y_train)"
   ]
  },
  {
   "cell_type": "code",
   "execution_count": 29,
   "id": "11967834",
   "metadata": {},
   "outputs": [
    {
     "name": "stdout",
     "output_type": "stream",
     "text": [
      "Mean squared error (MSE): 0.82\n",
      "Coefficient of determination (R^2): 0.80\n"
     ]
    }
   ],
   "source": [
    "#predicts the X_train\n",
    "Y_pred_train = reg.predict(X_train)\n",
    "#print('Coefficients:', model.coef_)\n",
    "#print('Intercept:', model.intercept_)\n",
    "print('Mean squared error (MSE): %.2f'\n",
    "      % mean_squared_error(Y_train, Y_pred_train,squared=False))\n",
    "print('Coefficient of determination (R^2): %.2f'\n",
    "      % r2_score(Y_train, Y_pred_train))"
   ]
  },
  {
   "cell_type": "code",
   "execution_count": 30,
   "id": "d72801b8",
   "metadata": {},
   "outputs": [
    {
     "name": "stdout",
     "output_type": "stream",
     "text": [
      "MAE (filtered test): 0.6188072321630196\n",
      "RMSE (filtered test): 0.8216739684287228\n",
      "R^2 (filtered test): 0.8032087697767143\n"
     ]
    }
   ],
   "source": [
    "mae_test2 = mean_absolute_error(Y_train, Y_pred_train)\n",
    "rmse_test2 = np.sqrt(mean_squared_error(Y_train, Y_pred_train))\n",
    "r2_test2 = r2_score(Y_train, Y_pred_train)\n",
    "\n",
    "# Print the results\n",
    "print(\"MAE (filtered test):\", mae_test2)\n",
    "print(\"RMSE (filtered test):\", rmse_test2)\n",
    "print(\"R^2 (filtered test):\", r2_test2)"
   ]
  },
  {
   "cell_type": "code",
   "execution_count": 31,
   "id": "28407cc0",
   "metadata": {},
   "outputs": [
    {
     "name": "stdout",
     "output_type": "stream",
     "text": [
      "Mean squared error (MSE): 0.83\n",
      "Coefficient of determination (R^2): 0.81\n"
     ]
    }
   ],
   "source": [
    "#predicts the X_test\n",
    "Y_pred_test = reg.predict(X_test)\n",
    "#print('Coefficients:', model.coef_)44444444444\n",
    "#print('Intercept:', model.intercept_)\n",
    "print('Mean squared error (MSE): %.2f'\n",
    "      % mean_squared_error(Y_test, Y_pred_test,squared=False))\n",
    "print('Coefficient of determination (R^2): %.2f'\n",
    "      % r2_score(Y_test, Y_pred_test))"
   ]
  },
  {
   "cell_type": "code",
   "execution_count": 32,
   "id": "213e9686",
   "metadata": {},
   "outputs": [
    {
     "name": "stdout",
     "output_type": "stream",
     "text": [
      "MAE (filtered test): 0.6240465444682148\n",
      "RMSE (filtered test): 0.8271264014635348\n",
      "R^2 (filtered test): 0.806279747522247\n"
     ]
    }
   ],
   "source": [
    "mae_filtered_test2 = mean_absolute_error(Y_test, Y_pred_test)\n",
    "rmse_filtered_test2 = np.sqrt(mean_squared_error(Y_test, Y_pred_test))\n",
    "r2_filtered_test2 = r2_score(Y_test, Y_pred_test)\n",
    "\n",
    "# Print the results\n",
    "print(\"MAE (filtered test):\", mae_filtered_test2)\n",
    "print(\"RMSE (filtered test):\", rmse_filtered_test2)\n",
    "print(\"R^2 (filtered test):\", r2_filtered_test2)"
   ]
  },
  {
   "cell_type": "code",
   "execution_count": null,
   "id": "6f721ce7",
   "metadata": {},
   "outputs": [],
   "source": []
  },
  {
   "cell_type": "code",
   "execution_count": 33,
   "id": "a78af7f1",
   "metadata": {},
   "outputs": [
    {
     "name": "stdout",
     "output_type": "stream",
     "text": [
      "(6750, 177) (1688, 177) (6750,) (1688,)\n"
     ]
    }
   ],
   "source": [
    "import numpy as np\n",
    "\n",
    "# Convert lists to numpy arrays\n",
    "X_train = np.array(X_train)\n",
    "X_test = np.array(X_test)\n",
    "Y_train = np.array(Y_train)\n",
    "Y_test = np.array(Y_test)\n",
    "\n",
    "# Print the shapes\n",
    "print(X_train.shape, X_test.shape, Y_train.shape, Y_test.shape)"
   ]
  },
  {
   "cell_type": "code",
   "execution_count": 34,
   "id": "f35652d2",
   "metadata": {},
   "outputs": [
    {
     "name": "stderr",
     "output_type": "stream",
     "text": [
      "C:\\Users\\DEDP Grader\\anaconda3\\envs\\rdkit\\lib\\site-packages\\sklearn\\base.py:445: UserWarning: X does not have valid feature names, but LinearRegression was fitted with feature names\n",
      "  warnings.warn(\n"
     ]
    }
   ],
   "source": [
    "yhat = reg.predict(X_test)"
   ]
  },
  {
   "cell_type": "code",
   "execution_count": 35,
   "id": "c6b0ad0a",
   "metadata": {},
   "outputs": [],
   "source": [
    "from sklearn.neighbors import LocalOutlierFactor\n",
    "\n",
    "\n",
    "lof = LocalOutlierFactor()\n",
    "yhat = lof.fit_predict(X_test)\n",
    "\n"
   ]
  },
  {
   "cell_type": "code",
   "execution_count": 36,
   "id": "9aae976e",
   "metadata": {},
   "outputs": [
    {
     "name": "stdout",
     "output_type": "stream",
     "text": [
      "(1536, 177) (1536,)\n"
     ]
    }
   ],
   "source": [
    "mask = yhat != -1\n",
    "X_test, Y_test = X_test[mask, :], Y_test[mask]\n",
    "print(X_test.shape, Y_test.shape)\n",
    "# fit the model"
   ]
  },
  {
   "cell_type": "code",
   "execution_count": 37,
   "id": "9978970a",
   "metadata": {},
   "outputs": [],
   "source": [
    "from sklearn.neighbors import LocalOutlierFactor\n",
    "\n",
    "lof = LocalOutlierFactor()\n",
    "yhat = lof.fit_predict(X_train)"
   ]
  },
  {
   "cell_type": "code",
   "execution_count": 38,
   "id": "77cbb885",
   "metadata": {},
   "outputs": [
    {
     "name": "stdout",
     "output_type": "stream",
     "text": [
      "(6515, 177) (6515,)\n"
     ]
    }
   ],
   "source": [
    "mask = yhat != -1\n",
    "X_train, Y_train = X_train[mask, :], Y_train[mask]\n",
    "print(X_train.shape, Y_train.shape)"
   ]
  },
  {
   "cell_type": "code",
   "execution_count": 39,
   "id": "f695fca7",
   "metadata": {},
   "outputs": [
    {
     "name": "stdout",
     "output_type": "stream",
     "text": [
      "MAE: 0.606\n"
     ]
    }
   ],
   "source": [
    "reg = LinearRegression()\n",
    "reg.fit(X_train,Y_train)\n",
    "# evaluate the model\n",
    "Y_test_pred2 = reg.predict(X_test)\n",
    "# evaluate predictions\n",
    "mae = mean_absolute_error(Y_test, Y_test_pred2)\n",
    "print('MAE: %.3f' % mae)"
   ]
  },
  {
   "cell_type": "code",
   "execution_count": 40,
   "id": "f21d53c2",
   "metadata": {},
   "outputs": [
    {
     "name": "stdout",
     "output_type": "stream",
     "text": [
      "RMSE (filtered): 0.8015088299045047\n",
      "R^2 (filtered): 0.8121449172339124\n"
     ]
    }
   ],
   "source": [
    "from sklearn.metrics import mean_squared_error, r2_score\n",
    "\n",
    "# Calculate RMSE\n",
    "rmse_filtered = np.sqrt(mean_squared_error(Y_test, Y_test_pred2))\n",
    "\n",
    "# Calculate R^2\n",
    "r2_filtered = r2_score(Y_test, Y_test_pred2)\n",
    "\n",
    "print(\"RMSE (filtered):\", rmse_filtered)\n",
    "print(\"R^2 (filtered):\", r2_filtered)"
   ]
  },
  {
   "cell_type": "code",
   "execution_count": null,
   "id": "77a59e64",
   "metadata": {},
   "outputs": [],
   "source": []
  },
  {
   "cell_type": "code",
   "execution_count": 41,
   "id": "b309cb6b",
   "metadata": {},
   "outputs": [
    {
     "name": "stdout",
     "output_type": "stream",
     "text": [
      "MAE: 0.606\n"
     ]
    }
   ],
   "source": [
    "\n",
    "Y_train_pred2 = reg.predict(X_train)\n",
    "# evaluate predictions\n",
    "mae = mean_absolute_error(Y_train, Y_train_pred2)\n",
    "print('MAE: %.3f' % mae)"
   ]
  },
  {
   "cell_type": "code",
   "execution_count": 42,
   "id": "a9ddd679",
   "metadata": {},
   "outputs": [
    {
     "name": "stdout",
     "output_type": "stream",
     "text": [
      "RMSE (filtered): 0.8060812391369497\n",
      "R^2 (filtered): 0.8074133405628051\n"
     ]
    }
   ],
   "source": [
    "from sklearn.metrics import mean_squared_error, r2_score\n",
    "\n",
    "# Calculate RMSE\n",
    "rmse_filtered = np.sqrt(mean_squared_error(Y_train, Y_train_pred2))\n",
    "\n",
    "# Calculate R^2\n",
    "r2_filtered = r2_score(Y_train, Y_train_pred2)\n",
    "\n",
    "print(\"RMSE (filtered):\", rmse_filtered)\n",
    "print(\"R^2 (filtered):\", r2_filtered)"
   ]
  },
  {
   "cell_type": "code",
   "execution_count": 159,
   "id": "8c70128c",
   "metadata": {},
   "outputs": [
    {
     "name": "stdout",
     "output_type": "stream",
     "text": [
      "RMSE (filtered): 0.8015088299045047\n",
      "R^2 (filtered): 0.8121449172339124\n"
     ]
    }
   ],
   "source": [
    "from sklearn.metrics import mean_squared_error, r2_score\n",
    "\n",
    "# Calculate RMSE\n",
    "rmse_filtered = np.sqrt(mean_squared_error(Y_test, Y_test_pred2))\n",
    "\n",
    "# Calculate R^2\n",
    "r2_filtered = r2_score(Y_test, Y_test_pred2)\n",
    "\n",
    "print(\"RMSE (filtered):\", rmse_filtered)\n",
    "print(\"R^2 (filtered):\", r2_filtered)"
   ]
  },
  {
   "cell_type": "code",
   "execution_count": null,
   "id": "beb6ff0c",
   "metadata": {},
   "outputs": [],
   "source": []
  },
  {
   "cell_type": "code",
   "execution_count": null,
   "id": "86a4ea3a",
   "metadata": {},
   "outputs": [],
   "source": []
  },
  {
   "cell_type": "code",
   "execution_count": null,
   "id": "d7ff9e73",
   "metadata": {},
   "outputs": [],
   "source": []
  },
  {
   "cell_type": "code",
   "execution_count": 31,
   "id": "7995da72",
   "metadata": {},
   "outputs": [],
   "source": [
    "import numpy as np\n",
    "\n",
    "# Assuming you have a NumPy array or pandas DataFrame named 'X_train' containing your training data\n",
    "\n",
    "# Calculate the mean and standard deviation for each feature\n",
    "mean = np.mean(X_train, axis=0)\n",
    "std = np.std(X_train, axis=0)\n",
    "\n",
    "# Define the threshold for outliers\n",
    "threshold = 5 * std\n",
    "\n",
    "# Identify outliers based on the z-score\n",
    "outliers = np.abs((X_train - mean) / std) > threshold\n",
    "\n",
    "# Remove outliers from X_train\n",
    "X_train_filtered = X_train[~np.any(outliers, axis=1)]\n",
    "y_train_filtered = Y_train[~np.any(outliers, axis=1)]\n"
   ]
  },
  {
   "cell_type": "code",
   "execution_count": 32,
   "id": "cc8983f1",
   "metadata": {},
   "outputs": [
    {
     "data": {
      "text/plain": [
       "(2113, 177)"
      ]
     },
     "execution_count": 32,
     "metadata": {},
     "output_type": "execute_result"
    }
   ],
   "source": [
    "X_train_filtered.shape"
   ]
  },
  {
   "cell_type": "code",
   "execution_count": 137,
   "id": "3fd8eeab",
   "metadata": {},
   "outputs": [
    {
     "name": "stdout",
     "output_type": "stream",
     "text": [
      "RMSE: 0.6890788139186115\n",
      "MAE: 0.49678131973661993\n",
      "R^2: 0.8873446449671311\n"
     ]
    }
   ],
   "source": [
    "from sklearn.model_selection import train_test_split\n",
    "from sklearn.linear_model import LinearRegression\n",
    "from sklearn.metrics import mean_squared_error, mean_absolute_error, r2_score\n",
    "\n",
    "# Assuming you have your filtered X_train data as X_train_filtered\n",
    "\n",
    "# Split the filtered data into training and testing sets\n",
    "X_train_split, X_test_split, y_train_split, y_test_split = train_test_split(X_train_filtered, y_train_filtered, test_size=0.2, random_state=42)\n",
    "\n",
    "# Create a linear regression model\n",
    "model = LinearRegression()\n",
    "\n",
    "# Fit the model on the training data\n",
    "model.fit(X_train_split, y_train_split)\n",
    "\n",
    "# Predict the target variable for the test data\n",
    "y_pred = model.predict(X_test_split)\n",
    "\n",
    "# Calculate RMSE\n",
    "rmse = np.sqrt(mean_squared_error(y_test_split, y_pred))\n",
    "\n",
    "# Calculate MAE\n",
    "mae = mean_absolute_error(y_test_split, y_pred)\n",
    "\n",
    "# Calculate R^2 score\n",
    "r2 = r2_score(y_test_split, y_pred)\n",
    "\n",
    "print(\"RMSE:\", rmse)\n",
    "print(\"MAE:\", mae)\n",
    "print(\"R^2:\", r2)\n"
   ]
  },
  {
   "cell_type": "code",
   "execution_count": 39,
   "id": "3dec2ee0",
   "metadata": {},
   "outputs": [
    {
     "name": "stdout",
     "output_type": "stream",
     "text": [
      "RMSE (Train): 0.5975178307325223\n",
      "MAE (Train): 0.4412918233775504\n",
      "R^2 (Train): 0.9221026807747228\n"
     ]
    }
   ],
   "source": [
    "\n",
    "\n",
    "# Predict the target variable for the training data\n",
    "y_pred_train = model.predict(X_train_filtered)\n",
    "\n",
    "# Calculate RMSE for training data\n",
    "rmse_train = np.sqrt(mean_squared_error(y_train_filtered, y_pred_train))\n",
    "\n",
    "# Calculate MAE for training data\n",
    "mae_train = mean_absolute_error(y_train_filtered, y_pred_train)\n",
    "\n",
    "# Calculate R^2 score for training data\n",
    "r2_train = r2_score(y_train_filtered, y_pred_train)\n",
    "\n",
    "print(\"RMSE (Train):\", rmse_train)\n",
    "print(\"MAE (Train):\", mae_train)\n",
    "print(\"R^2 (Train):\", r2_train)\n"
   ]
  },
  {
   "cell_type": "code",
   "execution_count": 44,
   "id": "bbe93fa7",
   "metadata": {},
   "outputs": [
    {
     "data": {
      "image/png": "[encoded data removed]",
      "text/plain": [
       "<Figure size 360x792 with 2 Axes>"
      ]
     },
     "metadata": {
      "needs_background": "light"
     },
     "output_type": "display_data"
    }
   ],
   "source": [
    "#Vertical plot\n",
    "plt.figure(figsize=(5,11))\n",
    "\n",
    "# 2 row, 1 column, plot 1\n",
    "plt.subplot(2, 1, 1)\n",
    "plt.scatter(x=y_train_filtered, y=y_pred_train, c=\"#7CAE00\", alpha=1)\n",
    "\n",
    "# Add trendline\n",
    "# https://stackoverflow.com/questions/26447191/how-to-add-trendline-in-python-matplotlib-dot-scatter-graphs\n",
    "z = np.polyfit(y_train_filtered, y_pred_train, 1)\n",
    "p = np.poly1d(z)\n",
    "plt.plot(Y_test,p(Y_test),\"#F8766D\")\n",
    "\n",
    "\n",
    "plt.xlabel('Experimental LogS',fontsize=13)\n",
    "plt.ylabel('Predicted LogS',fontsize=13)\n",
    "\n",
    "\n",
    "# 2 row, 1 column, plot 2\n",
    "plt.subplot(2, 1, 2)\n",
    "plt.scatter(x=y_test_split, y=y_pred, c=\"#619CFF\", alpha=1)\n",
    "\n",
    "z = np.polyfit(y_test_split, y_pred, 1)\n",
    "p = np.poly1d(z)\n",
    "plt.plot(Y_test,p(Y_test),\"#F8766D\")\n",
    "\n",
    "plt.ylabel('Predicted LogS',fontsize=13)\n",
    "plt.xlabel('Experimental LogS',fontsize=13)\n",
    "\n",
    "#plt.savefig('plot_vertical_logS.png')\n",
    "plt.savefig('RF-DS after.pdf',dpi=1200)\n",
    "plt.show()"
   ]
  },
  {
   "cell_type": "code",
   "execution_count": null,
   "id": "a4f47325",
   "metadata": {},
   "outputs": [],
   "source": []
  },
  {
   "cell_type": "code",
   "execution_count": null,
   "id": "8158a9bf",
   "metadata": {},
   "outputs": [],
   "source": []
  },
  {
   "cell_type": "code",
   "execution_count": null,
   "id": "bcf6fad4",
   "metadata": {},
   "outputs": [],
   "source": []
  },
  {
   "cell_type": "code",
   "execution_count": 44,
   "id": "c9c667ef",
   "metadata": {},
   "outputs": [
    {
     "name": "stdout",
     "output_type": "stream",
     "text": [
      "ABC : -0.15744879535277845\n",
      "nAcid : -0.39429834333662583\n",
      "nBase : 0.14953852633987533\n",
      "nAromAtom : 0.21147526791678214\n",
      "nAtom : -0.17434578031405404\n",
      "nBridgehead : 0.10623186852941115\n",
      "nHetero : -1.9662648429913678\n",
      "nC : -1.0276275997304334\n",
      "nN : 0.8661099267939315\n",
      "nO : 1.166310069733236\n",
      "nS : -2.5402871470842157\n",
      "nF : 37.239437072868284\n",
      "nCl : 35.20562949822046\n",
      "nBr : 21.81134252839476\n",
      "nX : -37.9659968151415\n",
      "ATS0Z : 0.013745352860719349\n",
      "AATS0dv : -0.0007319041351990952\n",
      "AATS0d : 0.0544675534242642\n",
      "AATS0i : -0.004873195739193613\n",
      "ATSC1dv : 0.024046518138185764\n",
      "ATSC2dv : -0.006940180958330683\n",
      "ATSC3dv : -0.0036628521248247975\n",
      "ATSC4dv : -0.002567367598853014\n",
      "ATSC5dv : -6.467311343795554e-05\n",
      "ATSC6dv : -0.005039318822292188\n",
      "ATSC7dv : 0.0005007591475885455\n",
      "ATSC8dv : 0.00011285473788008593\n",
      "ATSC1d : -0.05127518146959412\n",
      "ATSC2d : 0.05575447291069454\n",
      "ATSC3d : 0.005660637438971723\n",
      "ATSC4d : 0.00634150854307999\n",
      "ATSC5d : 0.012066277895800191\n",
      "ATSC6d : 0.0027038594586309556\n",
      "ATSC7d : -0.005886434879122951\n",
      "ATSC8d : 0.015028997566965414\n",
      "ATSC1Z : 3.1928218873211733e-06\n",
      "ATSC2Z : 0.0009029425327238272\n",
      "ATSC3Z : 0.0004028962878009079\n",
      "ATSC4Z : 5.752356158694738e-05\n",
      "ATSC5Z : -0.00013325524422569401\n",
      "ATSC6Z : -0.0010744573338135055\n",
      "ATSC7Z : 0.000435975256090515\n",
      "ATSC8Z : 0.0007489742825493861\n",
      "ATSC1v : 0.006648887164701023\n",
      "ATSC2v : -0.00039559352259033176\n",
      "ATSC3v : -0.00019230133709413622\n",
      "ATSC4v : 0.0002345846428664089\n",
      "ATSC5v : -4.253170477142021e-06\n",
      "ATSC6v : 0.0003988568733639397\n",
      "ATSC7v : 0.00015272370619179299\n",
      "ATSC8v : -0.0001359104623830376\n",
      "ATSC1se : 0.9704093837235614\n",
      "ATSC2se : -0.005172700608472913\n",
      "ATSC3se : 0.08764993440804929\n",
      "ATSC4se : -0.003345506969885337\n",
      "ATSC5se : 7.365364001475638e-05\n",
      "ATSC6se : 0.16019825311664646\n",
      "ATSC1p : -0.23765203841225183\n",
      "ATSC3p : -0.060436355774206335\n",
      "ATSC4p : -0.010837379138765035\n",
      "ATSC5p : 0.007885717814343052\n",
      "ATSC7p : -0.04086636865641335\n",
      "ATSC0i : 0.02296647384233297\n",
      "ATSC1i : -0.018601470284369093\n",
      "ATSC2i : -0.0015428667998238499\n",
      "ATSC3i : 0.002398289996390357\n",
      "ATSC4i : -0.007820459415032843\n",
      "ATSC5i : -0.007689509567590513\n",
      "ATSC6i : -0.010087137670908852\n",
      "ATSC7i : 0.0010282045440879184\n",
      "ATSC8i : 0.0042750974729405256\n",
      "AATSC0dv : -0.04366122387527083\n",
      "AATSC1Z : -0.013922333279875243\n",
      "AATSC0v : -0.00038483591031202025\n",
      "AATSC0i : -0.040190435907404565\n",
      "GATS1p : 0.5833456338822307\n",
      "GATS1i : -0.3228171200631902\n",
      "BalabanJ : 0.29303929395491857\n",
      "nBondsD : -0.18378868037311324\n",
      "C1SP2 : -0.020152932023446757\n",
      "C3SP2 : -0.11309006026008558\n",
      "C1SP3 : -0.07684287744155072\n",
      "C2SP3 : -0.23257403334357424\n",
      "C3SP3 : -0.09739442603548634\n",
      "Xch-7d : 0.026245419660116842\n",
      "Xc-5d : 0.5106062658661821\n",
      "Xc-3dv : -0.3329111721291401\n",
      "Xc-5dv : -0.05657278399844916\n",
      "NsCH3 : 0.35559961505869764\n",
      "NssCH2 : 0.5179514636071991\n",
      "NdsCH : 0.20417936612271947\n",
      "NsssCH : 0.5549627577955583\n",
      "NdssC : 0.18460905685583207\n",
      "NaasC : -0.11126510074657778\n",
      "NaaaC : -0.298861859484862\n",
      "NssssC : 0.6291685587661617\n",
      "NsNH2 : 0.49240357028713544\n",
      "NssNH : 0.3728726748906349\n",
      "NaaNH : -0.3870377152243288\n",
      "NaaN : 0.09085987444682778\n",
      "NsssN : 0.08495446891498043\n",
      "NddsN : -0.6228639802883533\n",
      "NaasN : 0.45213330560413123\n",
      "NsOH : 0.3050075689945201\n",
      "NssO : -0.4964633089928917\n",
      "NddssS : -0.6366186471414922\n",
      "SdCH2 : 0.08716400747578265\n",
      "StCH : 0.06259728672080939\n",
      "SsssCH : 0.013499710380145746\n",
      "StsC : -0.02074035401888366\n",
      "SdssC : -0.1024400959731882\n",
      "SaasC : -0.2785477388236868\n",
      "SdNH : -0.0010157858257704572\n",
      "StN : 0.07351953028145292\n",
      "SdsN : 0.10682897909585903\n",
      "SaaO : -0.14166362338241\n",
      "SdsssP : 0.07629730377723927\n",
      "SsSH : 0.07828193771517669\n",
      "SdS : -0.04753042909178544\n",
      "SssS : 0.05743605696467596\n",
      "SsI : -0.4693146662164879\n",
      "ECIndex : 0.0011564592590840306\n",
      "nHBAcc : -0.17075075142927543\n",
      "nHBDon : 0.06054603369043016\n",
      "IC1 : 0.17214238385787756\n",
      "CIC1 : -0.30060667064780333\n",
      "PEOE_VSA1 : 0.04940353974048728\n",
      "PEOE_VSA2 : 0.05639770872886629\n",
      "PEOE_VSA3 : 0.03440451720091936\n",
      "PEOE_VSA4 : 0.005582993085354149\n",
      "PEOE_VSA5 : 0.03392440915066408\n",
      "PEOE_VSA6 : 0.0349314139936161\n",
      "PEOE_VSA7 : 0.05085479464565612\n",
      "PEOE_VSA8 : 0.04719580105031573\n",
      "PEOE_VSA9 : 0.03994040676911326\n",
      "PEOE_VSA10 : 0.017137474902436778\n",
      "PEOE_VSA11 : 0.011682200509758767\n",
      "PEOE_VSA12 : 0.008431120716139162\n",
      "PEOE_VSA13 : -0.00025684542343229477\n",
      "SMR_VSA4 : -0.05350799088132885\n",
      "SMR_VSA6 : -0.00573133958493377\n",
      "SMR_VSA9 : -0.007320990493115298\n",
      "SlogP_VSA1 : 0.010014821827383447\n",
      "SlogP_VSA2 : 0.04489243387679487\n",
      "SlogP_VSA3 : 0.03017738580226792\n",
      "SlogP_VSA4 : 0.007599534897784865\n",
      "SlogP_VSA7 : -0.005991669267450372\n",
      "SlogP_VSA10 : -0.031572259085965726\n",
      "SlogP_VSA11 : -0.006861356543692784\n",
      "EState_VSA1 : -0.000626678207368947\n",
      "EState_VSA2 : 0.013672411175317895\n",
      "EState_VSA3 : 0.014728312070174887\n",
      "EState_VSA4 : 0.020963112978295673\n",
      "EState_VSA5 : 0.009856200964696082\n",
      "EState_VSA6 : 0.02335704533364158\n",
      "EState_VSA7 : 0.029692264716624006\n",
      "EState_VSA8 : 0.010158235450886455\n",
      "VSA_EState1 : 0.0873370434121945\n",
      "VSA_EState2 : 0.012428146759162872\n",
      "VSA_EState4 : 0.0372757136884454\n",
      "VSA_EState7 : -0.007802903005043937\n",
      "VSA_EState8 : -0.012108378021829624\n",
      "VSA_EState9 : 0.08773101200179612\n",
      "n5Ring : -0.17300186466095457\n",
      "nHRing : -0.008126664745011947\n",
      "n5HRing : 0.29130745041296463\n",
      "n6HRing : 0.32441185685374346\n",
      "n5aRing : -0.14939258420954682\n",
      "naHRing : 0.18085428566020642\n",
      "nARing : -0.04661939296710599\n",
      "n5ARing : -0.02360928046146274\n",
      "n6ARing : -0.20991295701385265\n",
      "nAHRing : -0.18898095041115637\n",
      "nFRing : -0.19807810162154746\n",
      "nRot : 0.015906073213931116\n",
      "Diameter : -0.1166346442377546\n",
      "WPath : 0.0015183338415925007\n"
     ]
    }
   ],
   "source": [
    "\n",
    "#reg = LinearRegression()\n",
    "#reg.fit(X, y)\n",
    "i=0\n",
    "\n",
    "for i in range(len(X.columns)):\n",
    "# Print out the coefficients for each fingerprint\n",
    "\n",
    "    print(X.columns[i], \":\", reg.coef_[i])"
   ]
  },
  {
   "cell_type": "code",
   "execution_count": 45,
   "id": "26e6c710",
   "metadata": {},
   "outputs": [
    {
     "name": "stdout",
     "output_type": "stream",
     "text": [
      "nF : 37.239437072868284\n",
      "nCl : 35.20562949822046\n",
      "nBr : 21.81134252839476\n",
      "nO : 1.166310069733236\n",
      "ATSC1se : 0.9704093837235614\n",
      "nN : 0.8661099267939315\n",
      "NssssC : 0.6291685587661617\n",
      "GATS1p : 0.5833456338822307\n",
      "NsssCH : 0.5549627577955583\n",
      "NssCH2 : 0.5179514636071991\n",
      "Xc-5d : 0.5106062658661821\n",
      "NsNH2 : 0.49240357028713544\n",
      "NaasN : 0.45213330560413123\n",
      "NssNH : 0.3728726748906349\n",
      "NsCH3 : 0.35559961505869764\n",
      "n6HRing : 0.32441185685374346\n",
      "NsOH : 0.3050075689945201\n",
      "BalabanJ : 0.29303929395491857\n",
      "n5HRing : 0.29130745041296463\n",
      "nAromAtom : 0.21147526791678214\n",
      "NdsCH : 0.20417936612271947\n",
      "NdssC : 0.18460905685583207\n",
      "naHRing : 0.18085428566020642\n",
      "IC1 : 0.17214238385787756\n",
      "ATSC6se : 0.16019825311664646\n",
      "nBase : 0.14953852633987533\n",
      "SdsN : 0.10682897909585903\n",
      "nBridgehead : 0.10623186852941115\n",
      "NaaN : 0.09085987444682778\n",
      "VSA_EState9 : 0.08773101200179612\n",
      "ATSC3se : 0.08764993440804929\n",
      "VSA_EState1 : 0.0873370434121945\n",
      "SdCH2 : 0.08716400747578265\n",
      "NsssN : 0.08495446891498043\n",
      "SsSH : 0.07828193771517669\n",
      "SdsssP : 0.07629730377723927\n",
      "StN : 0.07351953028145292\n",
      "StCH : 0.06259728672080939\n",
      "nHBDon : 0.06054603369043016\n",
      "SssS : 0.05743605696467596\n",
      "PEOE_VSA2 : 0.05639770872886629\n",
      "ATSC2d : 0.05575447291069454\n",
      "AATS0d : 0.0544675534242642\n",
      "PEOE_VSA7 : 0.05085479464565612\n",
      "PEOE_VSA1 : 0.04940353974048728\n",
      "PEOE_VSA8 : 0.04719580105031573\n",
      "SlogP_VSA2 : 0.04489243387679487\n",
      "PEOE_VSA9 : 0.03994040676911326\n",
      "VSA_EState4 : 0.0372757136884454\n",
      "PEOE_VSA6 : 0.0349314139936161\n",
      "PEOE_VSA3 : 0.03440451720091936\n",
      "PEOE_VSA5 : 0.03392440915066408\n",
      "SlogP_VSA3 : 0.03017738580226792\n",
      "EState_VSA7 : 0.029692264716624006\n",
      "Xch-7d : 0.026245419660116842\n",
      "ATSC1dv : 0.024046518138185764\n",
      "EState_VSA6 : 0.02335704533364158\n",
      "ATSC0i : 0.02296647384233297\n",
      "EState_VSA4 : 0.020963112978295673\n",
      "PEOE_VSA10 : 0.017137474902436778\n",
      "nRot : 0.015906073213931116\n",
      "ATSC8d : 0.015028997566965414\n",
      "EState_VSA3 : 0.014728312070174887\n",
      "ATS0Z : 0.013745352860719349\n",
      "EState_VSA2 : 0.013672411175317895\n",
      "SsssCH : 0.013499710380145746\n",
      "VSA_EState2 : 0.012428146759162872\n",
      "ATSC5d : 0.012066277895800191\n",
      "PEOE_VSA11 : 0.011682200509758767\n",
      "EState_VSA8 : 0.010158235450886455\n",
      "SlogP_VSA1 : 0.010014821827383447\n",
      "EState_VSA5 : 0.009856200964696082\n",
      "PEOE_VSA12 : 0.008431120716139162\n",
      "ATSC5p : 0.007885717814343052\n",
      "SlogP_VSA4 : 0.007599534897784865\n",
      "ATSC1v : 0.006648887164701023\n",
      "ATSC4d : 0.00634150854307999\n",
      "ATSC3d : 0.005660637438971723\n",
      "PEOE_VSA4 : 0.005582993085354149\n",
      "ATSC8i : 0.0042750974729405256\n",
      "ATSC6d : 0.0027038594586309556\n",
      "ATSC3i : 0.002398289996390357\n",
      "WPath : 0.0015183338415925007\n",
      "ECIndex : 0.0011564592590840306\n",
      "ATSC7i : 0.0010282045440879184\n",
      "ATSC2Z : 0.0009029425327238272\n",
      "ATSC8Z : 0.0007489742825493861\n",
      "ATSC7dv : 0.0005007591475885455\n",
      "ATSC7Z : 0.000435975256090515\n",
      "ATSC3Z : 0.0004028962878009079\n",
      "ATSC6v : 0.0003988568733639397\n",
      "ATSC4v : 0.0002345846428664089\n",
      "ATSC7v : 0.00015272370619179299\n",
      "ATSC8dv : 0.00011285473788008593\n",
      "ATSC5se : 7.365364001475638e-05\n",
      "ATSC4Z : 5.752356158694738e-05\n",
      "ATSC1Z : 3.1928218873211733e-06\n",
      "ATSC5v : -4.253170477142021e-06\n",
      "ATSC5dv : -6.467311343795554e-05\n",
      "ATSC5Z : -0.00013325524422569401\n",
      "ATSC8v : -0.0001359104623830376\n",
      "ATSC3v : -0.00019230133709413622\n",
      "PEOE_VSA13 : -0.00025684542343229477\n",
      "AATSC0v : -0.00038483591031202025\n",
      "ATSC2v : -0.00039559352259033176\n",
      "EState_VSA1 : -0.000626678207368947\n",
      "AATS0dv : -0.0007319041351990952\n",
      "SdNH : -0.0010157858257704572\n",
      "ATSC6Z : -0.0010744573338135055\n",
      "ATSC2i : -0.0015428667998238499\n",
      "ATSC4dv : -0.002567367598853014\n",
      "ATSC4se : -0.003345506969885337\n",
      "ATSC3dv : -0.0036628521248247975\n",
      "AATS0i : -0.004873195739193613\n",
      "ATSC6dv : -0.005039318822292188\n",
      "ATSC2se : -0.005172700608472913\n",
      "SMR_VSA6 : -0.00573133958493377\n",
      "ATSC7d : -0.005886434879122951\n",
      "SlogP_VSA7 : -0.005991669267450372\n",
      "SlogP_VSA11 : -0.006861356543692784\n",
      "ATSC2dv : -0.006940180958330683\n",
      "SMR_VSA9 : -0.007320990493115298\n",
      "ATSC5i : -0.007689509567590513\n",
      "VSA_EState7 : -0.007802903005043937\n",
      "ATSC4i : -0.007820459415032843\n",
      "nHRing : -0.008126664745011947\n",
      "ATSC6i : -0.010087137670908852\n",
      "ATSC4p : -0.010837379138765035\n",
      "VSA_EState8 : -0.012108378021829624\n",
      "AATSC1Z : -0.013922333279875243\n",
      "ATSC1i : -0.018601470284369093\n",
      "C1SP2 : -0.020152932023446757\n",
      "StsC : -0.02074035401888366\n",
      "n5ARing : -0.02360928046146274\n",
      "SlogP_VSA10 : -0.031572259085965726\n",
      "AATSC0i : -0.040190435907404565\n",
      "ATSC7p : -0.04086636865641335\n",
      "AATSC0dv : -0.04366122387527083\n",
      "nARing : -0.04661939296710599\n",
      "SdS : -0.04753042909178544\n",
      "ATSC1d : -0.05127518146959412\n",
      "SMR_VSA4 : -0.05350799088132885\n",
      "Xc-5dv : -0.05657278399844916\n",
      "ATSC3p : -0.060436355774206335\n",
      "C1SP3 : -0.07684287744155072\n",
      "C3SP3 : -0.09739442603548634\n",
      "SdssC : -0.1024400959731882\n",
      "NaasC : -0.11126510074657778\n",
      "C3SP2 : -0.11309006026008558\n",
      "Diameter : -0.1166346442377546\n",
      "SaaO : -0.14166362338241\n",
      "n5aRing : -0.14939258420954682\n",
      "ABC : -0.15744879535277845\n",
      "nHBAcc : -0.17075075142927543\n",
      "n5Ring : -0.17300186466095457\n",
      "nAtom : -0.17434578031405404\n",
      "nBondsD : -0.18378868037311324\n",
      "nAHRing : -0.18898095041115637\n",
      "nFRing : -0.19807810162154746\n",
      "n6ARing : -0.20991295701385265\n",
      "C2SP3 : -0.23257403334357424\n",
      "ATSC1p : -0.23765203841225183\n",
      "SaasC : -0.2785477388236868\n",
      "NaaaC : -0.298861859484862\n",
      "CIC1 : -0.30060667064780333\n",
      "GATS1i : -0.3228171200631902\n",
      "Xc-3dv : -0.3329111721291401\n",
      "NaaNH : -0.3870377152243288\n",
      "nAcid : -0.39429834333662583\n",
      "SsI : -0.4693146662164879\n",
      "NssO : -0.4964633089928917\n",
      "NddsN : -0.6228639802883533\n",
      "NddssS : -0.6366186471414922\n",
      "nC : -1.0276275997304334\n",
      "nHetero : -1.9662648429913678\n",
      "nS : -2.5402871470842157\n",
      "nX : -37.9659968151415\n"
     ]
    }
   ],
   "source": [
    "i = 0\n",
    "coefficients = []\n",
    "\n",
    "# Iterate over the columns of X\n",
    "for i in range(len(X.columns)):\n",
    "    # Store the column name and its coefficient in a tuple\n",
    "    coefficient_tuple = (X.columns[i], reg.coef_[i])\n",
    "    coefficients.append(coefficient_tuple)\n",
    "\n",
    "# Sort the coefficients list based on the second element (coefficient) of each tuple in descending order\n",
    "coefficients_sorted = sorted(coefficients, key=lambda x: x[1], reverse=True)\n",
    "\n",
    "# Print the sorted coefficients\n",
    "for coefficient in coefficients_sorted:\n",
    "    print(coefficient[0], \":\", coefficient[1])\n"
   ]
  },
  {
   "cell_type": "code",
   "execution_count": 46,
   "id": "a00c5927",
   "metadata": {},
   "outputs": [
    {
     "name": "stdout",
     "output_type": "stream",
     "text": [
      "nF : 37.239437072868284\n",
      "nCl : 35.20562949822046\n",
      "nBr : 21.81134252839476\n",
      "nO : 1.166310069733236\n",
      "ATSC1se : 0.9704093837235614\n",
      "nN : 0.8661099267939315\n",
      "NssssC : 0.6291685587661617\n",
      "GATS1p : 0.5833456338822307\n",
      "NsssCH : 0.5549627577955583\n",
      "NssCH2 : 0.5179514636071991\n",
      "Xc-5d : 0.5106062658661821\n",
      "NsNH2 : 0.49240357028713544\n",
      "NaasN : 0.45213330560413123\n",
      "NssNH : 0.3728726748906349\n",
      "NsCH3 : 0.35559961505869764\n",
      "n6HRing : 0.32441185685374346\n",
      "NsOH : 0.3050075689945201\n",
      "BalabanJ : 0.29303929395491857\n",
      "n5HRing : 0.29130745041296463\n",
      "nAromAtom : 0.21147526791678214\n",
      "NdsCH : 0.20417936612271947\n",
      "NdssC : 0.18460905685583207\n",
      "naHRing : 0.18085428566020642\n",
      "IC1 : 0.17214238385787756\n",
      "ATSC6se : 0.16019825311664646\n",
      "nBase : 0.14953852633987533\n",
      "SdsN : 0.10682897909585903\n",
      "nBridgehead : 0.10623186852941115\n",
      "NaaN : 0.09085987444682778\n",
      "VSA_EState9 : 0.08773101200179612\n",
      "ATSC3se : 0.08764993440804929\n",
      "VSA_EState1 : 0.0873370434121945\n",
      "SdCH2 : 0.08716400747578265\n",
      "NsssN : 0.08495446891498043\n",
      "SsSH : 0.07828193771517669\n",
      "SdsssP : 0.07629730377723927\n",
      "StN : 0.07351953028145292\n",
      "StCH : 0.06259728672080939\n",
      "nHBDon : 0.06054603369043016\n",
      "SssS : 0.05743605696467596\n",
      "PEOE_VSA2 : 0.05639770872886629\n",
      "ATSC2d : 0.05575447291069454\n",
      "AATS0d : 0.0544675534242642\n",
      "PEOE_VSA7 : 0.05085479464565612\n",
      "PEOE_VSA1 : 0.04940353974048728\n",
      "PEOE_VSA8 : 0.04719580105031573\n",
      "SlogP_VSA2 : 0.04489243387679487\n",
      "PEOE_VSA9 : 0.03994040676911326\n",
      "VSA_EState4 : 0.0372757136884454\n",
      "PEOE_VSA6 : 0.0349314139936161\n",
      "PEOE_VSA3 : 0.03440451720091936\n",
      "PEOE_VSA5 : 0.03392440915066408\n",
      "SlogP_VSA3 : 0.03017738580226792\n",
      "EState_VSA7 : 0.029692264716624006\n",
      "Xch-7d : 0.026245419660116842\n",
      "ATSC1dv : 0.024046518138185764\n",
      "EState_VSA6 : 0.02335704533364158\n",
      "ATSC0i : 0.02296647384233297\n",
      "EState_VSA4 : 0.020963112978295673\n",
      "PEOE_VSA10 : 0.017137474902436778\n",
      "nRot : 0.015906073213931116\n",
      "ATSC8d : 0.015028997566965414\n",
      "EState_VSA3 : 0.014728312070174887\n",
      "ATS0Z : 0.013745352860719349\n",
      "EState_VSA2 : 0.013672411175317895\n",
      "SsssCH : 0.013499710380145746\n",
      "VSA_EState2 : 0.012428146759162872\n",
      "ATSC5d : 0.012066277895800191\n",
      "PEOE_VSA11 : 0.011682200509758767\n",
      "EState_VSA8 : 0.010158235450886455\n",
      "SlogP_VSA1 : 0.010014821827383447\n",
      "EState_VSA5 : 0.009856200964696082\n",
      "PEOE_VSA12 : 0.008431120716139162\n",
      "ATSC5p : 0.007885717814343052\n",
      "SlogP_VSA4 : 0.007599534897784865\n",
      "ATSC1v : 0.006648887164701023\n",
      "ATSC4d : 0.00634150854307999\n",
      "ATSC3d : 0.005660637438971723\n",
      "PEOE_VSA4 : 0.005582993085354149\n",
      "ATSC8i : 0.0042750974729405256\n",
      "ATSC6d : 0.0027038594586309556\n",
      "ATSC3i : 0.002398289996390357\n",
      "WPath : 0.0015183338415925007\n",
      "ECIndex : 0.0011564592590840306\n",
      "ATSC7i : 0.0010282045440879184\n",
      "ATSC2Z : 0.0009029425327238272\n",
      "ATSC8Z : 0.0007489742825493861\n",
      "ATSC7dv : 0.0005007591475885455\n",
      "ATSC7Z : 0.000435975256090515\n",
      "ATSC3Z : 0.0004028962878009079\n",
      "ATSC6v : 0.0003988568733639397\n",
      "ATSC4v : 0.0002345846428664089\n",
      "ATSC7v : 0.00015272370619179299\n",
      "ATSC8dv : 0.00011285473788008593\n",
      "ATSC5se : 7.365364001475638e-05\n",
      "ATSC4Z : 5.752356158694738e-05\n",
      "ATSC1Z : 3.1928218873211733e-06\n",
      "ATSC5v : -4.253170477142021e-06\n",
      "ATSC5dv : -6.467311343795554e-05\n",
      "ATSC5Z : -0.00013325524422569401\n",
      "ATSC8v : -0.0001359104623830376\n",
      "ATSC3v : -0.00019230133709413622\n",
      "PEOE_VSA13 : -0.00025684542343229477\n",
      "AATSC0v : -0.00038483591031202025\n",
      "ATSC2v : -0.00039559352259033176\n",
      "EState_VSA1 : -0.000626678207368947\n",
      "AATS0dv : -0.0007319041351990952\n",
      "SdNH : -0.0010157858257704572\n",
      "ATSC6Z : -0.0010744573338135055\n",
      "ATSC2i : -0.0015428667998238499\n",
      "ATSC4dv : -0.002567367598853014\n",
      "ATSC4se : -0.003345506969885337\n",
      "ATSC3dv : -0.0036628521248247975\n",
      "AATS0i : -0.004873195739193613\n",
      "ATSC6dv : -0.005039318822292188\n",
      "ATSC2se : -0.005172700608472913\n",
      "SMR_VSA6 : -0.00573133958493377\n",
      "ATSC7d : -0.005886434879122951\n",
      "SlogP_VSA7 : -0.005991669267450372\n",
      "SlogP_VSA11 : -0.006861356543692784\n",
      "ATSC2dv : -0.006940180958330683\n",
      "SMR_VSA9 : -0.007320990493115298\n",
      "ATSC5i : -0.007689509567590513\n",
      "VSA_EState7 : -0.007802903005043937\n",
      "ATSC4i : -0.007820459415032843\n",
      "nHRing : -0.008126664745011947\n",
      "ATSC6i : -0.010087137670908852\n",
      "ATSC4p : -0.010837379138765035\n",
      "VSA_EState8 : -0.012108378021829624\n",
      "AATSC1Z : -0.013922333279875243\n",
      "ATSC1i : -0.018601470284369093\n",
      "C1SP2 : -0.020152932023446757\n",
      "StsC : -0.02074035401888366\n",
      "n5ARing : -0.02360928046146274\n",
      "SlogP_VSA10 : -0.031572259085965726\n",
      "AATSC0i : -0.040190435907404565\n",
      "ATSC7p : -0.04086636865641335\n",
      "AATSC0dv : -0.04366122387527083\n",
      "nARing : -0.04661939296710599\n",
      "SdS : -0.04753042909178544\n",
      "ATSC1d : -0.05127518146959412\n",
      "SMR_VSA4 : -0.05350799088132885\n",
      "Xc-5dv : -0.05657278399844916\n",
      "ATSC3p : -0.060436355774206335\n",
      "C1SP3 : -0.07684287744155072\n",
      "C3SP3 : -0.09739442603548634\n",
      "SdssC : -0.1024400959731882\n",
      "NaasC : -0.11126510074657778\n",
      "C3SP2 : -0.11309006026008558\n",
      "Diameter : -0.1166346442377546\n",
      "SaaO : -0.14166362338241\n",
      "n5aRing : -0.14939258420954682\n",
      "ABC : -0.15744879535277845\n",
      "nHBAcc : -0.17075075142927543\n",
      "n5Ring : -0.17300186466095457\n",
      "nAtom : -0.17434578031405404\n",
      "nBondsD : -0.18378868037311324\n",
      "nAHRing : -0.18898095041115637\n",
      "nFRing : -0.19807810162154746\n",
      "n6ARing : -0.20991295701385265\n",
      "C2SP3 : -0.23257403334357424\n",
      "ATSC1p : -0.23765203841225183\n",
      "SaasC : -0.2785477388236868\n",
      "NaaaC : -0.298861859484862\n",
      "CIC1 : -0.30060667064780333\n",
      "GATS1i : -0.3228171200631902\n",
      "Xc-3dv : -0.3329111721291401\n",
      "NaaNH : -0.3870377152243288\n",
      "nAcid : -0.39429834333662583\n",
      "SsI : -0.4693146662164879\n",
      "NssO : -0.4964633089928917\n",
      "NddsN : -0.6228639802883533\n",
      "NddssS : -0.6366186471414922\n",
      "nC : -1.0276275997304334\n",
      "nHetero : -1.9662648429913678\n",
      "nS : -2.5402871470842157\n",
      "nX : -37.9659968151415\n"
     ]
    }
   ],
   "source": [
    "import pandas as pd\n",
    "\n",
    "i = 0\n",
    "coefficients = []\n",
    "\n",
    "# Iterate over the columns of X\n",
    "for i in range(len(X.columns)):\n",
    "    # Store the column name and its coefficient in a tuple\n",
    "    coefficient_tuple = (X.columns[i], reg.coef_[i])\n",
    "    coefficients.append(coefficient_tuple)\n",
    "\n",
    "# Sort the coefficients list based on the second element (coefficient) of each tuple in descending order\n",
    "coefficients_sorted = sorted(coefficients, key=lambda x: x[1], reverse=True)\n",
    "\n",
    "# Extract the column names and coefficients from the sorted list\n",
    "column_names = [coefficient[0] for coefficient in coefficients_sorted]\n",
    "coefficients_values = [coefficient[1] for coefficient in coefficients_sorted]\n",
    "\n",
    "# Create a data frame with column names and coefficients\n",
    "data = {'Column': column_names, 'Coefficient': coefficients_values}\n",
    "df = pd.DataFrame(data)\n",
    "\n",
    "# Save the data frame to an Excel file\n",
    "df.to_excel('coefficients_data.xlsx', index=False)\n",
    "\n",
    "# Print the sorted coefficients\n",
    "for coefficient in coefficients_sorted:\n",
    "    print(coefficient[0], \":\", coefficient[1])\n"
   ]
  },
  {
   "cell_type": "code",
   "execution_count": 47,
   "id": "f4ecda43",
   "metadata": {},
   "outputs": [
    {
     "data": {
      "image/png": "[encoded data removed]",
      "text/plain": [
       "<Figure size 432x288 with 1 Axes>"
      ]
     },
     "metadata": {
      "needs_background": "light"
     },
     "output_type": "display_data"
    }
   ],
   "source": [
    "import matplotlib.pyplot as plt\n",
    "\n",
    "i = 0\n",
    "coefficients = []\n",
    "\n",
    "# Iterate over the columns of X\n",
    "for i in range(len(X.columns)):\n",
    "    # Store the column name and its coefficient in a tuple\n",
    "    coefficient_tuple = (X.columns[i], reg.coef_[i])\n",
    "    coefficients.append(coefficient_tuple)\n",
    "\n",
    "# Sort the coefficients list based on the second element (coefficient) of each tuple in descending order\n",
    "coefficients_sorted = sorted(coefficients, key=lambda x: x[1], reverse=True)\n",
    "\n",
    "# Select only the top ten coefficients\n",
    "top_ten_coefficients = coefficients_sorted[:10]\n",
    "\n",
    "# Extract the column names and coefficients from the top ten coefficients\n",
    "column_names = [coefficient[0] for coefficient in top_ten_coefficients]\n",
    "coefficients_values = [coefficient[1] for coefficient in top_ten_coefficients]\n",
    "\n",
    "# Create a bar chart\n",
    "plt.barh(range(len(column_names)), coefficients_values, align='center')\n",
    "plt.yticks(range(len(column_names)), column_names)\n",
    "plt.xlabel('MLR Coefficients')\n",
    "#plt.ylabel('Column')\n",
    "#plt.title('Top Ten Coefficients Comparison')\n",
    "\n",
    "plt.savefig('coefficients_chart.png', dpi=1200)\n",
    "\n",
    "# Display the bar chart\n",
    "plt.show()\n"
   ]
  },
  {
   "cell_type": "code",
   "execution_count": 33,
   "id": "47027ba1",
   "metadata": {},
   "outputs": [
    {
     "name": "stdout",
     "output_type": "stream",
     "text": [
      "RMSE: 0.5374704538208803\n",
      "MAE: 0.35664441475323644\n",
      "R^2: 0.9314632927692059\n"
     ]
    }
   ],
   "source": [
    "from sklearn.model_selection import train_test_split\n",
    "from sklearn.linear_model import LinearRegression\n",
    "from sklearn.metrics import mean_squared_error, mean_absolute_error, r2_score\n",
    "\n",
    "# Assuming you have your filtered X_train data as X_train_filtered\n",
    "\n",
    "# Split the filtered data into training and testing sets\n",
    "X_train_split, X_test_split, y_train_split, y_test_split = train_test_split(X_train_filtered, y_train_filtered, test_size=0.2, random_state=42)\n",
    "\n",
    "# Create a linear regression model\n",
    "model = RandomForestRegressor(n_estimators=100, random_state=42)\n",
    "\n",
    "# Fit the model on the training data\n",
    "model.fit(X_train_split, y_train_split)\n",
    "\n",
    "# Predict the target variable for the test data\n",
    "y_pred = model.predict(X_test_split)\n",
    "\n",
    "# Calculate RMSE\n",
    "rmse = np.sqrt(mean_squared_error(y_test_split, y_pred))\n",
    "\n",
    "# Calculate MAE\n",
    "mae = mean_absolute_error(y_test_split, y_pred)\n",
    "\n",
    "# Calculate R^2 score\n",
    "r2 = r2_score(y_test_split, y_pred)\n",
    "\n",
    "print(\"RMSE:\", rmse)\n",
    "print(\"MAE:\", mae)\n",
    "print(\"R^2:\", r2)\n"
   ]
  },
  {
   "cell_type": "code",
   "execution_count": 34,
   "id": "60acb151",
   "metadata": {},
   "outputs": [
    {
     "name": "stdout",
     "output_type": "stream",
     "text": [
      "RMSE (Train): 0.30913488449431326\n",
      "MAE (Train): 0.1867932181655718\n",
      "R^2 (Train): 0.9791494841243245\n"
     ]
    }
   ],
   "source": [
    "# Predict the target variable for the training data\n",
    "y_pred_train = model.predict(X_train_filtered)\n",
    "\n",
    "# Calculate RMSE for training data\n",
    "rmse_train = np.sqrt(mean_squared_error(y_train_filtered, y_pred_train))\n",
    "\n",
    "# Calculate MAE for training data\n",
    "mae_train = mean_absolute_error(y_train_filtered, y_pred_train)\n",
    "\n",
    "# Calculate R^2 score for training data\n",
    "r2_train = r2_score(y_train_filtered, y_pred_train)\n",
    "\n",
    "print(\"RMSE (Train):\", rmse_train)\n",
    "print(\"MAE (Train):\", mae_train)\n",
    "print(\"R^2 (Train):\", r2_train)"
   ]
  },
  {
   "cell_type": "code",
   "execution_count": 65,
   "id": "ef384139",
   "metadata": {},
   "outputs": [
    {
     "data": {
      "text/plain": [
       "RandomForestRegressor(random_state=42)"
      ]
     },
     "execution_count": 65,
     "metadata": {},
     "output_type": "execute_result"
    }
   ],
   "source": [
    "model = RandomForestRegressor(n_estimators=100, random_state=42)\n",
    "model.fit(X_train, Y_train)"
   ]
  },
  {
   "cell_type": "code",
   "execution_count": 66,
   "id": "97cdee2e",
   "metadata": {},
   "outputs": [
    {
     "name": "stdout",
     "output_type": "stream",
     "text": [
      "Mean squared error (RMSE): 0.25\n",
      "Coefficient of determination (R^2): 0.98\n"
     ]
    }
   ],
   "source": [
    "#predicts the X_train\n",
    "Y_pred_train = model.predict(X_train)\n",
    "#print('Coefficients:', model.coef_)\n",
    "#print('Intercept:', model.intercept_)\n",
    "print('Mean squared error (RMSE): %.2f'\n",
    "      % mean_squared_error(Y_train, Y_pred_train,squared=False))\n",
    "print('Coefficient of determination (R^2): %.2f'\n",
    "      % r2_score(Y_train, Y_pred_train))\n",
    "\n"
   ]
  },
  {
   "cell_type": "code",
   "execution_count": 67,
   "id": "6038f311",
   "metadata": {},
   "outputs": [
    {
     "name": "stdout",
     "output_type": "stream",
     "text": [
      "MAE (filtered test): 0.165107871835008\n",
      "RMSE (filtered test): 0.2520332065236204\n",
      "R^2 (filtered test): 0.9814850640563298\n"
     ]
    }
   ],
   "source": [
    "mae_test2 = mean_absolute_error(Y_train, Y_pred_train)\n",
    "rmse_test2 = np.sqrt(mean_squared_error(Y_train, Y_pred_train))\n",
    "r2_test2 = r2_score(Y_train, Y_pred_train)\n",
    "\n",
    "# Print the results\n",
    "print(\"MAE (filtered test):\", mae_test2)\n",
    "print(\"RMSE (filtered test):\", rmse_test2)\n",
    "print(\"R^2 (filtered test):\", r2_test2)"
   ]
  },
  {
   "cell_type": "code",
   "execution_count": 68,
   "id": "9e0afd4c",
   "metadata": {},
   "outputs": [
    {
     "name": "stdout",
     "output_type": "stream",
     "text": [
      "Mean squared error (MSE): 0.64\n",
      "Coefficient of determination (R^2): 0.88\n"
     ]
    }
   ],
   "source": [
    "Y_pred_test = model.predict(X_test)\n",
    "print('Mean squared error (MSE): %.2f'\n",
    "      % mean_squared_error(Y_test, Y_pred_test,squared=False))\n",
    "print('Coefficient of determination (R^2): %.2f'\n",
    "      % r2_score(Y_test, Y_pred_test))"
   ]
  },
  {
   "cell_type": "code",
   "execution_count": 64,
   "id": "e5576933",
   "metadata": {},
   "outputs": [
    {
     "name": "stdout",
     "output_type": "stream",
     "text": [
      "MAE (filtered test): 0.41696942750871235\n",
      "RMSE (filtered test): 0.6405894121981005\n",
      "R^2 (filtered test): 0.8838041086205324\n"
     ]
    }
   ],
   "source": [
    "mae_filtered_test2 = mean_absolute_error(Y_test, Y_pred_test)\n",
    "rmse_filtered_test2 = np.sqrt(mean_squared_error(Y_test, Y_pred_test))\n",
    "r2_filtered_test2 = r2_score(Y_test, Y_pred_test)\n",
    "\n",
    "# Print the results\n",
    "print(\"MAE (filtered test):\", mae_filtered_test2)\n",
    "print(\"RMSE (filtered test):\", rmse_filtered_test2)\n",
    "print(\"R^2 (filtered test):\", r2_filtered_test2)"
   ]
  },
  {
   "cell_type": "code",
   "execution_count": 65,
   "id": "91daa342",
   "metadata": {},
   "outputs": [
    {
     "data": {
      "text/plain": [
       "0.41696942750871235"
      ]
     },
     "execution_count": 65,
     "metadata": {},
     "output_type": "execute_result"
    }
   ],
   "source": [
    "mae = mean_absolute_error(Y_test, Y_pred_test)\n",
    "mae"
   ]
  },
  {
   "cell_type": "code",
   "execution_count": 69,
   "id": "b82bda2e",
   "metadata": {},
   "outputs": [
    {
     "name": "stdout",
     "output_type": "stream",
     "text": [
      "(6750, 177) (1688, 177) (6750,) (1688,)\n"
     ]
    }
   ],
   "source": [
    "import numpy as np\n",
    "\n",
    "# Convert lists to numpy arrays\n",
    "X_train = np.array(X_train)\n",
    "X_test = np.array(X_test)\n",
    "Y_train = np.array(Y_train)\n",
    "Y_test = np.array(Y_test)\n",
    "\n",
    "# Print the shapes\n",
    "print(X_train.shape, X_test.shape, Y_train.shape, Y_test.shape)"
   ]
  },
  {
   "cell_type": "code",
   "execution_count": 70,
   "id": "79521d6b",
   "metadata": {},
   "outputs": [
    {
     "name": "stderr",
     "output_type": "stream",
     "text": [
      "C:\\Users\\DEDP Grader\\anaconda3\\envs\\rdkit\\lib\\site-packages\\sklearn\\base.py:445: UserWarning: X does not have valid feature names, but RandomForestRegressor was fitted with feature names\n",
      "  warnings.warn(\n"
     ]
    }
   ],
   "source": [
    "yhat = model.predict(X_test)\n",
    "# evaluate predictions\n",
    "#mae = mean_absolute_error(Y_test, yhat)\n",
    "#print('MAE: %.3f' % mae)"
   ]
  },
  {
   "cell_type": "code",
   "execution_count": 71,
   "id": "0e9e281d",
   "metadata": {},
   "outputs": [],
   "source": [
    "from sklearn.neighbors import LocalOutlierFactor\n",
    "\n",
    "lof = LocalOutlierFactor()\n",
    "yhat = lof.fit_predict(X_test)"
   ]
  },
  {
   "cell_type": "code",
   "execution_count": 72,
   "id": "ff012438",
   "metadata": {},
   "outputs": [],
   "source": [
    "mask = yhat != -1\n",
    "X_test, Y_test = X_test[mask, :], Y_test[mask]\n"
   ]
  },
  {
   "cell_type": "code",
   "execution_count": 73,
   "id": "d5249e65",
   "metadata": {},
   "outputs": [
    {
     "name": "stdout",
     "output_type": "stream",
     "text": [
      "(1536, 177) (1536,)\n"
     ]
    }
   ],
   "source": [
    "print(X_test.shape, Y_test.shape)"
   ]
  },
  {
   "cell_type": "code",
   "execution_count": 77,
   "id": "a7e61804",
   "metadata": {},
   "outputs": [
    {
     "name": "stdout",
     "output_type": "stream",
     "text": [
      "MAE: 0.406\n"
     ]
    }
   ],
   "source": [
    "# fit the model\n",
    "model = RandomForestRegressor(n_estimators=100, random_state=42)\n",
    "model.fit(X_train, Y_train)\n",
    "# evaluate the model\n",
    "Y_test_pred2 = model.predict(X_test)\n",
    "# evaluate predictions\n",
    "mae = mean_absolute_error(Y_test, Y_test_pred2)\n",
    "print('MAE: %.3f' % mae)"
   ]
  },
  {
   "cell_type": "code",
   "execution_count": 75,
   "id": "b7262c5b",
   "metadata": {},
   "outputs": [
    {
     "ename": "KeyboardInterrupt",
     "evalue": "",
     "output_type": "error",
     "traceback": [
      "\u001b[1;31m---------------------------------------------------------------------------\u001b[0m",
      "\u001b[1;31mKeyboardInterrupt\u001b[0m                         Traceback (most recent call last)",
      "Input \u001b[1;32mIn [75]\u001b[0m, in \u001b[0;36m<cell line: 3>\u001b[1;34m()\u001b[0m\n\u001b[0;32m      1\u001b[0m \u001b[38;5;66;03m# fit the model\u001b[39;00m\n\u001b[0;32m      2\u001b[0m model \u001b[38;5;241m=\u001b[39m RandomForestRegressor(n_estimators\u001b[38;5;241m=\u001b[39m\u001b[38;5;241m100\u001b[39m, random_state\u001b[38;5;241m=\u001b[39m\u001b[38;5;241m42\u001b[39m)\n\u001b[1;32m----> 3\u001b[0m \u001b[43mmodel\u001b[49m\u001b[38;5;241;43m.\u001b[39;49m\u001b[43mfit\u001b[49m\u001b[43m(\u001b[49m\u001b[43mX_test\u001b[49m\u001b[43m,\u001b[49m\u001b[43m \u001b[49m\u001b[43mY_test\u001b[49m\u001b[43m)\u001b[49m\n\u001b[0;32m      4\u001b[0m \u001b[38;5;66;03m# evaluate the model\u001b[39;00m\n\u001b[0;32m      5\u001b[0m Y_test_pred2 \u001b[38;5;241m=\u001b[39m model\u001b[38;5;241m.\u001b[39mpredict(X_test)\n",
      "File \u001b[1;32m~\\anaconda3\\envs\\rdkit\\lib\\site-packages\\sklearn\\ensemble\\_forest.py:442\u001b[0m, in \u001b[0;36mBaseForest.fit\u001b[1;34m(self, X, y, sample_weight)\u001b[0m\n\u001b[0;32m    431\u001b[0m trees \u001b[38;5;241m=\u001b[39m [\n\u001b[0;32m    432\u001b[0m     \u001b[38;5;28mself\u001b[39m\u001b[38;5;241m.\u001b[39m_make_estimator(append\u001b[38;5;241m=\u001b[39m\u001b[38;5;28;01mFalse\u001b[39;00m, random_state\u001b[38;5;241m=\u001b[39mrandom_state)\n\u001b[0;32m    433\u001b[0m     \u001b[38;5;28;01mfor\u001b[39;00m i \u001b[38;5;129;01min\u001b[39;00m \u001b[38;5;28mrange\u001b[39m(n_more_estimators)\n\u001b[0;32m    434\u001b[0m ]\n\u001b[0;32m    436\u001b[0m \u001b[38;5;66;03m# Parallel loop: we prefer the threading backend as the Cython code\u001b[39;00m\n\u001b[0;32m    437\u001b[0m \u001b[38;5;66;03m# for fitting the trees is internally releasing the Python GIL\u001b[39;00m\n\u001b[0;32m    438\u001b[0m \u001b[38;5;66;03m# making threading more efficient than multiprocessing in\u001b[39;00m\n\u001b[0;32m    439\u001b[0m \u001b[38;5;66;03m# that case. However, for joblib 0.12+ we respect any\u001b[39;00m\n\u001b[0;32m    440\u001b[0m \u001b[38;5;66;03m# parallel_backend contexts set at a higher level,\u001b[39;00m\n\u001b[0;32m    441\u001b[0m \u001b[38;5;66;03m# since correctness does not rely on using threads.\u001b[39;00m\n\u001b[1;32m--> 442\u001b[0m trees \u001b[38;5;241m=\u001b[39m \u001b[43mParallel\u001b[49m\u001b[43m(\u001b[49m\n\u001b[0;32m    443\u001b[0m \u001b[43m    \u001b[49m\u001b[43mn_jobs\u001b[49m\u001b[38;5;241;43m=\u001b[39;49m\u001b[38;5;28;43mself\u001b[39;49m\u001b[38;5;241;43m.\u001b[39;49m\u001b[43mn_jobs\u001b[49m\u001b[43m,\u001b[49m\n\u001b[0;32m    444\u001b[0m \u001b[43m    \u001b[49m\u001b[43mverbose\u001b[49m\u001b[38;5;241;43m=\u001b[39;49m\u001b[38;5;28;43mself\u001b[39;49m\u001b[38;5;241;43m.\u001b[39;49m\u001b[43mverbose\u001b[49m\u001b[43m,\u001b[49m\n\u001b[0;32m    445\u001b[0m \u001b[43m    \u001b[49m\u001b[38;5;241;43m*\u001b[39;49m\u001b[38;5;241;43m*\u001b[39;49m\u001b[43m_joblib_parallel_args\u001b[49m\u001b[43m(\u001b[49m\u001b[43mprefer\u001b[49m\u001b[38;5;241;43m=\u001b[39;49m\u001b[38;5;124;43m\"\u001b[39;49m\u001b[38;5;124;43mthreads\u001b[39;49m\u001b[38;5;124;43m\"\u001b[39;49m\u001b[43m)\u001b[49m\u001b[43m,\u001b[49m\n\u001b[0;32m    446\u001b[0m \u001b[43m\u001b[49m\u001b[43m)\u001b[49m\u001b[43m(\u001b[49m\n\u001b[0;32m    447\u001b[0m \u001b[43m    \u001b[49m\u001b[43mdelayed\u001b[49m\u001b[43m(\u001b[49m\u001b[43m_parallel_build_trees\u001b[49m\u001b[43m)\u001b[49m\u001b[43m(\u001b[49m\n\u001b[0;32m    448\u001b[0m \u001b[43m        \u001b[49m\u001b[43mt\u001b[49m\u001b[43m,\u001b[49m\n\u001b[0;32m    449\u001b[0m \u001b[43m        \u001b[49m\u001b[38;5;28;43mself\u001b[39;49m\u001b[43m,\u001b[49m\n\u001b[0;32m    450\u001b[0m \u001b[43m        \u001b[49m\u001b[43mX\u001b[49m\u001b[43m,\u001b[49m\n\u001b[0;32m    451\u001b[0m \u001b[43m        \u001b[49m\u001b[43my\u001b[49m\u001b[43m,\u001b[49m\n\u001b[0;32m    452\u001b[0m \u001b[43m        \u001b[49m\u001b[43msample_weight\u001b[49m\u001b[43m,\u001b[49m\n\u001b[0;32m    453\u001b[0m \u001b[43m        \u001b[49m\u001b[43mi\u001b[49m\u001b[43m,\u001b[49m\n\u001b[0;32m    454\u001b[0m \u001b[43m        \u001b[49m\u001b[38;5;28;43mlen\u001b[39;49m\u001b[43m(\u001b[49m\u001b[43mtrees\u001b[49m\u001b[43m)\u001b[49m\u001b[43m,\u001b[49m\n\u001b[0;32m    455\u001b[0m \u001b[43m        \u001b[49m\u001b[43mverbose\u001b[49m\u001b[38;5;241;43m=\u001b[39;49m\u001b[38;5;28;43mself\u001b[39;49m\u001b[38;5;241;43m.\u001b[39;49m\u001b[43mverbose\u001b[49m\u001b[43m,\u001b[49m\n\u001b[0;32m    456\u001b[0m \u001b[43m        \u001b[49m\u001b[43mclass_weight\u001b[49m\u001b[38;5;241;43m=\u001b[39;49m\u001b[38;5;28;43mself\u001b[39;49m\u001b[38;5;241;43m.\u001b[39;49m\u001b[43mclass_weight\u001b[49m\u001b[43m,\u001b[49m\n\u001b[0;32m    457\u001b[0m \u001b[43m        \u001b[49m\u001b[43mn_samples_bootstrap\u001b[49m\u001b[38;5;241;43m=\u001b[39;49m\u001b[43mn_samples_bootstrap\u001b[49m\u001b[43m,\u001b[49m\n\u001b[0;32m    458\u001b[0m \u001b[43m    \u001b[49m\u001b[43m)\u001b[49m\n\u001b[0;32m    459\u001b[0m \u001b[43m    \u001b[49m\u001b[38;5;28;43;01mfor\u001b[39;49;00m\u001b[43m \u001b[49m\u001b[43mi\u001b[49m\u001b[43m,\u001b[49m\u001b[43m \u001b[49m\u001b[43mt\u001b[49m\u001b[43m \u001b[49m\u001b[38;5;129;43;01min\u001b[39;49;00m\u001b[43m \u001b[49m\u001b[38;5;28;43menumerate\u001b[39;49m\u001b[43m(\u001b[49m\u001b[43mtrees\u001b[49m\u001b[43m)\u001b[49m\n\u001b[0;32m    460\u001b[0m \u001b[43m\u001b[49m\u001b[43m)\u001b[49m\n\u001b[0;32m    462\u001b[0m \u001b[38;5;66;03m# Collect newly grown trees\u001b[39;00m\n\u001b[0;32m    463\u001b[0m \u001b[38;5;28mself\u001b[39m\u001b[38;5;241m.\u001b[39mestimators_\u001b[38;5;241m.\u001b[39mextend(trees)\n",
      "File \u001b[1;32m~\\anaconda3\\envs\\rdkit\\lib\\site-packages\\joblib\\parallel.py:1046\u001b[0m, in \u001b[0;36mParallel.__call__\u001b[1;34m(self, iterable)\u001b[0m\n\u001b[0;32m   1043\u001b[0m \u001b[38;5;28;01mif\u001b[39;00m \u001b[38;5;28mself\u001b[39m\u001b[38;5;241m.\u001b[39mdispatch_one_batch(iterator):\n\u001b[0;32m   1044\u001b[0m     \u001b[38;5;28mself\u001b[39m\u001b[38;5;241m.\u001b[39m_iterating \u001b[38;5;241m=\u001b[39m \u001b[38;5;28mself\u001b[39m\u001b[38;5;241m.\u001b[39m_original_iterator \u001b[38;5;129;01mis\u001b[39;00m \u001b[38;5;129;01mnot\u001b[39;00m \u001b[38;5;28;01mNone\u001b[39;00m\n\u001b[1;32m-> 1046\u001b[0m \u001b[38;5;28;01mwhile\u001b[39;00m \u001b[38;5;28;43mself\u001b[39;49m\u001b[38;5;241;43m.\u001b[39;49m\u001b[43mdispatch_one_batch\u001b[49m\u001b[43m(\u001b[49m\u001b[43miterator\u001b[49m\u001b[43m)\u001b[49m:\n\u001b[0;32m   1047\u001b[0m     \u001b[38;5;28;01mpass\u001b[39;00m\n\u001b[0;32m   1049\u001b[0m \u001b[38;5;28;01mif\u001b[39;00m pre_dispatch \u001b[38;5;241m==\u001b[39m \u001b[38;5;124m\"\u001b[39m\u001b[38;5;124mall\u001b[39m\u001b[38;5;124m\"\u001b[39m \u001b[38;5;129;01mor\u001b[39;00m n_jobs \u001b[38;5;241m==\u001b[39m \u001b[38;5;241m1\u001b[39m:\n\u001b[0;32m   1050\u001b[0m     \u001b[38;5;66;03m# The iterable was consumed all at once by the above for loop.\u001b[39;00m\n\u001b[0;32m   1051\u001b[0m     \u001b[38;5;66;03m# No need to wait for async callbacks to trigger to\u001b[39;00m\n\u001b[0;32m   1052\u001b[0m     \u001b[38;5;66;03m# consumption.\u001b[39;00m\n",
      "File \u001b[1;32m~\\anaconda3\\envs\\rdkit\\lib\\site-packages\\joblib\\parallel.py:861\u001b[0m, in \u001b[0;36mParallel.dispatch_one_batch\u001b[1;34m(self, iterator)\u001b[0m\n\u001b[0;32m    859\u001b[0m     \u001b[38;5;28;01mreturn\u001b[39;00m \u001b[38;5;28;01mFalse\u001b[39;00m\n\u001b[0;32m    860\u001b[0m \u001b[38;5;28;01melse\u001b[39;00m:\n\u001b[1;32m--> 861\u001b[0m     \u001b[38;5;28;43mself\u001b[39;49m\u001b[38;5;241;43m.\u001b[39;49m\u001b[43m_dispatch\u001b[49m\u001b[43m(\u001b[49m\u001b[43mtasks\u001b[49m\u001b[43m)\u001b[49m\n\u001b[0;32m    862\u001b[0m     \u001b[38;5;28;01mreturn\u001b[39;00m \u001b[38;5;28;01mTrue\u001b[39;00m\n",
      "File \u001b[1;32m~\\anaconda3\\envs\\rdkit\\lib\\site-packages\\joblib\\parallel.py:779\u001b[0m, in \u001b[0;36mParallel._dispatch\u001b[1;34m(self, batch)\u001b[0m\n\u001b[0;32m    777\u001b[0m \u001b[38;5;28;01mwith\u001b[39;00m \u001b[38;5;28mself\u001b[39m\u001b[38;5;241m.\u001b[39m_lock:\n\u001b[0;32m    778\u001b[0m     job_idx \u001b[38;5;241m=\u001b[39m \u001b[38;5;28mlen\u001b[39m(\u001b[38;5;28mself\u001b[39m\u001b[38;5;241m.\u001b[39m_jobs)\n\u001b[1;32m--> 779\u001b[0m     job \u001b[38;5;241m=\u001b[39m \u001b[38;5;28;43mself\u001b[39;49m\u001b[38;5;241;43m.\u001b[39;49m\u001b[43m_backend\u001b[49m\u001b[38;5;241;43m.\u001b[39;49m\u001b[43mapply_async\u001b[49m\u001b[43m(\u001b[49m\u001b[43mbatch\u001b[49m\u001b[43m,\u001b[49m\u001b[43m \u001b[49m\u001b[43mcallback\u001b[49m\u001b[38;5;241;43m=\u001b[39;49m\u001b[43mcb\u001b[49m\u001b[43m)\u001b[49m\n\u001b[0;32m    780\u001b[0m     \u001b[38;5;66;03m# A job can complete so quickly than its callback is\u001b[39;00m\n\u001b[0;32m    781\u001b[0m     \u001b[38;5;66;03m# called before we get here, causing self._jobs to\u001b[39;00m\n\u001b[0;32m    782\u001b[0m     \u001b[38;5;66;03m# grow. To ensure correct results ordering, .insert is\u001b[39;00m\n\u001b[0;32m    783\u001b[0m     \u001b[38;5;66;03m# used (rather than .append) in the following line\u001b[39;00m\n\u001b[0;32m    784\u001b[0m     \u001b[38;5;28mself\u001b[39m\u001b[38;5;241m.\u001b[39m_jobs\u001b[38;5;241m.\u001b[39minsert(job_idx, job)\n",
      "File \u001b[1;32m~\\anaconda3\\envs\\rdkit\\lib\\site-packages\\joblib\\_parallel_backends.py:208\u001b[0m, in \u001b[0;36mSequentialBackend.apply_async\u001b[1;34m(self, func, callback)\u001b[0m\n\u001b[0;32m    206\u001b[0m \u001b[38;5;28;01mdef\u001b[39;00m \u001b[38;5;21mapply_async\u001b[39m(\u001b[38;5;28mself\u001b[39m, func, callback\u001b[38;5;241m=\u001b[39m\u001b[38;5;28;01mNone\u001b[39;00m):\n\u001b[0;32m    207\u001b[0m     \u001b[38;5;124;03m\"\"\"Schedule a func to be run\"\"\"\u001b[39;00m\n\u001b[1;32m--> 208\u001b[0m     result \u001b[38;5;241m=\u001b[39m \u001b[43mImmediateResult\u001b[49m\u001b[43m(\u001b[49m\u001b[43mfunc\u001b[49m\u001b[43m)\u001b[49m\n\u001b[0;32m    209\u001b[0m     \u001b[38;5;28;01mif\u001b[39;00m callback:\n\u001b[0;32m    210\u001b[0m         callback(result)\n",
      "File \u001b[1;32m~\\anaconda3\\envs\\rdkit\\lib\\site-packages\\joblib\\_parallel_backends.py:572\u001b[0m, in \u001b[0;36mImmediateResult.__init__\u001b[1;34m(self, batch)\u001b[0m\n\u001b[0;32m    569\u001b[0m \u001b[38;5;28;01mdef\u001b[39;00m \u001b[38;5;21m__init__\u001b[39m(\u001b[38;5;28mself\u001b[39m, batch):\n\u001b[0;32m    570\u001b[0m     \u001b[38;5;66;03m# Don't delay the application, to avoid keeping the input\u001b[39;00m\n\u001b[0;32m    571\u001b[0m     \u001b[38;5;66;03m# arguments in memory\u001b[39;00m\n\u001b[1;32m--> 572\u001b[0m     \u001b[38;5;28mself\u001b[39m\u001b[38;5;241m.\u001b[39mresults \u001b[38;5;241m=\u001b[39m \u001b[43mbatch\u001b[49m\u001b[43m(\u001b[49m\u001b[43m)\u001b[49m\n",
      "File \u001b[1;32m~\\anaconda3\\envs\\rdkit\\lib\\site-packages\\joblib\\parallel.py:262\u001b[0m, in \u001b[0;36mBatchedCalls.__call__\u001b[1;34m(self)\u001b[0m\n\u001b[0;32m    258\u001b[0m \u001b[38;5;28;01mdef\u001b[39;00m \u001b[38;5;21m__call__\u001b[39m(\u001b[38;5;28mself\u001b[39m):\n\u001b[0;32m    259\u001b[0m     \u001b[38;5;66;03m# Set the default nested backend to self._backend but do not set the\u001b[39;00m\n\u001b[0;32m    260\u001b[0m     \u001b[38;5;66;03m# change the default number of processes to -1\u001b[39;00m\n\u001b[0;32m    261\u001b[0m     \u001b[38;5;28;01mwith\u001b[39;00m parallel_backend(\u001b[38;5;28mself\u001b[39m\u001b[38;5;241m.\u001b[39m_backend, n_jobs\u001b[38;5;241m=\u001b[39m\u001b[38;5;28mself\u001b[39m\u001b[38;5;241m.\u001b[39m_n_jobs):\n\u001b[1;32m--> 262\u001b[0m         \u001b[38;5;28;01mreturn\u001b[39;00m [func(\u001b[38;5;241m*\u001b[39margs, \u001b[38;5;241m*\u001b[39m\u001b[38;5;241m*\u001b[39mkwargs)\n\u001b[0;32m    263\u001b[0m                 \u001b[38;5;28;01mfor\u001b[39;00m func, args, kwargs \u001b[38;5;129;01min\u001b[39;00m \u001b[38;5;28mself\u001b[39m\u001b[38;5;241m.\u001b[39mitems]\n",
      "File \u001b[1;32m~\\anaconda3\\envs\\rdkit\\lib\\site-packages\\joblib\\parallel.py:262\u001b[0m, in \u001b[0;36m<listcomp>\u001b[1;34m(.0)\u001b[0m\n\u001b[0;32m    258\u001b[0m \u001b[38;5;28;01mdef\u001b[39;00m \u001b[38;5;21m__call__\u001b[39m(\u001b[38;5;28mself\u001b[39m):\n\u001b[0;32m    259\u001b[0m     \u001b[38;5;66;03m# Set the default nested backend to self._backend but do not set the\u001b[39;00m\n\u001b[0;32m    260\u001b[0m     \u001b[38;5;66;03m# change the default number of processes to -1\u001b[39;00m\n\u001b[0;32m    261\u001b[0m     \u001b[38;5;28;01mwith\u001b[39;00m parallel_backend(\u001b[38;5;28mself\u001b[39m\u001b[38;5;241m.\u001b[39m_backend, n_jobs\u001b[38;5;241m=\u001b[39m\u001b[38;5;28mself\u001b[39m\u001b[38;5;241m.\u001b[39m_n_jobs):\n\u001b[1;32m--> 262\u001b[0m         \u001b[38;5;28;01mreturn\u001b[39;00m [func(\u001b[38;5;241m*\u001b[39margs, \u001b[38;5;241m*\u001b[39m\u001b[38;5;241m*\u001b[39mkwargs)\n\u001b[0;32m    263\u001b[0m                 \u001b[38;5;28;01mfor\u001b[39;00m func, args, kwargs \u001b[38;5;129;01min\u001b[39;00m \u001b[38;5;28mself\u001b[39m\u001b[38;5;241m.\u001b[39mitems]\n",
      "File \u001b[1;32m~\\anaconda3\\envs\\rdkit\\lib\\site-packages\\sklearn\\utils\\fixes.py:211\u001b[0m, in \u001b[0;36m_FuncWrapper.__call__\u001b[1;34m(self, *args, **kwargs)\u001b[0m\n\u001b[0;32m    209\u001b[0m \u001b[38;5;28;01mdef\u001b[39;00m \u001b[38;5;21m__call__\u001b[39m(\u001b[38;5;28mself\u001b[39m, \u001b[38;5;241m*\u001b[39margs, \u001b[38;5;241m*\u001b[39m\u001b[38;5;241m*\u001b[39mkwargs):\n\u001b[0;32m    210\u001b[0m     \u001b[38;5;28;01mwith\u001b[39;00m config_context(\u001b[38;5;241m*\u001b[39m\u001b[38;5;241m*\u001b[39m\u001b[38;5;28mself\u001b[39m\u001b[38;5;241m.\u001b[39mconfig):\n\u001b[1;32m--> 211\u001b[0m         \u001b[38;5;28;01mreturn\u001b[39;00m \u001b[38;5;28mself\u001b[39m\u001b[38;5;241m.\u001b[39mfunction(\u001b[38;5;241m*\u001b[39margs, \u001b[38;5;241m*\u001b[39m\u001b[38;5;241m*\u001b[39mkwargs)\n",
      "File \u001b[1;32m~\\anaconda3\\envs\\rdkit\\lib\\site-packages\\sklearn\\ensemble\\_forest.py:185\u001b[0m, in \u001b[0;36m_parallel_build_trees\u001b[1;34m(tree, forest, X, y, sample_weight, tree_idx, n_trees, verbose, class_weight, n_samples_bootstrap)\u001b[0m\n\u001b[0;32m    182\u001b[0m     \u001b[38;5;28;01melif\u001b[39;00m class_weight \u001b[38;5;241m==\u001b[39m \u001b[38;5;124m\"\u001b[39m\u001b[38;5;124mbalanced_subsample\u001b[39m\u001b[38;5;124m\"\u001b[39m:\n\u001b[0;32m    183\u001b[0m         curr_sample_weight \u001b[38;5;241m*\u001b[39m\u001b[38;5;241m=\u001b[39m compute_sample_weight(\u001b[38;5;124m\"\u001b[39m\u001b[38;5;124mbalanced\u001b[39m\u001b[38;5;124m\"\u001b[39m, y, indices\u001b[38;5;241m=\u001b[39mindices)\n\u001b[1;32m--> 185\u001b[0m     \u001b[43mtree\u001b[49m\u001b[38;5;241;43m.\u001b[39;49m\u001b[43mfit\u001b[49m\u001b[43m(\u001b[49m\u001b[43mX\u001b[49m\u001b[43m,\u001b[49m\u001b[43m \u001b[49m\u001b[43my\u001b[49m\u001b[43m,\u001b[49m\u001b[43m \u001b[49m\u001b[43msample_weight\u001b[49m\u001b[38;5;241;43m=\u001b[39;49m\u001b[43mcurr_sample_weight\u001b[49m\u001b[43m,\u001b[49m\u001b[43m \u001b[49m\u001b[43mcheck_input\u001b[49m\u001b[38;5;241;43m=\u001b[39;49m\u001b[38;5;28;43;01mFalse\u001b[39;49;00m\u001b[43m)\u001b[49m\n\u001b[0;32m    186\u001b[0m \u001b[38;5;28;01melse\u001b[39;00m:\n\u001b[0;32m    187\u001b[0m     tree\u001b[38;5;241m.\u001b[39mfit(X, y, sample_weight\u001b[38;5;241m=\u001b[39msample_weight, check_input\u001b[38;5;241m=\u001b[39m\u001b[38;5;28;01mFalse\u001b[39;00m)\n",
      "File \u001b[1;32m~\\anaconda3\\envs\\rdkit\\lib\\site-packages\\sklearn\\tree\\_classes.py:1315\u001b[0m, in \u001b[0;36mDecisionTreeRegressor.fit\u001b[1;34m(self, X, y, sample_weight, check_input, X_idx_sorted)\u001b[0m\n\u001b[0;32m   1278\u001b[0m \u001b[38;5;28;01mdef\u001b[39;00m \u001b[38;5;21mfit\u001b[39m(\n\u001b[0;32m   1279\u001b[0m     \u001b[38;5;28mself\u001b[39m, X, y, sample_weight\u001b[38;5;241m=\u001b[39m\u001b[38;5;28;01mNone\u001b[39;00m, check_input\u001b[38;5;241m=\u001b[39m\u001b[38;5;28;01mTrue\u001b[39;00m, X_idx_sorted\u001b[38;5;241m=\u001b[39m\u001b[38;5;124m\"\u001b[39m\u001b[38;5;124mdeprecated\u001b[39m\u001b[38;5;124m\"\u001b[39m\n\u001b[0;32m   1280\u001b[0m ):\n\u001b[0;32m   1281\u001b[0m     \u001b[38;5;124;03m\"\"\"Build a decision tree regressor from the training set (X, y).\u001b[39;00m\n\u001b[0;32m   1282\u001b[0m \n\u001b[0;32m   1283\u001b[0m \u001b[38;5;124;03m    Parameters\u001b[39;00m\n\u001b[1;32m   (...)\u001b[0m\n\u001b[0;32m   1312\u001b[0m \u001b[38;5;124;03m        Fitted estimator.\u001b[39;00m\n\u001b[0;32m   1313\u001b[0m \u001b[38;5;124;03m    \"\"\"\u001b[39;00m\n\u001b[1;32m-> 1315\u001b[0m     \u001b[38;5;28;43msuper\u001b[39;49m\u001b[43m(\u001b[49m\u001b[43m)\u001b[49m\u001b[38;5;241;43m.\u001b[39;49m\u001b[43mfit\u001b[49m\u001b[43m(\u001b[49m\n\u001b[0;32m   1316\u001b[0m \u001b[43m        \u001b[49m\u001b[43mX\u001b[49m\u001b[43m,\u001b[49m\n\u001b[0;32m   1317\u001b[0m \u001b[43m        \u001b[49m\u001b[43my\u001b[49m\u001b[43m,\u001b[49m\n\u001b[0;32m   1318\u001b[0m \u001b[43m        \u001b[49m\u001b[43msample_weight\u001b[49m\u001b[38;5;241;43m=\u001b[39;49m\u001b[43msample_weight\u001b[49m\u001b[43m,\u001b[49m\n\u001b[0;32m   1319\u001b[0m \u001b[43m        \u001b[49m\u001b[43mcheck_input\u001b[49m\u001b[38;5;241;43m=\u001b[39;49m\u001b[43mcheck_input\u001b[49m\u001b[43m,\u001b[49m\n\u001b[0;32m   1320\u001b[0m \u001b[43m        \u001b[49m\u001b[43mX_idx_sorted\u001b[49m\u001b[38;5;241;43m=\u001b[39;49m\u001b[43mX_idx_sorted\u001b[49m\u001b[43m,\u001b[49m\n\u001b[0;32m   1321\u001b[0m \u001b[43m    \u001b[49m\u001b[43m)\u001b[49m\n\u001b[0;32m   1322\u001b[0m     \u001b[38;5;28;01mreturn\u001b[39;00m \u001b[38;5;28mself\u001b[39m\n",
      "File \u001b[1;32m~\\anaconda3\\envs\\rdkit\\lib\\site-packages\\sklearn\\tree\\_classes.py:420\u001b[0m, in \u001b[0;36mBaseDecisionTree.fit\u001b[1;34m(self, X, y, sample_weight, check_input, X_idx_sorted)\u001b[0m\n\u001b[0;32m    409\u001b[0m \u001b[38;5;28;01melse\u001b[39;00m:\n\u001b[0;32m    410\u001b[0m     builder \u001b[38;5;241m=\u001b[39m BestFirstTreeBuilder(\n\u001b[0;32m    411\u001b[0m         splitter,\n\u001b[0;32m    412\u001b[0m         min_samples_split,\n\u001b[1;32m   (...)\u001b[0m\n\u001b[0;32m    417\u001b[0m         \u001b[38;5;28mself\u001b[39m\u001b[38;5;241m.\u001b[39mmin_impurity_decrease,\n\u001b[0;32m    418\u001b[0m     )\n\u001b[1;32m--> 420\u001b[0m \u001b[43mbuilder\u001b[49m\u001b[38;5;241;43m.\u001b[39;49m\u001b[43mbuild\u001b[49m\u001b[43m(\u001b[49m\u001b[38;5;28;43mself\u001b[39;49m\u001b[38;5;241;43m.\u001b[39;49m\u001b[43mtree_\u001b[49m\u001b[43m,\u001b[49m\u001b[43m \u001b[49m\u001b[43mX\u001b[49m\u001b[43m,\u001b[49m\u001b[43m \u001b[49m\u001b[43my\u001b[49m\u001b[43m,\u001b[49m\u001b[43m \u001b[49m\u001b[43msample_weight\u001b[49m\u001b[43m)\u001b[49m\n\u001b[0;32m    422\u001b[0m \u001b[38;5;28;01mif\u001b[39;00m \u001b[38;5;28mself\u001b[39m\u001b[38;5;241m.\u001b[39mn_outputs_ \u001b[38;5;241m==\u001b[39m \u001b[38;5;241m1\u001b[39m \u001b[38;5;129;01mand\u001b[39;00m is_classifier(\u001b[38;5;28mself\u001b[39m):\n\u001b[0;32m    423\u001b[0m     \u001b[38;5;28mself\u001b[39m\u001b[38;5;241m.\u001b[39mn_classes_ \u001b[38;5;241m=\u001b[39m \u001b[38;5;28mself\u001b[39m\u001b[38;5;241m.\u001b[39mn_classes_[\u001b[38;5;241m0\u001b[39m]\n",
      "\u001b[1;31mKeyboardInterrupt\u001b[0m: "
     ]
    }
   ],
   "source": [
    "# fit the model\n",
    "model = RandomForestRegressor(n_estimators=100, random_state=42)\n",
    "model.fit(X_test, Y_test)\n",
    "# evaluate the model\n",
    "Y_test_pred2 = model.predict(X_test)\n",
    "# evaluate predictions\n",
    "mae = mean_absolute_error(Y_test, Y_test_pred2)\n",
    "print('MAE: %.3f' % mae)"
   ]
  },
  {
   "cell_type": "code",
   "execution_count": 78,
   "id": "4e721353",
   "metadata": {},
   "outputs": [
    {
     "name": "stdout",
     "output_type": "stream",
     "text": [
      "RMSE (filtered): 0.6244464152714275\n",
      "R^2 (filtered): 0.8859758925205345\n"
     ]
    }
   ],
   "source": [
    "from sklearn.metrics import mean_squared_error, r2_score\n",
    "\n",
    "# Calculate RMSE\n",
    "rmse_filtered = np.sqrt(mean_squared_error(Y_test, Y_test_pred2))\n",
    "\n",
    "# Calculate R^2\n",
    "r2_filtered = r2_score(Y_test, Y_test_pred2)\n",
    "\n",
    "print(\"RMSE (filtered):\", rmse_filtered)\n",
    "print(\"R^2 (filtered):\", r2_filtered)"
   ]
  },
  {
   "cell_type": "code",
   "execution_count": 74,
   "id": "0c1dd6b8",
   "metadata": {},
   "outputs": [],
   "source": [
    "from sklearn.neighbors import LocalOutlierFactor\n",
    "\n",
    "lof = LocalOutlierFactor()\n",
    "yhat = lof.fit_predict(X_train)"
   ]
  },
  {
   "cell_type": "code",
   "execution_count": 75,
   "id": "981336b0",
   "metadata": {},
   "outputs": [],
   "source": [
    "mask = yhat != -1\n",
    "X_train, Y_train = X_train[mask, :], Y_train[mask]\n"
   ]
  },
  {
   "cell_type": "code",
   "execution_count": 76,
   "id": "fad68c0b",
   "metadata": {},
   "outputs": [
    {
     "name": "stdout",
     "output_type": "stream",
     "text": [
      "(6515, 177) (6515,)\n"
     ]
    }
   ],
   "source": [
    "print(X_train.shape, Y_train.shape)"
   ]
  },
  {
   "cell_type": "code",
   "execution_count": 79,
   "id": "f5418a42",
   "metadata": {},
   "outputs": [
    {
     "name": "stdout",
     "output_type": "stream",
     "text": [
      "MAE: 0.163\n"
     ]
    }
   ],
   "source": [
    "# fit the model\n",
    "#model = RandomForestRegressor(n_estimators=100, random_state=42)\n",
    "#model.fit(X_train, Y_train)\n",
    "# evaluate the model\n",
    "Y_train_pred2 = model.predict(X_train)\n",
    "# evaluate predictions\n",
    "mae = mean_absolute_error(Y_train, Y_train_pred2)\n",
    "print('MAE: %.3f' % mae)"
   ]
  },
  {
   "cell_type": "code",
   "execution_count": 80,
   "id": "c706e239",
   "metadata": {},
   "outputs": [
    {
     "name": "stdout",
     "output_type": "stream",
     "text": [
      "MAE: 0.163\n",
      "RMSE (filtered): 0.2510194655094168\n",
      "R^2 (filtered): 0.9813240211165425\n"
     ]
    }
   ],
   "source": [
    "#Y_train_pred2 = model.predict(X_train)\n",
    "from sklearn.metrics import mean_squared_error, r2_score\n",
    "\n",
    "# Calculate RMSE\n",
    "rmse_filtered = np.sqrt(mean_squared_error(Y_train, Y_train_pred2))\n",
    "\n",
    "# Calculate R^2\n",
    "r2_filtered = r2_score(Y_train, Y_train_pred2)\n",
    "mae = mean_absolute_error(Y_train, Y_train_pred2)\n",
    "\n",
    "print('MAE: %.3f' % mae)\n",
    "\n",
    "print(\"RMSE (filtered):\", rmse_filtered)\n",
    "print(\"R^2 (filtered):\", r2_filtered)"
   ]
  },
  {
   "cell_type": "code",
   "execution_count": 81,
   "id": "39007ab6",
   "metadata": {},
   "outputs": [
    {
     "name": "stdout",
     "output_type": "stream",
     "text": [
      "RMSE (filtered): 0.6244464152714275\n",
      "R^2 (filtered): 0.8859758925205345\n"
     ]
    }
   ],
   "source": [
    "#Y_test_pred2 = model.predict(X_test)\n",
    "rmse_filtered = np.sqrt(mean_squared_error(Y_test, Y_test_pred2))\n",
    "\n",
    "# Calculate R^2\n",
    "r2_filtered = r2_score(Y_test, Y_test_pred2)\n",
    "\n",
    "print(\"RMSE (filtered):\", rmse_filtered)\n",
    "print(\"R^2 (filtered):\", r2_filtered)"
   ]
  },
  {
   "cell_type": "code",
   "execution_count": 125,
   "id": "c60a9d7f",
   "metadata": {},
   "outputs": [
    {
     "name": "stdout",
     "output_type": "stream",
     "text": [
      "MAE: 0.406\n"
     ]
    }
   ],
   "source": [
    "Y_test_pred2 = model.predict(X_test)\n",
    "# evaluate predictions\n",
    "mae = mean_absolute_error(Y_test, Y_test_pred2)\n",
    "print('MAE: %.3f' % mae)"
   ]
  },
  {
   "cell_type": "code",
   "execution_count": 53,
   "id": "152bff08",
   "metadata": {},
   "outputs": [
    {
     "name": "stdout",
     "output_type": "stream",
     "text": [
      "[   9   16   41   61   85  122  223  250  253  254  315  330  437  454\n",
      "  457  473  548  554  555  576  614  653  667  701  784  823  875  891\n",
      "  911  925  964  980 1007 1026 1111 1137 1171 1219 1225 1226 1241 1266\n",
      " 1301 1305 1343 1363 1460 1463 1522 1533 1537 1564 1574 1590 1673 1679\n",
      " 1711 1725 1755 1784 1791 1801 1820 1853 1856 1863 1867 1927 1931 1935\n",
      " 1940 2004 2010 2133 2155 2164 2178 2201 2295 2297 2356 2361 2476 2507\n",
      " 2511 2519 2542 2582 2601 2623 2637 2695 2703 2739 2757 2766 2804 2833\n",
      " 2868 2929 2952 2988 2998 3003 3017 3041 3044 3062 3066 3158 3220 3222\n",
      " 3235 3238 3293 3308 3344 3354 3383 3450 3553 3560 3573 3673 3683 3710\n",
      " 3776 3817 3835 3861 3885 3889 3898 3928 3936 3982 4036 4165 4169 4189\n",
      " 4227 4229 4236 4244 4270 4299 4323 4326 4353 4386 4398 4411 4447 4466\n",
      " 4470 4478 4550 4575 4613 4625 4703 4756 4769 4843 4850 4856 4918 4937\n",
      " 4950 4958 4960 4979 4986 5020 5163 5172 5218 5223 5226 5244 5252 5299\n",
      " 5370 5416 5451 5474 5480 5516 5556 5575 5590 5615 5625 5629 5638 5641\n",
      " 5716 5732 5738 5742 5779 5783 5811 5813 5883 5884 5942 5964 5993 6006\n",
      " 6058 6067 6075 6150 6185 6222 6225 6250 6254 6298 6302 6392 6404 6443\n",
      " 6464 6479 6489 6548 6569 6586 6611 6687 6698 6699 6740]\n"
     ]
    }
   ],
   "source": [
    "outlier_indices = np.where(mask == False)[0]\n",
    "\n",
    "print(outlier_indices)"
   ]
  },
  {
   "cell_type": "code",
   "execution_count": 54,
   "id": "f972322a",
   "metadata": {},
   "outputs": [
    {
     "data": {
      "text/html": [
       "<div>\n",
       "<style scoped>\n",
       "    .dataframe tbody tr th:only-of-type {\n",
       "        vertical-align: middle;\n",
       "    }\n",
       "\n",
       "    .dataframe tbody tr th {\n",
       "        vertical-align: top;\n",
       "    }\n",
       "\n",
       "    .dataframe thead th {\n",
       "        text-align: right;\n",
       "    }\n",
       "</style>\n",
       "<table border=\"1\" class=\"dataframe\">\n",
       "  <thead>\n",
       "    <tr style=\"text-align: right;\">\n",
       "      <th></th>\n",
       "      <th>SMILES</th>\n",
       "      <th>measured log(solubility:mol/L)</th>\n",
       "    </tr>\n",
       "  </thead>\n",
       "  <tbody>\n",
       "    <tr>\n",
       "      <th>9</th>\n",
       "      <td>OCC1OC(OCC(O)C(O)C(O)C(O)C=O)C(O)C(O)C1O</td>\n",
       "      <td>0.47</td>\n",
       "    </tr>\n",
       "    <tr>\n",
       "      <th>16</th>\n",
       "      <td>CCOP(=O)(OCC)OP(=O)(OCC)OP(=O)(OCC)OP(=O)(OCC)OCC</td>\n",
       "      <td>0.30</td>\n",
       "    </tr>\n",
       "    <tr>\n",
       "      <th>41</th>\n",
       "      <td>OC(=O)CC1(O)CC(=O)N(C1=O)C1=CC=CC=C1</td>\n",
       "      <td>-0.68</td>\n",
       "    </tr>\n",
       "    <tr>\n",
       "      <th>61</th>\n",
       "      <td>CN(C)C(=O)CCOC(=O)C1=CC=CC=C1</td>\n",
       "      <td>-1.10</td>\n",
       "    </tr>\n",
       "    <tr>\n",
       "      <th>85</th>\n",
       "      <td>CN1N(C(=O)C(NC(N)=O)=C1C)C1=CC=CC=C1</td>\n",
       "      <td>-1.52</td>\n",
       "    </tr>\n",
       "    <tr>\n",
       "      <th>...</th>\n",
       "      <td>...</td>\n",
       "      <td>...</td>\n",
       "    </tr>\n",
       "    <tr>\n",
       "      <th>6611</th>\n",
       "      <td>N[C@H](CO)C(O)=O</td>\n",
       "      <td>0.54</td>\n",
       "    </tr>\n",
       "    <tr>\n",
       "      <th>6687</th>\n",
       "      <td>OC(=O)C(Cl)=C(Br)Br</td>\n",
       "      <td>-0.69</td>\n",
       "    </tr>\n",
       "    <tr>\n",
       "      <th>6698</th>\n",
       "      <td>OC(=O)C(F)(F)C(F)F</td>\n",
       "      <td>-0.88</td>\n",
       "    </tr>\n",
       "    <tr>\n",
       "      <th>6699</th>\n",
       "      <td>BrCC#C</td>\n",
       "      <td>-0.90</td>\n",
       "    </tr>\n",
       "    <tr>\n",
       "      <th>6740</th>\n",
       "      <td>CC(Br)C</td>\n",
       "      <td>-1.59</td>\n",
       "    </tr>\n",
       "  </tbody>\n",
       "</table>\n",
       "<p>235 rows × 2 columns</p>\n",
       "</div>"
      ],
      "text/plain": [
       "                                                 SMILES  \\\n",
       "9              OCC1OC(OCC(O)C(O)C(O)C(O)C=O)C(O)C(O)C1O   \n",
       "16    CCOP(=O)(OCC)OP(=O)(OCC)OP(=O)(OCC)OP(=O)(OCC)OCC   \n",
       "41                 OC(=O)CC1(O)CC(=O)N(C1=O)C1=CC=CC=C1   \n",
       "61                        CN(C)C(=O)CCOC(=O)C1=CC=CC=C1   \n",
       "85                 CN1N(C(=O)C(NC(N)=O)=C1C)C1=CC=CC=C1   \n",
       "...                                                 ...   \n",
       "6611                                   N[C@H](CO)C(O)=O   \n",
       "6687                                OC(=O)C(Cl)=C(Br)Br   \n",
       "6698                                 OC(=O)C(F)(F)C(F)F   \n",
       "6699                                             BrCC#C   \n",
       "6740                                            CC(Br)C   \n",
       "\n",
       "      measured log(solubility:mol/L)  \n",
       "9                               0.47  \n",
       "16                              0.30  \n",
       "41                             -0.68  \n",
       "61                             -1.10  \n",
       "85                             -1.52  \n",
       "...                              ...  \n",
       "6611                            0.54  \n",
       "6687                           -0.69  \n",
       "6698                           -0.88  \n",
       "6699                           -0.90  \n",
       "6740                           -1.59  \n",
       "\n",
       "[235 rows x 2 columns]"
      ]
     },
     "execution_count": 54,
     "metadata": {},
     "output_type": "execute_result"
    }
   ],
   "source": [
    "outlier_features = sol.iloc[outlier_indices]\n",
    "outlier_features"
   ]
  },
  {
   "cell_type": "code",
   "execution_count": 55,
   "id": "a27c5b42",
   "metadata": {},
   "outputs": [],
   "source": [
    "outlier_features.to_csv('sorted_residuals.csv', index=False)"
   ]
  },
  {
   "cell_type": "code",
   "execution_count": 57,
   "id": "4e73bc22",
   "metadata": {},
   "outputs": [
    {
     "data": {
      "text/html": [
       "<div>\n",
       "<style scoped>\n",
       "    .dataframe tbody tr th:only-of-type {\n",
       "        vertical-align: middle;\n",
       "    }\n",
       "\n",
       "    .dataframe tbody tr th {\n",
       "        vertical-align: top;\n",
       "    }\n",
       "\n",
       "    .dataframe thead th {\n",
       "        text-align: right;\n",
       "    }\n",
       "</style>\n",
       "<table border=\"1\" class=\"dataframe\">\n",
       "  <thead>\n",
       "    <tr style=\"text-align: right;\">\n",
       "      <th></th>\n",
       "      <th>SMILES</th>\n",
       "      <th>measured log(solubility:mol/L)</th>\n",
       "    </tr>\n",
       "  </thead>\n",
       "  <tbody>\n",
       "    <tr>\n",
       "      <th>0</th>\n",
       "      <td>OCC1OC(OCC(O)C(O)C(O)C(O)C=O)C(O)C(O)C1O</td>\n",
       "      <td>0.47</td>\n",
       "    </tr>\n",
       "    <tr>\n",
       "      <th>1</th>\n",
       "      <td>CCOP(=O)(OCC)OP(=O)(OCC)OP(=O)(OCC)OP(=O)(OCC)OCC</td>\n",
       "      <td>0.30</td>\n",
       "    </tr>\n",
       "    <tr>\n",
       "      <th>2</th>\n",
       "      <td>OC(=O)CC1(O)CC(=O)N(C1=O)C1=CC=CC=C1</td>\n",
       "      <td>-0.68</td>\n",
       "    </tr>\n",
       "    <tr>\n",
       "      <th>3</th>\n",
       "      <td>CN(C)C(=O)CCOC(=O)C1=CC=CC=C1</td>\n",
       "      <td>-1.10</td>\n",
       "    </tr>\n",
       "    <tr>\n",
       "      <th>4</th>\n",
       "      <td>CN1N(C(=O)C(NC(N)=O)=C1C)C1=CC=CC=C1</td>\n",
       "      <td>-1.52</td>\n",
       "    </tr>\n",
       "    <tr>\n",
       "      <th>...</th>\n",
       "      <td>...</td>\n",
       "      <td>...</td>\n",
       "    </tr>\n",
       "    <tr>\n",
       "      <th>230</th>\n",
       "      <td>N[C@H](CO)C(O)=O</td>\n",
       "      <td>0.54</td>\n",
       "    </tr>\n",
       "    <tr>\n",
       "      <th>231</th>\n",
       "      <td>OC(=O)C(Cl)=C(Br)Br</td>\n",
       "      <td>-0.69</td>\n",
       "    </tr>\n",
       "    <tr>\n",
       "      <th>232</th>\n",
       "      <td>OC(=O)C(F)(F)C(F)F</td>\n",
       "      <td>-0.88</td>\n",
       "    </tr>\n",
       "    <tr>\n",
       "      <th>233</th>\n",
       "      <td>BrCC#C</td>\n",
       "      <td>-0.90</td>\n",
       "    </tr>\n",
       "    <tr>\n",
       "      <th>234</th>\n",
       "      <td>CC(Br)C</td>\n",
       "      <td>-1.59</td>\n",
       "    </tr>\n",
       "  </tbody>\n",
       "</table>\n",
       "<p>235 rows × 2 columns</p>\n",
       "</div>"
      ],
      "text/plain": [
       "                                                SMILES  \\\n",
       "0             OCC1OC(OCC(O)C(O)C(O)C(O)C=O)C(O)C(O)C1O   \n",
       "1    CCOP(=O)(OCC)OP(=O)(OCC)OP(=O)(OCC)OP(=O)(OCC)OCC   \n",
       "2                 OC(=O)CC1(O)CC(=O)N(C1=O)C1=CC=CC=C1   \n",
       "3                        CN(C)C(=O)CCOC(=O)C1=CC=CC=C1   \n",
       "4                 CN1N(C(=O)C(NC(N)=O)=C1C)C1=CC=CC=C1   \n",
       "..                                                 ...   \n",
       "230                                   N[C@H](CO)C(O)=O   \n",
       "231                                OC(=O)C(Cl)=C(Br)Br   \n",
       "232                                 OC(=O)C(F)(F)C(F)F   \n",
       "233                                             BrCC#C   \n",
       "234                                            CC(Br)C   \n",
       "\n",
       "     measured log(solubility:mol/L)  \n",
       "0                              0.47  \n",
       "1                              0.30  \n",
       "2                             -0.68  \n",
       "3                             -1.10  \n",
       "4                             -1.52  \n",
       "..                              ...  \n",
       "230                            0.54  \n",
       "231                           -0.69  \n",
       "232                           -0.88  \n",
       "233                           -0.90  \n",
       "234                           -1.59  \n",
       "\n",
       "[235 rows x 2 columns]"
      ]
     },
     "execution_count": 57,
     "metadata": {},
     "output_type": "execute_result"
    }
   ],
   "source": [
    "testdata_outlier = pd.read_csv('D:/python/rdkit/outlier_Ds.csv')\n",
    "testdata_outlier"
   ]
  },
  {
   "cell_type": "code",
   "execution_count": 58,
   "id": "12c6ca89",
   "metadata": {},
   "outputs": [
    {
     "name": "stderr",
     "output_type": "stream",
     "text": [
      "100%|████████████████████████████████████████████████████████████████████████████████| 235/235 [00:06<00:00, 33.99it/s]\n"
     ]
    }
   ],
   "source": [
    "mordred_descriptors3 = All_Mordred_descriptors(testdata_outlier['SMILES'])"
   ]
  },
  {
   "cell_type": "code",
   "execution_count": 62,
   "id": "ecf755ed",
   "metadata": {},
   "outputs": [
    {
     "data": {
      "text/plain": [
       "(235, 177)"
      ]
     },
     "execution_count": 62,
     "metadata": {},
     "output_type": "execute_result"
    }
   ],
   "source": [
    "Outlier_d=mordred_descriptors3[['AATS0d',\n",
    " 'AATS0dv',\n",
    " 'AATS0i',\n",
    " 'AATSC0dv',\n",
    " 'AATSC0i',\n",
    " 'AATSC0v',\n",
    " 'AATSC1Z',\n",
    " 'ABC',\n",
    " 'ATS0Z',\n",
    " 'ATSC0i',\n",
    " 'ATSC1Z',\n",
    " 'ATSC1d',\n",
    " 'ATSC1dv',\n",
    " 'ATSC1i',\n",
    " 'ATSC1p',\n",
    " 'ATSC1se',\n",
    " 'ATSC1v',\n",
    " 'ATSC2Z',\n",
    " 'ATSC2d',\n",
    " 'ATSC2dv',\n",
    " 'ATSC2i',\n",
    " 'ATSC2se',\n",
    " 'ATSC2v',\n",
    " 'ATSC3Z',\n",
    " 'ATSC3d',\n",
    " 'ATSC3dv',\n",
    " 'ATSC3i',\n",
    " 'ATSC3p',\n",
    " 'ATSC3se',\n",
    " 'ATSC3v',\n",
    " 'ATSC4Z',\n",
    " 'ATSC4d',\n",
    " 'ATSC4dv',\n",
    " 'ATSC4i',\n",
    " 'ATSC4p',\n",
    " 'ATSC4se',\n",
    " 'ATSC4v',\n",
    " 'ATSC5Z',\n",
    " 'ATSC5d',\n",
    " 'ATSC5dv',\n",
    " 'ATSC5i',\n",
    " 'ATSC5p',\n",
    " 'ATSC5se',\n",
    " 'ATSC5v',\n",
    " 'ATSC6Z',\n",
    " 'ATSC6d',\n",
    " 'ATSC6dv',\n",
    " 'ATSC6i',\n",
    " 'ATSC6se',\n",
    " 'ATSC6v',\n",
    " 'ATSC7Z',\n",
    " 'ATSC7d',\n",
    " 'ATSC7dv',\n",
    " 'ATSC7i',\n",
    " 'ATSC7p',\n",
    " 'ATSC7v',\n",
    " 'ATSC8Z',\n",
    " 'ATSC8d',\n",
    " 'ATSC8dv',\n",
    " 'ATSC8i',\n",
    " 'ATSC8v',\n",
    " 'BalabanJ',\n",
    " 'C1SP2',\n",
    " 'C1SP3',\n",
    " 'C2SP3',\n",
    " 'C3SP2',\n",
    " 'C3SP3',\n",
    " 'CIC1',\n",
    " 'Diameter',\n",
    " 'ECIndex',\n",
    " 'EState_VSA1',\n",
    " 'EState_VSA2',\n",
    " 'EState_VSA3',\n",
    " 'EState_VSA4',\n",
    " 'EState_VSA5',\n",
    " 'EState_VSA6',\n",
    " 'EState_VSA7',\n",
    " 'EState_VSA8',\n",
    " 'GATS1i',\n",
    " 'GATS1p',\n",
    " 'IC1',\n",
    " 'NaaN',\n",
    " 'NaaNH',\n",
    " 'NaaaC',\n",
    " 'NaasC',\n",
    " 'NaasN',\n",
    " 'NddsN',\n",
    " 'NddssS',\n",
    " 'NdsCH',\n",
    " 'NdssC',\n",
    " 'NsCH3',\n",
    " 'NsNH2',\n",
    " 'NsOH',\n",
    " 'NssCH2',\n",
    " 'NssNH',\n",
    " 'NssO',\n",
    " 'NsssCH',\n",
    " 'NsssN',\n",
    " 'NssssC',\n",
    " 'PEOE_VSA1',\n",
    " 'PEOE_VSA10',\n",
    " 'PEOE_VSA11',\n",
    " 'PEOE_VSA12',\n",
    " 'PEOE_VSA13',\n",
    " 'PEOE_VSA2',\n",
    " 'PEOE_VSA3',\n",
    " 'PEOE_VSA4',\n",
    " 'PEOE_VSA5',\n",
    " 'PEOE_VSA6',\n",
    " 'PEOE_VSA7',\n",
    " 'PEOE_VSA8',\n",
    " 'PEOE_VSA9',\n",
    " 'SMR_VSA4',\n",
    " 'SMR_VSA6',\n",
    " 'SMR_VSA9',\n",
    " 'SaaO',\n",
    " 'SaasC',\n",
    " 'SdCH2',\n",
    " 'SdNH',\n",
    " 'SdS',\n",
    " 'SdsN',\n",
    " 'SdssC',\n",
    " 'SdsssP',\n",
    " 'SlogP_VSA1',\n",
    " 'SlogP_VSA10',\n",
    " 'SlogP_VSA11',\n",
    " 'SlogP_VSA2',\n",
    " 'SlogP_VSA3',\n",
    " 'SlogP_VSA4',\n",
    " 'SlogP_VSA7',\n",
    " 'SsI',\n",
    " 'SsSH',\n",
    " 'SssS',\n",
    " 'SsssCH',\n",
    " 'StCH',\n",
    " 'StN',\n",
    " 'StsC',\n",
    " 'VSA_EState1',\n",
    " 'VSA_EState2',\n",
    " 'VSA_EState4',\n",
    " 'VSA_EState7',\n",
    " 'VSA_EState8',\n",
    " 'VSA_EState9',\n",
    " 'WPath',\n",
    " 'Xc-3dv',\n",
    " 'Xc-5d',\n",
    " 'Xc-5dv',\n",
    " 'Xch-7d',\n",
    " 'n5ARing',\n",
    " 'n5HRing',\n",
    " 'n5Ring',\n",
    " 'n5aRing',\n",
    " 'n6ARing',\n",
    " 'n6HRing',\n",
    " 'nAHRing',\n",
    " 'nARing',\n",
    " 'nAcid',\n",
    " 'nAromAtom',\n",
    " 'nAtom',\n",
    " 'nBase',\n",
    " 'nBondsD',\n",
    " 'nBr',\n",
    " 'nBridgehead',\n",
    " 'nC',\n",
    " 'nCl',\n",
    " 'nF',\n",
    " 'nFRing',\n",
    " 'nHBAcc',\n",
    " 'nHBDon',\n",
    " 'nHRing',\n",
    " 'nHetero',\n",
    " 'nN',\n",
    " 'nO',\n",
    " 'nRot',\n",
    " 'nS',\n",
    " 'nX',\n",
    " 'naHRing'\n",
    "\n",
    "]]\n",
    "Outlier_d.shape\n"
   ]
  },
  {
   "cell_type": "code",
   "execution_count": 63,
   "id": "c924b2cd",
   "metadata": {},
   "outputs": [],
   "source": [
    "Outlier_d.to_excel(r'D:/python/rdkit/file name descriptor 32data.xlsx', index = False)"
   ]
  },
  {
   "cell_type": "code",
   "execution_count": 64,
   "id": "3abf299a",
   "metadata": {},
   "outputs": [
    {
     "data": {
      "text/html": [
       "<div>\n",
       "<style scoped>\n",
       "    .dataframe tbody tr th:only-of-type {\n",
       "        vertical-align: middle;\n",
       "    }\n",
       "\n",
       "    .dataframe tbody tr th {\n",
       "        vertical-align: top;\n",
       "    }\n",
       "\n",
       "    .dataframe thead th {\n",
       "        text-align: right;\n",
       "    }\n",
       "</style>\n",
       "<table border=\"1\" class=\"dataframe\">\n",
       "  <thead>\n",
       "    <tr style=\"text-align: right;\">\n",
       "      <th></th>\n",
       "      <th>SMILES</th>\n",
       "      <th>measured log(solubility:mol/L)</th>\n",
       "    </tr>\n",
       "  </thead>\n",
       "  <tbody>\n",
       "    <tr>\n",
       "      <th>0</th>\n",
       "      <td>OCC1OC(CO)(OC2OC(CO)C(O)C(O)C2O)C(O)C1O</td>\n",
       "      <td>0.79</td>\n",
       "    </tr>\n",
       "    <tr>\n",
       "      <th>1</th>\n",
       "      <td>O[C@H]1[C@H](O[C@H](CO)[C@@H](O)[C@@H]1O)O[C@]...</td>\n",
       "      <td>0.79</td>\n",
       "    </tr>\n",
       "    <tr>\n",
       "      <th>2</th>\n",
       "      <td>OC[C@@H]1O[C@](CO)(O[C@@H]2O[C@@H](CO)[C@H](O)...</td>\n",
       "      <td>0.79</td>\n",
       "    </tr>\n",
       "    <tr>\n",
       "      <th>3</th>\n",
       "      <td>CN1C[C@@H]2C[C@@H](C1)C3=CC=CC(=O)N3C2</td>\n",
       "      <td>0.65</td>\n",
       "    </tr>\n",
       "    <tr>\n",
       "      <th>4</th>\n",
       "      <td>CN1CC2CC(C1)C1=CC=CC(=O)N1C2</td>\n",
       "      <td>0.65</td>\n",
       "    </tr>\n",
       "    <tr>\n",
       "      <th>...</th>\n",
       "      <td>...</td>\n",
       "      <td>...</td>\n",
       "    </tr>\n",
       "    <tr>\n",
       "      <th>8168</th>\n",
       "      <td>O=[N+]([O-])C</td>\n",
       "      <td>0.26</td>\n",
       "    </tr>\n",
       "    <tr>\n",
       "      <th>8169</th>\n",
       "      <td>OC</td>\n",
       "      <td>1.57</td>\n",
       "    </tr>\n",
       "    <tr>\n",
       "      <th>8170</th>\n",
       "      <td>S=C(N)N</td>\n",
       "      <td>0.32</td>\n",
       "    </tr>\n",
       "    <tr>\n",
       "      <th>8171</th>\n",
       "      <td>O=C(NO)N</td>\n",
       "      <td>1.12</td>\n",
       "    </tr>\n",
       "    <tr>\n",
       "      <th>8172</th>\n",
       "      <td>O=C(N)N</td>\n",
       "      <td>0.96</td>\n",
       "    </tr>\n",
       "  </tbody>\n",
       "</table>\n",
       "<p>8173 rows × 2 columns</p>\n",
       "</div>"
      ],
      "text/plain": [
       "                                                 SMILES  \\\n",
       "0               OCC1OC(CO)(OC2OC(CO)C(O)C(O)C2O)C(O)C1O   \n",
       "1     O[C@H]1[C@H](O[C@H](CO)[C@@H](O)[C@@H]1O)O[C@]...   \n",
       "2     OC[C@@H]1O[C@](CO)(O[C@@H]2O[C@@H](CO)[C@H](O)...   \n",
       "3                CN1C[C@@H]2C[C@@H](C1)C3=CC=CC(=O)N3C2   \n",
       "4                          CN1CC2CC(C1)C1=CC=CC(=O)N1C2   \n",
       "...                                                 ...   \n",
       "8168                                      O=[N+]([O-])C   \n",
       "8169                                                 OC   \n",
       "8170                                            S=C(N)N   \n",
       "8171                                           O=C(NO)N   \n",
       "8172                                            O=C(N)N   \n",
       "\n",
       "      measured log(solubility:mol/L)  \n",
       "0                               0.79  \n",
       "1                               0.79  \n",
       "2                               0.79  \n",
       "3                               0.65  \n",
       "4                               0.65  \n",
       "...                              ...  \n",
       "8168                            0.26  \n",
       "8169                            1.57  \n",
       "8170                            0.32  \n",
       "8171                            1.12  \n",
       "8172                            0.96  \n",
       "\n",
       "[8173 rows x 2 columns]"
      ]
     },
     "execution_count": 64,
     "metadata": {},
     "output_type": "execute_result"
    }
   ],
   "source": [
    "testdata_outlier2 = pd.read_csv('D:/python/rdkit/dataset_without_outliers_Dc.csv')\n",
    "testdata_outlier2"
   ]
  },
  {
   "cell_type": "code",
   "execution_count": 65,
   "id": "f3648a35",
   "metadata": {},
   "outputs": [
    {
     "name": "stderr",
     "output_type": "stream",
     "text": [
      "100%|██████████████████████████████████████████████████████████████████████████████| 8173/8173 [04:46<00:00, 28.52it/s]\n"
     ]
    }
   ],
   "source": [
    "mordred_descriptors4 = All_Mordred_descriptors(testdata_outlier2['SMILES'])"
   ]
  },
  {
   "cell_type": "code",
   "execution_count": 66,
   "id": "f872b993",
   "metadata": {},
   "outputs": [
    {
     "data": {
      "text/plain": [
       "(8173, 177)"
      ]
     },
     "execution_count": 66,
     "metadata": {},
     "output_type": "execute_result"
    }
   ],
   "source": [
    "Outlier_d2=mordred_descriptors4[['AATS0d',\n",
    " 'AATS0dv',\n",
    " 'AATS0i',\n",
    " 'AATSC0dv',\n",
    " 'AATSC0i',\n",
    " 'AATSC0v',\n",
    " 'AATSC1Z',\n",
    " 'ABC',\n",
    " 'ATS0Z',\n",
    " 'ATSC0i',\n",
    " 'ATSC1Z',\n",
    " 'ATSC1d',\n",
    " 'ATSC1dv',\n",
    " 'ATSC1i',\n",
    " 'ATSC1p',\n",
    " 'ATSC1se',\n",
    " 'ATSC1v',\n",
    " 'ATSC2Z',\n",
    " 'ATSC2d',\n",
    " 'ATSC2dv',\n",
    " 'ATSC2i',\n",
    " 'ATSC2se',\n",
    " 'ATSC2v',\n",
    " 'ATSC3Z',\n",
    " 'ATSC3d',\n",
    " 'ATSC3dv',\n",
    " 'ATSC3i',\n",
    " 'ATSC3p',\n",
    " 'ATSC3se',\n",
    " 'ATSC3v',\n",
    " 'ATSC4Z',\n",
    " 'ATSC4d',\n",
    " 'ATSC4dv',\n",
    " 'ATSC4i',\n",
    " 'ATSC4p',\n",
    " 'ATSC4se',\n",
    " 'ATSC4v',\n",
    " 'ATSC5Z',\n",
    " 'ATSC5d',\n",
    " 'ATSC5dv',\n",
    " 'ATSC5i',\n",
    " 'ATSC5p',\n",
    " 'ATSC5se',\n",
    " 'ATSC5v',\n",
    " 'ATSC6Z',\n",
    " 'ATSC6d',\n",
    " 'ATSC6dv',\n",
    " 'ATSC6i',\n",
    " 'ATSC6se',\n",
    " 'ATSC6v',\n",
    " 'ATSC7Z',\n",
    " 'ATSC7d',\n",
    " 'ATSC7dv',\n",
    " 'ATSC7i',\n",
    " 'ATSC7p',\n",
    " 'ATSC7v',\n",
    " 'ATSC8Z',\n",
    " 'ATSC8d',\n",
    " 'ATSC8dv',\n",
    " 'ATSC8i',\n",
    " 'ATSC8v',\n",
    " 'BalabanJ',\n",
    " 'C1SP2',\n",
    " 'C1SP3',\n",
    " 'C2SP3',\n",
    " 'C3SP2',\n",
    " 'C3SP3',\n",
    " 'CIC1',\n",
    " 'Diameter',\n",
    " 'ECIndex',\n",
    " 'EState_VSA1',\n",
    " 'EState_VSA2',\n",
    " 'EState_VSA3',\n",
    " 'EState_VSA4',\n",
    " 'EState_VSA5',\n",
    " 'EState_VSA6',\n",
    " 'EState_VSA7',\n",
    " 'EState_VSA8',\n",
    " 'GATS1i',\n",
    " 'GATS1p',\n",
    " 'IC1',\n",
    " 'NaaN',\n",
    " 'NaaNH',\n",
    " 'NaaaC',\n",
    " 'NaasC',\n",
    " 'NaasN',\n",
    " 'NddsN',\n",
    " 'NddssS',\n",
    " 'NdsCH',\n",
    " 'NdssC',\n",
    " 'NsCH3',\n",
    " 'NsNH2',\n",
    " 'NsOH',\n",
    " 'NssCH2',\n",
    " 'NssNH',\n",
    " 'NssO',\n",
    " 'NsssCH',\n",
    " 'NsssN',\n",
    " 'NssssC',\n",
    " 'PEOE_VSA1',\n",
    " 'PEOE_VSA10',\n",
    " 'PEOE_VSA11',\n",
    " 'PEOE_VSA12',\n",
    " 'PEOE_VSA13',\n",
    " 'PEOE_VSA2',\n",
    " 'PEOE_VSA3',\n",
    " 'PEOE_VSA4',\n",
    " 'PEOE_VSA5',\n",
    " 'PEOE_VSA6',\n",
    " 'PEOE_VSA7',\n",
    " 'PEOE_VSA8',\n",
    " 'PEOE_VSA9',\n",
    " 'SMR_VSA4',\n",
    " 'SMR_VSA6',\n",
    " 'SMR_VSA9',\n",
    " 'SaaO',\n",
    " 'SaasC',\n",
    " 'SdCH2',\n",
    " 'SdNH',\n",
    " 'SdS',\n",
    " 'SdsN',\n",
    " 'SdssC',\n",
    " 'SdsssP',\n",
    " 'SlogP_VSA1',\n",
    " 'SlogP_VSA10',\n",
    " 'SlogP_VSA11',\n",
    " 'SlogP_VSA2',\n",
    " 'SlogP_VSA3',\n",
    " 'SlogP_VSA4',\n",
    " 'SlogP_VSA7',\n",
    " 'SsI',\n",
    " 'SsSH',\n",
    " 'SssS',\n",
    " 'SsssCH',\n",
    " 'StCH',\n",
    " 'StN',\n",
    " 'StsC',\n",
    " 'VSA_EState1',\n",
    " 'VSA_EState2',\n",
    " 'VSA_EState4',\n",
    " 'VSA_EState7',\n",
    " 'VSA_EState8',\n",
    " 'VSA_EState9',\n",
    " 'WPath',\n",
    " 'Xc-3dv',\n",
    " 'Xc-5d',\n",
    " 'Xc-5dv',\n",
    " 'Xch-7d',\n",
    " 'n5ARing',\n",
    " 'n5HRing',\n",
    " 'n5Ring',\n",
    " 'n5aRing',\n",
    " 'n6ARing',\n",
    " 'n6HRing',\n",
    " 'nAHRing',\n",
    " 'nARing',\n",
    " 'nAcid',\n",
    " 'nAromAtom',\n",
    " 'nAtom',\n",
    " 'nBase',\n",
    " 'nBondsD',\n",
    " 'nBr',\n",
    " 'nBridgehead',\n",
    " 'nC',\n",
    " 'nCl',\n",
    " 'nF',\n",
    " 'nFRing',\n",
    " 'nHBAcc',\n",
    " 'nHBDon',\n",
    " 'nHRing',\n",
    " 'nHetero',\n",
    " 'nN',\n",
    " 'nO',\n",
    " 'nRot',\n",
    " 'nS',\n",
    " 'nX',\n",
    " 'naHRing'\n",
    "\n",
    "]]\n",
    "Outlier_d2.shape\n"
   ]
  },
  {
   "cell_type": "code",
   "execution_count": 68,
   "id": "3b361793",
   "metadata": {},
   "outputs": [],
   "source": [
    "Outlier_d2.to_excel(r'D:/python/rdkit/177 descriptors for dataset without outliers.xlsx', index = False)"
   ]
  },
  {
   "cell_type": "code",
   "execution_count": null,
   "id": "253d41aa",
   "metadata": {},
   "outputs": [],
   "source": []
  },
  {
   "cell_type": "code",
   "execution_count": null,
   "id": "147e0607",
   "metadata": {},
   "outputs": [],
   "source": []
  },
  {
   "cell_type": "code",
   "execution_count": null,
   "id": "1dab2bd6",
   "metadata": {},
   "outputs": [],
   "source": []
  },
  {
   "cell_type": "code",
   "execution_count": 43,
   "id": "37760694",
   "metadata": {},
   "outputs": [
    {
     "data": {
      "image/png": "[encoded data removed]",
      "text/plain": [
       "<Figure size 360x792 with 2 Axes>"
      ]
     },
     "metadata": {
      "needs_background": "light"
     },
     "output_type": "display_data"
    }
   ],
   "source": [
    "#Vertical plot\n",
    "plt.figure(figsize=(5,11))\n",
    "\n",
    "# 2 row, 1 column, plot 1\n",
    "plt.subplot(2, 1, 1)\n",
    "plt.scatter(x=Y_train, y=Y_train_pred2, c=\"#7CAE00\", alpha=1)\n",
    "\n",
    "# Add trendline\n",
    "# https://stackoverflow.com/questions/26447191/how-to-add-trendline-in-python-matplotlib-dot-scatter-graphs\n",
    "z = np.polyfit(Y_train, Y_train_pred2, 1)\n",
    "p = np.poly1d(z)\n",
    "plt.plot(Y_test,p(Y_test),\"#F8766D\")\n",
    "\n",
    "\n",
    "plt.xlabel('Experimental LogS',fontsize=13)\n",
    "plt.ylabel('Predicted LogS',fontsize=13)\n",
    "\n",
    "\n",
    "# 2 row, 1 column, plot 2\n",
    "plt.subplot(2, 1, 2)\n",
    "plt.scatter(x=Y_test, y=Y_test_pred2, c=\"#619CFF\", alpha=1)\n",
    "\n",
    "z = np.polyfit(Y_test, Y_test_pred2, 1)\n",
    "p = np.poly1d(z)\n",
    "plt.plot(Y_test,p(Y_test),\"#F8766D\")\n",
    "\n",
    "plt.ylabel('Predicted LogS',fontsize=13)\n",
    "plt.xlabel('Experimental LogS',fontsize=13)\n",
    "\n",
    "#plt.savefig('plot_vertical_logS.png')\n",
    "plt.savefig('paper logS morgan.pdf',dpi=1200)\n",
    "plt.show()"
   ]
  },
  {
   "cell_type": "code",
   "execution_count": null,
   "id": "7c695f55",
   "metadata": {},
   "outputs": [],
   "source": []
  },
  {
   "cell_type": "code",
   "execution_count": null,
   "id": "6b317014",
   "metadata": {},
   "outputs": [],
   "source": []
  },
  {
   "cell_type": "code",
   "execution_count": null,
   "id": "ca1a5d7b",
   "metadata": {},
   "outputs": [],
   "source": []
  },
  {
   "cell_type": "code",
   "execution_count": null,
   "id": "f17b0b9c",
   "metadata": {},
   "outputs": [],
   "source": []
  },
  {
   "cell_type": "code",
   "execution_count": 49,
   "id": "4225c07d",
   "metadata": {},
   "outputs": [
    {
     "data": {
      "text/plain": [
       "0.165107871835008"
      ]
     },
     "execution_count": 49,
     "metadata": {},
     "output_type": "execute_result"
    }
   ],
   "source": [
    "mae = mean_absolute_error(Y_train, Y_pred_train)\n",
    "mae"
   ]
  },
  {
   "cell_type": "code",
   "execution_count": 51,
   "id": "74219939",
   "metadata": {},
   "outputs": [],
   "source": [
    "residuals= Y_train - Y_pred_train"
   ]
  },
  {
   "cell_type": "code",
   "execution_count": 52,
   "id": "8ab7cd68",
   "metadata": {},
   "outputs": [
    {
     "data": {
      "text/plain": [
       "0.2520332065236204"
      ]
     },
     "execution_count": 52,
     "metadata": {},
     "output_type": "execute_result"
    }
   ],
   "source": [
    "mse=np.mean(residuals**2)\n",
    "RMSE = np.sqrt(mse)\n",
    "RMSE"
   ]
  },
  {
   "cell_type": "code",
   "execution_count": 53,
   "id": "b46558c5",
   "metadata": {},
   "outputs": [
    {
     "data": {
      "text/plain": [
       "0.24868790043880984"
      ]
     },
     "execution_count": 53,
     "metadata": {},
     "output_type": "execute_result"
    }
   ],
   "source": [
    "n=len(Y_train)\n",
    "p=X.shape[1]\n",
    "SEE=np.sqrt(mse*(n-p-1)/n)\n",
    "SEE"
   ]
  },
  {
   "cell_type": "code",
   "execution_count": 54,
   "id": "835ceec9",
   "metadata": {},
   "outputs": [
    {
     "data": {
      "text/plain": [
       "0.2487063210825475"
      ]
     },
     "execution_count": 54,
     "metadata": {},
     "output_type": "execute_result"
    }
   ],
   "source": [
    "SEP = SEE * np.sqrt(1 + 1/n)\n",
    "SEP"
   ]
  },
  {
   "cell_type": "code",
   "execution_count": 55,
   "id": "3c7f0a59",
   "metadata": {},
   "outputs": [
    {
     "name": "stdout",
     "output_type": "stream",
     "text": [
      "Standard error of prediction on test set: 0.64\n",
      "Standard error of estimate on training set: 0.64\n"
     ]
    }
   ],
   "source": [
    "# Calculate the residuals\n",
    "residuals_test = Y_test - Y_pred_test\n",
    "\n",
    "# Calculate the mean of the residuals for the test set\n",
    "mean_residuals_test = np.mean(residuals_test)\n",
    "\n",
    "# Calculate the standard deviation of the residuals for the test set\n",
    "std_residuals_test = np.std(residuals_test, ddof=1)\n",
    "\n",
    "# Calculate the standard error of prediction (SEP) for the test set\n",
    "SEP = std_residuals_test * np.sqrt(1 + 1/len(X_test))\n",
    "\n",
    "SEE=SEP*(1/(np.sqrt(1 + 1/(len(X_test)))))\n",
    "SEE\n",
    "# Calculate the standard error of estimate (SEE) for the training set\n",
    "print(\"Standard error of prediction on test set: {:.2f}\".format(SEP))\n",
    "print(\"Standard error of estimate on training set: {:.2f}\".format(SEE))"
   ]
  },
  {
   "cell_type": "code",
   "execution_count": 87,
   "id": "a322dc97",
   "metadata": {},
   "outputs": [
    {
     "name": "stderr",
     "output_type": "stream",
     "text": [
      "C:\\Users\\DEDP Grader\\anaconda3\\envs\\rdkit\\lib\\site-packages\\tqdm\\auto.py:22: TqdmWarning: IProgress not found. Please update jupyter and ipywidgets. See https://ipywidgets.readthedocs.io/en/stable/user_install.html\n",
      "  from .autonotebook import tqdm as notebook_tqdm\n"
     ]
    }
   ],
   "source": [
    "import shap\n",
    "from sklearn.preprocessing import StandardScaler\n",
    "import os\n",
    "import sys\n",
    "#import Explanation"
   ]
  },
  {
   "cell_type": "code",
   "execution_count": 104,
   "id": "1c913ccc",
   "metadata": {},
   "outputs": [],
   "source": [
    "\n",
    "explainer = shap.Explainer(model)\n",
    "shap_values = explainer(X_test)"
   ]
  },
  {
   "cell_type": "code",
   "execution_count": 93,
   "id": "3e3c02fc",
   "metadata": {},
   "outputs": [],
   "source": [
    "X = X_test\n",
    "Xscaler = StandardScaler()\n",
    "X2= Xscaler.fit_transform(X)\n",
    "explainer = shap.Explainer(model)\n",
    "shap_values = explainer.shap_values(X2)"
   ]
  },
  {
   "cell_type": "code",
   "execution_count": 105,
   "id": "b37ce5e1",
   "metadata": {},
   "outputs": [
    {
     "data": {
      "image/png": "[encoded data removed]",
      "text/plain": [
       "<Figure size 576x453.6 with 1 Axes>"
      ]
     },
     "metadata": {
      "needs_background": "light"
     },
     "output_type": "display_data"
    }
   ],
   "source": [
    "shap.summary_plot(shap_values, max_display=12, plot_type=\"bar\",show=False)\n",
    "plt.savefig('scratcch.pdf',bbox_inches='tight',dpi = 1000)"
   ]
  },
  {
   "cell_type": "code",
   "execution_count": 112,
   "id": "a92aac79",
   "metadata": {},
   "outputs": [
    {
     "data": {
      "image/png": "[encoded data removed]",
      "text/plain": [
       "<Figure size 576x453.6 with 1 Axes>"
      ]
     },
     "metadata": {
      "needs_background": "light"
     },
     "output_type": "display_data"
    }
   ],
   "source": [
    "import matplotlib.pyplot as plt\n",
    "\n",
    "# Assuming you have a list of feature names named 'feature_names'\n",
    "feature_names = ['AATS0d',\n",
    " 'AATS0dv',\n",
    " 'AATS0i',\n",
    " 'AATSC0dv',\n",
    " 'AATSC0i',\n",
    " 'AATSC0v',\n",
    " 'AATSC1Z',\n",
    " 'ABC',\n",
    " 'ATS0Z',\n",
    " 'ATSC0i',\n",
    " 'ATSC1Z',\n",
    " 'ATSC1d',\n",
    " 'ATSC1dv',\n",
    " 'ATSC1i',\n",
    " 'ATSC1p',\n",
    " 'ATSC1se',\n",
    " 'ATSC1v',\n",
    " 'ATSC2Z',\n",
    " 'ATSC2d',\n",
    " 'ATSC2dv',\n",
    " 'ATSC2i',\n",
    " 'ATSC2se',\n",
    " 'ATSC2v',\n",
    " 'ATSC3Z',\n",
    " 'ATSC3d',\n",
    " 'ATSC3dv',\n",
    " 'ATSC3i',\n",
    " 'ATSC3p',\n",
    " 'ATSC3se',\n",
    " 'ATSC3v',\n",
    " 'ATSC4Z',\n",
    " 'ATSC4d',\n",
    " 'ATSC4dv',\n",
    " 'ATSC4i',\n",
    " 'ATSC4p',\n",
    " 'ATSC4se',\n",
    " 'ATSC4v',\n",
    " 'ATSC5Z',\n",
    " 'ATSC5d',\n",
    " 'ATSC5dv',\n",
    " 'ATSC5i',\n",
    " 'ATSC5p',\n",
    " 'ATSC5se',\n",
    " 'ATSC5v',\n",
    " 'ATSC6Z',\n",
    " 'ATSC6d',\n",
    " 'ATSC6dv',\n",
    " 'ATSC6i',\n",
    " 'ATSC6se',\n",
    " 'ATSC6v',\n",
    " 'ATSC7Z',\n",
    " 'ATSC7d',\n",
    " 'ATSC7dv',\n",
    " 'ATSC7i',\n",
    " 'ATSC7p',\n",
    " 'ATSC7v',\n",
    " 'ATSC8Z',\n",
    " 'ATSC8d',\n",
    " 'ATSC8dv',\n",
    " 'ATSC8i',\n",
    " 'ATSC8v',\n",
    " 'BalabanJ',\n",
    " 'C1SP2',\n",
    " 'C1SP3',\n",
    " 'C2SP3',\n",
    " 'C3SP2',\n",
    " 'C3SP3',\n",
    " 'CIC1',\n",
    " 'Diameter',\n",
    " 'ECIndex',\n",
    " 'EState_VSA1',\n",
    " 'EState_VSA2',\n",
    " 'EState_VSA3',\n",
    " 'EState_VSA4',\n",
    " 'EState_VSA5',\n",
    " 'EState_VSA6',\n",
    " 'EState_VSA7',\n",
    " 'EState_VSA8',\n",
    " 'GATS1i',\n",
    " 'GATS1p',\n",
    " 'IC1',\n",
    " 'NaaN',\n",
    " 'NaaNH',\n",
    " 'NaaaC',\n",
    " 'NaasC',\n",
    " 'NaasN',\n",
    " 'NddsN',\n",
    " 'NddssS',\n",
    " 'NdsCH',\n",
    " 'NdssC',\n",
    " 'NsCH3',\n",
    " 'NsNH2',\n",
    " 'NsOH',\n",
    " 'NssCH2',\n",
    " 'NssNH',\n",
    " 'NssO',\n",
    " 'NsssCH',\n",
    " 'NsssN',\n",
    " 'NssssC',\n",
    " 'PEOE_VSA1',\n",
    " 'PEOE_VSA10',\n",
    " 'PEOE_VSA11',\n",
    " 'PEOE_VSA12',\n",
    " 'PEOE_VSA13',\n",
    " 'PEOE_VSA2',\n",
    " 'PEOE_VSA3',\n",
    " 'PEOE_VSA4',\n",
    " 'PEOE_VSA5',\n",
    " 'PEOE_VSA6',\n",
    " 'PEOE_VSA7',\n",
    " 'PEOE_VSA8',\n",
    " 'PEOE_VSA9',\n",
    " 'SMR_VSA4',\n",
    " 'SMR_VSA6',\n",
    " 'SMR_VSA9',\n",
    " 'SaaO',\n",
    " 'SaasC',\n",
    " 'SdCH2',\n",
    " 'SdNH',\n",
    " 'SdS',\n",
    " 'SdsN',\n",
    " 'SdssC',\n",
    " 'SdsssP',\n",
    " 'SlogP_VSA1',\n",
    " 'SlogP_VSA10',\n",
    " 'SlogP_VSA11',\n",
    " 'SlogP_VSA2',\n",
    " 'SlogP_VSA3',\n",
    " 'SlogP_VSA4',\n",
    " 'SlogP_VSA7',\n",
    " 'SsI',\n",
    " 'SsSH',\n",
    " 'SssS',\n",
    " 'SsssCH',\n",
    " 'StCH',\n",
    " 'StN',\n",
    " 'StsC',\n",
    " 'VSA_EState1',\n",
    " 'VSA_EState2',\n",
    " 'VSA_EState4',\n",
    " 'VSA_EState7',\n",
    " 'VSA_EState8',\n",
    " 'VSA_EState9',\n",
    " 'WPath',\n",
    " 'Xc-3dv',\n",
    " 'Xc-5d',\n",
    " 'Xc-5dv',\n",
    " 'Xch-7d',\n",
    " 'n5ARing',\n",
    " 'n5HRing',\n",
    " 'n5Ring',\n",
    " 'n5aRing',\n",
    " 'n6ARing',\n",
    " 'n6HRing',\n",
    " 'nAHRing',\n",
    " 'nARing',\n",
    " 'nAcid',\n",
    " 'nAromAtom',\n",
    " 'nAtom',\n",
    " 'nBase',\n",
    " 'nBondsD',\n",
    " 'nBr',\n",
    " 'nBridgehead',\n",
    " 'nC',\n",
    " 'nCl',\n",
    " 'nF',\n",
    " 'nFRing',\n",
    " 'nHBAcc',\n",
    " 'nHBDon',\n",
    " 'nHRing',\n",
    " 'nHetero',\n",
    " 'nN',\n",
    " 'nO',\n",
    " 'nRot',\n",
    " 'nS',\n",
    " 'nX',\n",
    " 'naHRing']  # Update with your actual feature names\n",
    "\n",
    "# Plot the SHAP summary plot with feature names\n",
    "shap.summary_plot(shap_values, max_display=12, plot_type=\"bar\", feature_names=feature_names, show=False)\n",
    "\n",
    "# Save the plot to a PDF file with tight bounding box and high DPI\n",
    "plt.savefig('scratcch.pdf', bbox_inches='tight', dpi=1000)\n"
   ]
  },
  {
   "cell_type": "code",
   "execution_count": 97,
   "id": "fdec1669",
   "metadata": {},
   "outputs": [
    {
     "data": {
      "image/png": "[encoded data removed]",
      "text/plain": [
       "<Figure size 576x468 with 1 Axes>"
      ]
     },
     "metadata": {
      "needs_background": "light"
     },
     "output_type": "display_data"
    }
   ],
   "source": [
    "shap.summary_plot(shap_values, X_test, plot_type=\"bar\",show=False,max_display=10,plot_size=0.5)\n",
    "\n",
    "#plot_size=(18.0, 10.0)\n",
    "plt.savefig('most effective descriptor for des approch with SLOGP.pdf',bbox_inches='tight',dpi = 1000)"
   ]
  },
  {
   "cell_type": "code",
   "execution_count": 111,
   "id": "99dc4526",
   "metadata": {},
   "outputs": [
    {
     "data": {
      "image/png": "[encoded data removed]",
      "text/plain": [
       "<Figure size 576x468 with 1 Axes>"
      ]
     },
     "metadata": {},
     "output_type": "display_data"
    }
   ],
   "source": [
    "\n",
    "\n",
    "shap.plots.bar(shap_values, max_display=10, show=False)\n",
    "plt.savefig('scratcch.pdf',bbox_inches='tight',dpi = 1000)"
   ]
  },
  {
   "cell_type": "code",
   "execution_count": 109,
   "id": "dc75a911",
   "metadata": {},
   "outputs": [
    {
     "data": {
      "image/png": "[encoded data removed]",
      "text/plain": [
       "<Figure size 576x540 with 2 Axes>"
      ]
     },
     "metadata": {
      "needs_background": "light"
     },
     "output_type": "display_data"
    }
   ],
   "source": [
    "shap.summary_plot(shap_values, plot_type=\"dot\", plot_size=0.6, show=False,max_display=10, feature_names=feature_names)\n",
    "plt.savefig('scratcch.pdf',bbox_inches='tight',dpi = 1000)"
   ]
  },
  {
   "cell_type": "code",
   "execution_count": 48,
   "id": "a41ab9fd",
   "metadata": {
    "scrolled": true
   },
   "outputs": [
    {
     "ename": "ValueError",
     "evalue": "x and y must be the same size",
     "output_type": "error",
     "traceback": [
      "\u001b[1;31m---------------------------------------------------------------------------\u001b[0m",
      "\u001b[1;31mValueError\u001b[0m                                Traceback (most recent call last)",
      "Input \u001b[1;32mIn [48]\u001b[0m, in \u001b[0;36m<cell line: 6>\u001b[1;34m()\u001b[0m\n\u001b[0;32m      4\u001b[0m \u001b[38;5;66;03m# 2 row, 1 column, plot 1\u001b[39;00m\n\u001b[0;32m      5\u001b[0m plt\u001b[38;5;241m.\u001b[39msubplot(\u001b[38;5;241m2\u001b[39m, \u001b[38;5;241m1\u001b[39m, \u001b[38;5;241m1\u001b[39m)\n\u001b[1;32m----> 6\u001b[0m \u001b[43mplt\u001b[49m\u001b[38;5;241;43m.\u001b[39;49m\u001b[43mscatter\u001b[49m\u001b[43m(\u001b[49m\u001b[43mx\u001b[49m\u001b[38;5;241;43m=\u001b[39;49m\u001b[43mY_train\u001b[49m\u001b[43m,\u001b[49m\u001b[43m \u001b[49m\u001b[43my\u001b[49m\u001b[38;5;241;43m=\u001b[39;49m\u001b[43mY_pred_train\u001b[49m\u001b[43m,\u001b[49m\u001b[43m \u001b[49m\u001b[43mc\u001b[49m\u001b[38;5;241;43m=\u001b[39;49m\u001b[38;5;124;43m\"\u001b[39;49m\u001b[38;5;124;43m#7CAE00\u001b[39;49m\u001b[38;5;124;43m\"\u001b[39;49m\u001b[43m,\u001b[49m\u001b[43m \u001b[49m\u001b[43malpha\u001b[49m\u001b[38;5;241;43m=\u001b[39;49m\u001b[38;5;241;43m1\u001b[39;49m\u001b[43m)\u001b[49m\n\u001b[0;32m      8\u001b[0m \u001b[38;5;66;03m# Add trendline\u001b[39;00m\n\u001b[0;32m      9\u001b[0m \u001b[38;5;66;03m# https://stackoverflow.com/questions/26447191/how-to-add-trendline-in-python-matplotlib-dot-scatter-graphs\u001b[39;00m\n\u001b[0;32m     10\u001b[0m z \u001b[38;5;241m=\u001b[39m np\u001b[38;5;241m.\u001b[39mpolyfit(Y_train, Y_pred_train, \u001b[38;5;241m1\u001b[39m)\n",
      "File \u001b[1;32m~\\anaconda3\\envs\\rdkit\\lib\\site-packages\\matplotlib\\pyplot.py:2807\u001b[0m, in \u001b[0;36mscatter\u001b[1;34m(x, y, s, c, marker, cmap, norm, vmin, vmax, alpha, linewidths, edgecolors, plotnonfinite, data, **kwargs)\u001b[0m\n\u001b[0;32m   2802\u001b[0m \u001b[38;5;129m@_copy_docstring_and_deprecators\u001b[39m(Axes\u001b[38;5;241m.\u001b[39mscatter)\n\u001b[0;32m   2803\u001b[0m \u001b[38;5;28;01mdef\u001b[39;00m \u001b[38;5;21mscatter\u001b[39m(\n\u001b[0;32m   2804\u001b[0m         x, y, s\u001b[38;5;241m=\u001b[39m\u001b[38;5;28;01mNone\u001b[39;00m, c\u001b[38;5;241m=\u001b[39m\u001b[38;5;28;01mNone\u001b[39;00m, marker\u001b[38;5;241m=\u001b[39m\u001b[38;5;28;01mNone\u001b[39;00m, cmap\u001b[38;5;241m=\u001b[39m\u001b[38;5;28;01mNone\u001b[39;00m, norm\u001b[38;5;241m=\u001b[39m\u001b[38;5;28;01mNone\u001b[39;00m,\n\u001b[0;32m   2805\u001b[0m         vmin\u001b[38;5;241m=\u001b[39m\u001b[38;5;28;01mNone\u001b[39;00m, vmax\u001b[38;5;241m=\u001b[39m\u001b[38;5;28;01mNone\u001b[39;00m, alpha\u001b[38;5;241m=\u001b[39m\u001b[38;5;28;01mNone\u001b[39;00m, linewidths\u001b[38;5;241m=\u001b[39m\u001b[38;5;28;01mNone\u001b[39;00m, \u001b[38;5;241m*\u001b[39m,\n\u001b[0;32m   2806\u001b[0m         edgecolors\u001b[38;5;241m=\u001b[39m\u001b[38;5;28;01mNone\u001b[39;00m, plotnonfinite\u001b[38;5;241m=\u001b[39m\u001b[38;5;28;01mFalse\u001b[39;00m, data\u001b[38;5;241m=\u001b[39m\u001b[38;5;28;01mNone\u001b[39;00m, \u001b[38;5;241m*\u001b[39m\u001b[38;5;241m*\u001b[39mkwargs):\n\u001b[1;32m-> 2807\u001b[0m     __ret \u001b[38;5;241m=\u001b[39m gca()\u001b[38;5;241m.\u001b[39mscatter(\n\u001b[0;32m   2808\u001b[0m         x, y, s\u001b[38;5;241m=\u001b[39ms, c\u001b[38;5;241m=\u001b[39mc, marker\u001b[38;5;241m=\u001b[39mmarker, cmap\u001b[38;5;241m=\u001b[39mcmap, norm\u001b[38;5;241m=\u001b[39mnorm,\n\u001b[0;32m   2809\u001b[0m         vmin\u001b[38;5;241m=\u001b[39mvmin, vmax\u001b[38;5;241m=\u001b[39mvmax, alpha\u001b[38;5;241m=\u001b[39malpha, linewidths\u001b[38;5;241m=\u001b[39mlinewidths,\n\u001b[0;32m   2810\u001b[0m         edgecolors\u001b[38;5;241m=\u001b[39medgecolors, plotnonfinite\u001b[38;5;241m=\u001b[39mplotnonfinite,\n\u001b[0;32m   2811\u001b[0m         \u001b[38;5;241m*\u001b[39m\u001b[38;5;241m*\u001b[39m({\u001b[38;5;124m\"\u001b[39m\u001b[38;5;124mdata\u001b[39m\u001b[38;5;124m\"\u001b[39m: data} \u001b[38;5;28;01mif\u001b[39;00m data \u001b[38;5;129;01mis\u001b[39;00m \u001b[38;5;129;01mnot\u001b[39;00m \u001b[38;5;28;01mNone\u001b[39;00m \u001b[38;5;28;01melse\u001b[39;00m {}), \u001b[38;5;241m*\u001b[39m\u001b[38;5;241m*\u001b[39mkwargs)\n\u001b[0;32m   2812\u001b[0m     sci(__ret)\n\u001b[0;32m   2813\u001b[0m     \u001b[38;5;28;01mreturn\u001b[39;00m __ret\n",
      "File \u001b[1;32m~\\anaconda3\\envs\\rdkit\\lib\\site-packages\\matplotlib\\__init__.py:1412\u001b[0m, in \u001b[0;36m_preprocess_data.<locals>.inner\u001b[1;34m(ax, data, *args, **kwargs)\u001b[0m\n\u001b[0;32m   1409\u001b[0m \u001b[38;5;129m@functools\u001b[39m\u001b[38;5;241m.\u001b[39mwraps(func)\n\u001b[0;32m   1410\u001b[0m \u001b[38;5;28;01mdef\u001b[39;00m \u001b[38;5;21minner\u001b[39m(ax, \u001b[38;5;241m*\u001b[39margs, data\u001b[38;5;241m=\u001b[39m\u001b[38;5;28;01mNone\u001b[39;00m, \u001b[38;5;241m*\u001b[39m\u001b[38;5;241m*\u001b[39mkwargs):\n\u001b[0;32m   1411\u001b[0m     \u001b[38;5;28;01mif\u001b[39;00m data \u001b[38;5;129;01mis\u001b[39;00m \u001b[38;5;28;01mNone\u001b[39;00m:\n\u001b[1;32m-> 1412\u001b[0m         \u001b[38;5;28;01mreturn\u001b[39;00m func(ax, \u001b[38;5;241m*\u001b[39m\u001b[38;5;28mmap\u001b[39m(sanitize_sequence, args), \u001b[38;5;241m*\u001b[39m\u001b[38;5;241m*\u001b[39mkwargs)\n\u001b[0;32m   1414\u001b[0m     bound \u001b[38;5;241m=\u001b[39m new_sig\u001b[38;5;241m.\u001b[39mbind(ax, \u001b[38;5;241m*\u001b[39margs, \u001b[38;5;241m*\u001b[39m\u001b[38;5;241m*\u001b[39mkwargs)\n\u001b[0;32m   1415\u001b[0m     auto_label \u001b[38;5;241m=\u001b[39m (bound\u001b[38;5;241m.\u001b[39marguments\u001b[38;5;241m.\u001b[39mget(label_namer)\n\u001b[0;32m   1416\u001b[0m                   \u001b[38;5;129;01mor\u001b[39;00m bound\u001b[38;5;241m.\u001b[39mkwargs\u001b[38;5;241m.\u001b[39mget(label_namer))\n",
      "File \u001b[1;32m~\\anaconda3\\envs\\rdkit\\lib\\site-packages\\matplotlib\\axes\\_axes.py:4369\u001b[0m, in \u001b[0;36mAxes.scatter\u001b[1;34m(self, x, y, s, c, marker, cmap, norm, vmin, vmax, alpha, linewidths, edgecolors, plotnonfinite, **kwargs)\u001b[0m\n\u001b[0;32m   4367\u001b[0m y \u001b[38;5;241m=\u001b[39m np\u001b[38;5;241m.\u001b[39mma\u001b[38;5;241m.\u001b[39mravel(y)\n\u001b[0;32m   4368\u001b[0m \u001b[38;5;28;01mif\u001b[39;00m x\u001b[38;5;241m.\u001b[39msize \u001b[38;5;241m!=\u001b[39m y\u001b[38;5;241m.\u001b[39msize:\n\u001b[1;32m-> 4369\u001b[0m     \u001b[38;5;28;01mraise\u001b[39;00m \u001b[38;5;167;01mValueError\u001b[39;00m(\u001b[38;5;124m\"\u001b[39m\u001b[38;5;124mx and y must be the same size\u001b[39m\u001b[38;5;124m\"\u001b[39m)\n\u001b[0;32m   4371\u001b[0m \u001b[38;5;28;01mif\u001b[39;00m s \u001b[38;5;129;01mis\u001b[39;00m \u001b[38;5;28;01mNone\u001b[39;00m:\n\u001b[0;32m   4372\u001b[0m     s \u001b[38;5;241m=\u001b[39m (\u001b[38;5;241m20\u001b[39m \u001b[38;5;28;01mif\u001b[39;00m rcParams[\u001b[38;5;124m'\u001b[39m\u001b[38;5;124m_internal.classic_mode\u001b[39m\u001b[38;5;124m'\u001b[39m] \u001b[38;5;28;01melse\u001b[39;00m\n\u001b[0;32m   4373\u001b[0m          rcParams[\u001b[38;5;124m'\u001b[39m\u001b[38;5;124mlines.markersize\u001b[39m\u001b[38;5;124m'\u001b[39m] \u001b[38;5;241m*\u001b[39m\u001b[38;5;241m*\u001b[39m \u001b[38;5;241m2.0\u001b[39m)\n",
      "\u001b[1;31mValueError\u001b[0m: x and y must be the same size"
     ]
    },
    {
     "data": {
      "image/png": "[encoded data removed]",
      "text/plain": [
       "<Figure size 360x792 with 1 Axes>"
      ]
     },
     "metadata": {
      "needs_background": "light"
     },
     "output_type": "display_data"
    }
   ],
   "source": [
    "#Vertical plot\n",
    "plt.figure(figsize=(5,11))\n",
    "\n",
    "# 2 row, 1 column, plot 1\n",
    "plt.subplot(2, 1, 1)\n",
    "plt.scatter(x=Y_train, y=Y_pred_train, c=\"#7CAE00\", alpha=1)\n",
    "\n",
    "# Add trendline\n",
    "# https://stackoverflow.com/questions/26447191/how-to-add-trendline-in-python-matplotlib-dot-scatter-graphs\n",
    "z = np.polyfit(Y_train, Y_pred_train, 1)\n",
    "p = np.poly1d(z)\n",
    "plt.plot(Y_test,p(Y_test),\"#F8766D\")\n",
    "\n",
    "\n",
    "plt.xlabel('Experimental LogS', fontsize=13)\n",
    "plt.ylabel('Predicted LogS', fontsize=13)\n",
    "\n",
    "\n",
    "# 2 row, 1 column, plot 2\n",
    "plt.subplot(2, 1, 2)\n",
    "plt.scatter(x=Y_test, y=Y_pred_test, c=\"#619CFF\", alpha=1)\n",
    "\n",
    "z = np.polyfit(Y_test, Y_pred_test, 1)\n",
    "p = np.poly1d(z)\n",
    "plt.plot(Y_test,p(Y_test),\"#F8766D\")\n",
    "\n",
    "plt.ylabel('Predicted LogS', fontsize=13)\n",
    "plt.xlabel('Experimental LogS', fontsize=13)\n",
    "\n",
    "plt.savefig('plot_vertical_logS.png')\n",
    "plt.savefig('paper logS descriptor.pdf',dpi=1200)\n",
    "plt.show()"
   ]
  },
  {
   "cell_type": "code",
   "execution_count": 82,
   "id": "91a7b86f",
   "metadata": {},
   "outputs": [
    {
     "data": {
      "text/html": [
       "<div>\n",
       "<style scoped>\n",
       "    .dataframe tbody tr th:only-of-type {\n",
       "        vertical-align: middle;\n",
       "    }\n",
       "\n",
       "    .dataframe tbody tr th {\n",
       "        vertical-align: top;\n",
       "    }\n",
       "\n",
       "    .dataframe thead th {\n",
       "        text-align: right;\n",
       "    }\n",
       "</style>\n",
       "<table border=\"1\" class=\"dataframe\">\n",
       "  <thead>\n",
       "    <tr style=\"text-align: right;\">\n",
       "      <th></th>\n",
       "      <th>Substance</th>\n",
       "      <th>SMILES</th>\n",
       "    </tr>\n",
       "  </thead>\n",
       "  <tbody>\n",
       "    <tr>\n",
       "      <th>0</th>\n",
       "      <td>hexobarbital</td>\n",
       "      <td>CN1C(=O)NC(=O)C(C)(C1=O)C1=CCCCC1</td>\n",
       "    </tr>\n",
       "    <tr>\n",
       "      <th>1</th>\n",
       "      <td>nalidixic_acid</td>\n",
       "      <td>CCn1cc(c(=O)c2ccc(nc12)C)C(=O)O</td>\n",
       "    </tr>\n",
       "    <tr>\n",
       "      <th>2</th>\n",
       "      <td>phenantroline</td>\n",
       "      <td>c12c(ccc3cccnc13)cccn2</td>\n",
       "    </tr>\n",
       "    <tr>\n",
       "      <th>3</th>\n",
       "      <td>phenobarbital</td>\n",
       "      <td>C1(NC(C(c2ccccc2)(C(=O)N1)CC)=O)=O</td>\n",
       "    </tr>\n",
       "    <tr>\n",
       "      <th>4</th>\n",
       "      <td>sulfamethazine</td>\n",
       "      <td>S(=O)(=O)(Nc1nc(C)cc(n1)C)c1ccc(N)cc1</td>\n",
       "    </tr>\n",
       "    <tr>\n",
       "      <th>5</th>\n",
       "      <td>bromogramine</td>\n",
       "      <td>Brc1cc2c(CN(C)C)c[nH]c2cc1</td>\n",
       "    </tr>\n",
       "    <tr>\n",
       "      <th>6</th>\n",
       "      <td>phenazopyridine</td>\n",
       "      <td>c1ccc(cc1)\\N=N\\c1c(nc(cc1)N)N</td>\n",
       "    </tr>\n",
       "    <tr>\n",
       "      <th>7</th>\n",
       "      <td>amantadine</td>\n",
       "      <td>C1C2CC3CC(CC1C3)(N)C2</td>\n",
       "    </tr>\n",
       "    <tr>\n",
       "      <th>8</th>\n",
       "      <td>benzylimidazole</td>\n",
       "      <td>n1(Cc2ccccc2)cncc1</td>\n",
       "    </tr>\n",
       "    <tr>\n",
       "      <th>9</th>\n",
       "      <td>chlorpropamide</td>\n",
       "      <td>Clc1ccc(S(=O)(NC(=O)NCCC)=O)cc1</td>\n",
       "    </tr>\n",
       "    <tr>\n",
       "      <th>10</th>\n",
       "      <td>cimetidine</td>\n",
       "      <td>Cc1c(nc[nH]1)CSCCN\\C(=N\\C)NC#N</td>\n",
       "    </tr>\n",
       "    <tr>\n",
       "      <th>11</th>\n",
       "      <td>thymol</td>\n",
       "      <td>c1(cc(ccc1C(C)C)C)O</td>\n",
       "    </tr>\n",
       "    <tr>\n",
       "      <th>12</th>\n",
       "      <td>tryptamine</td>\n",
       "      <td>NCCc1c[nH]c2ccccc12</td>\n",
       "    </tr>\n",
       "    <tr>\n",
       "      <th>13</th>\n",
       "      <td>azathioprine</td>\n",
       "      <td>S(c1n(cnc1N(=O)=O)C)c1ncnc2nc[nH]c12</td>\n",
       "    </tr>\n",
       "    <tr>\n",
       "      <th>14</th>\n",
       "      <td>sulfathiazole</td>\n",
       "      <td>Nc1ccc(cc1)S(=O)(Nc1nccs1)=O</td>\n",
       "    </tr>\n",
       "    <tr>\n",
       "      <th>15</th>\n",
       "      <td>acetaminophen</td>\n",
       "      <td>O=C(Nc1ccc(cc1)O)C</td>\n",
       "    </tr>\n",
       "    <tr>\n",
       "      <th>16</th>\n",
       "      <td>diazoxide</td>\n",
       "      <td>Clc1cc2S(=O)(=O)N=C(Nc2cc1)C</td>\n",
       "    </tr>\n",
       "    <tr>\n",
       "      <th>17</th>\n",
       "      <td>famotidine</td>\n",
       "      <td>N\\C(CCSCc1csc(\\N=C(\\N)N)n1)=N\\S(=O)(N)=O</td>\n",
       "    </tr>\n",
       "    <tr>\n",
       "      <th>18</th>\n",
       "      <td>hydroflumethiazide</td>\n",
       "      <td>S1(=O)(=O)NCNc2c1cc(S(=O)(N)=O)c(c2)C(F)(F)F</td>\n",
       "    </tr>\n",
       "    <tr>\n",
       "      <th>19</th>\n",
       "      <td>nitrofurantoin</td>\n",
       "      <td>O=C1NC(CN1\\N=C\\c1ccc(N(=O)=O)o1)=O</td>\n",
       "    </tr>\n",
       "    <tr>\n",
       "      <th>20</th>\n",
       "      <td>phthalic_acid_form_I</td>\n",
       "      <td>C(c1c(C(=O)O)cccc1)(=O)O</td>\n",
       "    </tr>\n",
       "    <tr>\n",
       "      <th>21</th>\n",
       "      <td>sulfacetamide</td>\n",
       "      <td>C(=O)(NS(=O)(c1ccc(cc1)N)=O)C</td>\n",
       "    </tr>\n",
       "    <tr>\n",
       "      <th>22</th>\n",
       "      <td>trichloromethiazide_form_I</td>\n",
       "      <td>NS(=O)(=O)c1cc2c(NC(NS2(=O)=O)C(Cl)Cl)cc1Cl</td>\n",
       "    </tr>\n",
       "    <tr>\n",
       "      <th>23</th>\n",
       "      <td>2_amino_5_bromobenzoic_acid</td>\n",
       "      <td>Brc1cc(C(O)=O)c(N)cc1</td>\n",
       "    </tr>\n",
       "    <tr>\n",
       "      <th>24</th>\n",
       "      <td>5_bromo_2_4_dihydroxybenzoic_acid</td>\n",
       "      <td>Oc1c(Br)cc(C(O)=O)c(O)c1</td>\n",
       "    </tr>\n",
       "    <tr>\n",
       "      <th>25</th>\n",
       "      <td>chlorzoxazone</td>\n",
       "      <td>c1cc2c(cc1Cl)[nH]c(=O)o2</td>\n",
       "    </tr>\n",
       "    <tr>\n",
       "      <th>26</th>\n",
       "      <td>5_hydroxybenzoic_acid</td>\n",
       "      <td>C(c1ccc(cc1)O)(=O)O</td>\n",
       "    </tr>\n",
       "    <tr>\n",
       "      <th>27</th>\n",
       "      <td>4_iodophenol</td>\n",
       "      <td>c1cc(ccc1O)I</td>\n",
       "    </tr>\n",
       "    <tr>\n",
       "      <th>28</th>\n",
       "      <td>metronidazole</td>\n",
       "      <td>OCCn1c(ncc1N(=O)=O)C</td>\n",
       "    </tr>\n",
       "    <tr>\n",
       "      <th>29</th>\n",
       "      <td>guanine</td>\n",
       "      <td>[nH]1cnc2nc(N)[nH]c(=O)c12</td>\n",
       "    </tr>\n",
       "    <tr>\n",
       "      <th>30</th>\n",
       "      <td>acetazolamide</td>\n",
       "      <td>S(=O)(=O)(N)c1sc(NC(=O)C)nn1</td>\n",
       "    </tr>\n",
       "    <tr>\n",
       "      <th>31</th>\n",
       "      <td>1_naphthol</td>\n",
       "      <td>c1ccc2c(cccc2O)c1</td>\n",
       "    </tr>\n",
       "  </tbody>\n",
       "</table>\n",
       "</div>"
      ],
      "text/plain": [
       "                             Substance  \\\n",
       "0                         hexobarbital   \n",
       "1                       nalidixic_acid   \n",
       "2                        phenantroline   \n",
       "3                        phenobarbital   \n",
       "4                       sulfamethazine   \n",
       "5                         bromogramine   \n",
       "6                      phenazopyridine   \n",
       "7                           amantadine   \n",
       "8                      benzylimidazole   \n",
       "9                       chlorpropamide   \n",
       "10                          cimetidine   \n",
       "11                              thymol   \n",
       "12                          tryptamine   \n",
       "13                        azathioprine   \n",
       "14                       sulfathiazole   \n",
       "15                       acetaminophen   \n",
       "16                           diazoxide   \n",
       "17                          famotidine   \n",
       "18                  hydroflumethiazide   \n",
       "19                      nitrofurantoin   \n",
       "20                phthalic_acid_form_I   \n",
       "21                       sulfacetamide   \n",
       "22          trichloromethiazide_form_I   \n",
       "23         2_amino_5_bromobenzoic_acid   \n",
       "24   5_bromo_2_4_dihydroxybenzoic_acid   \n",
       "25                       chlorzoxazone   \n",
       "26               5_hydroxybenzoic_acid   \n",
       "27                        4_iodophenol   \n",
       "28                       metronidazole   \n",
       "29                             guanine   \n",
       "30                       acetazolamide   \n",
       "31                          1_naphthol   \n",
       "\n",
       "                                          SMILES  \n",
       "0              CN1C(=O)NC(=O)C(C)(C1=O)C1=CCCCC1  \n",
       "1                CCn1cc(c(=O)c2ccc(nc12)C)C(=O)O  \n",
       "2                         c12c(ccc3cccnc13)cccn2  \n",
       "3             C1(NC(C(c2ccccc2)(C(=O)N1)CC)=O)=O  \n",
       "4          S(=O)(=O)(Nc1nc(C)cc(n1)C)c1ccc(N)cc1  \n",
       "5                     Brc1cc2c(CN(C)C)c[nH]c2cc1  \n",
       "6                  c1ccc(cc1)\\N=N\\c1c(nc(cc1)N)N  \n",
       "7                          C1C2CC3CC(CC1C3)(N)C2  \n",
       "8                             n1(Cc2ccccc2)cncc1  \n",
       "9                Clc1ccc(S(=O)(NC(=O)NCCC)=O)cc1  \n",
       "10                Cc1c(nc[nH]1)CSCCN\\C(=N\\C)NC#N  \n",
       "11                           c1(cc(ccc1C(C)C)C)O  \n",
       "12                           NCCc1c[nH]c2ccccc12  \n",
       "13          S(c1n(cnc1N(=O)=O)C)c1ncnc2nc[nH]c12  \n",
       "14                  Nc1ccc(cc1)S(=O)(Nc1nccs1)=O  \n",
       "15                            O=C(Nc1ccc(cc1)O)C  \n",
       "16                  Clc1cc2S(=O)(=O)N=C(Nc2cc1)C  \n",
       "17      N\\C(CCSCc1csc(\\N=C(\\N)N)n1)=N\\S(=O)(N)=O  \n",
       "18  S1(=O)(=O)NCNc2c1cc(S(=O)(N)=O)c(c2)C(F)(F)F  \n",
       "19            O=C1NC(CN1\\N=C\\c1ccc(N(=O)=O)o1)=O  \n",
       "20                      C(c1c(C(=O)O)cccc1)(=O)O  \n",
       "21                 C(=O)(NS(=O)(c1ccc(cc1)N)=O)C  \n",
       "22   NS(=O)(=O)c1cc2c(NC(NS2(=O)=O)C(Cl)Cl)cc1Cl  \n",
       "23                         Brc1cc(C(O)=O)c(N)cc1  \n",
       "24                      Oc1c(Br)cc(C(O)=O)c(O)c1  \n",
       "25                      c1cc2c(cc1Cl)[nH]c(=O)o2  \n",
       "26                           C(c1ccc(cc1)O)(=O)O  \n",
       "27                                  c1cc(ccc1O)I  \n",
       "28                          OCCn1c(ncc1N(=O)=O)C  \n",
       "29                    [nH]1cnc2nc(N)[nH]c(=O)c12  \n",
       "30                  S(=O)(=O)(N)c1sc(NC(=O)C)nn1  \n",
       "31                             c1ccc2c(cccc2O)c1  "
      ]
     },
     "execution_count": 82,
     "metadata": {},
     "output_type": "execute_result"
    }
   ],
   "source": [
    "#Blind test\n",
    "testdata = pd.read_csv('D:/python/rdkit/testexperiment2upload3raw.csv')\n",
    "testdata"
   ]
  },
  {
   "cell_type": "code",
   "execution_count": 83,
   "id": "5efcc1e9",
   "metadata": {},
   "outputs": [],
   "source": [
    "def All_Mordred_descriptors(data):\n",
    "    calc = Calculator(descriptors, ignore_3D=True)\n",
    "    mols = [Chem.MolFromSmiles(smi) for smi in data]\n",
    "    \n",
    "    # pandas df\n",
    "    df = calc.pandas(mols)\n",
    "    return df"
   ]
  },
  {
   "cell_type": "code",
   "execution_count": 84,
   "id": "c170b006",
   "metadata": {},
   "outputs": [
    {
     "name": "stderr",
     "output_type": "stream",
     "text": [
      "100%|██████████████████████████████████████████████████████████████████████████████████| 32/32 [00:06<00:00,  4.64it/s]\n"
     ]
    }
   ],
   "source": [
    "mordred_descriptors2 = All_Mordred_descriptors(testdata['SMILES'])"
   ]
  },
  {
   "cell_type": "code",
   "execution_count": 85,
   "id": "a1b540a2",
   "metadata": {},
   "outputs": [
    {
     "data": {
      "text/plain": [
       "(32, 177)"
      ]
     },
     "execution_count": 85,
     "metadata": {},
     "output_type": "execute_result"
    }
   ],
   "source": [
    "Xnew=mordred_descriptors2[['AATS0d',\n",
    " 'AATS0dv',\n",
    " 'AATS0i',\n",
    " 'AATSC0dv',\n",
    " 'AATSC0i',\n",
    " 'AATSC0v',\n",
    " 'AATSC1Z',\n",
    " 'ABC',\n",
    " 'ATS0Z',\n",
    " 'ATSC0i',\n",
    " 'ATSC1Z',\n",
    " 'ATSC1d',\n",
    " 'ATSC1dv',\n",
    " 'ATSC1i',\n",
    " 'ATSC1p',\n",
    " 'ATSC1se',\n",
    " 'ATSC1v',\n",
    " 'ATSC2Z',\n",
    " 'ATSC2d',\n",
    " 'ATSC2dv',\n",
    " 'ATSC2i',\n",
    " 'ATSC2se',\n",
    " 'ATSC2v',\n",
    " 'ATSC3Z',\n",
    " 'ATSC3d',\n",
    " 'ATSC3dv',\n",
    " 'ATSC3i',\n",
    " 'ATSC3p',\n",
    " 'ATSC3se',\n",
    " 'ATSC3v',\n",
    " 'ATSC4Z',\n",
    " 'ATSC4d',\n",
    " 'ATSC4dv',\n",
    " 'ATSC4i',\n",
    " 'ATSC4p',\n",
    " 'ATSC4se',\n",
    " 'ATSC4v',\n",
    " 'ATSC5Z',\n",
    " 'ATSC5d',\n",
    " 'ATSC5dv',\n",
    " 'ATSC5i',\n",
    " 'ATSC5p',\n",
    " 'ATSC5se',\n",
    " 'ATSC5v',\n",
    " 'ATSC6Z',\n",
    " 'ATSC6d',\n",
    " 'ATSC6dv',\n",
    " 'ATSC6i',\n",
    " 'ATSC6se',\n",
    " 'ATSC6v',\n",
    " 'ATSC7Z',\n",
    " 'ATSC7d',\n",
    " 'ATSC7dv',\n",
    " 'ATSC7i',\n",
    " 'ATSC7p',\n",
    " 'ATSC7v',\n",
    " 'ATSC8Z',\n",
    " 'ATSC8d',\n",
    " 'ATSC8dv',\n",
    " 'ATSC8i',\n",
    " 'ATSC8v',\n",
    " 'BalabanJ',\n",
    " 'C1SP2',\n",
    " 'C1SP3',\n",
    " 'C2SP3',\n",
    " 'C3SP2',\n",
    " 'C3SP3',\n",
    " 'CIC1',\n",
    " 'Diameter',\n",
    " 'ECIndex',\n",
    " 'EState_VSA1',\n",
    " 'EState_VSA2',\n",
    " 'EState_VSA3',\n",
    " 'EState_VSA4',\n",
    " 'EState_VSA5',\n",
    " 'EState_VSA6',\n",
    " 'EState_VSA7',\n",
    " 'EState_VSA8',\n",
    " 'GATS1i',\n",
    " 'GATS1p',\n",
    " 'IC1',\n",
    " 'NaaN',\n",
    " 'NaaNH',\n",
    " 'NaaaC',\n",
    " 'NaasC',\n",
    " 'NaasN',\n",
    " 'NddsN',\n",
    " 'NddssS',\n",
    " 'NdsCH',\n",
    " 'NdssC',\n",
    " 'NsCH3',\n",
    " 'NsNH2',\n",
    " 'NsOH',\n",
    " 'NssCH2',\n",
    " 'NssNH',\n",
    " 'NssO',\n",
    " 'NsssCH',\n",
    " 'NsssN',\n",
    " 'NssssC',\n",
    " 'PEOE_VSA1',\n",
    " 'PEOE_VSA10',\n",
    " 'PEOE_VSA11',\n",
    " 'PEOE_VSA12',\n",
    " 'PEOE_VSA13',\n",
    " 'PEOE_VSA2',\n",
    " 'PEOE_VSA3',\n",
    " 'PEOE_VSA4',\n",
    " 'PEOE_VSA5',\n",
    " 'PEOE_VSA6',\n",
    " 'PEOE_VSA7',\n",
    " 'PEOE_VSA8',\n",
    " 'PEOE_VSA9',\n",
    " 'SMR_VSA4',\n",
    " 'SMR_VSA6',\n",
    " 'SMR_VSA9',\n",
    " 'SaaO',\n",
    " 'SaasC',\n",
    " 'SdCH2',\n",
    " 'SdNH',\n",
    " 'SdS',\n",
    " 'SdsN',\n",
    " 'SdssC',\n",
    " 'SdsssP',\n",
    " 'SlogP_VSA1',\n",
    " 'SlogP_VSA10',\n",
    " 'SlogP_VSA11',\n",
    " 'SlogP_VSA2',\n",
    " 'SlogP_VSA3',\n",
    " 'SlogP_VSA4',\n",
    " 'SlogP_VSA7',\n",
    " 'SsI',\n",
    " 'SsSH',\n",
    " 'SssS',\n",
    " 'SsssCH',\n",
    " 'StCH',\n",
    " 'StN',\n",
    " 'StsC',\n",
    " 'VSA_EState1',\n",
    " 'VSA_EState2',\n",
    " 'VSA_EState4',\n",
    " 'VSA_EState7',\n",
    " 'VSA_EState8',\n",
    " 'VSA_EState9',\n",
    " 'WPath',\n",
    " 'Xc-3dv',\n",
    " 'Xc-5d',\n",
    " 'Xc-5dv',\n",
    " 'Xch-7d',\n",
    " 'n5ARing',\n",
    " 'n5HRing',\n",
    " 'n5Ring',\n",
    " 'n5aRing',\n",
    " 'n6ARing',\n",
    " 'n6HRing',\n",
    " 'nAHRing',\n",
    " 'nARing',\n",
    " 'nAcid',\n",
    " 'nAromAtom',\n",
    " 'nAtom',\n",
    " 'nBase',\n",
    " 'nBondsD',\n",
    " 'nBr',\n",
    " 'nBridgehead',\n",
    " 'nC',\n",
    " 'nCl',\n",
    " 'nF',\n",
    " 'nFRing',\n",
    " 'nHBAcc',\n",
    " 'nHBDon',\n",
    " 'nHRing',\n",
    " 'nHetero',\n",
    " 'nN',\n",
    " 'nO',\n",
    " 'nRot',\n",
    " 'nS',\n",
    " 'nX',\n",
    " 'naHRing']]\n",
    "Xnew.shape\n"
   ]
  },
  {
   "cell_type": "code",
   "execution_count": 66,
   "id": "db159c0e",
   "metadata": {},
   "outputs": [],
   "source": [
    "Xnew.to_excel(r'D:/python/rdkit/file name descriptor 32data.xlsx', index = False)"
   ]
  },
  {
   "cell_type": "code",
   "execution_count": 86,
   "id": "47ed26fe",
   "metadata": {},
   "outputs": [
    {
     "name": "stderr",
     "output_type": "stream",
     "text": [
      "C:\\Users\\DEDP Grader\\anaconda3\\envs\\rdkit\\lib\\site-packages\\sklearn\\base.py:438: UserWarning: X has feature names, but RandomForestRegressor was fitted without feature names\n",
      "  warnings.warn(\n"
     ]
    },
    {
     "data": {
      "text/plain": [
       "array([-1.775035  , -1.74710833, -2.13763074, -2.14613333, -1.97639521,\n",
       "       -1.845475  , -2.19966111, -1.91222933, -1.58789583, -1.86857292,\n",
       "       -1.81561667, -2.39336111, -1.80413333, -2.167335  , -1.52069667,\n",
       "       -1.92757279, -2.16275729, -1.77906667, -1.83060798, -2.08420833,\n",
       "       -1.83011667, -1.82729896, -1.81257205, -1.76492333, -2.43303076,\n",
       "       -2.09171658, -1.29601   , -1.79385833, -1.97186667, -1.924025  ,\n",
       "       -1.87687708, -1.97978333])"
      ]
     },
     "execution_count": 86,
     "metadata": {},
     "output_type": "execute_result"
    }
   ],
   "source": [
    "model.fit(X_train, Y_train)\n",
    "# Predict the target variable for the test data\n",
    "ynew = model.predict(Xnew)\n",
    "#print(\"X=%s, Predicted=%s\" % (Xnew[0], ynew[0]))\n",
    "ynew"
   ]
  },
  {
   "cell_type": "code",
   "execution_count": 131,
   "id": "f3fc833b",
   "metadata": {},
   "outputs": [],
   "source": [
    "from numpy import asarray\n",
    "from numpy import savetxt\n",
    "# define data\n",
    "data = asarray(ynew)\n",
    "# save to csv file\n",
    "savetxt('dataggg.csv', data, delimiter=',')"
   ]
  },
  {
   "cell_type": "code",
   "execution_count": 49,
   "id": "e37edfc3",
   "metadata": {},
   "outputs": [
    {
     "name": "stderr",
     "output_type": "stream",
     "text": [
      "C:\\Users\\DEDP Grader\\anaconda3\\envs\\rdkit\\lib\\site-packages\\sklearn\\base.py:488: FutureWarning: The feature names should match those that were passed during fit. Starting version 1.2, an error will be raised.\n",
      "Feature names must be in the same order as they were in fit.\n",
      "\n",
      "  warnings.warn(message, FutureWarning)\n"
     ]
    },
    {
     "data": {
      "text/plain": [
       "array([-1.68826583, -1.53878849, -1.92763991, -2.1367225 , -1.5552    ,\n",
       "       -1.68333481, -2.07580241, -1.88745417, -1.66066417, -1.67397806,\n",
       "       -1.8592603 , -1.89606991, -1.89626583, -1.76006324, -1.40658646,\n",
       "       -1.49781417, -1.8756775 , -1.77150833, -1.93405022, -1.96255233,\n",
       "       -1.86271417, -1.6353497 , -2.11163916, -1.56935876, -2.74222273,\n",
       "       -2.07408491, -1.31016197, -1.70211   , -1.54830324, -1.92240083,\n",
       "       -1.6873275 , -1.8876375 ])"
      ]
     },
     "execution_count": 49,
     "metadata": {},
     "output_type": "execute_result"
    }
   ],
   "source": [
    "\n",
    "ynew = model.predict(Xnew)\n",
    "#print(\"X=%s, Predicted=%s\" % (Xnew[0], ynew[0]))\n",
    "ynew"
   ]
  },
  {
   "cell_type": "code",
   "execution_count": 166,
   "id": "2b6337b7",
   "metadata": {},
   "outputs": [
    {
     "data": {
      "text/html": [
       "<div>\n",
       "<style scoped>\n",
       "    .dataframe tbody tr th:only-of-type {\n",
       "        vertical-align: middle;\n",
       "    }\n",
       "\n",
       "    .dataframe tbody tr th {\n",
       "        vertical-align: top;\n",
       "    }\n",
       "\n",
       "    .dataframe thead th {\n",
       "        text-align: right;\n",
       "    }\n",
       "</style>\n",
       "<table border=\"1\" class=\"dataframe\">\n",
       "  <thead>\n",
       "    <tr style=\"text-align: right;\">\n",
       "      <th></th>\n",
       "      <th>name</th>\n",
       "      <th>SMILES</th>\n",
       "    </tr>\n",
       "  </thead>\n",
       "  <tbody>\n",
       "    <tr>\n",
       "      <th>0</th>\n",
       "      <td>Acebutolol</td>\n",
       "      <td>CC(C)NCC(O)COC1=C(C(C)=O)C=C(NC(CCC)=O)C=C1</td>\n",
       "    </tr>\n",
       "    <tr>\n",
       "      <th>1</th>\n",
       "      <td>Amoxicillin</td>\n",
       "      <td>O=C(O)[C@H]1C(C)(C)S[C@@H](N21)[C@H](NC([C@@H]...</td>\n",
       "    </tr>\n",
       "    <tr>\n",
       "      <th>2</th>\n",
       "      <td>Bendroflumethiazide</td>\n",
       "      <td>O=S1(C2=CC(S(N)(=O)=O)=C(C(F)(F)F)C=C2NC(CC3=C...</td>\n",
       "    </tr>\n",
       "    <tr>\n",
       "      <th>3</th>\n",
       "      <td>Benzocaine</td>\n",
       "      <td>NC1=CC=C(C(OCC)=O)C=C1</td>\n",
       "    </tr>\n",
       "    <tr>\n",
       "      <th>4</th>\n",
       "      <td>Benzthiazide</td>\n",
       "      <td>O=S1(C2=CC(S(N)(=O)=O)=C(Cl)C=C2N=C(CSCC3=CC=C...</td>\n",
       "    </tr>\n",
       "    <tr>\n",
       "      <th>5</th>\n",
       "      <td>2-chloromandelic_acid</td>\n",
       "      <td>OC(C(O)C1=CC=CC=C1Cl)=O</td>\n",
       "    </tr>\n",
       "    <tr>\n",
       "      <th>6</th>\n",
       "      <td>Clozapine</td>\n",
       "      <td>ClC(C=C1)=CC2=C1NC(C=CC=C3)=C3C(N4CCN(C)CC4)=N2</td>\n",
       "    </tr>\n",
       "    <tr>\n",
       "      <th>7</th>\n",
       "      <td>Dibucaine</td>\n",
       "      <td>CCN(CC)CCNC(C1=C(C=CC=C2)C2=NC(OCCCC)=C1)=O</td>\n",
       "    </tr>\n",
       "    <tr>\n",
       "      <th>8</th>\n",
       "      <td>Diethylstilbestrol</td>\n",
       "      <td>CC/C(C1=CC=C(O)C=C1)=C(C2=CC=C(O)C=C2)/CC</td>\n",
       "    </tr>\n",
       "    <tr>\n",
       "      <th>9</th>\n",
       "      <td>Diflunisal</td>\n",
       "      <td>FC(C=C1F)=CC=C1C2=CC=C(O)C(C(O)=O)=C2</td>\n",
       "    </tr>\n",
       "    <tr>\n",
       "      <th>10</th>\n",
       "      <td>Dipyridamole</td>\n",
       "      <td>OCCN(CCO)C1=NC2=C(N3CCCCC3)N=C(N(CCO)CCO)N=C2C...</td>\n",
       "    </tr>\n",
       "    <tr>\n",
       "      <th>11</th>\n",
       "      <td>Ephedrine</td>\n",
       "      <td>CN[C@H](C)[C@@H](O)C1=CC=CC=C1</td>\n",
       "    </tr>\n",
       "    <tr>\n",
       "      <th>12</th>\n",
       "      <td>Folic_Acid</td>\n",
       "      <td>OC([C@H](CCC(O)=O)NC(C(C=C1)=CC=C1NCC2=NC3=C(O...</td>\n",
       "    </tr>\n",
       "    <tr>\n",
       "      <th>13</th>\n",
       "      <td>Furosemide</td>\n",
       "      <td>OC(C1=CC(S(N)(=O)=O)=C(Cl)C=C1NCC2=CC=CO2)=O</td>\n",
       "    </tr>\n",
       "    <tr>\n",
       "      <th>14</th>\n",
       "      <td>Hydrochlorothiazide</td>\n",
       "      <td>O=S1(C2=CC(S(N)(=O)=O)=C(Cl)C=C2NCN1)=O</td>\n",
       "    </tr>\n",
       "    <tr>\n",
       "      <th>15</th>\n",
       "      <td>Imipramine</td>\n",
       "      <td>CN(C)CCCN1C2=C(C=CC=C2)CCC3=C1C=CC=C3</td>\n",
       "    </tr>\n",
       "    <tr>\n",
       "      <th>16</th>\n",
       "      <td>Indomethacin</td>\n",
       "      <td>COC1=CC=C2C(C(CC(O)=O)=C(C)N2C(C3=CC=C(Cl)C=C3...</td>\n",
       "    </tr>\n",
       "    <tr>\n",
       "      <th>17</th>\n",
       "      <td>Ketoprofen</td>\n",
       "      <td>O=C(C1=CC=CC=C1)C2=CC=CC(C(C(O)=O)C)=C2</td>\n",
       "    </tr>\n",
       "    <tr>\n",
       "      <th>18</th>\n",
       "      <td>Lidocaine</td>\n",
       "      <td>CCN(CC)CC(NC1=C(C)C=CC=C1C)=O</td>\n",
       "    </tr>\n",
       "    <tr>\n",
       "      <th>19</th>\n",
       "      <td>Marbofloxacin</td>\n",
       "      <td>OC(C1=CN(N(C)CO2)C3=C2C(N4CCN(C)CC4)=C(F)C=C3C...</td>\n",
       "    </tr>\n",
       "    <tr>\n",
       "      <th>20</th>\n",
       "      <td>Meclofenamic_acid</td>\n",
       "      <td>ClC(C=CC(C)=C1Cl)=C1NC2=CC=CC=C2C(O)=O</td>\n",
       "    </tr>\n",
       "    <tr>\n",
       "      <th>21</th>\n",
       "      <td>Naphthoic_acid</td>\n",
       "      <td>OC(C1=CC2=CC=CC=C2C=C1)=O</td>\n",
       "    </tr>\n",
       "    <tr>\n",
       "      <th>22</th>\n",
       "      <td>Probenecid</td>\n",
       "      <td>CN[C@@H](C)[C@H](O)C1=CC=CC=C1</td>\n",
       "    </tr>\n",
       "    <tr>\n",
       "      <th>23</th>\n",
       "      <td>Pseudoephedrine</td>\n",
       "      <td>OC(C1=CC=C(S(N(CCC)CCC)(=O)=O)C=C1)=O</td>\n",
       "    </tr>\n",
       "    <tr>\n",
       "      <th>24</th>\n",
       "      <td>Pyrimethamine</td>\n",
       "      <td>ClC(C=C1)=CC=C1C2=C(CC)N=C(N)N=C2N</td>\n",
       "    </tr>\n",
       "    <tr>\n",
       "      <th>25</th>\n",
       "      <td>Salicylic_acid</td>\n",
       "      <td>OC(C1=CC=CC=C1O)=O</td>\n",
       "    </tr>\n",
       "    <tr>\n",
       "      <th>26</th>\n",
       "      <td>Sulfamerazine</td>\n",
       "      <td>NC1=CC=C(S(NC2=NC(C)=CC=N2)(=O)=O)C=C1</td>\n",
       "    </tr>\n",
       "    <tr>\n",
       "      <th>27</th>\n",
       "      <td>Sulfamethizole</td>\n",
       "      <td>NC1=CC=C(S(NC2=NN=C(C)S2)(=O)=O)C=C1</td>\n",
       "    </tr>\n",
       "    <tr>\n",
       "      <th>28</th>\n",
       "      <td>Terfenadine</td>\n",
       "      <td>OC(C1=CC=CC=C1)(C2=CC=CC=C2)C3CCN(CCCC(O)C4=CC...</td>\n",
       "    </tr>\n",
       "    <tr>\n",
       "      <th>29</th>\n",
       "      <td>Thiabendazole</td>\n",
       "      <td>C12=CC=CC=C1NC(C3=CSC=N3)=N2</td>\n",
       "    </tr>\n",
       "    <tr>\n",
       "      <th>30</th>\n",
       "      <td>Tolbutamide</td>\n",
       "      <td>CC1=CC=C(S(NC(NCCCC)=O)(=O)=O)C=C1</td>\n",
       "    </tr>\n",
       "    <tr>\n",
       "      <th>31</th>\n",
       "      <td>Trazodone</td>\n",
       "      <td>ClC1=CC=CC(N2CCN(CCCN3C(N(C=CC=C4)C4=N3)=O)CC2...</td>\n",
       "    </tr>\n",
       "  </tbody>\n",
       "</table>\n",
       "</div>"
      ],
      "text/plain": [
       "                     name                                             SMILES\n",
       "0              Acebutolol        CC(C)NCC(O)COC1=C(C(C)=O)C=C(NC(CCC)=O)C=C1\n",
       "1             Amoxicillin  O=C(O)[C@H]1C(C)(C)S[C@@H](N21)[C@H](NC([C@@H]...\n",
       "2     Bendroflumethiazide  O=S1(C2=CC(S(N)(=O)=O)=C(C(F)(F)F)C=C2NC(CC3=C...\n",
       "3              Benzocaine                             NC1=CC=C(C(OCC)=O)C=C1\n",
       "4            Benzthiazide  O=S1(C2=CC(S(N)(=O)=O)=C(Cl)C=C2N=C(CSCC3=CC=C...\n",
       "5   2-chloromandelic_acid                            OC(C(O)C1=CC=CC=C1Cl)=O\n",
       "6               Clozapine    ClC(C=C1)=CC2=C1NC(C=CC=C3)=C3C(N4CCN(C)CC4)=N2\n",
       "7               Dibucaine        CCN(CC)CCNC(C1=C(C=CC=C2)C2=NC(OCCCC)=C1)=O\n",
       "8      Diethylstilbestrol          CC/C(C1=CC=C(O)C=C1)=C(C2=CC=C(O)C=C2)/CC\n",
       "9              Diflunisal              FC(C=C1F)=CC=C1C2=CC=C(O)C(C(O)=O)=C2\n",
       "10           Dipyridamole  OCCN(CCO)C1=NC2=C(N3CCCCC3)N=C(N(CCO)CCO)N=C2C...\n",
       "11              Ephedrine                     CN[C@H](C)[C@@H](O)C1=CC=CC=C1\n",
       "12             Folic_Acid  OC([C@H](CCC(O)=O)NC(C(C=C1)=CC=C1NCC2=NC3=C(O...\n",
       "13             Furosemide       OC(C1=CC(S(N)(=O)=O)=C(Cl)C=C1NCC2=CC=CO2)=O\n",
       "14    Hydrochlorothiazide            O=S1(C2=CC(S(N)(=O)=O)=C(Cl)C=C2NCN1)=O\n",
       "15             Imipramine              CN(C)CCCN1C2=C(C=CC=C2)CCC3=C1C=CC=C3\n",
       "16           Indomethacin  COC1=CC=C2C(C(CC(O)=O)=C(C)N2C(C3=CC=C(Cl)C=C3...\n",
       "17             Ketoprofen            O=C(C1=CC=CC=C1)C2=CC=CC(C(C(O)=O)C)=C2\n",
       "18              Lidocaine                      CCN(CC)CC(NC1=C(C)C=CC=C1C)=O\n",
       "19          Marbofloxacin  OC(C1=CN(N(C)CO2)C3=C2C(N4CCN(C)CC4)=C(F)C=C3C...\n",
       "20      Meclofenamic_acid             ClC(C=CC(C)=C1Cl)=C1NC2=CC=CC=C2C(O)=O\n",
       "21         Naphthoic_acid                          OC(C1=CC2=CC=CC=C2C=C1)=O\n",
       "22             Probenecid                     CN[C@@H](C)[C@H](O)C1=CC=CC=C1\n",
       "23        Pseudoephedrine              OC(C1=CC=C(S(N(CCC)CCC)(=O)=O)C=C1)=O\n",
       "24          Pyrimethamine                 ClC(C=C1)=CC=C1C2=C(CC)N=C(N)N=C2N\n",
       "25         Salicylic_acid                                 OC(C1=CC=CC=C1O)=O\n",
       "26          Sulfamerazine             NC1=CC=C(S(NC2=NC(C)=CC=N2)(=O)=O)C=C1\n",
       "27         Sulfamethizole               NC1=CC=C(S(NC2=NN=C(C)S2)(=O)=O)C=C1\n",
       "28            Terfenadine  OC(C1=CC=CC=C1)(C2=CC=CC=C2)C3CCN(CCCC(O)C4=CC...\n",
       "29          Thiabendazole                       C12=CC=CC=C1NC(C3=CSC=N3)=N2\n",
       "30            Tolbutamide                 CC1=CC=C(S(NC(NCCCC)=O)(=O)=O)C=C1\n",
       "31              Trazodone  ClC1=CC=CC(N2CCN(CCCN3C(N(C=CC=C4)C4=N3)=O)CC2..."
      ]
     },
     "execution_count": 166,
     "metadata": {},
     "output_type": "execute_result"
    }
   ],
   "source": [
    "#Solubility Challenge\n",
    "testdata = pd.read_csv('D:/python/rdkit/testexperiment2upload2raw.csv')\n",
    "testdata"
   ]
  },
  {
   "cell_type": "code",
   "execution_count": 167,
   "id": "c943ea07",
   "metadata": {},
   "outputs": [
    {
     "name": "stderr",
     "output_type": "stream",
     "text": [
      "100%|██████████████████████████████████████████████████████████████████████████████████| 32/32 [00:03<00:00,  9.38it/s]\n"
     ]
    }
   ],
   "source": [
    "mordred_descriptors3 = All_Mordred_descriptors(testdata['SMILES'])"
   ]
  },
  {
   "cell_type": "code",
   "execution_count": 168,
   "id": "0d53074a",
   "metadata": {},
   "outputs": [
    {
     "data": {
      "text/plain": [
       "(32, 177)"
      ]
     },
     "execution_count": 168,
     "metadata": {},
     "output_type": "execute_result"
    }
   ],
   "source": [
    "X2new=mordred_descriptors3[['AATS0d',\n",
    " 'AATS0dv',\n",
    " 'AATS0i',\n",
    " 'AATSC0dv',\n",
    " 'AATSC0i',\n",
    " 'AATSC0v',\n",
    " 'AATSC1Z',\n",
    " 'ABC',\n",
    " 'ATS0Z',\n",
    " 'ATSC0i',\n",
    " 'ATSC1Z',\n",
    " 'ATSC1d',\n",
    " 'ATSC1dv',\n",
    " 'ATSC1i',\n",
    " 'ATSC1p',\n",
    " 'ATSC1se',\n",
    " 'ATSC1v',\n",
    " 'ATSC2Z',\n",
    " 'ATSC2d',\n",
    " 'ATSC2dv',\n",
    " 'ATSC2i',\n",
    " 'ATSC2se',\n",
    " 'ATSC2v',\n",
    " 'ATSC3Z',\n",
    " 'ATSC3d',\n",
    " 'ATSC3dv',\n",
    " 'ATSC3i',\n",
    " 'ATSC3p',\n",
    " 'ATSC3se',\n",
    " 'ATSC3v',\n",
    " 'ATSC4Z',\n",
    " 'ATSC4d',\n",
    " 'ATSC4dv',\n",
    " 'ATSC4i',\n",
    " 'ATSC4p',\n",
    " 'ATSC4se',\n",
    " 'ATSC4v',\n",
    " 'ATSC5Z',\n",
    " 'ATSC5d',\n",
    " 'ATSC5dv',\n",
    " 'ATSC5i',\n",
    " 'ATSC5p',\n",
    " 'ATSC5se',\n",
    " 'ATSC5v',\n",
    " 'ATSC6Z',\n",
    " 'ATSC6d',\n",
    " 'ATSC6dv',\n",
    " 'ATSC6i',\n",
    " 'ATSC6se',\n",
    " 'ATSC6v',\n",
    " 'ATSC7Z',\n",
    " 'ATSC7d',\n",
    " 'ATSC7dv',\n",
    " 'ATSC7i',\n",
    " 'ATSC7p',\n",
    " 'ATSC7v',\n",
    " 'ATSC8Z',\n",
    " 'ATSC8d',\n",
    " 'ATSC8dv',\n",
    " 'ATSC8i',\n",
    " 'ATSC8v',\n",
    " 'BalabanJ',\n",
    " 'C1SP2',\n",
    " 'C1SP3',\n",
    " 'C2SP3',\n",
    " 'C3SP2',\n",
    " 'C3SP3',\n",
    " 'CIC1',\n",
    " 'Diameter',\n",
    " 'ECIndex',\n",
    " 'EState_VSA1',\n",
    " 'EState_VSA2',\n",
    " 'EState_VSA3',\n",
    " 'EState_VSA4',\n",
    " 'EState_VSA5',\n",
    " 'EState_VSA6',\n",
    " 'EState_VSA7',\n",
    " 'EState_VSA8',\n",
    " 'GATS1i',\n",
    " 'GATS1p',\n",
    " 'IC1',\n",
    " 'NaaN',\n",
    " 'NaaNH',\n",
    " 'NaaaC',\n",
    " 'NaasC',\n",
    " 'NaasN',\n",
    " 'NddsN',\n",
    " 'NddssS',\n",
    " 'NdsCH',\n",
    " 'NdssC',\n",
    " 'NsCH3',\n",
    " 'NsNH2',\n",
    " 'NsOH',\n",
    " 'NssCH2',\n",
    " 'NssNH',\n",
    " 'NssO',\n",
    " 'NsssCH',\n",
    " 'NsssN',\n",
    " 'NssssC',\n",
    " 'PEOE_VSA1',\n",
    " 'PEOE_VSA10',\n",
    " 'PEOE_VSA11',\n",
    " 'PEOE_VSA12',\n",
    " 'PEOE_VSA13',\n",
    " 'PEOE_VSA2',\n",
    " 'PEOE_VSA3',\n",
    " 'PEOE_VSA4',\n",
    " 'PEOE_VSA5',\n",
    " 'PEOE_VSA6',\n",
    " 'PEOE_VSA7',\n",
    " 'PEOE_VSA8',\n",
    " 'PEOE_VSA9',\n",
    " 'SMR_VSA4',\n",
    " 'SMR_VSA6',\n",
    " 'SMR_VSA9',\n",
    " 'SaaO',\n",
    " 'SaasC',\n",
    " 'SdCH2',\n",
    " 'SdNH',\n",
    " 'SdS',\n",
    " 'SdsN',\n",
    " 'SdssC',\n",
    " 'SdsssP',\n",
    " 'SlogP_VSA1',\n",
    " 'SlogP_VSA10',\n",
    " 'SlogP_VSA11',\n",
    " 'SlogP_VSA2',\n",
    " 'SlogP_VSA3',\n",
    " 'SlogP_VSA4',\n",
    " 'SlogP_VSA7',\n",
    " 'SsI',\n",
    " 'SsSH',\n",
    " 'SssS',\n",
    " 'SsssCH',\n",
    " 'StCH',\n",
    " 'StN',\n",
    " 'StsC',\n",
    " 'VSA_EState1',\n",
    " 'VSA_EState2',\n",
    " 'VSA_EState4',\n",
    " 'VSA_EState7',\n",
    " 'VSA_EState8',\n",
    " 'VSA_EState9',\n",
    " 'WPath',\n",
    " 'Xc-3dv',\n",
    " 'Xc-5d',\n",
    " 'Xc-5dv',\n",
    " 'Xch-7d',\n",
    " 'n5ARing',\n",
    " 'n5HRing',\n",
    " 'n5Ring',\n",
    " 'n5aRing',\n",
    " 'n6ARing',\n",
    " 'n6HRing',\n",
    " 'nAHRing',\n",
    " 'nARing',\n",
    " 'nAcid',\n",
    " 'nAromAtom',\n",
    " 'nAtom',\n",
    " 'nBase',\n",
    " 'nBondsD',\n",
    " 'nBr',\n",
    " 'nBridgehead',\n",
    " 'nC',\n",
    " 'nCl',\n",
    " 'nF',\n",
    " 'nFRing',\n",
    " 'nHBAcc',\n",
    " 'nHBDon',\n",
    " 'nHRing',\n",
    " 'nHetero',\n",
    " 'nN',\n",
    " 'nO',\n",
    " 'nRot',\n",
    " 'nS',\n",
    " 'nX',\n",
    " 'naHRing']]\n",
    "X2new.shape\n"
   ]
  },
  {
   "cell_type": "code",
   "execution_count": 169,
   "id": "b28bd52c",
   "metadata": {},
   "outputs": [
    {
     "name": "stderr",
     "output_type": "stream",
     "text": [
      "C:\\Users\\DEDP Grader\\anaconda3\\envs\\rdkit\\lib\\site-packages\\sklearn\\base.py:438: UserWarning: X has feature names, but RandomForestRegressor was fitted without feature names\n",
      "  warnings.warn(\n"
     ]
    },
    {
     "data": {
      "text/plain": [
       "array([-2.1850703 , -2.63400833, -1.93036372, -1.78398611, -1.76584548,\n",
       "       -1.42595   , -1.97933611, -2.16664861, -2.24985574, -1.74819631,\n",
       "       -1.59275833, -1.79854444, -2.24578074, -1.59423131, -1.61559807,\n",
       "       -1.773215  , -2.13283908, -2.20449   , -2.0195    , -2.05081697,\n",
       "       -2.04561083, -1.74164167, -1.79854444, -1.9718375 , -2.12021669,\n",
       "       -1.57074167, -1.87762021, -1.94107792, -2.10046667, -2.16647519,\n",
       "       -1.88656875, -1.73295833])"
      ]
     },
     "execution_count": 169,
     "metadata": {},
     "output_type": "execute_result"
    }
   ],
   "source": [
    "\n",
    "y2new = model.predict(X2new)\n",
    "#print(\"X=%s, Predicted=%s\" % (Xnew[0], ynew[0]))\n",
    "y2new"
   ]
  },
  {
   "cell_type": "code",
   "execution_count": 53,
   "id": "33741a8a",
   "metadata": {},
   "outputs": [
    {
     "name": "stderr",
     "output_type": "stream",
     "text": [
      "C:\\Users\\DEDP Grader\\anaconda3\\envs\\rdkit\\lib\\site-packages\\sklearn\\base.py:488: FutureWarning: The feature names should match those that were passed during fit. Starting version 1.2, an error will be raised.\n",
      "Feature names must be in the same order as they were in fit.\n",
      "\n",
      "  warnings.warn(message, FutureWarning)\n"
     ]
    },
    {
     "data": {
      "text/plain": [
       "array([-1.69769   , -2.81597003, -1.88425013, -1.61753062, -1.82607083,\n",
       "       -1.52950417, -1.75595741, -1.81853284, -1.80027251, -2.03836574,\n",
       "       -1.37489333, -1.61105771, -2.08241959, -1.73048286, -1.85138681,\n",
       "       -1.71541583, -1.84892293, -2.07292242, -1.58969847, -1.74522491,\n",
       "       -1.9409    , -1.98299771, -1.61105771, -1.64267667, -2.101685  ,\n",
       "       -1.37353417, -1.49513126, -1.61470367, -1.82638501, -1.87663503,\n",
       "       -1.49410833, -1.47430376])"
      ]
     },
     "execution_count": 53,
     "metadata": {},
     "output_type": "execute_result"
    }
   ],
   "source": [
    "\n",
    "y2new = model.predict(X2new)\n",
    "#print(\"X=%s, Predicted=%s\" % (Xnew[0], ynew[0]))\n",
    "y2new"
   ]
  },
  {
   "cell_type": "code",
   "execution_count": 84,
   "id": "76fb2a44",
   "metadata": {},
   "outputs": [],
   "source": [
    "from numpy import asarray\n",
    "from numpy import savetxt\n",
    "# define data\n",
    "data = asarray(y2new)\n",
    "# save to csv file\n",
    "savetxt('datachallenge.csv', data, delimiter=',')"
   ]
  },
  {
   "cell_type": "code",
   "execution_count": null,
   "id": "0c74b745",
   "metadata": {},
   "outputs": [],
   "source": []
  },
  {
   "cell_type": "code",
   "execution_count": null,
   "id": "84c2a2c8",
   "metadata": {},
   "outputs": [],
   "source": []
  }
 ],
 "metadata": {
  "kernelspec": {
   "display_name": "Python 3 (ipykernel)",
   "language": "python",
   "name": "python3"
  },
  "language_info": {
   "codemirror_mode": {
    "name": "ipython",
    "version": 3
   },
   "file_extension": ".py",
   "mimetype": "text/x-python",
   "name": "python",
   "nbconvert_exporter": "python",
   "pygments_lexer": "ipython3",
   "version": "3.9.12"
  }
 },
 "nbformat": 4,
 "nbformat_minor": 5
}
