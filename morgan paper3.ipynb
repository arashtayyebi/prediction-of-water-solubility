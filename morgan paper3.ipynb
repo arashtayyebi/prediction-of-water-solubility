{
 "cells": [
  {
   "cell_type": "code",
   "execution_count": 1,
   "id": "87cfca2a",
   "metadata": {},
   "outputs": [],
   "source": [
    "import pandas as pd\n",
    "import numpy as np\n",
    "import os\n",
    "import seaborn as sns\n",
    "import matplotlib.pyplot as plt\n",
    "import emoji\n",
    "%matplotlib inline \n",
    "\n",
    "#importing rdkit\n",
    "from rdkit import Chem\n",
    "from rdkit.Chem import AllChem\n",
    "from rdkit.Chem import Descriptors\n",
    "from rdkit import RDConfig\n",
    "from rdkit.Chem.Draw import IPythonConsole\n",
    "from rdkit.Chem import Draw\n",
    "#from utility import FeatureGenerator\n",
    "from rdkit.Chem import PandasTools as PandasTools\n",
    "from rdkit import DataStructs\n",
    "from rdkit.Chem.Subshape import SubshapeBuilder,SubshapeAligner,SubshapeObjects\n",
    "\n",
    "#importing sklearn \n",
    "from sklearn.model_selection import train_test_split, StratifiedKFold, GridSearchCV\n",
    "from sklearn.metrics import r2_score, mean_squared_error, mean_absolute_error\n",
    "from sklearn.ensemble import RandomForestRegressor\n",
    "from sklearn.neural_network import MLPRegressor\n",
    "from sklearn.svm import SVR"
   ]
  },
  {
   "cell_type": "code",
   "execution_count": 2,
   "id": "9b985828",
   "metadata": {},
   "outputs": [
    {
     "name": "stdout",
     "output_type": "stream",
     "text": [
      "<bound method NDFrame.head of                                                  SMILES  \\\n",
      "0               OCC1OC(CO)(OC2OC(CO)C(O)C(O)C2O)C(O)C1O   \n",
      "1     O[C@H]1[C@H](O[C@H](CO)[C@@H](O)[C@@H]1O)O[C@]...   \n",
      "2     OC[C@@H]1O[C@](CO)(O[C@@H]2O[C@@H](CO)[C@H](O)...   \n",
      "3                CN1C[C@@H]2C[C@@H](C1)C3=CC=CC(=O)N3C2   \n",
      "4                          CN1CC2CC(C1)C1=CC=CC(=O)N1C2   \n",
      "...                                                 ...   \n",
      "8433                                      O=[N+]([O-])C   \n",
      "8434                                                 OC   \n",
      "8435                                            S=C(N)N   \n",
      "8436                                           O=C(NO)N   \n",
      "8437                                            O=C(N)N   \n",
      "\n",
      "      measured log(solubility:mol/L)  \n",
      "0                               0.79  \n",
      "1                               0.79  \n",
      "2                               0.79  \n",
      "3                               0.65  \n",
      "4                               0.65  \n",
      "...                              ...  \n",
      "8433                            0.26  \n",
      "8434                            1.57  \n",
      "8435                            0.32  \n",
      "8436                            1.12  \n",
      "8437                            0.96  \n",
      "\n",
      "[8438 rows x 2 columns]>\n"
     ]
    }
   ],
   "source": [
    "from rdkit.Chem import AllChem\n",
    "from rdkit import Chem\n",
    "import pandas as pd\n",
    "\n",
    "sol = pd.read_csv('D:/python/rdkit/new222new.csv')\n",
    "print(sol.head)\n",
    "XY = sol.set_index('SMILES').T.to_dict('list')"
   ]
  },
  {
   "cell_type": "code",
   "execution_count": 3,
   "id": "33c6e7a3",
   "metadata": {},
   "outputs": [
    {
     "data": {
      "text/plain": [
       "0       0.79\n",
       "1       0.79\n",
       "2       0.79\n",
       "3       0.65\n",
       "4       0.65\n",
       "        ... \n",
       "8433    0.26\n",
       "8434    1.57\n",
       "8435    0.32\n",
       "8436    1.12\n",
       "8437    0.96\n",
       "Name: measured log(solubility:mol/L), Length: 8438, dtype: float64"
      ]
     },
     "execution_count": 3,
     "metadata": {},
     "output_type": "execute_result"
    }
   ],
   "source": [
    "y = sol.iloc[:,1]\n",
    "y"
   ]
  },
  {
   "cell_type": "code",
   "execution_count": 46,
   "id": "afd3acf6",
   "metadata": {},
   "outputs": [
    {
     "name": "stdout",
     "output_type": "stream",
     "text": [
      "8438\n"
     ]
    }
   ],
   "source": [
    "\n",
    "X = []\n",
    "\n",
    "for smile, Hlist in XY.items():\n",
    "    try:\n",
    "        X.append(AllChem.GetMorganFingerprintAsBitVect(Chem.MolFromSmiles(smile), radius=2,nBits = 2048))\n",
    "\n",
    "    except:\n",
    "        pass\n",
    "X = [list(a) for a in X]\n",
    "print(len(X))\n"
   ]
  },
  {
   "cell_type": "code",
   "execution_count": 5,
   "id": "f0b27ae0",
   "metadata": {},
   "outputs": [],
   "source": [
    "from sklearn.linear_model import Lasso\n",
    "\n",
    "from sklearn.linear_model import LinearRegression\n",
    "\n"
   ]
  },
  {
   "cell_type": "code",
   "execution_count": 1,
   "id": "89650d60",
   "metadata": {},
   "outputs": [],
   "source": [
    "\n",
    "\n",
    "nonzero_indices = [i for i, coef in enumerate(reg.coef_) if coef != 0]\n",
    "nonzero_coefs = [reg.coef_[i] for i in nonzero_indices]\n",
    "\n",
    "# Create a dataframe with the nonzero coefficients\n",
    "coefs_df = pd.DataFrame({'Bit': nonzero_indices, 'Coefficient': nonzero_coefs})\n",
    "\n",
    "# Save the dataframe to a csv file\n",
    "coefs_df.to_csv('lasso_coefs.csv', index=False)\n"
   ]
  },
  {
   "cell_type": "code",
   "execution_count": 10,
   "id": "c3758d75",
   "metadata": {},
   "outputs": [
    {
     "name": "stdout",
     "output_type": "stream",
     "text": [
      "Bit 1 : -0.05526644542757353\n",
      "Bit 2 : -0.021229676961658308\n",
      "Bit 97 : -0.5406050713781421\n",
      "Bit 113 : -0.7635518194526666\n",
      "Bit 114 : -0.7005024875195844\n",
      "Bit 116 : -0.41389811077449085\n",
      "Bit 147 : -0.11905674916033511\n",
      "Bit 222 : 0.47899798494229784\n",
      "Bit 227 : 0.49874120718089365\n",
      "Bit 283 : -0.26655672737965386\n",
      "Bit 294 : -0.2953202317993458\n",
      "Bit 314 : 0.18495526645986587\n",
      "Bit 322 : -0.19824676470337801\n",
      "Bit 352 : -0.8035414465680405\n",
      "Bit 366 : -0.2095677934835081\n",
      "Bit 378 : 0.18408203322990838\n",
      "Bit 389 : 0.0919792557493425\n",
      "Bit 401 : -0.28712580948756244\n",
      "Bit 486 : 0.1900365265562244\n",
      "Bit 561 : -0.698314468816143\n",
      "Bit 591 : -0.2587329539781839\n",
      "Bit 650 : 0.2660247736981636\n",
      "Bit 661 : -0.08839269253266398\n",
      "Bit 675 : -0.09390879968318701\n",
      "Bit 694 : -0.12088934521351938\n",
      "Bit 715 : -0.14413861311662995\n",
      "Bit 725 : -0.3299758070083639\n",
      "Bit 728 : -0.2913248582449641\n",
      "Bit 739 : -0.39426995325638436\n",
      "Bit 794 : -0.2688962570191682\n",
      "Bit 807 : 0.7868294704755936\n",
      "Bit 808 : -0.3032855999905743\n",
      "Bit 816 : -0.07033199272411447\n",
      "Bit 875 : -0.2875064992863044\n",
      "Bit 950 : 0.18764371659896575\n",
      "Bit 981 : 0.31794184388320224\n",
      "Bit 1004 : 0.07983338974669198\n",
      "Bit 1011 : -1.0121043565590453\n",
      "Bit 1017 : -0.10922010572105041\n",
      "Bit 1019 : -0.09452261937051483\n",
      "Bit 1037 : 0.048934833143085506\n",
      "Bit 1057 : 0.18470024487320147\n",
      "Bit 1060 : -0.3591472184344697\n",
      "Bit 1114 : 0.10597674236154554\n",
      "Bit 1143 : -0.7076701462831199\n",
      "Bit 1145 : 0.1798455768770228\n",
      "Bit 1152 : -0.007927721530360752\n",
      "Bit 1160 : -0.5572375509421341\n",
      "Bit 1171 : 0.24510390682149139\n",
      "Bit 1195 : -0.07754436976978359\n",
      "Bit 1292 : -0.21988137952603784\n",
      "Bit 1325 : -0.2309893284609615\n",
      "Bit 1357 : -0.4657127306960828\n",
      "Bit 1366 : -0.1023179269907356\n",
      "Bit 1380 : -0.7254094831910112\n",
      "Bit 1385 : -0.0659680467343861\n",
      "Bit 1444 : -0.18302208033759138\n",
      "Bit 1476 : -0.17350426343571215\n",
      "Bit 1480 : 0.03441818891655643\n",
      "Bit 1544 : -0.1462792316450917\n",
      "Bit 1554 : -0.24130774061580826\n",
      "Bit 1582 : -0.08954775638967517\n",
      "Bit 1598 : -0.16222489621260253\n",
      "Bit 1603 : 0.44767030913403416\n",
      "Bit 1617 : -0.7841151380142795\n",
      "Bit 1631 : -0.22311490923590646\n",
      "Bit 1683 : -0.3517905401617355\n",
      "Bit 1724 : -0.1266822068369301\n",
      "Bit 1729 : -0.1327664727895513\n",
      "Bit 1745 : -0.1581362516831977\n",
      "Bit 1747 : -0.7815083441001642\n",
      "Bit 1750 : -0.1651702030868327\n",
      "Bit 1844 : 0.02812341649075865\n",
      "Bit 1847 : -0.2542194713234428\n",
      "Bit 1855 : -0.20365266790794273\n",
      "Bit 1866 : 0.5068141526137194\n",
      "Bit 1873 : -0.21061227664210325\n",
      "Bit 1905 : -0.32065705357058827\n",
      "Bit 1911 : -0.3150255204480308\n",
      "Bit 1917 : -0.23299984099870713\n",
      "Bit 1963 : -0.07937643047472605\n"
     ]
    }
   ],
   "source": [
    "x = X\n",
    "\n",
    "\n",
    "\n",
    "# Fit a LASSO regression model on the fingerprints and target variable\n",
    "reg = Lasso(alpha=0.01)\n",
    "reg.fit(x, y)\n",
    "\n",
    "nonzero_indices = [i for i, coef in enumerate(reg.coef_) if coef != 0]\n",
    "for i in nonzero_indices:\n",
    "    print(\"Bit\", i, \":\", reg.coef_[i])\n",
    "\n",
    "# Select the columns with nonzero coefficients from the x array\n",
    "x_nonzero = [[row[i] for i in nonzero_indices] for row in x]"
   ]
  },
  {
   "cell_type": "code",
   "execution_count": null,
   "id": "598352ec",
   "metadata": {},
   "outputs": [],
   "source": []
  },
  {
   "cell_type": "code",
   "execution_count": 11,
   "id": "2f002e89",
   "metadata": {},
   "outputs": [
    {
     "data": {
      "text/plain": [
       "8438"
      ]
     },
     "execution_count": 11,
     "metadata": {},
     "output_type": "execute_result"
    }
   ],
   "source": [
    "len(x_nonzero)"
   ]
  },
  {
   "cell_type": "code",
   "execution_count": 12,
   "id": "00d2cc07",
   "metadata": {},
   "outputs": [
    {
     "data": {
      "text/plain": [
       "8438"
      ]
     },
     "execution_count": 12,
     "metadata": {},
     "output_type": "execute_result"
    }
   ],
   "source": [
    "X=x_nonzero\n",
    "len(X)"
   ]
  },
  {
   "cell_type": "code",
   "execution_count": 13,
   "id": "5b951798",
   "metadata": {},
   "outputs": [
    {
     "data": {
      "text/plain": [
       "8438"
      ]
     },
     "execution_count": 13,
     "metadata": {},
     "output_type": "execute_result"
    }
   ],
   "source": [
    "len(y)"
   ]
  },
  {
   "cell_type": "code",
   "execution_count": null,
   "id": "1f9bcb65",
   "metadata": {},
   "outputs": [],
   "source": [
    "#FOR prouned fingerprint-204"
   ]
  },
  {
   "cell_type": "code",
   "execution_count": 29,
   "id": "13e799cd",
   "metadata": {},
   "outputs": [],
   "source": [
    "from sklearn.model_selection import train_test_split\n",
    "X_train, X_test, Y_train, Y_test = train_test_split(X, y, test_size=0.2,random_state=424)\n",
    "#test size is 20% and traing size is 80%\n",
    "#linear regression\n",
    "from sklearn import linear_model\n",
    "#from sklearn.linear_model import LinearRegression\n",
    "from sklearn.metrics import mean_squared_error, r2_score"
   ]
  },
  {
   "cell_type": "code",
   "execution_count": 6,
   "id": "91929654",
   "metadata": {},
   "outputs": [],
   "source": [
    "from sklearn.metrics import mean_absolute_error"
   ]
  },
  {
   "cell_type": "code",
   "execution_count": 7,
   "id": "b7a5a259",
   "metadata": {},
   "outputs": [
    {
     "data": {
      "text/plain": [
       "LinearRegression()"
      ]
     },
     "execution_count": 7,
     "metadata": {},
     "output_type": "execute_result"
    }
   ],
   "source": [
    "model=LinearRegression()\n",
    "model.fit(X_train, Y_train)"
   ]
  },
  {
   "cell_type": "code",
   "execution_count": 17,
   "id": "fb6771de",
   "metadata": {},
   "outputs": [
    {
     "name": "stdout",
     "output_type": "stream",
     "text": [
      "Mean squared error (MSE): 1.17\n",
      "Coefficient of determination (R^2): 0.60\n"
     ]
    }
   ],
   "source": [
    "#predicts the X_train\n",
    "Y_pred_train = model.predict(X_train)\n",
    "#print('Coefficients:', model.coef_)\n",
    "#print('Intercept:', model.intercept_)\n",
    "print('Mean squared error (MSE): %.2f'\n",
    "      % mean_squared_error(Y_train, Y_pred_train,squared=False))\n",
    "print('Coefficient of determination (R^2): %.2f'\n",
    "      % r2_score(Y_train, Y_pred_train))"
   ]
  },
  {
   "cell_type": "code",
   "execution_count": 19,
   "id": "ee34067b",
   "metadata": {},
   "outputs": [
    {
     "name": "stdout",
     "output_type": "stream",
     "text": [
      "MAE (filtered test): 0.8847040526880584\n",
      "RMSE (filtered test): 1.1707548103050602\n",
      "R^2 (filtered test): 0.6004799439806268\n"
     ]
    }
   ],
   "source": [
    "mae_test2 = mean_absolute_error(Y_train, Y_pred_train)\n",
    "rmse_test2 = np.sqrt(mean_squared_error(Y_train, Y_pred_train))\n",
    "r2_test2 = r2_score(Y_train, Y_pred_train)\n",
    "\n",
    "# Print the results\n",
    "print(\"MAE (filtered test):\", mae_test2)\n",
    "print(\"RMSE (filtered test):\", rmse_test2)\n",
    "print(\"R^2 (filtered test):\", r2_test2)"
   ]
  },
  {
   "cell_type": "code",
   "execution_count": 46,
   "id": "319b935c",
   "metadata": {},
   "outputs": [
    {
     "data": {
      "text/plain": [
       "0.8774942313861861"
      ]
     },
     "execution_count": 46,
     "metadata": {},
     "output_type": "execute_result"
    }
   ],
   "source": [
    "mae = mean_absolute_error(Y_train, Y_pred_train)\n",
    "mae"
   ]
  },
  {
   "cell_type": "code",
   "execution_count": 18,
   "id": "09479f4f",
   "metadata": {},
   "outputs": [
    {
     "name": "stdout",
     "output_type": "stream",
     "text": [
      "Mean squared error (MSE): 1.14\n",
      "Coefficient of determination (R^2): 0.63\n"
     ]
    }
   ],
   "source": [
    "#predicts the X_test\n",
    "Y_pred_test = model.predict(X_test)\n",
    "#print('Coefficients:', model.coef_)44444444444\n",
    "#print('Intercept:', model.intercept_)\n",
    "print('Mean squared error (MSE): %.2f'\n",
    "      % mean_squared_error(Y_test, Y_pred_test,squared=False))\n",
    "print('Coefficient of determination (R^2): %.2f'\n",
    "      % r2_score(Y_test, Y_pred_test))"
   ]
  },
  {
   "cell_type": "code",
   "execution_count": 20,
   "id": "a052a653",
   "metadata": {},
   "outputs": [
    {
     "name": "stdout",
     "output_type": "stream",
     "text": [
      "MAE (filtered test): 0.8703598886091288\n",
      "RMSE (filtered test): 1.1383582875651472\n",
      "R^2 (filtered test): 0.6330649426038328\n"
     ]
    }
   ],
   "source": [
    "mae_filtered_test2 = mean_absolute_error(Y_test, Y_pred_test)\n",
    "rmse_filtered_test2 = np.sqrt(mean_squared_error(Y_test, Y_pred_test))\n",
    "r2_filtered_test2 = r2_score(Y_test, Y_pred_test)\n",
    "\n",
    "# Print the results\n",
    "print(\"MAE (filtered test):\", mae_filtered_test2)\n",
    "print(\"RMSE (filtered test):\", rmse_filtered_test2)\n",
    "print(\"R^2 (filtered test):\", r2_filtered_test2)"
   ]
  },
  {
   "cell_type": "code",
   "execution_count": 48,
   "id": "b6d07529",
   "metadata": {},
   "outputs": [
    {
     "data": {
      "text/plain": [
       "0.8717685085279837"
      ]
     },
     "execution_count": 48,
     "metadata": {},
     "output_type": "execute_result"
    }
   ],
   "source": [
    "mae = mean_absolute_error(Y_test, Y_pred_test)\n",
    "mae"
   ]
  },
  {
   "cell_type": "code",
   "execution_count": null,
   "id": "0bdc3341",
   "metadata": {},
   "outputs": [],
   "source": []
  },
  {
   "cell_type": "code",
   "execution_count": 20,
   "id": "fa0a881f",
   "metadata": {},
   "outputs": [
    {
     "data": {
      "text/plain": [
       "RandomForestRegressor(random_state=42)"
      ]
     },
     "execution_count": 20,
     "metadata": {},
     "output_type": "execute_result"
    }
   ],
   "source": [
    "model = RandomForestRegressor(n_estimators=100, random_state=42)\n",
    "model.fit(X_train, Y_train)"
   ]
  },
  {
   "cell_type": "code",
   "execution_count": 21,
   "id": "0271f9b0",
   "metadata": {},
   "outputs": [
    {
     "name": "stdout",
     "output_type": "stream",
     "text": [
      "Mean squared error (MSE): 0.53\n",
      "Coefficient of determination (R^2): 0.92\n"
     ]
    }
   ],
   "source": [
    "Y_pred_train = model.predict(X_train)\n",
    "#predicts the X_train\n",
    "#print('Coefficients:', model.coef_)\n",
    "#print('Intercept:', model.intercept_)\n",
    "print('Mean squared error (MSE): %.2f'\n",
    "      % mean_squared_error(Y_train, Y_pred_train,squared=False))\n",
    "print('Coefficient of determination (R^2): %.2f'\n",
    "      % r2_score(Y_train, Y_pred_train))"
   ]
  },
  {
   "cell_type": "code",
   "execution_count": 22,
   "id": "7e38f96d",
   "metadata": {},
   "outputs": [
    {
     "data": {
      "text/plain": [
       "0.3400665477837547"
      ]
     },
     "execution_count": 22,
     "metadata": {},
     "output_type": "execute_result"
    }
   ],
   "source": [
    "mae = mean_absolute_error(Y_train, Y_pred_train)\n",
    "mae"
   ]
  },
  {
   "cell_type": "code",
   "execution_count": 23,
   "id": "e25c8e43",
   "metadata": {},
   "outputs": [
    {
     "name": "stdout",
     "output_type": "stream",
     "text": [
      "Mean squared error (MSE): 0.93\n",
      "Coefficient of determination (R^2): 0.76\n"
     ]
    }
   ],
   "source": [
    "Y_pred_test = model.predict(X_test)\n",
    "print('Mean squared error (MSE): %.2f'\n",
    "      % mean_squared_error(Y_test, Y_pred_test,squared=False))\n",
    "print('Coefficient of determination (R^2): %.2f'\n",
    "      % r2_score(Y_test, Y_pred_test))"
   ]
  },
  {
   "cell_type": "code",
   "execution_count": 24,
   "id": "bbb18c02",
   "metadata": {},
   "outputs": [
    {
     "data": {
      "text/plain": [
       "0.6490958075801325"
      ]
     },
     "execution_count": 24,
     "metadata": {},
     "output_type": "execute_result"
    }
   ],
   "source": [
    "mae = mean_absolute_error(Y_test, Y_pred_test)\n",
    "mae"
   ]
  },
  {
   "cell_type": "code",
   "execution_count": null,
   "id": "8f60cf7b",
   "metadata": {},
   "outputs": [],
   "source": []
  },
  {
   "cell_type": "code",
   "execution_count": null,
   "id": "331650d8",
   "metadata": {},
   "outputs": [],
   "source": [
    "#FOR all fingerprint-2048"
   ]
  },
  {
   "cell_type": "code",
   "execution_count": 7,
   "id": "a719e80e",
   "metadata": {},
   "outputs": [],
   "source": [
    "from sklearn.linear_model import LinearRegression\n",
    "from sklearn.model_selection import train_test_split\n",
    "X_train, X_test, Y_train, Y_test = train_test_split(X, y, test_size=0.2,random_state=424)"
   ]
  },
  {
   "cell_type": "code",
   "execution_count": 30,
   "id": "cc6b4e5f",
   "metadata": {},
   "outputs": [
    {
     "data": {
      "text/plain": [
       "LinearRegression()"
      ]
     },
     "execution_count": 30,
     "metadata": {},
     "output_type": "execute_result"
    }
   ],
   "source": [
    "reg = LinearRegression()\n",
    "reg.fit(X_train,Y_train)"
   ]
  },
  {
   "cell_type": "code",
   "execution_count": 31,
   "id": "8126ff33",
   "metadata": {},
   "outputs": [
    {
     "name": "stdout",
     "output_type": "stream",
     "text": [
      "Mean squared error (MSE): 0.74\n",
      "Coefficient of determination (R^2): 0.84\n"
     ]
    }
   ],
   "source": [
    "#predicts the X_train\n",
    "Y_pred_train = reg.predict(X_train)\n",
    "#print('Coefficients:', model.coef_)\n",
    "#print('Intercept:', model.intercept_)\n",
    "print('Mean squared error (MSE): %.2f'\n",
    "      % mean_squared_error(Y_train, Y_pred_train,squared=False))\n",
    "print('Coefficient of determination (R^2): %.2f'\n",
    "      % r2_score(Y_train, Y_pred_train))"
   ]
  },
  {
   "cell_type": "code",
   "execution_count": 32,
   "id": "1f31310f",
   "metadata": {},
   "outputs": [
    {
     "name": "stdout",
     "output_type": "stream",
     "text": [
      "Mean squared error (MSE): 1.11\n",
      "Coefficient of determination (R^2): 0.66\n"
     ]
    }
   ],
   "source": [
    "#predicts the X_test\n",
    "Y_pred_test = reg.predict(X_test)\n",
    "#print('Coefficients:', model.coef_)44444444444\n",
    "#print('Intercept:', model.intercept_)\n",
    "print('Mean squared error (MSE): %.2f'\n",
    "      % mean_squared_error(Y_test, Y_pred_test,squared=False))\n",
    "print('Coefficient of determination (R^2): %.2f'\n",
    "      % r2_score(Y_test, Y_pred_test))"
   ]
  },
  {
   "cell_type": "code",
   "execution_count": 11,
   "id": "f5bf24f8",
   "metadata": {},
   "outputs": [
    {
     "name": "stdout",
     "output_type": "stream",
     "text": [
      "MAE (filtered test): 0.5599029151551838\n",
      "RMSE (filtered test): 0.74485431019533\n",
      "R^2 (filtered test): 0.836977585643221\n"
     ]
    }
   ],
   "source": [
    "mae_test2 = mean_absolute_error(Y_train, Y_pred_train)\n",
    "rmse_test2 = np.sqrt(mean_squared_error(Y_train, Y_pred_train))\n",
    "r2_test2 = r2_score(Y_train, Y_pred_train)\n",
    "\n",
    "# Print the results\n",
    "print(\"MAE (filtered test):\", mae_test2)\n",
    "print(\"RMSE (filtered test):\", rmse_test2)\n",
    "print(\"R^2 (filtered test):\", r2_test2)"
   ]
  },
  {
   "cell_type": "code",
   "execution_count": 12,
   "id": "025abf12",
   "metadata": {},
   "outputs": [
    {
     "name": "stdout",
     "output_type": "stream",
     "text": [
      "MAE (filtered test): 0.8067095532893158\n",
      "RMSE (filtered test): 1.1070753977495507\n",
      "R^2 (filtered test): 0.6634555464241287\n"
     ]
    }
   ],
   "source": [
    "mae_filtered_test2 = mean_absolute_error(Y_test, Y_pred_test)\n",
    "rmse_filtered_test2 = np.sqrt(mean_squared_error(Y_test, Y_pred_test))\n",
    "r2_filtered_test2 = r2_score(Y_test, Y_pred_test)\n",
    "\n",
    "# Print the results\n",
    "print(\"MAE (filtered test):\", mae_filtered_test2)\n",
    "print(\"RMSE (filtered test):\", rmse_filtered_test2)\n",
    "print(\"R^2 (filtered test):\", r2_filtered_test2)"
   ]
  },
  {
   "cell_type": "code",
   "execution_count": 12,
   "id": "254d3bf1",
   "metadata": {},
   "outputs": [
    {
     "data": {
      "image/png": "[encoded data removed]",
      "text/plain": [
       "<Figure size 360x792 with 2 Axes>"
      ]
     },
     "metadata": {
      "needs_background": "light"
     },
     "output_type": "display_data"
    }
   ],
   "source": [
    "#Vertical plot\n",
    "plt.figure(figsize=(5,11))\n",
    "\n",
    "# 2 row, 1 column, plot 1\n",
    "plt.subplot(2, 1, 1)\n",
    "plt.scatter(x=Y_train, y=Y_pred_train, c=\"#7CAE00\", alpha=1)\n",
    "\n",
    "# Add trendline\n",
    "# https://stackoverflow.com/questions/26447191/how-to-add-trendline-in-python-matplotlib-dot-scatter-graphs\n",
    "z = np.polyfit(Y_train, Y_pred_train, 1)\n",
    "p = np.poly1d(z)\n",
    "plt.plot(Y_test,p(Y_test),\"#F8766D\")\n",
    "\n",
    "\n",
    "plt.xlabel('Experimental LogS',fontsize=13)\n",
    "plt.ylabel('Predicted LogS',fontsize=13)\n",
    "\n",
    "\n",
    "# 2 row, 1 column, plot 2\n",
    "plt.subplot(2, 1, 2)\n",
    "plt.scatter(x=Y_test, y=Y_pred_test, c=\"#619CFF\", alpha=1)\n",
    "\n",
    "z = np.polyfit(Y_test, Y_pred_test, 1)\n",
    "p = np.poly1d(z)\n",
    "plt.plot(Y_test,p(Y_test),\"#F8766D\")\n",
    "\n",
    "plt.ylabel('Predicted LogS',fontsize=13)\n",
    "plt.xlabel('Experimental LogS',fontsize=13)\n",
    "\n",
    "#plt.savefig('plot_vertical_logS.png')\n",
    "plt.savefig('paper logS morgan.pdf',dpi=1200)\n",
    "plt.show()"
   ]
  },
  {
   "cell_type": "code",
   "execution_count": 33,
   "id": "fc4ea100",
   "metadata": {},
   "outputs": [
    {
     "name": "stdout",
     "output_type": "stream",
     "text": [
      "(6750, 2048) (1688, 2048) (6750,) (1688,)\n"
     ]
    }
   ],
   "source": [
    "import numpy as np\n",
    "\n",
    "# Convert lists to numpy arrays\n",
    "X_train = np.array(X_train)\n",
    "X_test = np.array(X_test)\n",
    "Y_train = np.array(Y_train)\n",
    "Y_test = np.array(Y_test)\n",
    "\n",
    "# Print the shapes\n",
    "print(X_train.shape, X_test.shape, Y_train.shape, Y_test.shape)"
   ]
  },
  {
   "cell_type": "code",
   "execution_count": null,
   "id": "cf92f0c2",
   "metadata": {},
   "outputs": [],
   "source": []
  },
  {
   "cell_type": "code",
   "execution_count": null,
   "id": "987a7031",
   "metadata": {},
   "outputs": [],
   "source": []
  },
  {
   "cell_type": "code",
   "execution_count": 34,
   "id": "96f7b096",
   "metadata": {},
   "outputs": [],
   "source": [
    "yhat = reg.predict(X_test)"
   ]
  },
  {
   "cell_type": "code",
   "execution_count": 35,
   "id": "5db3582c",
   "metadata": {},
   "outputs": [],
   "source": [
    "from sklearn.neighbors import LocalOutlierFactor\n",
    "\n",
    "\n",
    "lof = LocalOutlierFactor()\n",
    "yhat = lof.fit_predict(X_test)\n",
    "\n"
   ]
  },
  {
   "cell_type": "code",
   "execution_count": 36,
   "id": "7c01a2a3",
   "metadata": {},
   "outputs": [
    {
     "name": "stdout",
     "output_type": "stream",
     "text": [
      "(1607, 2048) (1607,)\n"
     ]
    }
   ],
   "source": [
    "mask = yhat != -1\n",
    "X_test, Y_test = X_test[mask, :], Y_test[mask]\n",
    "print(X_test.shape, Y_test.shape)\n",
    "# fit the model\n"
   ]
  },
  {
   "cell_type": "code",
   "execution_count": 37,
   "id": "842614ef",
   "metadata": {},
   "outputs": [
    {
     "name": "stdout",
     "output_type": "stream",
     "text": [
      "MAE: 0.794\n"
     ]
    }
   ],
   "source": [
    "reg = LinearRegression()\n",
    "reg.fit(X_train,Y_train)\n",
    "# evaluate the model\n",
    "Y_test_pred2 = reg.predict(X_test)\n",
    "# evaluate predictions\n",
    "mae = mean_absolute_error(Y_test, Y_test_pred2)\n",
    "print('MAE: %.3f' % mae)"
   ]
  },
  {
   "cell_type": "code",
   "execution_count": 38,
   "id": "bd5a4bd7",
   "metadata": {},
   "outputs": [
    {
     "name": "stdout",
     "output_type": "stream",
     "text": [
      "RMSE (filtered): 1.0904183811361776\n",
      "R^2 (filtered): 0.6791750446061895\n"
     ]
    }
   ],
   "source": [
    "from sklearn.metrics import mean_squared_error, r2_score\n",
    "\n",
    "# Calculate RMSE\n",
    "rmse_filtered = np.sqrt(mean_squared_error(Y_test, Y_test_pred2))\n",
    "\n",
    "# Calculate R^2\n",
    "r2_filtered = r2_score(Y_test, Y_test_pred2)\n",
    "\n",
    "print(\"RMSE (filtered):\", rmse_filtered)\n",
    "print(\"R^2 (filtered):\", r2_filtered)"
   ]
  },
  {
   "cell_type": "code",
   "execution_count": 39,
   "id": "4bdff50c",
   "metadata": {},
   "outputs": [],
   "source": [
    "from sklearn.neighbors import LocalOutlierFactor\n",
    "\n",
    "lof = LocalOutlierFactor()\n",
    "yhat = lof.fit_predict(X_train)\n"
   ]
  },
  {
   "cell_type": "code",
   "execution_count": 40,
   "id": "6b1cb887",
   "metadata": {},
   "outputs": [],
   "source": [
    "mask = yhat != -1\n",
    "X_train, Y_train = X_train[mask, :], Y_train[mask]"
   ]
  },
  {
   "cell_type": "code",
   "execution_count": 41,
   "id": "294d3d87",
   "metadata": {},
   "outputs": [
    {
     "name": "stdout",
     "output_type": "stream",
     "text": [
      "(6232, 2048) (6232,)\n"
     ]
    }
   ],
   "source": [
    "print(X_train.shape, Y_train.shape)"
   ]
  },
  {
   "cell_type": "code",
   "execution_count": 42,
   "id": "fc0fc17f",
   "metadata": {},
   "outputs": [
    {
     "name": "stdout",
     "output_type": "stream",
     "text": [
      "MAE: 0.532\n"
     ]
    }
   ],
   "source": [
    "reg = LinearRegression()\n",
    "reg.fit(X_train,Y_train)\n",
    "# evaluate the model\n",
    "Y_train_pred2 = reg.predict(X_train)\n",
    "# evaluate predictions\n",
    "mae = mean_absolute_error(Y_train, Y_train_pred2)\n",
    "print('MAE: %.3f' % mae)"
   ]
  },
  {
   "cell_type": "code",
   "execution_count": 43,
   "id": "7b8b80f5",
   "metadata": {},
   "outputs": [
    {
     "name": "stdout",
     "output_type": "stream",
     "text": [
      "RMSE (filtered): 0.7079554429843881\n",
      "R^2 (filtered): 0.856517064961362\n"
     ]
    }
   ],
   "source": [
    "from sklearn.metrics import mean_squared_error, r2_score\n",
    "\n",
    "# Calculate RMSE\n",
    "rmse_filtered = np.sqrt(mean_squared_error(Y_train, Y_train_pred2))\n",
    "\n",
    "# Calculate R^2\n",
    "r2_filtered = r2_score(Y_train, Y_train_pred2)\n",
    "\n",
    "print(\"RMSE (filtered):\", rmse_filtered)\n",
    "print(\"R^2 (filtered):\", r2_filtered)"
   ]
  },
  {
   "cell_type": "code",
   "execution_count": 44,
   "id": "0adf6565",
   "metadata": {},
   "outputs": [
    {
     "name": "stdout",
     "output_type": "stream",
     "text": [
      "RMSE (filtered): 1.0904183811361776\n",
      "R^2 (filtered): 0.6791750446061895\n"
     ]
    }
   ],
   "source": [
    "from sklearn.metrics import mean_squared_error, r2_score\n",
    "\n",
    "# Calculate RMSE\n",
    "rmse_filtered = np.sqrt(mean_squared_error(Y_test, Y_test_pred2))\n",
    "\n",
    "# Calculate R^2\n",
    "r2_filtered = r2_score(Y_test, Y_test_pred2)\n",
    "\n",
    "print(\"RMSE (filtered):\", rmse_filtered)\n",
    "print(\"R^2 (filtered):\", r2_filtered)"
   ]
  },
  {
   "cell_type": "code",
   "execution_count": 21,
   "id": "80e1cf13",
   "metadata": {},
   "outputs": [
    {
     "name": "stdout",
     "output_type": "stream",
     "text": [
      "Shape of indices_list: 6232\n"
     ]
    }
   ],
   "source": [
    "sorted_indices = np.argsort(Y_train)\n",
    "\n",
    "indices_list = sorted_indices.tolist()\n",
    "\n",
    "#print(\"Indices List:\", indices_list)\n",
    "print(\"Shape of indices_list:\", len(indices_list))\n"
   ]
  },
  {
   "cell_type": "code",
   "execution_count": 23,
   "id": "6d936208",
   "metadata": {},
   "outputs": [
    {
     "name": "stdout",
     "output_type": "stream",
     "text": [
      "RMSE (filtered): 0.7079554429843881\n",
      "R^2 (filtered): 0.856517064961362\n"
     ]
    }
   ],
   "source": [
    "from sklearn.metrics import mean_squared_error, r2_score\n",
    "\n",
    "# Calculate RMSE\n",
    "rmse_filtered = np.sqrt(mean_squared_error(Y_train, Y_train_pred2))\n",
    "\n",
    "# Calculate R^2\n",
    "r2_filtered = r2_score(Y_train, Y_train_pred2)\n",
    "\n",
    "print(\"RMSE (filtered):\", rmse_filtered)\n",
    "print(\"R^2 (filtered):\", r2_filtered)"
   ]
  },
  {
   "cell_type": "code",
   "execution_count": 1,
   "id": "030454ed",
   "metadata": {},
   "outputs": [],
   "source": [
    "outlier_features = sol.iloc[outlier_indices]\n",
    "outlier_features"
   ]
  },
  {
   "cell_type": "code",
   "execution_count": 2,
   "id": "8659d9f6",
   "metadata": {},
   "outputs": [],
   "source": [
    "outlier_features.to_csv('sorted_residuals.csv', index=False)"
   ]
  },
  {
   "cell_type": "code",
   "execution_count": 2,
   "id": "9e41a890",
   "metadata": {},
   "outputs": [],
   "source": [
    "outlier_indices = np.where(mask == False)[0]\n",
    "\n",
    "print(outlier_indices)"
   ]
  },
  {
   "cell_type": "code",
   "execution_count": 3,
   "id": "48ba31b6",
   "metadata": {},
   "outputs": [],
   "source": [
    "\n",
    "sorted_indices = np.argsort(Y_train)\n",
    "\n",
    "indices_list = sorted_indices.tolist()\n",
    "# select all rows that are not outliers\n",
    "mask = yhat != -1\n",
    "X_train_filtered = X_train[mask, :]\n",
    "removed_indices = [i for i, val in enumerate(mask) if not val]\n",
    "\n",
    "removed_features = []\n",
    "for index in removed_indices:\n",
    "    removed_features.append(X_train[index])\n",
    "\n",
    "print(\"Removed Features:\")\n",
    "for feature in removed_features:\n",
    "    print(len(indices_list))\n"
   ]
  },
  {
   "cell_type": "code",
   "execution_count": null,
   "id": "1ef31f9c",
   "metadata": {},
   "outputs": [],
   "source": []
  },
  {
   "cell_type": "code",
   "execution_count": null,
   "id": "f2799ae1",
   "metadata": {},
   "outputs": [],
   "source": []
  },
  {
   "cell_type": "code",
   "execution_count": null,
   "id": "505f162c",
   "metadata": {},
   "outputs": [],
   "source": []
  },
  {
   "cell_type": "code",
   "execution_count": null,
   "id": "c0893b66",
   "metadata": {},
   "outputs": [],
   "source": []
  },
  {
   "cell_type": "code",
   "execution_count": 5,
   "id": "52371a1f",
   "metadata": {},
   "outputs": [],
   "source": [
    "\n",
    "reg = LinearRegression()\n",
    "reg.fit(X, y)\n",
    "\n",
    "# Print out the coefficients for each fingerprint\n",
    "for i in range(len(X[0])):\n",
    "    print(\"Bit\", i, \":\", reg.coef_[i])\n"
   ]
  },
  {
   "cell_type": "code",
   "execution_count": 55,
   "id": "069107c4",
   "metadata": {},
   "outputs": [],
   "source": [
    "import csv\n",
    "with open('coefficients.csv', mode='w') as file:\n",
    "    writer = csv.writer(file)\n",
    "    for i in range(len(X[0])):\n",
    "        writer.writerow(['Bit ' + str(i), reg.coef_[i]])"
   ]
  },
  {
   "cell_type": "code",
   "execution_count": 47,
   "id": "c5f45bb0",
   "metadata": {},
   "outputs": [],
   "source": [
    "from sklearn.linear_model import LinearRegression\n",
    "from sklearn.model_selection import train_test_split\n",
    "X_train, X_test, Y_train, Y_test = train_test_split(X, y, test_size=0.2,random_state=991)"
   ]
  },
  {
   "cell_type": "code",
   "execution_count": 48,
   "id": "989de7b5",
   "metadata": {},
   "outputs": [
    {
     "data": {
      "text/plain": [
       "RandomForestRegressor(random_state=42)"
      ]
     },
     "execution_count": 48,
     "metadata": {},
     "output_type": "execute_result"
    }
   ],
   "source": [
    "\n",
    "model = RandomForestRegressor(n_estimators=100, random_state=42)\n",
    "model.fit(X_train, Y_train)\n"
   ]
  },
  {
   "cell_type": "code",
   "execution_count": 49,
   "id": "a9dc0c9b",
   "metadata": {},
   "outputs": [
    {
     "name": "stdout",
     "output_type": "stream",
     "text": [
      "Mean squared error (RMSE): 0.35\n",
      "Coefficient of determination (R^2): 0.96\n"
     ]
    }
   ],
   "source": [
    "#predicts the X_train\n",
    "Y_pred_train = model.predict(X_train)\n",
    "#print('Coefficients:', model.coef_)\n",
    "#print('Intercept:', model.intercept_)\n",
    "print('Mean squared error (RMSE): %.2f'\n",
    "      % mean_squared_error(Y_train, Y_pred_train,squared=False))\n",
    "print('Coefficient of determination (R^2): %.2f'\n",
    "      % r2_score(Y_train, Y_pred_train))\n"
   ]
  },
  {
   "cell_type": "code",
   "execution_count": 50,
   "id": "c06cee0c",
   "metadata": {},
   "outputs": [
    {
     "name": "stdout",
     "output_type": "stream",
     "text": [
      "Mean squared error (MSE): 0.81\n",
      "Coefficient of determination (R^2): 0.82\n"
     ]
    }
   ],
   "source": [
    "Y_pred_test = model.predict(X_test)\n",
    "print('Mean squared error (MSE): %.2f'\n",
    "      % mean_squared_error(Y_test, Y_pred_test,squared=False))\n",
    "print('Coefficient of determination (R^2): %.2f'\n",
    "      % r2_score(Y_test, Y_pred_test))"
   ]
  },
  {
   "cell_type": "code",
   "execution_count": 51,
   "id": "5067c179",
   "metadata": {},
   "outputs": [
    {
     "name": "stdout",
     "output_type": "stream",
     "text": [
      "MAE (filtered test): 0.23062587850304098\n",
      "RMSE (filtered test): 0.3515400664693368\n",
      "R^2 (filtered test): 0.9639789519056186\n"
     ]
    }
   ],
   "source": [
    "mae_test2 = mean_absolute_error(Y_train, Y_pred_train)\n",
    "rmse_test2 = np.sqrt(mean_squared_error(Y_train, Y_pred_train))\n",
    "r2_test2 = r2_score(Y_train, Y_pred_train)\n",
    "\n",
    "# Print the results\n",
    "print(\"MAE (filtered test):\", mae_test2)\n",
    "print(\"RMSE (filtered test):\", rmse_test2)\n",
    "print(\"R^2 (filtered test):\", r2_test2)"
   ]
  },
  {
   "cell_type": "code",
   "execution_count": 52,
   "id": "54e3881a",
   "metadata": {},
   "outputs": [
    {
     "name": "stdout",
     "output_type": "stream",
     "text": [
      "MAE (filtered test): 0.5539780328231513\n",
      "RMSE (filtered test): 0.8079886888935913\n",
      "R^2 (filtered test): 0.8151404797761294\n"
     ]
    }
   ],
   "source": [
    "mae_filtered_test2 = mean_absolute_error(Y_test, Y_pred_test)\n",
    "rmse_filtered_test2 = np.sqrt(mean_squared_error(Y_test, Y_pred_test))\n",
    "r2_filtered_test2 = r2_score(Y_test, Y_pred_test)\n",
    "\n",
    "# Print the results\n",
    "print(\"MAE (filtered test):\", mae_filtered_test2)\n",
    "print(\"RMSE (filtered test):\", rmse_filtered_test2)\n",
    "print(\"R^2 (filtered test):\", r2_filtered_test2)"
   ]
  },
  {
   "cell_type": "code",
   "execution_count": 53,
   "id": "4dd902b4",
   "metadata": {},
   "outputs": [
    {
     "name": "stdout",
     "output_type": "stream",
     "text": [
      "(6750, 2048) (1688, 2048) (6750,) (1688,)\n"
     ]
    }
   ],
   "source": [
    "import numpy as np\n",
    "\n",
    "# Convert lists to numpy arrays\n",
    "X_train = np.array(X_train)\n",
    "X_test = np.array(X_test)\n",
    "Y_train = np.array(Y_train)\n",
    "Y_test = np.array(Y_test)\n",
    "\n",
    "# Print the shapes\n",
    "print(X_train.shape, X_test.shape, Y_train.shape, Y_test.shape)\n"
   ]
  },
  {
   "cell_type": "code",
   "execution_count": null,
   "id": "b5c00875",
   "metadata": {},
   "outputs": [],
   "source": []
  },
  {
   "cell_type": "code",
   "execution_count": 54,
   "id": "0e1fce6c",
   "metadata": {},
   "outputs": [],
   "source": [
    "yhat = model.predict(X_test)\n",
    "# evaluate predictions\n",
    "#mae = mean_absolute_error(Y_test, yhat)\n",
    "#print('MAE: %.3f' % mae)"
   ]
  },
  {
   "cell_type": "code",
   "execution_count": 55,
   "id": "434faea8",
   "metadata": {},
   "outputs": [],
   "source": [
    "from sklearn.neighbors import LocalOutlierFactor\n",
    "\n",
    "lof = LocalOutlierFactor()\n",
    "yhat = lof.fit_predict(X_test)"
   ]
  },
  {
   "cell_type": "code",
   "execution_count": 56,
   "id": "848f3f64",
   "metadata": {},
   "outputs": [],
   "source": [
    "mask = yhat != -1\n",
    "X_test, Y_test = X_test[mask, :], Y_test[mask]\n"
   ]
  },
  {
   "cell_type": "code",
   "execution_count": 57,
   "id": "c9e9ad2f",
   "metadata": {},
   "outputs": [
    {
     "name": "stdout",
     "output_type": "stream",
     "text": [
      "(1599, 2048) (1599,)\n"
     ]
    }
   ],
   "source": [
    "print(X_test.shape, Y_test.shape)"
   ]
  },
  {
   "cell_type": "code",
   "execution_count": 58,
   "id": "6c531290",
   "metadata": {},
   "outputs": [
    {
     "name": "stdout",
     "output_type": "stream",
     "text": [
      "MAE: 0.550\n"
     ]
    }
   ],
   "source": [
    "model = RandomForestRegressor(n_estimators=100, random_state=42)\n",
    "model.fit(X_train,Y_train)\n",
    "# evaluate the model\n",
    "Y_test_pred2 = model.predict(X_test)\n",
    "# evaluate predictions\n",
    "mae = mean_absolute_error(Y_test, Y_test_pred2)\n",
    "print('MAE: %.3f' % mae)"
   ]
  },
  {
   "cell_type": "code",
   "execution_count": 59,
   "id": "1b3f05af",
   "metadata": {},
   "outputs": [
    {
     "name": "stdout",
     "output_type": "stream",
     "text": [
      "MAE: 0.550\n"
     ]
    }
   ],
   "source": [
    "Y_test_pred2 = model.predict(X_test)\n",
    "# evaluate predictions\n",
    "mae = mean_absolute_error(Y_test, Y_test_pred2)\n",
    "print('MAE: %.3f' % mae)"
   ]
  },
  {
   "cell_type": "code",
   "execution_count": 16,
   "id": "4c599cbd",
   "metadata": {},
   "outputs": [
    {
     "name": "stdout",
     "output_type": "stream",
     "text": [
      "MAE: 0.305\n"
     ]
    }
   ],
   "source": [
    "# fit the model\n",
    "model = RandomForestRegressor(n_estimators=100, random_state=42)\n",
    "model.fit(X_test, Y_test)\n",
    "# evaluate the model\n",
    "Y_test_pred2 = model.predict(X_test)\n",
    "# evaluate predictions\n",
    "mae = mean_absolute_error(Y_test, Y_test_pred2)\n",
    "print('MAE: %.3f' % mae)"
   ]
  },
  {
   "cell_type": "code",
   "execution_count": 69,
   "id": "f02a057b",
   "metadata": {},
   "outputs": [
    {
     "name": "stdout",
     "output_type": "stream",
     "text": [
      "RMSE (filtered): 0.8004440970303283\n",
      "R^2 (filtered): 0.8211099833956738\n"
     ]
    }
   ],
   "source": [
    "from sklearn.metrics import mean_squared_error, r2_score\n",
    "\n",
    "# Calculate RMSE\n",
    "rmse_filtered = np.sqrt(mean_squared_error(Y_test, Y_test_pred2))\n",
    "\n",
    "# Calculate R^2\n",
    "r2_filtered = r2_score(Y_test, Y_test_pred2)\n",
    "\n",
    "print(\"RMSE (filtered):\", rmse_filtered)\n",
    "print(\"R^2 (filtered):\", r2_filtered)"
   ]
  },
  {
   "cell_type": "code",
   "execution_count": 61,
   "id": "c9279cf1",
   "metadata": {},
   "outputs": [],
   "source": [
    "from sklearn.neighbors import LocalOutlierFactor\n",
    "\n",
    "lof = LocalOutlierFactor()\n",
    "yhat = lof.fit_predict(X_train)"
   ]
  },
  {
   "cell_type": "code",
   "execution_count": 62,
   "id": "30ef5510",
   "metadata": {},
   "outputs": [],
   "source": [
    "mask = yhat != -1\n",
    "X_train, Y_train = X_train[mask, :], Y_train[mask]\n"
   ]
  },
  {
   "cell_type": "code",
   "execution_count": 63,
   "id": "054288a2",
   "metadata": {},
   "outputs": [
    {
     "name": "stdout",
     "output_type": "stream",
     "text": [
      "(6222, 2048) (6222,)\n"
     ]
    }
   ],
   "source": [
    "print(X_train.shape, Y_train.shape)"
   ]
  },
  {
   "cell_type": "code",
   "execution_count": 64,
   "id": "e11e4e04",
   "metadata": {},
   "outputs": [
    {
     "name": "stdout",
     "output_type": "stream",
     "text": [
      "MAE: 0.229\n"
     ]
    }
   ],
   "source": [
    "# fit the model\n",
    "model = RandomForestRegressor(n_estimators=100, random_state=42)\n",
    "model.fit(X_train, Y_train)\n",
    "# evaluate the model\n",
    "Y_train_pred2 = model.predict(X_train)\n",
    "# evaluate predictions\n",
    "mae = mean_absolute_error(Y_train, Y_train_pred2)\n",
    "print('MAE: %.3f' % mae)"
   ]
  },
  {
   "cell_type": "code",
   "execution_count": 65,
   "id": "7961d112",
   "metadata": {},
   "outputs": [
    {
     "name": "stdout",
     "output_type": "stream",
     "text": [
      "RMSE (filtered): 0.34738917231850436\n",
      "R^2 (filtered): 0.9658128288976149\n"
     ]
    }
   ],
   "source": [
    "from sklearn.metrics import mean_squared_error, r2_score\n",
    "\n",
    "# Calculate RMSE\n",
    "rmse_filtered = np.sqrt(mean_squared_error(Y_train, Y_train_pred2))\n",
    "\n",
    "# Calculate R^2\n",
    "r2_filtered = r2_score(Y_train, Y_train_pred2)\n",
    "\n",
    "print(\"RMSE (filtered):\", rmse_filtered)\n",
    "print(\"R^2 (filtered):\", r2_filtered)"
   ]
  },
  {
   "cell_type": "code",
   "execution_count": 21,
   "id": "a80d6a45",
   "metadata": {},
   "outputs": [
    {
     "name": "stdout",
     "output_type": "stream",
     "text": [
      "RMSE (filtered): 0.4222656287124903\n",
      "R^2 (filtered): 0.9495103076631607\n"
     ]
    }
   ],
   "source": [
    "from sklearn.metrics import mean_squared_error, r2_score\n",
    "\n",
    "# Calculate RMSE\n",
    "rmse_filtered = np.sqrt(mean_squared_error(Y_test, Y_test_pred2))\n",
    "\n",
    "# Calculate R^2\n",
    "r2_filtered = r2_score(Y_test, Y_test_pred2)\n",
    "\n",
    "print(\"RMSE (filtered):\", rmse_filtered)\n",
    "print(\"R^2 (filtered):\", r2_filtered)"
   ]
  },
  {
   "cell_type": "code",
   "execution_count": 67,
   "id": "11e9c71e",
   "metadata": {},
   "outputs": [
    {
     "data": {
      "image/png": "[encoded data removed]",
      "text/plain": [
       "<Figure size 360x792 with 2 Axes>"
      ]
     },
     "metadata": {
      "needs_background": "light"
     },
     "output_type": "display_data"
    }
   ],
   "source": [
    "#Vertical plot\n",
    "plt.figure(figsize=(5,11))\n",
    "\n",
    "# 2 row, 1 column, plot 1\n",
    "plt.subplot(2, 1, 1)\n",
    "plt.scatter(x=Y_train, y=Y_train_pred2, c=\"#7CAE00\", alpha=1)\n",
    "\n",
    "# Add trendline\n",
    "# https://stackoverflow.com/questions/26447191/how-to-add-trendline-in-python-matplotlib-dot-scatter-graphs\n",
    "z = np.polyfit(Y_train, Y_train_pred2, 1)\n",
    "p = np.poly1d(z)\n",
    "plt.plot(Y_test,p(Y_test),\"#F8766D\")\n",
    "\n",
    "\n",
    "plt.xlabel('Experimental LogS',fontsize=13)\n",
    "plt.ylabel('Predicted LogS',fontsize=13)\n",
    "\n",
    "\n",
    "# 2 row, 1 column, plot 2\n",
    "plt.subplot(2, 1, 2)\n",
    "plt.scatter(x=Y_test, y=Y_test_pred2, c=\"#619CFF\", alpha=1)\n",
    "\n",
    "z = np.polyfit(Y_test, Y_test_pred2, 1)\n",
    "p = np.poly1d(z)\n",
    "plt.plot(Y_test,p(Y_test),\"#F8766D\")\n",
    "\n",
    "plt.ylabel('Predicted LogS',fontsize=13)\n",
    "plt.xlabel('Experimental LogS',fontsize=13)\n",
    "\n",
    "#plt.savefig('plot_vertical_logS.png')\n",
    "plt.savefig('paper logS morgan.pdf',dpi=1200)\n",
    "plt.show()"
   ]
  },
  {
   "cell_type": "code",
   "execution_count": null,
   "id": "13a330c6",
   "metadata": {},
   "outputs": [],
   "source": []
  },
  {
   "cell_type": "code",
   "execution_count": null,
   "id": "adfb7f12",
   "metadata": {},
   "outputs": [],
   "source": []
  },
  {
   "cell_type": "code",
   "execution_count": 21,
   "id": "aca2f0d6",
   "metadata": {},
   "outputs": [
    {
     "data": {
      "image/png": "[encoded data removed]",
      "text/plain": [
       "<Figure size 360x792 with 2 Axes>"
      ]
     },
     "metadata": {
      "needs_background": "light"
     },
     "output_type": "display_data"
    }
   ],
   "source": [
    "#Vertical plot\n",
    "plt.figure(figsize=(5,11))\n",
    "\n",
    "# 2 row, 1 column, plot 1\n",
    "plt.subplot(2, 1, 1)\n",
    "plt.scatter(x=Y_train, y=Y_pred_train, c=\"#7CAE00\", alpha=1)\n",
    "\n",
    "# Add trendline\n",
    "# https://stackoverflow.com/questions/26447191/how-to-add-trendline-in-python-matplotlib-dot-scatter-graphs\n",
    "z = np.polyfit(Y_train, Y_pred_train, 1)\n",
    "p = np.poly1d(z)\n",
    "plt.plot(Y_test,p(Y_test),\"#F8766D\")\n",
    "\n",
    "\n",
    "plt.xlabel('Experimental LogS',fontsize=13)\n",
    "plt.ylabel('Predicted LogS',fontsize=13)\n",
    "\n",
    "\n",
    "# 2 row, 1 column, plot 2\n",
    "plt.subplot(2, 1, 2)\n",
    "plt.scatter(x=Y_test, y=Y_pred_test, c=\"#619CFF\", alpha=1)\n",
    "\n",
    "z = np.polyfit(Y_test, Y_pred_test, 1)\n",
    "p = np.poly1d(z)\n",
    "plt.plot(Y_test,p(Y_test),\"#F8766D\")\n",
    "\n",
    "plt.ylabel('Predicted LogS',fontsize=13)\n",
    "plt.xlabel('Experimental LogS',fontsize=13)\n",
    "\n",
    "#plt.savefig('plot_vertical_logS.png')\n",
    "plt.savefig('paper logS morgan.pdf',dpi=1200)\n",
    "plt.show()"
   ]
  },
  {
   "cell_type": "code",
   "execution_count": 74,
   "id": "018328d1",
   "metadata": {},
   "outputs": [
    {
     "name": "stderr",
     "output_type": "stream",
     "text": [
      "C:\\Users\\DEDP Grader\\anaconda3\\envs\\rdkit\\lib\\site-packages\\tqdm\\auto.py:22: TqdmWarning: IProgress not found. Please update jupyter and ipywidgets. See https://ipywidgets.readthedocs.io/en/stable/user_install.html\n",
      "  from .autonotebook import tqdm as notebook_tqdm\n"
     ]
    }
   ],
   "source": [
    "import shap\n",
    "from sklearn.preprocessing import StandardScaler\n",
    "import os\n",
    "import sys\n",
    "#import Explanation"
   ]
  },
  {
   "cell_type": "code",
   "execution_count": 75,
   "id": "84404914",
   "metadata": {},
   "outputs": [
    {
     "name": "stderr",
     "output_type": "stream",
     "text": [
      "100%|===================| 1594/1599 [01:45<00:00]        "
     ]
    }
   ],
   "source": [
    "X = X_test\n",
    "Xscaler = StandardScaler()\n",
    "X2= Xscaler.fit_transform(X)\n",
    "explainer = shap.TreeExplainer(model,data=X2,feature_perturbation='interventional')\n",
    "shap_values = explainer.shap_values(X2)\n"
   ]
  },
  {
   "cell_type": "code",
   "execution_count": 76,
   "id": "c3715e8c",
   "metadata": {},
   "outputs": [
    {
     "data": {
      "image/png": "[encoded data removed]",
      "text/plain": [
       "<Figure size 576x626.4 with 2 Axes>"
      ]
     },
     "metadata": {
      "needs_background": "light"
     },
     "output_type": "display_data"
    }
   ],
   "source": [
    "#shap.summary_plot(shap_values, X2,max_display=12)\n",
    "#shap.summary_plot(shap_values, max_display=12,color='r')\n",
    "shap.summary_plot(shap_values, X2, plot_type=\"dot\", plot_size=0.6, show=False,max_display=12)\n",
    "plt.savefig('scratcch.pdf',bbox_inches='tight',dpi = 1000)"
   ]
  },
  {
   "cell_type": "code",
   "execution_count": 321,
   "id": "15368856",
   "metadata": {},
   "outputs": [
    {
     "data": {
      "image/png": "[encoded data removed]",
      "text/plain": [
       "<Figure size 576x453.6 with 1 Axes>"
      ]
     },
     "metadata": {
      "needs_background": "light"
     },
     "output_type": "display_data"
    }
   ],
   "source": [
    "shap.summary_plot(shap_values, max_display=12, plot_type=\"bar\",show=False)\n",
    "plt.savefig('scratcch.pdf',bbox_inches='tight',dpi = 1000)"
   ]
  },
  {
   "cell_type": "code",
   "execution_count": 322,
   "id": "e94ad22b",
   "metadata": {},
   "outputs": [
    {
     "data": {
      "text/html": [
       "<div>\n",
       "<style scoped>\n",
       "    .dataframe tbody tr th:only-of-type {\n",
       "        vertical-align: middle;\n",
       "    }\n",
       "\n",
       "    .dataframe tbody tr th {\n",
       "        vertical-align: top;\n",
       "    }\n",
       "\n",
       "    .dataframe thead th {\n",
       "        text-align: right;\n",
       "    }\n",
       "</style>\n",
       "<table border=\"1\" class=\"dataframe\">\n",
       "  <thead>\n",
       "    <tr style=\"text-align: right;\">\n",
       "      <th></th>\n",
       "      <th>col_name</th>\n",
       "      <th>feature_importance_vals</th>\n",
       "    </tr>\n",
       "  </thead>\n",
       "  <tbody>\n",
       "    <tr>\n",
       "      <th>1380</th>\n",
       "      <td>0.798277</td>\n",
       "      <td>0.387226</td>\n",
       "    </tr>\n",
       "    <tr>\n",
       "      <th>807</th>\n",
       "      <td>-1.160907</td>\n",
       "      <td>0.347999</td>\n",
       "    </tr>\n",
       "    <tr>\n",
       "      <th>561</th>\n",
       "      <td>-0.383065</td>\n",
       "      <td>0.323412</td>\n",
       "    </tr>\n",
       "    <tr>\n",
       "      <th>222</th>\n",
       "      <td>-0.322474</td>\n",
       "      <td>0.108805</td>\n",
       "    </tr>\n",
       "    <tr>\n",
       "      <th>650</th>\n",
       "      <td>0.836600</td>\n",
       "      <td>0.076407</td>\n",
       "    </tr>\n",
       "    <tr>\n",
       "      <th>1143</th>\n",
       "      <td>-0.188634</td>\n",
       "      <td>0.069769</td>\n",
       "    </tr>\n",
       "    <tr>\n",
       "      <th>1750</th>\n",
       "      <td>1.263694</td>\n",
       "      <td>0.069694</td>\n",
       "    </tr>\n",
       "    <tr>\n",
       "      <th>1171</th>\n",
       "      <td>-0.471490</td>\n",
       "      <td>0.069169</td>\n",
       "    </tr>\n",
       "    <tr>\n",
       "      <th>1873</th>\n",
       "      <td>0.945780</td>\n",
       "      <td>0.062422</td>\n",
       "    </tr>\n",
       "    <tr>\n",
       "      <th>294</th>\n",
       "      <td>-0.545402</td>\n",
       "      <td>0.052834</td>\n",
       "    </tr>\n",
       "    <tr>\n",
       "      <th>114</th>\n",
       "      <td>-0.292456</td>\n",
       "      <td>0.051482</td>\n",
       "    </tr>\n",
       "    <tr>\n",
       "      <th>591</th>\n",
       "      <td>-0.281574</td>\n",
       "      <td>0.050923</td>\n",
       "    </tr>\n",
       "  </tbody>\n",
       "</table>\n",
       "</div>"
      ],
      "text/plain": [
       "      col_name  feature_importance_vals\n",
       "1380  0.798277                 0.387226\n",
       "807  -1.160907                 0.347999\n",
       "561  -0.383065                 0.323412\n",
       "222  -0.322474                 0.108805\n",
       "650   0.836600                 0.076407\n",
       "1143 -0.188634                 0.069769\n",
       "1750  1.263694                 0.069694\n",
       "1171 -0.471490                 0.069169\n",
       "1873  0.945780                 0.062422\n",
       "294  -0.545402                 0.052834\n",
       "114  -0.292456                 0.051482\n",
       "591  -0.281574                 0.050923"
      ]
     },
     "execution_count": 322,
     "metadata": {},
     "output_type": "execute_result"
    }
   ],
   "source": [
    "#vals= np.abs(shap_values).mean(0)\n",
    "#feature_importance = pd.DataFrame(list(zip(X2,vals)),columns=['col_name','feature_importance_vals'])\n",
    "#feature_importance[\"feature_importance_vals\"] = np.abs(feature_importance[\"feature_importance_vals\"])\n",
    "#feature_importance.sort_values(by=['feature_importance_vals'],ascending=False,inplace=True)\n",
    "#feature_importance.head()\n",
    "\n",
    "import numpy as np\n",
    "vals= np.abs(shap_values).mean(0)\n",
    "i=12\n",
    "feature_importance = pd.DataFrame(list(zip(X2[i], vals)), columns=['col_name','feature_importance_vals'])\n",
    "feature_importance.sort_values(by=['feature_importance_vals'], ascending=False,inplace=True)\n",
    "feature_importance[:12]\n"
   ]
  },
  {
   "cell_type": "code",
   "execution_count": 75,
   "id": "4d2a5b37",
   "metadata": {},
   "outputs": [],
   "source": [
    "#feature_importance.to_excel(r'D:/python/rdkit/File Name44.xlsx', index = False)"
   ]
  },
  {
   "cell_type": "code",
   "execution_count": 6,
   "id": "d2b7591f",
   "metadata": {},
   "outputs": [],
   "source": [
    "import pandas as pd\n",
    "from rdkit import Chem\n",
    "from rdkit.Chem import rdMolDescriptors\n",
    "\n",
    "# Read the dataset with SMILES strings\n",
    "data = pd.read_csv('D:/python/rdkit/outlier_MF.csv')\n",
    "smiles_list = data.iloc[:, 0]\n",
    "\n",
    "# Dictionary to store results\n",
    "results = {}\n",
    "\n",
    "# Iterate over each SMILES string\n",
    "for i, smiles in enumerate(smiles_list):\n",
    "    molecule = Chem.MolFromSmiles(smiles)\n",
    "    bi = {}\n",
    "    fp = rdMolDescriptors.GetMorganFingerprintAsBitVect(molecule, radius=2, bitInfo=bi, nBits=2048)\n",
    "    on_bits = list(fp.GetOnBits())\n",
    "    results[f\"Result_{i+1}\"] = on_bits\n",
    "\n",
    "# Print the results\n",
    "for name, bits in results.items():\n",
    "    print(f\"{name}: {bits}\")\n"
   ]
  },
  {
   "cell_type": "code",
   "execution_count": 9,
   "id": "900c0a8b",
   "metadata": {},
   "outputs": [],
   "source": [
    "from collections import Counter\n",
    "\n",
    "# Flatten the lists into a single list\n",
    "flattened_list = [num for sublist in lists for num in sublist]\n",
    "\n",
    "# Count the occurrences of each number\n",
    "counts = Counter(flattened_list)\n",
    "\n",
    "# Print the count for each number\n",
    "for num, count in counts.items():\n",
    "    print(f\"{num}: {count}, \")"
   ]
  },
  {
   "cell_type": "code",
   "execution_count": 79,
   "id": "cd407552",
   "metadata": {},
   "outputs": [],
   "source": [
    "import pandas as pd\n",
    "\n",
    "# Flatten the lists into a single list\n",
    "flattened_list = [num for sublist in lists for num in sublist]\n",
    "\n",
    "# Count the occurrences of each number\n",
    "counts = Counter(flattened_list)\n",
    "\n",
    "# Create a DataFrame from the counts\n",
    "df = pd.DataFrame.from_dict(counts, orient='index', columns=['Count'])\n",
    "\n",
    "# Save the DataFrame as an Excel file\n",
    "df.to_excel('number_counts.xlsx', index_label='Number')\n"
   ]
  },
  {
   "cell_type": "code",
   "execution_count": 10,
   "id": "11bcf514",
   "metadata": {},
   "outputs": [],
   "source": [
    "import pandas as pd\n",
    "from rdkit import Chem\n",
    "from rdkit.Chem import rdMolDescriptors\n",
    "\n",
    "# Read the dataset with SMILES strings\n",
    "data = pd.read_csv('D:/python/rdkit/dataset_without_outliers.csv')\n",
    "smiles_list = data.iloc[:, 0]\n",
    "\n",
    "# Dictionary to store results\n",
    "results = {}\n",
    "\n",
    "# Iterate over each SMILES string\n",
    "for i, smiles in enumerate(smiles_list):\n",
    "    molecule = Chem.MolFromSmiles(smiles)\n",
    "    bi = {}\n",
    "    fp = rdMolDescriptors.GetMorganFingerprintAsBitVect(molecule, radius=2, bitInfo=bi, nBits=2048)\n",
    "    on_bits = list(fp.GetOnBits())\n",
    "    results[f\"Result_{i+1}\"] = on_bits\n",
    "\n",
    "# Print the results\n",
    "for name, bits in results.items():\n",
    "    print(f\"'{name}': {bits},\")"
   ]
  },
  {
   "cell_type": "code",
   "execution_count": 93,
   "id": "9aa936e6",
   "metadata": {},
   "outputs": [],
   "source": [
    "import pandas as pd\n",
    "from rdkit import Chem\n",
    "from rdkit.Chem import rdMolDescriptors\n",
    "\n",
    "# Read the dataset with SMILES strings\n",
    "data = pd.read_csv('D:/python/rdkit/dataset_without_outliers.csv')\n",
    "smiles_list = data.iloc[:, 0]\n",
    "\n",
    "# Dictionary to store results\n",
    "resultsss = {}\n",
    "\n",
    "# Iterate over each SMILES string\n",
    "for i, smiles in enumerate(smiles_list):\n",
    "    molecule = Chem.MolFromSmiles(smiles)\n",
    "    bi = {}\n",
    "    fp = rdMolDescriptors.GetMorganFingerprintAsBitVect(molecule, radius=2, bitInfo=bi, nBits=2048)\n",
    "    on_bits = list(fp.GetOnBits())\n",
    "    resultsss[f\"Result_{i+1}\"] = on_bits\n",
    "\n",
    "\n"
   ]
  },
  {
   "cell_type": "code",
   "execution_count": 11,
   "id": "0c5c369a",
   "metadata": {},
   "outputs": [],
   "source": [
    "from collections import Counter\n",
    "lists = list(results.values())\n",
    "# Flatten the lists into a single list\n",
    "flattened_list = [num for sublist in lists for num in sublist]\n",
    "\n",
    "# Count the occurrences of each number\n",
    "counts = Counter(flattened_list)\n",
    "\n",
    "# Print the count for each number\n",
    "for num, count in counts.items():\n",
    "    print(f\"{num}: {count} times\")"
   ]
  },
  {
   "cell_type": "code",
   "execution_count": 106,
   "id": "746f34c3",
   "metadata": {},
   "outputs": [],
   "source": [
    "result_counts_df = pd.DataFrame({key: [counts.get(num, 0) for num in value] for key, value in results.items()})\n",
    "\n",
    "# Save the DataFrame as an Excel file\n",
    "result_counts_df.to_excel('result_counts.xlsx', index=False)"
   ]
  },
  {
   "cell_type": "code",
   "execution_count": 14,
   "id": "9957c0ec",
   "metadata": {},
   "outputs": [],
   "source": [
    "for key, value in results.items():\n",
    "    result_counts_100 = {num: counts.get(num, 0) for num in value if counts.get(num, 0) < 100}\n",
    "    print(f\"Counts below 100 for {key}:\")\n",
    "    dict_length2 = len(result_counts_100)\n",
    "    print(\"Length of the dictionary:\", dict_length2)\n",
    "    print(result_counts_100)\n",
    "    print()\n"
   ]
  },
  {
   "cell_type": "code",
   "execution_count": 15,
   "id": "1fc4e64a",
   "metadata": {},
   "outputs": [],
   "source": [
    "for key, value in results.items():\n",
    "    result_counts = {num: counts.get(num, 0) for num in value}\n",
    "    result_counts_100 = {num: counts.get(num, 0) for num in value if counts.get(num, 0) < 100}\n",
    "    dict_length2 = len(result_counts_100)\n",
    "    dict_length = len(result_counts)\n",
    "    print(f\"Counts for {key}:\")\n",
    "    print(\"Length of the dictionary:\", dict_length)\n",
    "    print(\"Length of the dictionary100:\", dict_length2)\n",
    "    ratio = dict_length2 / dict_length\n",
    "    print(\"Ratio:\", ratio)\n",
    "    print(result_counts)\n",
    "    print()"
   ]
  },
  {
   "cell_type": "code",
   "execution_count": 17,
   "id": "1c817b3e",
   "metadata": {},
   "outputs": [],
   "source": [
    "import pandas as pd\n",
    "\n",
    "# Create an empty DataFrame\n",
    "df = pd.DataFrame()\n",
    "\n",
    "# Iterate over the results\n",
    "for key, value in results.items():\n",
    "    result_counts = {num: counts.get(num, 0) for num in value}\n",
    "    result_counts_100 = {num: counts.get(num, 0) for num in value if counts.get(num, 0) < 100}\n",
    "    dict_length = len(result_counts)\n",
    "    dict_length_100 = len(result_counts_100)\n",
    "    ratio = dict_length_100 / dict_length\n",
    "\n",
    "    # Create a DataFrame for the current result\n",
    "    result_df = pd.DataFrame({'Length of the dictionary': [dict_length],\n",
    "                              'Length of the dictionary100': [dict_length_100],\n",
    "                              'Ratio': [ratio]})\n",
    "\n",
    "    # Append the result DataFrame to the main DataFrame\n",
    "    df[key] = result_df.values.flatten()\n",
    "\n",
    "# Transpose the DataFrame\n",
    "df = df.T\n",
    "\n",
    "# Set column names\n",
    "df.columns = ['Length of the dictionary', 'Length of the dictionary100', 'Ratio']\n",
    "\n",
    "# Save the DataFrame to an Excel file\n",
    "df.to_excel('results.xlsx', index_label='Counts for Result')\n"
   ]
  },
  {
   "cell_type": "code",
   "execution_count": 18,
   "id": "46cd312d",
   "metadata": {},
   "outputs": [],
   "source": [
    "#import pandas as pd\n",
    "total_ratio = 0\n",
    "count = 0\n",
    "# Create an empty DataFrame\n",
    "df = pd.DataFrame()\n",
    "\n",
    "# Iterate over the results\n",
    "for key, value in resultsss.items():\n",
    "    result_countsss = {num: counts.get(num, 0) for num in value}\n",
    "    result_countsss_100 = {num: counts.get(num, 0) for num in value if counts.get(num, 0) < 100}\n",
    "    dict_length2 = len(result_countsss_100)\n",
    "    dict_length = len(result_countsss)\n",
    "    ratio = dict_length2 / dict_length\n",
    "\n",
    "    # Create a DataFrame for the current result\n",
    "    result_df = pd.DataFrame({'Length of the dictionary': [dict_length],\n",
    "                              'Length of the dictionary100': [dict_length2],\n",
    "                              'Ratio': [ratio]})\n",
    "    total_ratio += ratio\n",
    "    count += 1\n",
    "\n",
    "    # Append the result DataFrame to the main DataFrame\n",
    "    df[key] = result_df.values.flatten()\n",
    "\n",
    "# Transpose the DataFrame\n",
    "df = df.T\n",
    "\n",
    "# Set column names\n",
    "df.columns = ['Length of the dictionary', 'Length of the dictionary100', 'Ratio']\n",
    "\n",
    "# Save the DataFrame to an Excel file\n",
    "df.to_excel('results.xlsx', index_label='Counts for Result')"
   ]
  },
  {
   "cell_type": "code",
   "execution_count": null,
   "id": "d10ca37f",
   "metadata": {},
   "outputs": [],
   "source": []
  },
  {
   "cell_type": "code",
   "execution_count": null,
   "id": "03bd6030",
   "metadata": {},
   "outputs": [],
   "source": []
  },
  {
   "cell_type": "code",
   "execution_count": null,
   "id": "0df1ce5a",
   "metadata": {},
   "outputs": [],
   "source": []
  },
  {
   "cell_type": "code",
   "execution_count": null,
   "id": "497c463c",
   "metadata": {},
   "outputs": [],
   "source": []
  },
  {
   "cell_type": "code",
   "execution_count": 59,
   "id": "9912b5aa",
   "metadata": {},
   "outputs": [
    {
     "data": {
      "text/plain": [
       "0                 OCC1OC(CO)(OC2OC(CO)C(O)C(O)C2O)C(O)C1O\n",
       "1       O[C@H]1[C@H](O[C@H](CO)[C@@H](O)[C@@H]1O)O[C@]...\n",
       "2       OC[C@@H]1O[C@](CO)(O[C@@H]2O[C@@H](CO)[C@H](O)...\n",
       "3                  CN1C[C@@H]2C[C@@H](C1)C3=CC=CC(=O)N3C2\n",
       "4                            CN1CC2CC(C1)C1=CC=CC(=O)N1C2\n",
       "                              ...                        \n",
       "8433                                        O=[N+]([O-])C\n",
       "8434                                                   OC\n",
       "8435                                              S=C(N)N\n",
       "8436                                             O=C(NO)N\n",
       "8437                                              O=C(N)N\n",
       "Name: SMILES, Length: 8438, dtype: object"
      ]
     },
     "execution_count": 59,
     "metadata": {},
     "output_type": "execute_result"
    }
   ],
   "source": [
    "z=sol.iloc[:,0]\n",
    "z"
   ]
  },
  {
   "cell_type": "code",
   "execution_count": 60,
   "id": "d428ce3b",
   "metadata": {},
   "outputs": [
    {
     "data": {
      "text/plain": [
       "'[#6]CC1=C(C[#6])[NH0]=C2[NH0]=C(O)[NH0]=CC2=[NH0]1'"
      ]
     },
     "execution_count": 60,
     "metadata": {},
     "output_type": "execute_result"
    }
   ],
   "source": [
    "mol=z[1996]\n",
    "mol"
   ]
  },
  {
   "cell_type": "code",
   "execution_count": 23,
   "id": "7dd64e32",
   "metadata": {},
   "outputs": [
    {
     "data": {
      "image/png": "[encoded data removed]",
      "text/plain": [
       "<rdkit.Chem.rdchem.Mol at 0x1c59ce42280>"
      ]
     },
     "execution_count": 23,
     "metadata": {},
     "output_type": "execute_result"
    }
   ],
   "source": [
    "mol = Chem.MolFromSmiles(z[1995])\n",
    "mol"
   ]
  },
  {
   "cell_type": "code",
   "execution_count": 61,
   "id": "cc63cfc3",
   "metadata": {},
   "outputs": [],
   "source": [
    "from rdkit.Chem import rdMolDescriptors"
   ]
  },
  {
   "cell_type": "code",
   "execution_count": 62,
   "id": "b81600fd",
   "metadata": {},
   "outputs": [
    {
     "data": {
      "text/plain": [
       "[44, 389, 446, 650, 807, 1917]"
      ]
     },
     "execution_count": 62,
     "metadata": {},
     "output_type": "execute_result"
    }
   ],
   "source": [
    "w = Chem.MolFromSmiles(z[8402])\n",
    "w\n",
    "\n",
    "bi = {}\n",
    "fp = rdMolDescriptors.GetMorganFingerprintAsBitVect(w, radius=2, bitInfo=bi, nBits = 2048)\n",
    "# show 10 of the set bits:\n",
    "list(fp.GetOnBits())[:]\n",
    "\n"
   ]
  },
  {
   "cell_type": "code",
   "execution_count": 70,
   "id": "e299e202",
   "metadata": {},
   "outputs": [
    {
     "name": "stdout",
     "output_type": "stream",
     "text": [
      "<bound method NDFrame.head of                              Substance  \\\n",
      "0                         hexobarbital   \n",
      "1                       nalidixic_acid   \n",
      "2                        phenantroline   \n",
      "3                        phenobarbital   \n",
      "4                       sulfamethazine   \n",
      "5                         bromogramine   \n",
      "6                      phenazopyridine   \n",
      "7                           amantadine   \n",
      "8                      benzylimidazole   \n",
      "9                       chlorpropamide   \n",
      "10                          cimetidine   \n",
      "11                              thymol   \n",
      "12                          tryptamine   \n",
      "13                        azathioprine   \n",
      "14                       sulfathiazole   \n",
      "15                       acetaminophen   \n",
      "16                           diazoxide   \n",
      "17                          famotidine   \n",
      "18                  hydroflumethiazide   \n",
      "19                      nitrofurantoin   \n",
      "20                phthalic_acid_form_I   \n",
      "21                       sulfacetamide   \n",
      "22          trichloromethiazide_form_I   \n",
      "23         2_amino_5_bromobenzoic_acid   \n",
      "24   5_bromo_2_4_dihydroxybenzoic_acid   \n",
      "25                       chlorzoxazone   \n",
      "26               5_hydroxybenzoic_acid   \n",
      "27                        4_iodophenol   \n",
      "28                       metronidazole   \n",
      "29                             guanine   \n",
      "30                       acetazolamide   \n",
      "31                          1_naphthol   \n",
      "\n",
      "                                          SMILES  \n",
      "0              CN1C(=O)NC(=O)C(C)(C1=O)C1=CCCCC1  \n",
      "1                CCn1cc(c(=O)c2ccc(nc12)C)C(=O)O  \n",
      "2                         c12c(ccc3cccnc13)cccn2  \n",
      "3             C1(NC(C(c2ccccc2)(C(=O)N1)CC)=O)=O  \n",
      "4          S(=O)(=O)(Nc1nc(C)cc(n1)C)c1ccc(N)cc1  \n",
      "5                     Brc1cc2c(CN(C)C)c[nH]c2cc1  \n",
      "6                  c1ccc(cc1)\\N=N\\c1c(nc(cc1)N)N  \n",
      "7                          C1C2CC3CC(CC1C3)(N)C2  \n",
      "8                             n1(Cc2ccccc2)cncc1  \n",
      "9                Clc1ccc(S(=O)(NC(=O)NCCC)=O)cc1  \n",
      "10                Cc1c(nc[nH]1)CSCCN\\C(=N\\C)NC#N  \n",
      "11                           c1(cc(ccc1C(C)C)C)O  \n",
      "12                           NCCc1c[nH]c2ccccc12  \n",
      "13          S(c1n(cnc1N(=O)=O)C)c1ncnc2nc[nH]c12  \n",
      "14                  Nc1ccc(cc1)S(=O)(Nc1nccs1)=O  \n",
      "15                            O=C(Nc1ccc(cc1)O)C  \n",
      "16                  Clc1cc2S(=O)(=O)N=C(Nc2cc1)C  \n",
      "17      N\\C(CCSCc1csc(\\N=C(\\N)N)n1)=N\\S(=O)(N)=O  \n",
      "18  S1(=O)(=O)NCNc2c1cc(S(=O)(N)=O)c(c2)C(F)(F)F  \n",
      "19            O=C1NC(CN1\\N=C\\c1ccc(N(=O)=O)o1)=O  \n",
      "20                      C(c1c(C(=O)O)cccc1)(=O)O  \n",
      "21                 C(=O)(NS(=O)(c1ccc(cc1)N)=O)C  \n",
      "22   NS(=O)(=O)c1cc2c(NC(NS2(=O)=O)C(Cl)Cl)cc1Cl  \n",
      "23                         Brc1cc(C(O)=O)c(N)cc1  \n",
      "24                      Oc1c(Br)cc(C(O)=O)c(O)c1  \n",
      "25                      c1cc2c(cc1Cl)[nH]c(=O)o2  \n",
      "26                           C(c1ccc(cc1)O)(=O)O  \n",
      "27                                  c1cc(ccc1O)I  \n",
      "28                          OCCn1c(ncc1N(=O)=O)C  \n",
      "29                    [nH]1cnc2nc(N)[nH]c(=O)c12  \n",
      "30                  S(=O)(=O)(N)c1sc(NC(=O)C)nn1  \n",
      "31                             c1ccc2c(cccc2O)c1  >\n"
     ]
    }
   ],
   "source": [
    "#Blind test\n",
    "sol2 = pd.read_csv('D:/python/rdkit/testexperiment2upload3raw.csv')\n",
    "print(sol2.head)\n",
    "XY2 = sol2.set_index('SMILES').T.to_dict('list')"
   ]
  },
  {
   "cell_type": "code",
   "execution_count": 71,
   "id": "57686f8e",
   "metadata": {},
   "outputs": [
    {
     "name": "stdout",
     "output_type": "stream",
     "text": [
      "32\n"
     ]
    }
   ],
   "source": [
    "#y = []\n",
    "X3 = []\n",
    "#bi = {}\n",
    "for smile, Hlist in XY2.items():\n",
    "    try:\n",
    "        X3.append(AllChem.GetMorganFingerprintAsBitVect(Chem.MolFromSmiles(smile), radius=2,nBits = 2048))\n",
    "  #      y.append(Hlist[0])\n",
    "    except:\n",
    "        pass\n",
    "X3 = [list(c) for c in X3]\n",
    "print(len(X3))\n"
   ]
  },
  {
   "cell_type": "code",
   "execution_count": 72,
   "id": "e634bef0",
   "metadata": {},
   "outputs": [
    {
     "data": {
      "text/plain": [
       "array([-2.222385  , -2.53149843, -1.91190833, -2.33090571, -2.42708156,\n",
       "       -3.51647083, -4.05725   , -1.73766623, -1.8102    , -2.92794263,\n",
       "       -1.49817663, -2.1925    , -2.895345  , -2.8499    , -2.64537033,\n",
       "       -1.18441143, -3.22751858, -2.14637818, -1.17737679, -3.40739423,\n",
       "       -0.93308519, -1.50381587, -2.78599881, -2.83131   , -2.3167051 ,\n",
       "       -2.85619794, -1.86028833, -2.122     , -1.34980968, -4.09521   ,\n",
       "       -2.35935621, -2.35047333])"
      ]
     },
     "execution_count": 72,
     "metadata": {},
     "output_type": "execute_result"
    }
   ],
   "source": [
    "Xnew=X3\n",
    "ynew = model.predict(Xnew)\n",
    "#print(\"X=%s, Predicted=%s\" % (Xnew[0], ynew[0]))\n",
    "ynew"
   ]
  },
  {
   "cell_type": "code",
   "execution_count": 73,
   "id": "2bbc98b6",
   "metadata": {},
   "outputs": [],
   "source": [
    "from numpy import asarray\n",
    "from numpy import savetxt\n",
    "# define data\n",
    "data = asarray(ynew)\n",
    "# save to csv file\n",
    "savetxt('data.csv', data, delimiter=',')"
   ]
  },
  {
   "cell_type": "code",
   "execution_count": 77,
   "id": "8cf59b46",
   "metadata": {},
   "outputs": [
    {
     "name": "stdout",
     "output_type": "stream",
     "text": [
      "<bound method NDFrame.head of                      name                                             SMILES\n",
      "0              Acebutolol        CC(C)NCC(O)COC1=C(C(C)=O)C=C(NC(CCC)=O)C=C1\n",
      "1             Amoxicillin  O=C(O)[C@H]1C(C)(C)S[C@@H](N21)[C@H](NC([C@@H]...\n",
      "2     Bendroflumethiazide  O=S1(C2=CC(S(N)(=O)=O)=C(C(F)(F)F)C=C2NC(CC3=C...\n",
      "3              Benzocaine                             NC1=CC=C(C(OCC)=O)C=C1\n",
      "4            Benzthiazide  O=S1(C2=CC(S(N)(=O)=O)=C(Cl)C=C2N=C(CSCC3=CC=C...\n",
      "5   2-chloromandelic_acid                            OC(C(O)C1=CC=CC=C1Cl)=O\n",
      "6               Clozapine    ClC(C=C1)=CC2=C1NC(C=CC=C3)=C3C(N4CCN(C)CC4)=N2\n",
      "7               Dibucaine        CCN(CC)CCNC(C1=C(C=CC=C2)C2=NC(OCCCC)=C1)=O\n",
      "8      Diethylstilbestrol          CC/C(C1=CC=C(O)C=C1)=C(C2=CC=C(O)C=C2)/CC\n",
      "9              Diflunisal              FC(C=C1F)=CC=C1C2=CC=C(O)C(C(O)=O)=C2\n",
      "10           Dipyridamole  OCCN(CCO)C1=NC2=C(N3CCCCC3)N=C(N(CCO)CCO)N=C2C...\n",
      "11              Ephedrine                     CN[C@H](C)[C@@H](O)C1=CC=CC=C1\n",
      "12             Folic_Acid  OC([C@H](CCC(O)=O)NC(C(C=C1)=CC=C1NCC2=NC3=C(O...\n",
      "13             Furosemide       OC(C1=CC(S(N)(=O)=O)=C(Cl)C=C1NCC2=CC=CO2)=O\n",
      "14    Hydrochlorothiazide            O=S1(C2=CC(S(N)(=O)=O)=C(Cl)C=C2NCN1)=O\n",
      "15             Imipramine              CN(C)CCCN1C2=C(C=CC=C2)CCC3=C1C=CC=C3\n",
      "16           Indomethacin  COC1=CC=C2C(C(CC(O)=O)=C(C)N2C(C3=CC=C(Cl)C=C3...\n",
      "17             Ketoprofen            O=C(C1=CC=CC=C1)C2=CC=CC(C(C(O)=O)C)=C2\n",
      "18              Lidocaine                      CCN(CC)CC(NC1=C(C)C=CC=C1C)=O\n",
      "19          Marbofloxacin  OC(C1=CN(N(C)CO2)C3=C2C(N4CCN(C)CC4)=C(F)C=C3C...\n",
      "20      Meclofenamic_acid             ClC(C=CC(C)=C1Cl)=C1NC2=CC=CC=C2C(O)=O\n",
      "21         Naphthoic_acid                          OC(C1=CC2=CC=CC=C2C=C1)=O\n",
      "22             Probenecid                     CN[C@@H](C)[C@H](O)C1=CC=CC=C1\n",
      "23        Pseudoephedrine              OC(C1=CC=C(S(N(CCC)CCC)(=O)=O)C=C1)=O\n",
      "24          Pyrimethamine                 ClC(C=C1)=CC=C1C2=C(CC)N=C(N)N=C2N\n",
      "25         Salicylic_acid                                 OC(C1=CC=CC=C1O)=O\n",
      "26          Sulfamerazine             NC1=CC=C(S(NC2=NC(C)=CC=N2)(=O)=O)C=C1\n",
      "27         Sulfamethizole               NC1=CC=C(S(NC2=NN=C(C)S2)(=O)=O)C=C1\n",
      "28            Terfenadine  OC(C1=CC=CC=C1)(C2=CC=CC=C2)C3CCN(CCCC(O)C4=CC...\n",
      "29          Thiabendazole                       C12=CC=CC=C1NC(C3=CSC=N3)=N2\n",
      "30            Tolbutamide                 CC1=CC=C(S(NC(NCCCC)=O)(=O)=O)C=C1\n",
      "31              Trazodone  ClC1=CC=CC(N2CCN(CCCN3C(N(C=CC=C4)C4=N3)=O)CC2...>\n"
     ]
    }
   ],
   "source": [
    "#Solubility Challenge\n",
    "sol3 = pd.read_csv('D:/python/rdkit/testexperiment2upload2raw.csv')\n",
    "print(sol3.head)\n",
    "XY3 = sol3.set_index('SMILES').T.to_dict('list')"
   ]
  },
  {
   "cell_type": "code",
   "execution_count": 78,
   "id": "c55a8616",
   "metadata": {},
   "outputs": [
    {
     "name": "stdout",
     "output_type": "stream",
     "text": [
      "32\n"
     ]
    }
   ],
   "source": [
    "#y = []\n",
    "X4 = []\n",
    "#bi = {}\n",
    "for smile, Hlist in XY3.items():\n",
    "    try:\n",
    "        X4.append(AllChem.GetMorganFingerprintAsBitVect(Chem.MolFromSmiles(smile), radius=2,nBits = 2048))\n",
    "  #      y.append(Hlist[0])\n",
    "    except:\n",
    "        pass\n",
    "X4 = [list(c) for c in X4]\n",
    "print(len(X4))"
   ]
  },
  {
   "cell_type": "code",
   "execution_count": 79,
   "id": "8326fd4d",
   "metadata": {},
   "outputs": [
    {
     "data": {
      "text/plain": [
       "array([-2.69522917, -1.91463233, -2.79622583, -2.4917635 , -2.79038585,\n",
       "       -1.04425   , -3.51816   , -2.31161167, -2.06833   , -2.029744  ,\n",
       "       -0.20999865, -1.00608238, -1.99396097, -2.22801267, -2.74129167,\n",
       "       -1.717155  , -2.5856195 , -3.330695  , -1.55696   , -1.92687958,\n",
       "       -1.82237497, -3.42102976, -1.00608238, -2.65223833, -3.89918333,\n",
       "       -1.47105   , -2.8726148 , -2.91112611, -1.43407   , -3.08794741,\n",
       "       -3.22764167, -2.95346029])"
      ]
     },
     "execution_count": 79,
     "metadata": {},
     "output_type": "execute_result"
    }
   ],
   "source": [
    "X2new=X4\n",
    "y2new = model.predict(X2new)\n",
    "#print(\"X=%s, Predicted=%s\" % (Xnew[0], ynew[0]))\n",
    "y2new"
   ]
  },
  {
   "cell_type": "code",
   "execution_count": 80,
   "id": "7f57b9b5",
   "metadata": {},
   "outputs": [],
   "source": [
    "from numpy import asarray\n",
    "from numpy import savetxt\n",
    "# define data\n",
    "data = asarray(y2new)\n",
    "# save to csv file\n",
    "savetxt('data.csv', data, delimiter=',')"
   ]
  },
  {
   "cell_type": "code",
   "execution_count": null,
   "id": "d6bbcb11",
   "metadata": {},
   "outputs": [],
   "source": [
    "i=1656\n",
    "u=1477\n",
    "\n",
    "while i<8000:\n",
    "    w = Chem.MolFromSmiles(z[i])\n",
    "\n",
    "    bi = {}\n",
    "    fp = rdMolDescriptors.GetMorganFingerprintAsBitVect(w, radius=2, bitInfo=bi, nBits = 2048)\n",
    "# show 10 of the set bits:\n",
    "    j=list(fp.GetOnBits())[:]\n",
    "\n",
    "    if u in j:\n",
    "    #if a==0.97 and b==0.81:\n",
    "        break\n",
    "    #u=r2_score(Y_test, Y_pred_test)\n",
    "    #b=round(u,2)\n",
    "    \n",
    "    \n",
    "    i+=1\n",
    "i"
   ]
  },
  {
   "cell_type": "code",
   "execution_count": 74,
   "id": "b18553b5",
   "metadata": {},
   "outputs": [
    {
     "data": {
      "image/png": "[encoded data removed]",
      "text/plain": [
       "<PIL.PngImagePlugin.PngImageFile image mode=RGB size=450x1500>"
      ]
     },
     "execution_count": 74,
     "metadata": {},
     "output_type": "execute_result"
    }
   ],
   "source": [
    "w = Chem.MolFromSmiles(z[1814])\n",
    "w\n",
    "\n",
    "bi = {}\n",
    "fp = rdMolDescriptors.GetMorganFingerprintAsBitVect(w, radius=2, bitInfo=bi, nBits = 2048)\n",
    "\n",
    "tpls = [(w,x,bi) for x in fp.GetOnBits()]\n",
    "p=Draw.DrawMorganBits(tpls[:],molsPerRow=3,legends=[str(x) for x in fp.GetOnBits()][:])\n",
    "dpi=1200\n",
    "p"
   ]
  },
  {
   "cell_type": "code",
   "execution_count": 82,
   "id": "984351f1",
   "metadata": {},
   "outputs": [
    {
     "data": {
      "image/png": "[encoded data removed]",
      "text/plain": [
       "<PIL.PngImagePlugin.PngImageFile image mode=RGB size=450x300>"
      ]
     },
     "execution_count": 82,
     "metadata": {},
     "output_type": "execute_result"
    }
   ],
   "source": [
    "mol1 = Chem.MolFromSmiles('N1CCNCC1')\n",
    "bi = {}\n",
    "fp = rdMolDescriptors.GetMorganFingerprintAsBitVect(mol1, radius=2, bitInfo=bi, nBits = 2048)\n",
    "\n",
    "tpls = [(mol1,x,bi) for x in fp.GetOnBits()]\n",
    "p=Draw.DrawMorganBits(tpls[:],molsPerRow=3,legends=[str(x) for x in fp.GetOnBits()][:])\n",
    "dpi=1200\n",
    "p"
   ]
  },
  {
   "cell_type": "code",
   "execution_count": 423,
   "id": "a93df8d0",
   "metadata": {},
   "outputs": [
    {
     "data": {
      "image/png": "[encoded data removed]",
      "text/plain": [
       "<rdkit.Chem.rdchem.Mol at 0x1de30be4820>"
      ]
     },
     "execution_count": 423,
     "metadata": {},
     "output_type": "execute_result"
    }
   ],
   "source": [
    "mol=z[2506]\n",
    "mol\n",
    "w = Chem.MolFromSmiles(z[8402])\n",
    "w"
   ]
  },
  {
   "cell_type": "code",
   "execution_count": 400,
   "id": "6f1bfa02",
   "metadata": {},
   "outputs": [],
   "source": [
    "def getSubstructSmi(mol,atomID,radius):\n",
    "    if radius>0:\n",
    "        env = Chem.FindAtomEnvironmentOfRadiusN(mol,radius,atomID)\n",
    "        atomsToUse=[]\n",
    "        for b in env:\n",
    "            atomsToUse.append(mol.GetBondWithIdx(b).GetBeginAtomIdx())\n",
    "            atomsToUse.append(mol.GetBondWithIdx(b).GetEndAtomIdx())\n",
    "        atomsToUse = list(set(atomsToUse))\n",
    "    else:\n",
    "        atomsToUse = [atomID]\n",
    "        env=None\n",
    "    symbols = []\n",
    "\n",
    "    smi = Chem.MolFragmentToSmiles(mol,atomsToUse,bondsToUse=env,allHsExplicit=True, allBondsExplicit=True, rootedAtAtom=atomID)\n",
    "    smi2 = Chem.MolFragmentToSmiles(mol,atomsToUse,bondsToUse=env,atomSymbols=symbols, allBondsExplicit=True, rootedAtAtom=atomID)\n",
    "    return smi,smi2"
   ]
  },
  {
   "cell_type": "code",
   "execution_count": 401,
   "id": "0094e595",
   "metadata": {},
   "outputs": [
    {
     "data": {
      "text/plain": [
       "<rdkit.DataStructs.cDataStructs.ExplicitBitVect at 0x1de30bccee0>"
      ]
     },
     "execution_count": 401,
     "metadata": {},
     "output_type": "execute_result"
    }
   ],
   "source": [
    "bi_bz = {}\n",
    "fp_bz = AllChem.GetMorganFingerprintAsBitVect(w,radius=2,nBits=2048,bitInfo=bi_bz)\n",
    "fp_bz"
   ]
  },
  {
   "cell_type": "code",
   "execution_count": 402,
   "id": "bc339e2e",
   "metadata": {},
   "outputs": [],
   "source": [
    "info_bz = []\n",
    "for bitId,atoms in bi_bz.items():\n",
    "    exampleAtom,exampleRadius = atoms[0]\n",
    "    description = getSubstructSmi(w,exampleAtom,exampleRadius)\n",
    "    info_bz.append((bitId,exampleRadius,description[0],description[1]))\n",
    "#print(info_bz)"
   ]
  },
  {
   "cell_type": "code",
   "execution_count": 403,
   "id": "9ed04a99",
   "metadata": {},
   "outputs": [],
   "source": [
    "collection = {}\n",
    "for bid,rad,smi,sma in info_bz:\n",
    "    collection[bid] = [bid,rad,smi,sma,'','']"
   ]
  },
  {
   "cell_type": "code",
   "execution_count": 404,
   "id": "82f21ec0",
   "metadata": {},
   "outputs": [],
   "source": [
    "import pandas as pd\n",
    "pd.options.display.width=100000 # options to make sure our wide columns display properly\n",
    "pd.options.display.max_colwidth=1000"
   ]
  },
  {
   "cell_type": "code",
   "execution_count": 405,
   "id": "17f69a98",
   "metadata": {},
   "outputs": [
    {
     "name": "stdout",
     "output_type": "stream",
     "text": [
      "     Bit  radius                                      smi_bz                 sma_bz smi_pyr sma_pyr\n",
      "0     80       0                                       [CH2]                      C                \n",
      "1    106       2  [c](:[cH]:[cH])(:[cH]:[cH])-[C](=[O])-[OH]  c(:c:c)(:c:c)-C(=O)-O                \n",
      "2    202       2              [cH](:[cH]:[c]):[c](:[cH])-[N]        c(:c:c):c(:c)-N                \n",
      "3    294       1                                 [CH3]-[CH2]                    C-C                \n",
      "4    348       2               [CH2](-[CH2]-[CH3])-[CH2]-[N]            C(-C-C)-C-N                \n",
      "5    389       1                                    [OH]-[C]                    O-C                \n",
      "6    408       2           [N](-[CH3])(-[CH2]-[CH2])-[N]=[N]        N(-C)(-C-C)-N=N                \n",
      "7    456       1                        [C](-[c])(=[O])-[OH]            C(-c)(=O)-O                \n",
      "8    591       2                   [CH2](-[CH3])-[CH2]-[CH2]              C(-C)-C-C                \n",
      "9    650       0                                         [O]                      O                \n",
      "10   663       1                     [N](-[CH2])(-[CH3])-[N]            N(-C)(-C)-N                \n",
      "11   725       0                                         [N]                      N                \n",
      "12   794       1                         [CH2](-[CH3])-[CH2]                C(-C)-C                \n",
      "13   807       0                                         [C]                      C                \n",
      "14   881       0                                         [N]                      N                \n",
      "15   931       1                               [N](-[c])=[N]                N(-c)=N                \n",
      "16   953       2         [CH2](-[CH2]-[CH2])-[N](-[CH3])-[N]        C(-C-C)-N(-C)-N                \n",
      "17  1057       0                                       [CH3]                      C                \n",
      "18  1138       2            [C](=[O])(-[OH])-[c](:[cH]):[cH]      C(=O)(-O)-c(:c):c                \n",
      "19  1163       1                                   [CH3]-[N]                    C-N                \n",
      "20  1260       1                               [N](=[N])-[N]                N(=N)-N                \n",
      "21  1380       0                                         [c]                      c                \n",
      "22  1385       1                       [c](-[C])(:[cH]):[cH]            c(-C)(:c):c                \n",
      "23  1583       2         [c](:[cH]:[cH])(:[cH]:[cH])-[N]=[N]      c(:c:c)(:c:c)-N=N                \n",
      "24  1697       2              [cH](:[cH]:[c]):[c](-[C]):[cH]        c(:c:c):c(-C):c                \n",
      "25  1750       1                             [cH](:[c]):[cH]                c(:c):c                \n",
      "26  1788       2             [N](=[N]-[c])-[N](-[CH2])-[CH3]        N(=N-c)-N(-C)-C                \n",
      "27  1854       1                       [c](:[cH])(:[cH])-[N]            c(:c)(:c)-N                \n",
      "28  1873       0                                        [cH]                      c                \n",
      "29  1911       1                         [CH2](-[CH2])-[CH2]                C(-C)-C                \n",
      "30  1917       1                                     [O]=[C]                    O=C                \n",
      "31  1951       1                           [CH2](-[CH2])-[N]                C(-C)-N                \n",
      "32  1995       2               [N](=[N]-[N])-[c](:[cH]):[cH]        N(=N-N)-c(:c):c                \n"
     ]
    }
   ],
   "source": [
    "df = pd.DataFrame(list(collection.values()),columns=('Bit','radius','smi_bz','sma_bz','smi_pyr','sma_pyr'))\n",
    "print(df.to_string())"
   ]
  },
  {
   "cell_type": "code",
   "execution_count": null,
   "id": "5038ac20",
   "metadata": {},
   "outputs": [],
   "source": []
  },
  {
   "cell_type": "code",
   "execution_count": null,
   "id": "b5ce5092",
   "metadata": {},
   "outputs": [],
   "source": []
  },
  {
   "cell_type": "code",
   "execution_count": null,
   "id": "0b3b4428",
   "metadata": {},
   "outputs": [],
   "source": []
  },
  {
   "cell_type": "code",
   "execution_count": null,
   "id": "12bdb43d",
   "metadata": {},
   "outputs": [],
   "source": []
  }
 ],
 "metadata": {
  "kernelspec": {
   "display_name": "Python 3 (ipykernel)",
   "language": "python",
   "name": "python3"
  },
  "language_info": {
   "codemirror_mode": {
    "name": "ipython",
    "version": 3
   },
   "file_extension": ".py",
   "mimetype": "text/x-python",
   "name": "python",
   "nbconvert_exporter": "python",
   "pygments_lexer": "ipython3",
   "version": "3.9.12"
  }
 },
 "nbformat": 4,
 "nbformat_minor": 5
}
